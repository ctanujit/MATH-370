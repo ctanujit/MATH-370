{
  "cells": [
    {
      "cell_type": "markdown",
      "id": "17505491-8b1e-415d-a912-651391f928a3",
      "metadata": {
        "id": "17505491-8b1e-415d-a912-651391f928a3"
      },
      "source": [
        "## Decision Tree Example"
      ]
    },
    {
      "cell_type": "code",
      "execution_count": 1,
      "id": "f2d07b4b-e627-45af-8759-001f4442c542",
      "metadata": {
        "colab": {
          "base_uri": "https://localhost:8080/"
        },
        "id": "f2d07b4b-e627-45af-8759-001f4442c542",
        "outputId": "9ee40a9c-93c4-4cc7-ab7c-c5c881c3771c"
      },
      "outputs": [
        {
          "output_type": "execute_result",
          "data": {
            "text/plain": [
              "1.0"
            ]
          },
          "metadata": {},
          "execution_count": 1
        }
      ],
      "source": [
        "import numpy as np\n",
        "from sklearn.tree import DecisionTreeClassifier\n",
        "\n",
        "X = np.array([[1.], [2.], [3.], [4.]])\n",
        "y = np.array([0, 1, 0, 1])\n",
        "\n",
        "\n",
        "tree = DecisionTreeClassifier(random_state=1)\n",
        "tree.fit(X, y)\n",
        "tree.score(X, y)"
      ]
    },
    {
      "cell_type": "code",
      "execution_count": 2,
      "id": "a9b60c92-f293-4095-97b4-9333a0c0d4cb",
      "metadata": {
        "colab": {
          "base_uri": "https://localhost:8080/",
          "height": 194
        },
        "id": "a9b60c92-f293-4095-97b4-9333a0c0d4cb",
        "outputId": "f9dfcc19-5266-423f-f236-b3ab37ca9b5e"
      },
      "outputs": [
        {
          "output_type": "display_data",
          "data": {
            "text/plain": [
              "<Figure size 720x216 with 1 Axes>"
            ],
            "image/png": "[encoded data removed]"
          },
          "metadata": {
            "needs_background": "light"
          }
        }
      ],
      "source": [
        "%matplotlib inline\n",
        "import matplotlib.pyplot as plt\n",
        "from sklearn.tree import plot_tree\n",
        "\n",
        "\n",
        "plt.figure(figsize=(10, 3))\n",
        "\n",
        "plot_tree(tree, \n",
        "          filled=True, \n",
        "          rounded=True) \n",
        "\n",
        "#plt.savefig('tree.pdf')\n",
        "plt.show()"
      ]
    },
    {
      "cell_type": "markdown",
      "id": "351fb24d-aca7-43c3-8cb6-6b568e59d458",
      "metadata": {
        "id": "351fb24d-aca7-43c3-8cb6-6b568e59d458"
      },
      "source": [
        "## Bernoulli variance"
      ]
    },
    {
      "cell_type": "code",
      "execution_count": 3,
      "id": "2708fee3-a63b-4717-89cf-3784619785f4",
      "metadata": {
        "colab": {
          "base_uri": "https://localhost:8080/"
        },
        "id": "2708fee3-a63b-4717-89cf-3784619785f4",
        "outputId": "7f05aa81-6499-48fd-ae98-2a839c40b2fd"
      },
      "outputs": [
        {
          "output_type": "execute_result",
          "data": {
            "text/plain": [
              "0.25"
            ]
          },
          "metadata": {},
          "execution_count": 3
        }
      ],
      "source": [
        "data_var = np.var(50*[0] + 50*[1]) # i.e., p = 0.5\n",
        "data_var"
      ]
    },
    {
      "cell_type": "code",
      "execution_count": 4,
      "id": "4209c758-8451-481d-8db6-523982696f8d",
      "metadata": {
        "colab": {
          "base_uri": "https://localhost:8080/"
        },
        "id": "4209c758-8451-481d-8db6-523982696f8d",
        "outputId": "8308d8e7-8108-4913-d1af-8b9aa6f93ca0"
      },
      "outputs": [
        {
          "output_type": "execute_result",
          "data": {
            "text/plain": [
              "0.25"
            ]
          },
          "metadata": {},
          "execution_count": 4
        }
      ],
      "source": [
        "0.5 * 0.5"
      ]
    },
    {
      "cell_type": "markdown",
      "id": "8881b3de-7349-45da-8738-7c5ed22f1337",
      "metadata": {
        "id": "8881b3de-7349-45da-8738-7c5ed22f1337"
      },
      "source": [
        "## Scaling"
      ]
    },
    {
      "cell_type": "code",
      "execution_count": 5,
      "id": "9a2b68bb-42c8-46e6-a031-bc65faf4ae62",
      "metadata": {
        "colab": {
          "base_uri": "https://localhost:8080/"
        },
        "id": "9a2b68bb-42c8-46e6-a031-bc65faf4ae62",
        "outputId": "196c4311-5089-42e5-9cc5-49667d2ec502"
      },
      "outputs": [
        {
          "output_type": "execute_result",
          "data": {
            "text/plain": [
              "0.06021177568505576"
            ]
          },
          "metadata": {},
          "execution_count": 5
        }
      ],
      "source": [
        "np.random.seed(123)\n",
        "\n",
        "data = np.random.random_sample(100)\n",
        "np.var(data)"
      ]
    },
    {
      "cell_type": "code",
      "execution_count": 6,
      "id": "fed8d418-df4d-432e-a690-ca88520654ad",
      "metadata": {
        "colab": {
          "base_uri": "https://localhost:8080/"
        },
        "id": "fed8d418-df4d-432e-a690-ca88520654ad",
        "outputId": "2f2d54ef-14db-4d08-8dbb-9d27a6fb8e88"
      },
      "outputs": [
        {
          "output_type": "execute_result",
          "data": {
            "text/plain": [
              "6.021177568505576"
            ]
          },
          "metadata": {},
          "execution_count": 6
        }
      ],
      "source": [
        "np.var(data*10)"
      ]
    },
    {
      "cell_type": "markdown",
      "id": "15af9857-568f-45df-ae12-824f773f5ba3",
      "metadata": {
        "id": "15af9857-568f-45df-ae12-824f773f5ba3"
      },
      "source": [
        "## VarianceThreshold"
      ]
    },
    {
      "cell_type": "code",
      "execution_count": 7,
      "id": "c1d57a71-eab3-40c8-a854-1b870ea31893",
      "metadata": {
        "colab": {
          "base_uri": "https://localhost:8080/"
        },
        "id": "c1d57a71-eab3-40c8-a854-1b870ea31893",
        "outputId": "dc3e6075-82d1-4a44-d340-e47d3e83b260"
      },
      "outputs": [
        {
          "output_type": "execute_result",
          "data": {
            "text/plain": [
              "array([[0., 0.],\n",
              "       [1., 0.],\n",
              "       [0., 0.],\n",
              "       [0., 0.],\n",
              "       [1., 0.],\n",
              "       [0., 1.],\n",
              "       [0., 0.],\n",
              "       [1., 0.]])"
            ]
          },
          "metadata": {},
          "execution_count": 7
        }
      ],
      "source": [
        "from sklearn.preprocessing import OneHotEncoder\n",
        "\n",
        "\n",
        "X = [['blue'], ['green'], ['blue'], ['blue'], ['green'], ['red'], ['blue'], ['green']]\n",
        "y = [0, 0, 1, 0, 0, 1, 0, 0]\n",
        "\n",
        "enc = OneHotEncoder(drop='first')\n",
        "enc.fit(X)\n",
        "X_ohe = enc.transform(X)\n",
        "X_ohe.toarray()"
      ]
    },
    {
      "cell_type": "code",
      "execution_count": 8,
      "id": "b19196ee-fe9f-4ee6-b2ce-badf8413aaea",
      "metadata": {
        "colab": {
          "base_uri": "https://localhost:8080/"
        },
        "id": "b19196ee-fe9f-4ee6-b2ce-badf8413aaea",
        "outputId": "fc0f8292-c4f6-438f-aa30-8c2b3d5b77e4"
      },
      "outputs": [
        {
          "output_type": "execute_result",
          "data": {
            "text/plain": [
              "array([[0.],\n",
              "       [1.],\n",
              "       [0.],\n",
              "       [0.],\n",
              "       [1.],\n",
              "       [0.],\n",
              "       [0.],\n",
              "       [1.]])"
            ]
          },
          "metadata": {},
          "execution_count": 8
        }
      ],
      "source": [
        "from sklearn.feature_selection import VarianceThreshold\n",
        "\n",
        "sel = VarianceThreshold(threshold=(.8 * (1 - .8)))\n",
        "\n",
        "sel.fit(X_ohe)\n",
        "sel.transform(X_ohe).toarray()"
      ]
    },
    {
      "cell_type": "markdown",
      "metadata": {
        "id": "fJZbooeNNC2e"
      },
      "source": [
        "# Lasso Path"
      ],
      "id": "fJZbooeNNC2e"
    },
    {
      "cell_type": "code",
      "execution_count": 9,
      "metadata": {
        "id": "EgrOmEvANC2g",
        "outputId": "d9e46166-ac4e-4065-a3c4-fb1359b3fb57",
        "colab": {
          "base_uri": "https://localhost:8080/",
          "height": 285
        }
      },
      "outputs": [
        {
          "output_type": "stream",
          "name": "stdout",
          "text": [
            "Class labels [1 2 3]\n"
          ]
        },
        {
          "output_type": "execute_result",
          "data": {
            "text/plain": [
              "   Class label  Alcohol  Malic acid   Ash  Alcalinity of ash  Magnesium  \\\n",
              "0            1    14.23        1.71  2.43               15.6        127   \n",
              "1            1    13.20        1.78  2.14               11.2        100   \n",
              "2            1    13.16        2.36  2.67               18.6        101   \n",
              "3            1    14.37        1.95  2.50               16.8        113   \n",
              "4            1    13.24        2.59  2.87               21.0        118   \n",
              "\n",
              "   Total phenols  Flavanoids  Nonflavanoid phenols  Proanthocyanins  \\\n",
              "0           2.80        3.06                  0.28             2.29   \n",
              "1           2.65        2.76                  0.26             1.28   \n",
              "2           2.80        3.24                  0.30             2.81   \n",
              "3           3.85        3.49                  0.24             2.18   \n",
              "4           2.80        2.69                  0.39             1.82   \n",
              "\n",
              "   Color intensity   Hue  OD280/OD315 of diluted wines  Proline  \n",
              "0             5.64  1.04                          3.92     1065  \n",
              "1             4.38  1.05                          3.40     1050  \n",
              "2             5.68  1.03                          3.17     1185  \n",
              "3             7.80  0.86                          3.45     1480  \n",
              "4             4.32  1.04                          2.93      735  "
            ],
            "text/html": [
              "\n",
              "  <div id=\"df-3102ea8c-3d8d-4b78-90a5-22f02e84ad73\">\n",
              "    <div class=\"colab-df-container\">\n",
              "      <div>\n",
              "<style scoped>\n",
              "    .dataframe tbody tr th:only-of-type {\n",
              "        vertical-align: middle;\n",
              "    }\n",
              "\n",
              "    .dataframe tbody tr th {\n",
              "        vertical-align: top;\n",
              "    }\n",
              "\n",
              "    .dataframe thead th {\n",
              "        text-align: right;\n",
              "    }\n",
              "</style>\n",
              "<table border=\"1\" class=\"dataframe\">\n",
              "  <thead>\n",
              "    <tr style=\"text-align: right;\">\n",
              "      <th></th>\n",
              "      <th>Class label</th>\n",
              "      <th>Alcohol</th>\n",
              "      <th>Malic acid</th>\n",
              "      <th>Ash</th>\n",
              "      <th>Alcalinity of ash</th>\n",
              "      <th>Magnesium</th>\n",
              "      <th>Total phenols</th>\n",
              "      <th>Flavanoids</th>\n",
              "      <th>Nonflavanoid phenols</th>\n",
              "      <th>Proanthocyanins</th>\n",
              "      <th>Color intensity</th>\n",
              "      <th>Hue</th>\n",
              "      <th>OD280/OD315 of diluted wines</th>\n",
              "      <th>Proline</th>\n",
              "    </tr>\n",
              "  </thead>\n",
              "  <tbody>\n",
              "    <tr>\n",
              "      <th>0</th>\n",
              "      <td>1</td>\n",
              "      <td>14.23</td>\n",
              "      <td>1.71</td>\n",
              "      <td>2.43</td>\n",
              "      <td>15.6</td>\n",
              "      <td>127</td>\n",
              "      <td>2.80</td>\n",
              "      <td>3.06</td>\n",
              "      <td>0.28</td>\n",
              "      <td>2.29</td>\n",
              "      <td>5.64</td>\n",
              "      <td>1.04</td>\n",
              "      <td>3.92</td>\n",
              "      <td>1065</td>\n",
              "    </tr>\n",
              "    <tr>\n",
              "      <th>1</th>\n",
              "      <td>1</td>\n",
              "      <td>13.20</td>\n",
              "      <td>1.78</td>\n",
              "      <td>2.14</td>\n",
              "      <td>11.2</td>\n",
              "      <td>100</td>\n",
              "      <td>2.65</td>\n",
              "      <td>2.76</td>\n",
              "      <td>0.26</td>\n",
              "      <td>1.28</td>\n",
              "      <td>4.38</td>\n",
              "      <td>1.05</td>\n",
              "      <td>3.40</td>\n",
              "      <td>1050</td>\n",
              "    </tr>\n",
              "    <tr>\n",
              "      <th>2</th>\n",
              "      <td>1</td>\n",
              "      <td>13.16</td>\n",
              "      <td>2.36</td>\n",
              "      <td>2.67</td>\n",
              "      <td>18.6</td>\n",
              "      <td>101</td>\n",
              "      <td>2.80</td>\n",
              "      <td>3.24</td>\n",
              "      <td>0.30</td>\n",
              "      <td>2.81</td>\n",
              "      <td>5.68</td>\n",
              "      <td>1.03</td>\n",
              "      <td>3.17</td>\n",
              "      <td>1185</td>\n",
              "    </tr>\n",
              "    <tr>\n",
              "      <th>3</th>\n",
              "      <td>1</td>\n",
              "      <td>14.37</td>\n",
              "      <td>1.95</td>\n",
              "      <td>2.50</td>\n",
              "      <td>16.8</td>\n",
              "      <td>113</td>\n",
              "      <td>3.85</td>\n",
              "      <td>3.49</td>\n",
              "      <td>0.24</td>\n",
              "      <td>2.18</td>\n",
              "      <td>7.80</td>\n",
              "      <td>0.86</td>\n",
              "      <td>3.45</td>\n",
              "      <td>1480</td>\n",
              "    </tr>\n",
              "    <tr>\n",
              "      <th>4</th>\n",
              "      <td>1</td>\n",
              "      <td>13.24</td>\n",
              "      <td>2.59</td>\n",
              "      <td>2.87</td>\n",
              "      <td>21.0</td>\n",
              "      <td>118</td>\n",
              "      <td>2.80</td>\n",
              "      <td>2.69</td>\n",
              "      <td>0.39</td>\n",
              "      <td>1.82</td>\n",
              "      <td>4.32</td>\n",
              "      <td>1.04</td>\n",
              "      <td>2.93</td>\n",
              "      <td>735</td>\n",
              "    </tr>\n",
              "  </tbody>\n",
              "</table>\n",
              "</div>\n",
              "      <button class=\"colab-df-convert\" onclick=\"convertToInteractive('df-3102ea8c-3d8d-4b78-90a5-22f02e84ad73')\"\n",
              "              title=\"Convert this dataframe to an interactive table.\"\n",
              "              style=\"display:none;\">\n",
              "        \n",
              "  <svg xmlns=\"http://www.w3.org/2000/svg\" height=\"24px\"viewBox=\"0 0 24 24\"\n",
              "       width=\"24px\">\n",
              "    <path d=\"M0 0h24v24H0V0z\" fill=\"none\"/>\n",
              "    <path d=\"M18.56 5.44l.94 2.06.94-2.06 2.06-.94-2.06-.94-.94-2.06-.94 2.06-2.06.94zm-11 1L8.5 8.5l.94-2.06 2.06-.94-2.06-.94L8.5 2.5l-.94 2.06-2.06.94zm10 10l.94 2.06.94-2.06 2.06-.94-2.06-.94-.94-2.06-.94 2.06-2.06.94z\"/><path d=\"M17.41 7.96l-1.37-1.37c-.4-.4-.92-.59-1.43-.59-.52 0-1.04.2-1.43.59L10.3 9.45l-7.72 7.72c-.78.78-.78 2.05 0 2.83L4 21.41c.39.39.9.59 1.41.59.51 0 1.02-.2 1.41-.59l7.78-7.78 2.81-2.81c.8-.78.8-2.07 0-2.86zM5.41 20L4 18.59l7.72-7.72 1.47 1.35L5.41 20z\"/>\n",
              "  </svg>\n",
              "      </button>\n",
              "      \n",
              "  <style>\n",
              "    .colab-df-container {\n",
              "      display:flex;\n",
              "      flex-wrap:wrap;\n",
              "      gap: 12px;\n",
              "    }\n",
              "\n",
              "    .colab-df-convert {\n",
              "      background-color: #E8F0FE;\n",
              "      border: none;\n",
              "      border-radius: 50%;\n",
              "      cursor: pointer;\n",
              "      display: none;\n",
              "      fill: #1967D2;\n",
              "      height: 32px;\n",
              "      padding: 0 0 0 0;\n",
              "      width: 32px;\n",
              "    }\n",
              "\n",
              "    .colab-df-convert:hover {\n",
              "      background-color: #E2EBFA;\n",
              "      box-shadow: 0px 1px 2px rgba(60, 64, 67, 0.3), 0px 1px 3px 1px rgba(60, 64, 67, 0.15);\n",
              "      fill: #174EA6;\n",
              "    }\n",
              "\n",
              "    [theme=dark] .colab-df-convert {\n",
              "      background-color: #3B4455;\n",
              "      fill: #D2E3FC;\n",
              "    }\n",
              "\n",
              "    [theme=dark] .colab-df-convert:hover {\n",
              "      background-color: #434B5C;\n",
              "      box-shadow: 0px 1px 3px 1px rgba(0, 0, 0, 0.15);\n",
              "      filter: drop-shadow(0px 1px 2px rgba(0, 0, 0, 0.3));\n",
              "      fill: #FFFFFF;\n",
              "    }\n",
              "  </style>\n",
              "\n",
              "      <script>\n",
              "        const buttonEl =\n",
              "          document.querySelector('#df-3102ea8c-3d8d-4b78-90a5-22f02e84ad73 button.colab-df-convert');\n",
              "        buttonEl.style.display =\n",
              "          google.colab.kernel.accessAllowed ? 'block' : 'none';\n",
              "\n",
              "        async function convertToInteractive(key) {\n",
              "          const element = document.querySelector('#df-3102ea8c-3d8d-4b78-90a5-22f02e84ad73');\n",
              "          const dataTable =\n",
              "            await google.colab.kernel.invokeFunction('convertToInteractive',\n",
              "                                                     [key], {});\n",
              "          if (!dataTable) return;\n",
              "\n",
              "          const docLinkHtml = 'Like what you see? Visit the ' +\n",
              "            '<a target=\"_blank\" href=https://colab.research.google.com/notebooks/data_table.ipynb>data table notebook</a>'\n",
              "            + ' to learn more about interactive tables.';\n",
              "          element.innerHTML = '';\n",
              "          dataTable['output_type'] = 'display_data';\n",
              "          await google.colab.output.renderOutput(dataTable, element);\n",
              "          const docLink = document.createElement('div');\n",
              "          docLink.innerHTML = docLinkHtml;\n",
              "          element.appendChild(docLink);\n",
              "        }\n",
              "      </script>\n",
              "    </div>\n",
              "  </div>\n",
              "  "
            ]
          },
          "metadata": {},
          "execution_count": 9
        }
      ],
      "source": [
        "import pandas as pd\n",
        "import numpy as np\n",
        "\n",
        "\n",
        "df_wine = pd.read_csv('https://archive.ics.uci.edu/'\n",
        "                      'ml/machine-learning-databases/wine/wine.data',\n",
        "                      header=None)\n",
        "\n",
        "# if the Wine dataset is temporarily unavailable from the\n",
        "# UCI machine learning repository, un-comment the following line\n",
        "# of code to load the dataset from a local path:\n",
        "\n",
        "# df_wine = pd.read_csv('wine.data', header=None)\n",
        "\n",
        "\n",
        "df_wine.columns = ['Class label', 'Alcohol', 'Malic acid', 'Ash',\n",
        "                   'Alcalinity of ash', 'Magnesium', 'Total phenols',\n",
        "                   'Flavanoids', 'Nonflavanoid phenols', 'Proanthocyanins',\n",
        "                   'Color intensity', 'Hue', 'OD280/OD315 of diluted wines',\n",
        "                   'Proline']\n",
        "\n",
        "print('Class labels', np.unique(df_wine['Class label']))\n",
        "df_wine.head()"
      ],
      "id": "EgrOmEvANC2g"
    },
    {
      "cell_type": "code",
      "execution_count": 10,
      "metadata": {
        "id": "FBZNDo-xNC2h"
      },
      "outputs": [],
      "source": [
        "from sklearn.model_selection import train_test_split\n",
        "\n",
        "X, y = df_wine.iloc[:, 1:].values, df_wine.iloc[:, 0].values\n",
        "\n",
        "X_train, X_test, y_train, y_test =\\\n",
        "    train_test_split(X, y, \n",
        "                     test_size=0.3, \n",
        "                     random_state=0, \n",
        "                     stratify=y)"
      ],
      "id": "FBZNDo-xNC2h"
    },
    {
      "cell_type": "code",
      "execution_count": 11,
      "metadata": {
        "id": "5DFmeBfGNC2h"
      },
      "outputs": [],
      "source": [
        "from sklearn.preprocessing import StandardScaler\n",
        "\n",
        "\n",
        "sc = StandardScaler()\n",
        "X_train_std = sc.fit_transform(X_train)\n",
        "X_test_std = sc.transform(X_test)"
      ],
      "id": "5DFmeBfGNC2h"
    },
    {
      "cell_type": "code",
      "execution_count": 12,
      "metadata": {
        "id": "ic9e-EGuNC2h",
        "outputId": "9a7957b4-4248-492c-8cf1-7d2b145bd3fc",
        "colab": {
          "base_uri": "https://localhost:8080/"
        }
      },
      "outputs": [
        {
          "output_type": "stream",
          "name": "stdout",
          "text": [
            "Training accuracy: 1.0\n",
            "Test accuracy: 1.0\n"
          ]
        }
      ],
      "source": [
        "from sklearn.linear_model import LogisticRegression\n",
        "\n",
        "lr = LogisticRegression(penalty='l1', C=1.0, solver='liblinear', multi_class='ovr')\n",
        "# Note that C=1.0 is the default. You can increase\n",
        "# or decrease it to make the regulariztion effect\n",
        "# stronger or weaker, respectively.\n",
        "lr.fit(X_train_std, y_train)\n",
        "print('Training accuracy:', lr.score(X_train_std, y_train))\n",
        "print('Test accuracy:', lr.score(X_test_std, y_test))"
      ],
      "id": "ic9e-EGuNC2h"
    },
    {
      "cell_type": "code",
      "execution_count": 13,
      "metadata": {
        "id": "13lq58zdNC2i",
        "outputId": "a187604b-58d0-4045-a40e-519ca3a01bb6",
        "colab": {
          "base_uri": "https://localhost:8080/"
        }
      },
      "outputs": [
        {
          "output_type": "execute_result",
          "data": {
            "text/plain": [
              "array([-1.26337795, -1.21605192, -2.37015456])"
            ]
          },
          "metadata": {},
          "execution_count": 13
        }
      ],
      "source": [
        "lr.intercept_"
      ],
      "id": "13lq58zdNC2i"
    },
    {
      "cell_type": "code",
      "execution_count": 14,
      "metadata": {
        "id": "glAx_X9ANC2i"
      },
      "outputs": [],
      "source": [
        "np.set_printoptions(8)"
      ],
      "id": "glAx_X9ANC2i"
    },
    {
      "cell_type": "code",
      "execution_count": 15,
      "metadata": {
        "id": "4J6AcuRRNC2i",
        "outputId": "018cc8d1-e156-4d96-ec85-5e8180ed8079",
        "colab": {
          "base_uri": "https://localhost:8080/"
        }
      },
      "outputs": [
        {
          "output_type": "execute_result",
          "data": {
            "text/plain": [
              "(23,)"
            ]
          },
          "metadata": {},
          "execution_count": 15
        }
      ],
      "source": [
        "lr.coef_[lr.coef_!=0].shape"
      ],
      "id": "4J6AcuRRNC2i"
    },
    {
      "cell_type": "code",
      "execution_count": 16,
      "metadata": {
        "id": "Kn4ISIOSNC2i",
        "outputId": "427b4ccb-f463-4c1c-9da8-f621e659136f",
        "colab": {
          "base_uri": "https://localhost:8080/"
        }
      },
      "outputs": [
        {
          "output_type": "execute_result",
          "data": {
            "text/plain": [
              "array([[ 1.24566474,  0.18062211,  0.74374745, -1.16141989,  0.        ,\n",
              "         0.        ,  1.16974408,  0.        ,  0.        ,  0.        ,\n",
              "         0.        ,  0.54768019,  2.51045129],\n",
              "       [-1.5368546 , -0.38744172, -0.99520936,  0.3648709 , -0.05937988,\n",
              "         0.        ,  0.66812953,  0.        ,  0.        , -1.93407338,\n",
              "         1.23379478,  0.        , -2.2323567 ],\n",
              "       [ 0.135823  ,  0.1694678 ,  0.3574817 ,  0.        ,  0.        ,\n",
              "         0.        , -2.43419466,  0.        ,  0.        ,  1.56205371,\n",
              "        -0.8172951 , -0.49590679,  0.        ]])"
            ]
          },
          "metadata": {},
          "execution_count": 16
        }
      ],
      "source": [
        "lr.coef_"
      ],
      "id": "Kn4ISIOSNC2i"
    },
    {
      "cell_type": "code",
      "execution_count": 17,
      "metadata": {
        "id": "kM37jtf1NC2i",
        "outputId": "2031ac06-a7eb-46a7-972e-42e0695982c6",
        "colab": {
          "base_uri": "https://localhost:8080/",
          "height": 285
        }
      },
      "outputs": [
        {
          "output_type": "display_data",
          "data": {
            "text/plain": [
              "<Figure size 432x288 with 1 Axes>"
            ],
            "image/png": "[encoded data removed]"
          },
          "metadata": {
            "needs_background": "light"
          }
        }
      ],
      "source": [
        "import matplotlib.pyplot as plt\n",
        "\n",
        "fig = plt.figure()\n",
        "ax = plt.subplot(111)\n",
        "    \n",
        "colors = ['blue', 'green', 'red', 'cyan', \n",
        "          'magenta', 'yellow', 'black', \n",
        "          'pink', 'lightgreen', 'lightblue', \n",
        "          'gray', 'indigo', 'orange']\n",
        "\n",
        "weights, params = [], []\n",
        "for c in np.arange(-4., 6.):\n",
        "    lr = LogisticRegression(penalty='l1', C=10.**c, solver='liblinear', \n",
        "                            multi_class='ovr', random_state=0)\n",
        "    lr.fit(X_train_std, y_train)\n",
        "    weights.append(lr.coef_[1])\n",
        "    params.append(10**c)\n",
        "\n",
        "weights = np.array(weights)\n",
        "\n",
        "for column, color in zip(range(weights.shape[1]), colors):\n",
        "    plt.plot(params, weights[:, column],\n",
        "             label=df_wine.columns[column + 1],\n",
        "             color=color)\n",
        "plt.axhline(0, color='black', linestyle='--', linewidth=3)\n",
        "plt.xlim([10**(-5), 10**5])\n",
        "plt.ylabel('Weight coefficient')\n",
        "plt.xlabel('C (inverse regularization strength)')\n",
        "plt.xscale('log')\n",
        "plt.legend(loc='upper left')\n",
        "ax.legend(loc='upper center', \n",
        "          bbox_to_anchor=(1.38, 1.03),\n",
        "          ncol=1, fancybox=True)\n",
        "plt.savefig('lasso-path.pdf', dpi=300, \n",
        "            bbox_inches='tight', pad_inches=0.2)\n",
        "plt.show()"
      ],
      "id": "kM37jtf1NC2i"
    },
    {
      "cell_type": "markdown",
      "metadata": {
        "id": "VdNXOtaBNC2j"
      },
      "source": [
        "<br>\n",
        "<br>"
      ],
      "id": "VdNXOtaBNC2j"
    },
    {
      "cell_type": "markdown",
      "metadata": {
        "id": "leih2y9FN5Vh"
      },
      "source": [
        "# Random Forest"
      ],
      "id": "leih2y9FN5Vh"
    },
    {
      "cell_type": "code",
      "execution_count": null,
      "metadata": {
        "id": "b0b96ec9-9b30-40f2-8015-651ad6ed9be1"
      },
      "outputs": [],
      "source": [
        "%matplotlib inline\n",
        "import matplotlib.pyplot as plt"
      ],
      "id": "b0b96ec9-9b30-40f2-8015-651ad6ed9be1"
    },
    {
      "cell_type": "code",
      "execution_count": 18,
      "metadata": {
        "id": "6f47fb61-45af-45d9-b284-fe447257eff1",
        "outputId": "bca00844-6da8-44c3-a577-2bc2862cb7a0",
        "colab": {
          "base_uri": "https://localhost:8080/",
          "height": 285
        }
      },
      "outputs": [
        {
          "output_type": "stream",
          "name": "stdout",
          "text": [
            "Class labels [1 2 3]\n"
          ]
        },
        {
          "output_type": "execute_result",
          "data": {
            "text/plain": [
              "   Class label  Alcohol  Malic acid   Ash  Alcalinity of ash  Magnesium  \\\n",
              "0            1    14.23        1.71  2.43               15.6        127   \n",
              "1            1    13.20        1.78  2.14               11.2        100   \n",
              "2            1    13.16        2.36  2.67               18.6        101   \n",
              "3            1    14.37        1.95  2.50               16.8        113   \n",
              "4            1    13.24        2.59  2.87               21.0        118   \n",
              "\n",
              "   Total phenols  Flavanoids  Nonflavanoid phenols  Proanthocyanins  \\\n",
              "0           2.80        3.06                  0.28             2.29   \n",
              "1           2.65        2.76                  0.26             1.28   \n",
              "2           2.80        3.24                  0.30             2.81   \n",
              "3           3.85        3.49                  0.24             2.18   \n",
              "4           2.80        2.69                  0.39             1.82   \n",
              "\n",
              "   Color intensity   Hue  OD280/OD315 of diluted wines  Proline  \n",
              "0             5.64  1.04                          3.92     1065  \n",
              "1             4.38  1.05                          3.40     1050  \n",
              "2             5.68  1.03                          3.17     1185  \n",
              "3             7.80  0.86                          3.45     1480  \n",
              "4             4.32  1.04                          2.93      735  "
            ],
            "text/html": [
              "\n",
              "  <div id=\"df-6b5873cc-7fa4-4cc4-a8fc-3a0bb2debd07\">\n",
              "    <div class=\"colab-df-container\">\n",
              "      <div>\n",
              "<style scoped>\n",
              "    .dataframe tbody tr th:only-of-type {\n",
              "        vertical-align: middle;\n",
              "    }\n",
              "\n",
              "    .dataframe tbody tr th {\n",
              "        vertical-align: top;\n",
              "    }\n",
              "\n",
              "    .dataframe thead th {\n",
              "        text-align: right;\n",
              "    }\n",
              "</style>\n",
              "<table border=\"1\" class=\"dataframe\">\n",
              "  <thead>\n",
              "    <tr style=\"text-align: right;\">\n",
              "      <th></th>\n",
              "      <th>Class label</th>\n",
              "      <th>Alcohol</th>\n",
              "      <th>Malic acid</th>\n",
              "      <th>Ash</th>\n",
              "      <th>Alcalinity of ash</th>\n",
              "      <th>Magnesium</th>\n",
              "      <th>Total phenols</th>\n",
              "      <th>Flavanoids</th>\n",
              "      <th>Nonflavanoid phenols</th>\n",
              "      <th>Proanthocyanins</th>\n",
              "      <th>Color intensity</th>\n",
              "      <th>Hue</th>\n",
              "      <th>OD280/OD315 of diluted wines</th>\n",
              "      <th>Proline</th>\n",
              "    </tr>\n",
              "  </thead>\n",
              "  <tbody>\n",
              "    <tr>\n",
              "      <th>0</th>\n",
              "      <td>1</td>\n",
              "      <td>14.23</td>\n",
              "      <td>1.71</td>\n",
              "      <td>2.43</td>\n",
              "      <td>15.6</td>\n",
              "      <td>127</td>\n",
              "      <td>2.80</td>\n",
              "      <td>3.06</td>\n",
              "      <td>0.28</td>\n",
              "      <td>2.29</td>\n",
              "      <td>5.64</td>\n",
              "      <td>1.04</td>\n",
              "      <td>3.92</td>\n",
              "      <td>1065</td>\n",
              "    </tr>\n",
              "    <tr>\n",
              "      <th>1</th>\n",
              "      <td>1</td>\n",
              "      <td>13.20</td>\n",
              "      <td>1.78</td>\n",
              "      <td>2.14</td>\n",
              "      <td>11.2</td>\n",
              "      <td>100</td>\n",
              "      <td>2.65</td>\n",
              "      <td>2.76</td>\n",
              "      <td>0.26</td>\n",
              "      <td>1.28</td>\n",
              "      <td>4.38</td>\n",
              "      <td>1.05</td>\n",
              "      <td>3.40</td>\n",
              "      <td>1050</td>\n",
              "    </tr>\n",
              "    <tr>\n",
              "      <th>2</th>\n",
              "      <td>1</td>\n",
              "      <td>13.16</td>\n",
              "      <td>2.36</td>\n",
              "      <td>2.67</td>\n",
              "      <td>18.6</td>\n",
              "      <td>101</td>\n",
              "      <td>2.80</td>\n",
              "      <td>3.24</td>\n",
              "      <td>0.30</td>\n",
              "      <td>2.81</td>\n",
              "      <td>5.68</td>\n",
              "      <td>1.03</td>\n",
              "      <td>3.17</td>\n",
              "      <td>1185</td>\n",
              "    </tr>\n",
              "    <tr>\n",
              "      <th>3</th>\n",
              "      <td>1</td>\n",
              "      <td>14.37</td>\n",
              "      <td>1.95</td>\n",
              "      <td>2.50</td>\n",
              "      <td>16.8</td>\n",
              "      <td>113</td>\n",
              "      <td>3.85</td>\n",
              "      <td>3.49</td>\n",
              "      <td>0.24</td>\n",
              "      <td>2.18</td>\n",
              "      <td>7.80</td>\n",
              "      <td>0.86</td>\n",
              "      <td>3.45</td>\n",
              "      <td>1480</td>\n",
              "    </tr>\n",
              "    <tr>\n",
              "      <th>4</th>\n",
              "      <td>1</td>\n",
              "      <td>13.24</td>\n",
              "      <td>2.59</td>\n",
              "      <td>2.87</td>\n",
              "      <td>21.0</td>\n",
              "      <td>118</td>\n",
              "      <td>2.80</td>\n",
              "      <td>2.69</td>\n",
              "      <td>0.39</td>\n",
              "      <td>1.82</td>\n",
              "      <td>4.32</td>\n",
              "      <td>1.04</td>\n",
              "      <td>2.93</td>\n",
              "      <td>735</td>\n",
              "    </tr>\n",
              "  </tbody>\n",
              "</table>\n",
              "</div>\n",
              "      <button class=\"colab-df-convert\" onclick=\"convertToInteractive('df-6b5873cc-7fa4-4cc4-a8fc-3a0bb2debd07')\"\n",
              "              title=\"Convert this dataframe to an interactive table.\"\n",
              "              style=\"display:none;\">\n",
              "        \n",
              "  <svg xmlns=\"http://www.w3.org/2000/svg\" height=\"24px\"viewBox=\"0 0 24 24\"\n",
              "       width=\"24px\">\n",
              "    <path d=\"M0 0h24v24H0V0z\" fill=\"none\"/>\n",
              "    <path d=\"M18.56 5.44l.94 2.06.94-2.06 2.06-.94-2.06-.94-.94-2.06-.94 2.06-2.06.94zm-11 1L8.5 8.5l.94-2.06 2.06-.94-2.06-.94L8.5 2.5l-.94 2.06-2.06.94zm10 10l.94 2.06.94-2.06 2.06-.94-2.06-.94-.94-2.06-.94 2.06-2.06.94z\"/><path d=\"M17.41 7.96l-1.37-1.37c-.4-.4-.92-.59-1.43-.59-.52 0-1.04.2-1.43.59L10.3 9.45l-7.72 7.72c-.78.78-.78 2.05 0 2.83L4 21.41c.39.39.9.59 1.41.59.51 0 1.02-.2 1.41-.59l7.78-7.78 2.81-2.81c.8-.78.8-2.07 0-2.86zM5.41 20L4 18.59l7.72-7.72 1.47 1.35L5.41 20z\"/>\n",
              "  </svg>\n",
              "      </button>\n",
              "      \n",
              "  <style>\n",
              "    .colab-df-container {\n",
              "      display:flex;\n",
              "      flex-wrap:wrap;\n",
              "      gap: 12px;\n",
              "    }\n",
              "\n",
              "    .colab-df-convert {\n",
              "      background-color: #E8F0FE;\n",
              "      border: none;\n",
              "      border-radius: 50%;\n",
              "      cursor: pointer;\n",
              "      display: none;\n",
              "      fill: #1967D2;\n",
              "      height: 32px;\n",
              "      padding: 0 0 0 0;\n",
              "      width: 32px;\n",
              "    }\n",
              "\n",
              "    .colab-df-convert:hover {\n",
              "      background-color: #E2EBFA;\n",
              "      box-shadow: 0px 1px 2px rgba(60, 64, 67, 0.3), 0px 1px 3px 1px rgba(60, 64, 67, 0.15);\n",
              "      fill: #174EA6;\n",
              "    }\n",
              "\n",
              "    [theme=dark] .colab-df-convert {\n",
              "      background-color: #3B4455;\n",
              "      fill: #D2E3FC;\n",
              "    }\n",
              "\n",
              "    [theme=dark] .colab-df-convert:hover {\n",
              "      background-color: #434B5C;\n",
              "      box-shadow: 0px 1px 3px 1px rgba(0, 0, 0, 0.15);\n",
              "      filter: drop-shadow(0px 1px 2px rgba(0, 0, 0, 0.3));\n",
              "      fill: #FFFFFF;\n",
              "    }\n",
              "  </style>\n",
              "\n",
              "      <script>\n",
              "        const buttonEl =\n",
              "          document.querySelector('#df-6b5873cc-7fa4-4cc4-a8fc-3a0bb2debd07 button.colab-df-convert');\n",
              "        buttonEl.style.display =\n",
              "          google.colab.kernel.accessAllowed ? 'block' : 'none';\n",
              "\n",
              "        async function convertToInteractive(key) {\n",
              "          const element = document.querySelector('#df-6b5873cc-7fa4-4cc4-a8fc-3a0bb2debd07');\n",
              "          const dataTable =\n",
              "            await google.colab.kernel.invokeFunction('convertToInteractive',\n",
              "                                                     [key], {});\n",
              "          if (!dataTable) return;\n",
              "\n",
              "          const docLinkHtml = 'Like what you see? Visit the ' +\n",
              "            '<a target=\"_blank\" href=https://colab.research.google.com/notebooks/data_table.ipynb>data table notebook</a>'\n",
              "            + ' to learn more about interactive tables.';\n",
              "          element.innerHTML = '';\n",
              "          dataTable['output_type'] = 'display_data';\n",
              "          await google.colab.output.renderOutput(dataTable, element);\n",
              "          const docLink = document.createElement('div');\n",
              "          docLink.innerHTML = docLinkHtml;\n",
              "          element.appendChild(docLink);\n",
              "        }\n",
              "      </script>\n",
              "    </div>\n",
              "  </div>\n",
              "  "
            ]
          },
          "metadata": {},
          "execution_count": 18
        }
      ],
      "source": [
        "import pandas as pd\n",
        "import numpy as np\n",
        "\n",
        "\n",
        "df_wine = pd.read_csv('https://archive.ics.uci.edu/'\n",
        "                      'ml/machine-learning-databases/wine/wine.data',\n",
        "                      header=None)\n",
        "\n",
        "\n",
        "df_wine.columns = ['Class label', 'Alcohol', 'Malic acid', 'Ash',\n",
        "                   'Alcalinity of ash', 'Magnesium', 'Total phenols',\n",
        "                   'Flavanoids', 'Nonflavanoid phenols', 'Proanthocyanins',\n",
        "                   'Color intensity', 'Hue', 'OD280/OD315 of diluted wines',\n",
        "                   'Proline']\n",
        "\n",
        "print('Class labels', np.unique(df_wine['Class label']))\n",
        "df_wine.head()"
      ],
      "id": "6f47fb61-45af-45d9-b284-fe447257eff1"
    },
    {
      "cell_type": "code",
      "execution_count": 19,
      "metadata": {
        "id": "780f81ae-e9f8-4050-a2b3-0229d3bee58f"
      },
      "outputs": [],
      "source": [
        "from sklearn.model_selection import train_test_split\n",
        "\n",
        "X, y = df_wine.iloc[:, 1:].values, df_wine.iloc[:, 0].values\n",
        "\n",
        "X_train, X_test, y_train, y_test =\\\n",
        "    train_test_split(X, y, \n",
        "                     test_size=0.3, \n",
        "                     random_state=0, \n",
        "                     stratify=y)"
      ],
      "id": "780f81ae-e9f8-4050-a2b3-0229d3bee58f"
    },
    {
      "cell_type": "code",
      "execution_count": 20,
      "metadata": {
        "id": "756636d2-67ff-40b5-9f38-9e59fde09344"
      },
      "outputs": [],
      "source": [
        "from sklearn.preprocessing import StandardScaler\n",
        "\n",
        "\n",
        "sc = StandardScaler()\n",
        "X_train_std = sc.fit_transform(X_train)\n",
        "X_test_std = sc.transform(X_test)"
      ],
      "id": "756636d2-67ff-40b5-9f38-9e59fde09344"
    },
    {
      "cell_type": "code",
      "execution_count": 21,
      "metadata": {
        "id": "c2f929da-1a6d-468a-91ef-d8ac83402cdd",
        "outputId": "57fa98ba-2984-49c5-969f-26261b53ea80",
        "colab": {
          "base_uri": "https://localhost:8080/",
          "height": 297
        }
      },
      "outputs": [
        {
          "output_type": "display_data",
          "data": {
            "text/plain": [
              "<Figure size 432x288 with 1 Axes>"
            ],
            "image/png": "[encoded data removed]"
          },
          "metadata": {
            "needs_background": "light"
          }
        }
      ],
      "source": [
        "from sklearn.ensemble import RandomForestClassifier\n",
        "\n",
        "\n",
        "\n",
        "forest = RandomForestClassifier(n_estimators=500,\n",
        "                                random_state=1)\n",
        "\n",
        "forest.fit(X_train, y_train)\n",
        "importances = forest.feature_importances_\n",
        "\n",
        "indices = np.argsort(importances)[::-1]\n",
        "\n",
        "plt.ylabel('Feature importance')\n",
        "plt.bar(range(X_train.shape[1]), \n",
        "        importances[indices],\n",
        "        align='center')\n",
        "\n",
        "feat_labels = df_wine.columns[1:]\n",
        "plt.xticks(range(X_train.shape[1]), \n",
        "           feat_labels[indices], rotation=90)\n",
        "\n",
        "plt.xlim([-1, X_train.shape[1]])\n",
        "\n",
        "plt.tight_layout()\n",
        "plt.savefig('feature-importance.pdf', dpi=300)\n",
        "plt.show()"
      ],
      "id": "c2f929da-1a6d-468a-91ef-d8ac83402cdd"
    },
    {
      "cell_type": "code",
      "execution_count": 22,
      "metadata": {
        "id": "637d3904-dc26-4a34-9c02-260b4dcda6d7",
        "outputId": "04c06c50-3674-47e5-f73d-68151329359c",
        "colab": {
          "base_uri": "https://localhost:8080/"
        }
      },
      "outputs": [
        {
          "output_type": "execute_result",
          "data": {
            "text/plain": [
              "[DecisionTreeClassifier(max_features='sqrt', random_state=1791095845),\n",
              " DecisionTreeClassifier(max_features='sqrt', random_state=2135392491),\n",
              " DecisionTreeClassifier(max_features='sqrt', random_state=946286476),\n",
              " DecisionTreeClassifier(max_features='sqrt', random_state=1857819720),\n",
              " DecisionTreeClassifier(max_features='sqrt', random_state=491263),\n",
              " DecisionTreeClassifier(max_features='sqrt', random_state=550290313),\n",
              " DecisionTreeClassifier(max_features='sqrt', random_state=1298508491),\n",
              " DecisionTreeClassifier(max_features='sqrt', random_state=2143362693),\n",
              " DecisionTreeClassifier(max_features='sqrt', random_state=630311759),\n",
              " DecisionTreeClassifier(max_features='sqrt', random_state=1013994432),\n",
              " DecisionTreeClassifier(max_features='sqrt', random_state=396591248),\n",
              " DecisionTreeClassifier(max_features='sqrt', random_state=1703301249),\n",
              " DecisionTreeClassifier(max_features='sqrt', random_state=799981516),\n",
              " DecisionTreeClassifier(max_features='sqrt', random_state=1666063943),\n",
              " DecisionTreeClassifier(max_features='sqrt', random_state=1484172013),\n",
              " DecisionTreeClassifier(max_features='sqrt', random_state=729053692),\n",
              " DecisionTreeClassifier(max_features='sqrt', random_state=1704103302),\n",
              " DecisionTreeClassifier(max_features='sqrt', random_state=1870626073),\n",
              " DecisionTreeClassifier(max_features='sqrt', random_state=166716594),\n",
              " DecisionTreeClassifier(max_features='sqrt', random_state=1487394068),\n",
              " DecisionTreeClassifier(max_features='sqrt', random_state=1800426750),\n",
              " DecisionTreeClassifier(max_features='sqrt', random_state=1345499493),\n",
              " DecisionTreeClassifier(max_features='sqrt', random_state=795511698),\n",
              " DecisionTreeClassifier(max_features='sqrt', random_state=105433556),\n",
              " DecisionTreeClassifier(max_features='sqrt', random_state=878115723),\n",
              " DecisionTreeClassifier(max_features='sqrt', random_state=1904615676),\n",
              " DecisionTreeClassifier(max_features='sqrt', random_state=1624002026),\n",
              " DecisionTreeClassifier(max_features='sqrt', random_state=986026652),\n",
              " DecisionTreeClassifier(max_features='sqrt', random_state=117628829),\n",
              " DecisionTreeClassifier(max_features='sqrt', random_state=147806606),\n",
              " DecisionTreeClassifier(max_features='sqrt', random_state=732152370),\n",
              " DecisionTreeClassifier(max_features='sqrt', random_state=1777953348),\n",
              " DecisionTreeClassifier(max_features='sqrt', random_state=1792310487),\n",
              " DecisionTreeClassifier(max_features='sqrt', random_state=1963679703),\n",
              " DecisionTreeClassifier(max_features='sqrt', random_state=252070889),\n",
              " DecisionTreeClassifier(max_features='sqrt', random_state=1849836273),\n",
              " DecisionTreeClassifier(max_features='sqrt', random_state=602957303),\n",
              " DecisionTreeClassifier(max_features='sqrt', random_state=1886039518),\n",
              " DecisionTreeClassifier(max_features='sqrt', random_state=850839392),\n",
              " DecisionTreeClassifier(max_features='sqrt', random_state=1195672662),\n",
              " DecisionTreeClassifier(max_features='sqrt', random_state=1291688077),\n",
              " DecisionTreeClassifier(max_features='sqrt', random_state=927586281),\n",
              " DecisionTreeClassifier(max_features='sqrt', random_state=2011168137),\n",
              " DecisionTreeClassifier(max_features='sqrt', random_state=1300333575),\n",
              " DecisionTreeClassifier(max_features='sqrt', random_state=1346146623),\n",
              " DecisionTreeClassifier(max_features='sqrt', random_state=398576445),\n",
              " DecisionTreeClassifier(max_features='sqrt', random_state=826019350),\n",
              " DecisionTreeClassifier(max_features='sqrt', random_state=77964601),\n",
              " DecisionTreeClassifier(max_features='sqrt', random_state=1616579073),\n",
              " DecisionTreeClassifier(max_features='sqrt', random_state=1567750016),\n",
              " DecisionTreeClassifier(max_features='sqrt', random_state=1694822716),\n",
              " DecisionTreeClassifier(max_features='sqrt', random_state=1413675217),\n",
              " DecisionTreeClassifier(max_features='sqrt', random_state=365262088),\n",
              " DecisionTreeClassifier(max_features='sqrt', random_state=1415635672),\n",
              " DecisionTreeClassifier(max_features='sqrt', random_state=167739021),\n",
              " DecisionTreeClassifier(max_features='sqrt', random_state=1172740723),\n",
              " DecisionTreeClassifier(max_features='sqrt', random_state=729416111),\n",
              " DecisionTreeClassifier(max_features='sqrt', random_state=254447594),\n",
              " DecisionTreeClassifier(max_features='sqrt', random_state=1624109689),\n",
              " DecisionTreeClassifier(max_features='sqrt', random_state=732412360),\n",
              " DecisionTreeClassifier(max_features='sqrt', random_state=422396446),\n",
              " DecisionTreeClassifier(max_features='sqrt', random_state=399713351),\n",
              " DecisionTreeClassifier(max_features='sqrt', random_state=1808643459),\n",
              " DecisionTreeClassifier(max_features='sqrt', random_state=737248710),\n",
              " DecisionTreeClassifier(max_features='sqrt', random_state=1966620565),\n",
              " DecisionTreeClassifier(max_features='sqrt', random_state=1768615473),\n",
              " DecisionTreeClassifier(max_features='sqrt', random_state=142443833),\n",
              " DecisionTreeClassifier(max_features='sqrt', random_state=848474627),\n",
              " DecisionTreeClassifier(max_features='sqrt', random_state=824105924),\n",
              " DecisionTreeClassifier(max_features='sqrt', random_state=1243949848),\n",
              " DecisionTreeClassifier(max_features='sqrt', random_state=1355129329),\n",
              " DecisionTreeClassifier(max_features='sqrt', random_state=610401323),\n",
              " DecisionTreeClassifier(max_features='sqrt', random_state=801015372),\n",
              " DecisionTreeClassifier(max_features='sqrt', random_state=1216826394),\n",
              " DecisionTreeClassifier(max_features='sqrt', random_state=1437206324),\n",
              " DecisionTreeClassifier(max_features='sqrt', random_state=1771840848),\n",
              " DecisionTreeClassifier(max_features='sqrt', random_state=78547565),\n",
              " DecisionTreeClassifier(max_features='sqrt', random_state=146764659),\n",
              " DecisionTreeClassifier(max_features='sqrt', random_state=1074361641),\n",
              " DecisionTreeClassifier(max_features='sqrt', random_state=532704722),\n",
              " DecisionTreeClassifier(max_features='sqrt', random_state=2099642383),\n",
              " DecisionTreeClassifier(max_features='sqrt', random_state=689925184),\n",
              " DecisionTreeClassifier(max_features='sqrt', random_state=1065863364),\n",
              " DecisionTreeClassifier(max_features='sqrt', random_state=1282027545),\n",
              " DecisionTreeClassifier(max_features='sqrt', random_state=1204497775),\n",
              " DecisionTreeClassifier(max_features='sqrt', random_state=1916133090),\n",
              " DecisionTreeClassifier(max_features='sqrt', random_state=1242445271),\n",
              " DecisionTreeClassifier(max_features='sqrt', random_state=954017671),\n",
              " DecisionTreeClassifier(max_features='sqrt', random_state=443352346),\n",
              " DecisionTreeClassifier(max_features='sqrt', random_state=315096729),\n",
              " DecisionTreeClassifier(max_features='sqrt', random_state=1923688040),\n",
              " DecisionTreeClassifier(max_features='sqrt', random_state=2015364118),\n",
              " DecisionTreeClassifier(max_features='sqrt', random_state=1754904329),\n",
              " DecisionTreeClassifier(max_features='sqrt', random_state=413056707),\n",
              " DecisionTreeClassifier(max_features='sqrt', random_state=1261063143),\n",
              " DecisionTreeClassifier(max_features='sqrt', random_state=1732461694),\n",
              " DecisionTreeClassifier(max_features='sqrt', random_state=1235985687),\n",
              " DecisionTreeClassifier(max_features='sqrt', random_state=513207677),\n",
              " DecisionTreeClassifier(max_features='sqrt', random_state=558468452),\n",
              " DecisionTreeClassifier(max_features='sqrt', random_state=106512539),\n",
              " DecisionTreeClassifier(max_features='sqrt', random_state=83180453),\n",
              " DecisionTreeClassifier(max_features='sqrt', random_state=359158073),\n",
              " DecisionTreeClassifier(max_features='sqrt', random_state=768092755),\n",
              " DecisionTreeClassifier(max_features='sqrt', random_state=1790405798),\n",
              " DecisionTreeClassifier(max_features='sqrt', random_state=908935816),\n",
              " DecisionTreeClassifier(max_features='sqrt', random_state=1762862368),\n",
              " DecisionTreeClassifier(max_features='sqrt', random_state=1140514210),\n",
              " DecisionTreeClassifier(max_features='sqrt', random_state=1283895050),\n",
              " DecisionTreeClassifier(max_features='sqrt', random_state=2111290647),\n",
              " DecisionTreeClassifier(max_features='sqrt', random_state=362448527),\n",
              " DecisionTreeClassifier(max_features='sqrt', random_state=229190383),\n",
              " DecisionTreeClassifier(max_features='sqrt', random_state=283090007),\n",
              " DecisionTreeClassifier(max_features='sqrt', random_state=318332697),\n",
              " DecisionTreeClassifier(max_features='sqrt', random_state=489361351),\n",
              " DecisionTreeClassifier(max_features='sqrt', random_state=630194419),\n",
              " DecisionTreeClassifier(max_features='sqrt', random_state=1960805724),\n",
              " DecisionTreeClassifier(max_features='sqrt', random_state=383564362),\n",
              " DecisionTreeClassifier(max_features='sqrt', random_state=1120896190),\n",
              " DecisionTreeClassifier(max_features='sqrt', random_state=857955630),\n",
              " DecisionTreeClassifier(max_features='sqrt', random_state=992203680),\n",
              " DecisionTreeClassifier(max_features='sqrt', random_state=439523032),\n",
              " DecisionTreeClassifier(max_features='sqrt', random_state=143660183),\n",
              " DecisionTreeClassifier(max_features='sqrt', random_state=1778356919),\n",
              " DecisionTreeClassifier(max_features='sqrt', random_state=1932469569),\n",
              " DecisionTreeClassifier(max_features='sqrt', random_state=834942321),\n",
              " DecisionTreeClassifier(max_features='sqrt', random_state=2117674829),\n",
              " DecisionTreeClassifier(max_features='sqrt', random_state=1778886403),\n",
              " DecisionTreeClassifier(max_features='sqrt', random_state=174377856),\n",
              " DecisionTreeClassifier(max_features='sqrt', random_state=214548472),\n",
              " DecisionTreeClassifier(max_features='sqrt', random_state=1140249853),\n",
              " DecisionTreeClassifier(max_features='sqrt', random_state=154173901),\n",
              " DecisionTreeClassifier(max_features='sqrt', random_state=194758406),\n",
              " DecisionTreeClassifier(max_features='sqrt', random_state=703492660),\n",
              " DecisionTreeClassifier(max_features='sqrt', random_state=601149909),\n",
              " DecisionTreeClassifier(max_features='sqrt', random_state=63948230),\n",
              " DecisionTreeClassifier(max_features='sqrt', random_state=1255863810),\n",
              " DecisionTreeClassifier(max_features='sqrt', random_state=1909519948),\n",
              " DecisionTreeClassifier(max_features='sqrt', random_state=127995867),\n",
              " DecisionTreeClassifier(max_features='sqrt', random_state=371751061),\n",
              " DecisionTreeClassifier(max_features='sqrt', random_state=1645511371),\n",
              " DecisionTreeClassifier(max_features='sqrt', random_state=1732598023),\n",
              " DecisionTreeClassifier(max_features='sqrt', random_state=175183949),\n",
              " DecisionTreeClassifier(max_features='sqrt', random_state=590449352),\n",
              " DecisionTreeClassifier(max_features='sqrt', random_state=1924060235),\n",
              " DecisionTreeClassifier(max_features='sqrt', random_state=598187340),\n",
              " DecisionTreeClassifier(max_features='sqrt', random_state=1684210731),\n",
              " DecisionTreeClassifier(max_features='sqrt', random_state=1320235540),\n",
              " DecisionTreeClassifier(max_features='sqrt', random_state=1621712414),\n",
              " DecisionTreeClassifier(max_features='sqrt', random_state=1708008996),\n",
              " DecisionTreeClassifier(max_features='sqrt', random_state=165032807),\n",
              " DecisionTreeClassifier(max_features='sqrt', random_state=710190855),\n",
              " DecisionTreeClassifier(max_features='sqrt', random_state=654118701),\n",
              " DecisionTreeClassifier(max_features='sqrt', random_state=1836135364),\n",
              " DecisionTreeClassifier(max_features='sqrt', random_state=1551604281),\n",
              " DecisionTreeClassifier(max_features='sqrt', random_state=1493642992),\n",
              " DecisionTreeClassifier(max_features='sqrt', random_state=304979452),\n",
              " DecisionTreeClassifier(max_features='sqrt', random_state=1077229778),\n",
              " DecisionTreeClassifier(max_features='sqrt', random_state=592003168),\n",
              " DecisionTreeClassifier(max_features='sqrt', random_state=970653965),\n",
              " DecisionTreeClassifier(max_features='sqrt', random_state=542518282),\n",
              " DecisionTreeClassifier(max_features='sqrt', random_state=1646287127),\n",
              " DecisionTreeClassifier(max_features='sqrt', random_state=816922492),\n",
              " DecisionTreeClassifier(max_features='sqrt', random_state=531168081),\n",
              " DecisionTreeClassifier(max_features='sqrt', random_state=634578823),\n",
              " DecisionTreeClassifier(max_features='sqrt', random_state=1077789561),\n",
              " DecisionTreeClassifier(max_features='sqrt', random_state=1520156824),\n",
              " DecisionTreeClassifier(max_features='sqrt', random_state=1498506954),\n",
              " DecisionTreeClassifier(max_features='sqrt', random_state=1130577372),\n",
              " DecisionTreeClassifier(max_features='sqrt', random_state=1159331476),\n",
              " DecisionTreeClassifier(max_features='sqrt', random_state=1531292064),\n",
              " DecisionTreeClassifier(max_features='sqrt', random_state=1700318348),\n",
              " DecisionTreeClassifier(max_features='sqrt', random_state=1085717697),\n",
              " DecisionTreeClassifier(max_features='sqrt', random_state=1838637662),\n",
              " DecisionTreeClassifier(max_features='sqrt', random_state=1637850684),\n",
              " DecisionTreeClassifier(max_features='sqrt', random_state=1996472809),\n",
              " DecisionTreeClassifier(max_features='sqrt', random_state=50118808),\n",
              " DecisionTreeClassifier(max_features='sqrt', random_state=701975890),\n",
              " DecisionTreeClassifier(max_features='sqrt', random_state=2139362163),\n",
              " DecisionTreeClassifier(max_features='sqrt', random_state=522679137),\n",
              " DecisionTreeClassifier(max_features='sqrt', random_state=316934274),\n",
              " DecisionTreeClassifier(max_features='sqrt', random_state=492830188),\n",
              " DecisionTreeClassifier(max_features='sqrt', random_state=1232447196),\n",
              " DecisionTreeClassifier(max_features='sqrt', random_state=1930541671),\n",
              " DecisionTreeClassifier(max_features='sqrt', random_state=275167074),\n",
              " DecisionTreeClassifier(max_features='sqrt', random_state=1932357898),\n",
              " DecisionTreeClassifier(max_features='sqrt', random_state=1526046390),\n",
              " DecisionTreeClassifier(max_features='sqrt', random_state=336680800),\n",
              " DecisionTreeClassifier(max_features='sqrt', random_state=1897675241),\n",
              " DecisionTreeClassifier(max_features='sqrt', random_state=1752934226),\n",
              " DecisionTreeClassifier(max_features='sqrt', random_state=1631242710),\n",
              " DecisionTreeClassifier(max_features='sqrt', random_state=1018023110),\n",
              " DecisionTreeClassifier(max_features='sqrt', random_state=1129233090),\n",
              " DecisionTreeClassifier(max_features='sqrt', random_state=1732501831),\n",
              " DecisionTreeClassifier(max_features='sqrt', random_state=1166491623),\n",
              " DecisionTreeClassifier(max_features='sqrt', random_state=316450992),\n",
              " DecisionTreeClassifier(max_features='sqrt', random_state=1294333494),\n",
              " DecisionTreeClassifier(max_features='sqrt', random_state=12327951),\n",
              " DecisionTreeClassifier(max_features='sqrt', random_state=1171405701),\n",
              " DecisionTreeClassifier(max_features='sqrt', random_state=503133585),\n",
              " DecisionTreeClassifier(max_features='sqrt', random_state=656828586),\n",
              " DecisionTreeClassifier(max_features='sqrt', random_state=1402929172),\n",
              " DecisionTreeClassifier(max_features='sqrt', random_state=337730166),\n",
              " DecisionTreeClassifier(max_features='sqrt', random_state=116213680),\n",
              " DecisionTreeClassifier(max_features='sqrt', random_state=38689046),\n",
              " DecisionTreeClassifier(max_features='sqrt', random_state=1657608677),\n",
              " DecisionTreeClassifier(max_features='sqrt', random_state=897830797),\n",
              " DecisionTreeClassifier(max_features='sqrt', random_state=1534461937),\n",
              " DecisionTreeClassifier(max_features='sqrt', random_state=2021386866),\n",
              " DecisionTreeClassifier(max_features='sqrt', random_state=1754645089),\n",
              " DecisionTreeClassifier(max_features='sqrt', random_state=1136416437),\n",
              " DecisionTreeClassifier(max_features='sqrt', random_state=529827668),\n",
              " DecisionTreeClassifier(max_features='sqrt', random_state=2007436298),\n",
              " DecisionTreeClassifier(max_features='sqrt', random_state=67951712),\n",
              " DecisionTreeClassifier(max_features='sqrt', random_state=1155350711),\n",
              " DecisionTreeClassifier(max_features='sqrt', random_state=1844418877),\n",
              " DecisionTreeClassifier(max_features='sqrt', random_state=1424608824),\n",
              " DecisionTreeClassifier(max_features='sqrt', random_state=819896025),\n",
              " DecisionTreeClassifier(max_features='sqrt', random_state=220438933),\n",
              " DecisionTreeClassifier(max_features='sqrt', random_state=2135985383),\n",
              " DecisionTreeClassifier(max_features='sqrt', random_state=300997728),\n",
              " DecisionTreeClassifier(max_features='sqrt', random_state=740196857),\n",
              " DecisionTreeClassifier(max_features='sqrt', random_state=2029264851),\n",
              " DecisionTreeClassifier(max_features='sqrt', random_state=588993561),\n",
              " DecisionTreeClassifier(max_features='sqrt', random_state=1042666993),\n",
              " DecisionTreeClassifier(max_features='sqrt', random_state=1857983374),\n",
              " DecisionTreeClassifier(max_features='sqrt', random_state=824445069),\n",
              " DecisionTreeClassifier(max_features='sqrt', random_state=845327572),\n",
              " DecisionTreeClassifier(max_features='sqrt', random_state=1994202740),\n",
              " DecisionTreeClassifier(max_features='sqrt', random_state=283468587),\n",
              " DecisionTreeClassifier(max_features='sqrt', random_state=989400710),\n",
              " DecisionTreeClassifier(max_features='sqrt', random_state=1097205453),\n",
              " DecisionTreeClassifier(max_features='sqrt', random_state=35422904),\n",
              " DecisionTreeClassifier(max_features='sqrt', random_state=1090389947),\n",
              " DecisionTreeClassifier(max_features='sqrt', random_state=895794063),\n",
              " DecisionTreeClassifier(max_features='sqrt', random_state=1816876568),\n",
              " DecisionTreeClassifier(max_features='sqrt', random_state=211760123),\n",
              " DecisionTreeClassifier(max_features='sqrt', random_state=908491913),\n",
              " DecisionTreeClassifier(max_features='sqrt', random_state=81011138),\n",
              " DecisionTreeClassifier(max_features='sqrt', random_state=533739719),\n",
              " DecisionTreeClassifier(max_features='sqrt', random_state=739929909),\n",
              " DecisionTreeClassifier(max_features='sqrt', random_state=85384517),\n",
              " DecisionTreeClassifier(max_features='sqrt', random_state=1702152612),\n",
              " DecisionTreeClassifier(max_features='sqrt', random_state=112575333),\n",
              " DecisionTreeClassifier(max_features='sqrt', random_state=461130488),\n",
              " DecisionTreeClassifier(max_features='sqrt', random_state=121575445),\n",
              " DecisionTreeClassifier(max_features='sqrt', random_state=42134824),\n",
              " DecisionTreeClassifier(max_features='sqrt', random_state=1057468493),\n",
              " DecisionTreeClassifier(max_features='sqrt', random_state=438667483),\n",
              " DecisionTreeClassifier(max_features='sqrt', random_state=1546308273),\n",
              " DecisionTreeClassifier(max_features='sqrt', random_state=1240033649),\n",
              " DecisionTreeClassifier(max_features='sqrt', random_state=166778159),\n",
              " DecisionTreeClassifier(max_features='sqrt', random_state=995395021),\n",
              " DecisionTreeClassifier(max_features='sqrt', random_state=226868648),\n",
              " DecisionTreeClassifier(max_features='sqrt', random_state=2008618446),\n",
              " DecisionTreeClassifier(max_features='sqrt', random_state=1469011501),\n",
              " DecisionTreeClassifier(max_features='sqrt', random_state=1195370327),\n",
              " DecisionTreeClassifier(max_features='sqrt', random_state=533320336),\n",
              " DecisionTreeClassifier(max_features='sqrt', random_state=1003401116),\n",
              " DecisionTreeClassifier(max_features='sqrt', random_state=1199084778),\n",
              " DecisionTreeClassifier(max_features='sqrt', random_state=393231917),\n",
              " DecisionTreeClassifier(max_features='sqrt', random_state=368333251),\n",
              " DecisionTreeClassifier(max_features='sqrt', random_state=300934004),\n",
              " DecisionTreeClassifier(max_features='sqrt', random_state=2016898370),\n",
              " DecisionTreeClassifier(max_features='sqrt', random_state=1794980814),\n",
              " DecisionTreeClassifier(max_features='sqrt', random_state=262122798),\n",
              " DecisionTreeClassifier(max_features='sqrt', random_state=1579874688),\n",
              " DecisionTreeClassifier(max_features='sqrt', random_state=80089501),\n",
              " DecisionTreeClassifier(max_features='sqrt', random_state=1344303167),\n",
              " DecisionTreeClassifier(max_features='sqrt', random_state=1291207499),\n",
              " DecisionTreeClassifier(max_features='sqrt', random_state=1244509731),\n",
              " DecisionTreeClassifier(max_features='sqrt', random_state=1000616885),\n",
              " DecisionTreeClassifier(max_features='sqrt', random_state=933689821),\n",
              " DecisionTreeClassifier(max_features='sqrt', random_state=1319006753),\n",
              " DecisionTreeClassifier(max_features='sqrt', random_state=485108354),\n",
              " DecisionTreeClassifier(max_features='sqrt', random_state=1665848788),\n",
              " DecisionTreeClassifier(max_features='sqrt', random_state=1833563731),\n",
              " DecisionTreeClassifier(max_features='sqrt', random_state=1561400368),\n",
              " DecisionTreeClassifier(max_features='sqrt', random_state=1081786166),\n",
              " DecisionTreeClassifier(max_features='sqrt', random_state=1061379360),\n",
              " DecisionTreeClassifier(max_features='sqrt', random_state=1837441277),\n",
              " DecisionTreeClassifier(max_features='sqrt', random_state=241549980),\n",
              " DecisionTreeClassifier(max_features='sqrt', random_state=1839888439),\n",
              " DecisionTreeClassifier(max_features='sqrt', random_state=586070738),\n",
              " DecisionTreeClassifier(max_features='sqrt', random_state=1554367775),\n",
              " DecisionTreeClassifier(max_features='sqrt', random_state=257344540),\n",
              " DecisionTreeClassifier(max_features='sqrt', random_state=658583774),\n",
              " DecisionTreeClassifier(max_features='sqrt', random_state=521166154),\n",
              " DecisionTreeClassifier(max_features='sqrt', random_state=1877718152),\n",
              " DecisionTreeClassifier(max_features='sqrt', random_state=191348845),\n",
              " DecisionTreeClassifier(max_features='sqrt', random_state=1788466787),\n",
              " DecisionTreeClassifier(max_features='sqrt', random_state=461683744),\n",
              " DecisionTreeClassifier(max_features='sqrt', random_state=1211002376),\n",
              " DecisionTreeClassifier(max_features='sqrt', random_state=969414228),\n",
              " DecisionTreeClassifier(max_features='sqrt', random_state=499629005),\n",
              " DecisionTreeClassifier(max_features='sqrt', random_state=914780722),\n",
              " DecisionTreeClassifier(max_features='sqrt', random_state=154616399),\n",
              " DecisionTreeClassifier(max_features='sqrt', random_state=256482473),\n",
              " DecisionTreeClassifier(max_features='sqrt', random_state=662815552),\n",
              " DecisionTreeClassifier(max_features='sqrt', random_state=53927532),\n",
              " DecisionTreeClassifier(max_features='sqrt', random_state=557356243),\n",
              " DecisionTreeClassifier(max_features='sqrt', random_state=309127192),\n",
              " DecisionTreeClassifier(max_features='sqrt', random_state=1264264305),\n",
              " DecisionTreeClassifier(max_features='sqrt', random_state=2006936554),\n",
              " DecisionTreeClassifier(max_features='sqrt', random_state=1549687572),\n",
              " DecisionTreeClassifier(max_features='sqrt', random_state=292489260),\n",
              " DecisionTreeClassifier(max_features='sqrt', random_state=1179591951),\n",
              " DecisionTreeClassifier(max_features='sqrt', random_state=873137822),\n",
              " DecisionTreeClassifier(max_features='sqrt', random_state=317694427),\n",
              " DecisionTreeClassifier(max_features='sqrt', random_state=1083730830),\n",
              " DecisionTreeClassifier(max_features='sqrt', random_state=653424115),\n",
              " DecisionTreeClassifier(max_features='sqrt', random_state=1047224083),\n",
              " DecisionTreeClassifier(max_features='sqrt', random_state=694146299),\n",
              " DecisionTreeClassifier(max_features='sqrt', random_state=839363226),\n",
              " DecisionTreeClassifier(max_features='sqrt', random_state=1884252395),\n",
              " DecisionTreeClassifier(max_features='sqrt', random_state=349433942),\n",
              " DecisionTreeClassifier(max_features='sqrt', random_state=1594007943),\n",
              " DecisionTreeClassifier(max_features='sqrt', random_state=2018720483),\n",
              " DecisionTreeClassifier(max_features='sqrt', random_state=214826037),\n",
              " DecisionTreeClassifier(max_features='sqrt', random_state=1489618351),\n",
              " DecisionTreeClassifier(max_features='sqrt', random_state=1034896238),\n",
              " DecisionTreeClassifier(max_features='sqrt', random_state=1030138300),\n",
              " DecisionTreeClassifier(max_features='sqrt', random_state=1282821875),\n",
              " DecisionTreeClassifier(max_features='sqrt', random_state=2120724770),\n",
              " DecisionTreeClassifier(max_features='sqrt', random_state=877711460),\n",
              " DecisionTreeClassifier(max_features='sqrt', random_state=515205860),\n",
              " DecisionTreeClassifier(max_features='sqrt', random_state=2069128992),\n",
              " DecisionTreeClassifier(max_features='sqrt', random_state=1412962195),\n",
              " DecisionTreeClassifier(max_features='sqrt', random_state=1688013251),\n",
              " DecisionTreeClassifier(max_features='sqrt', random_state=673413912),\n",
              " DecisionTreeClassifier(max_features='sqrt', random_state=1113894611),\n",
              " DecisionTreeClassifier(max_features='sqrt', random_state=79784165),\n",
              " DecisionTreeClassifier(max_features='sqrt', random_state=649057886),\n",
              " DecisionTreeClassifier(max_features='sqrt', random_state=300742822),\n",
              " DecisionTreeClassifier(max_features='sqrt', random_state=170439343),\n",
              " DecisionTreeClassifier(max_features='sqrt', random_state=2088836327),\n",
              " DecisionTreeClassifier(max_features='sqrt', random_state=1348088709),\n",
              " DecisionTreeClassifier(max_features='sqrt', random_state=456681551),\n",
              " DecisionTreeClassifier(max_features='sqrt', random_state=1127743039),\n",
              " DecisionTreeClassifier(max_features='sqrt', random_state=295714673),\n",
              " DecisionTreeClassifier(max_features='sqrt', random_state=1955423319),\n",
              " DecisionTreeClassifier(max_features='sqrt', random_state=1363061152),\n",
              " DecisionTreeClassifier(max_features='sqrt', random_state=136693546),\n",
              " DecisionTreeClassifier(max_features='sqrt', random_state=2098590410),\n",
              " DecisionTreeClassifier(max_features='sqrt', random_state=469594818),\n",
              " DecisionTreeClassifier(max_features='sqrt', random_state=342503128),\n",
              " DecisionTreeClassifier(max_features='sqrt', random_state=627205858),\n",
              " DecisionTreeClassifier(max_features='sqrt', random_state=1632693918),\n",
              " DecisionTreeClassifier(max_features='sqrt', random_state=37747345),\n",
              " DecisionTreeClassifier(max_features='sqrt', random_state=218820932),\n",
              " DecisionTreeClassifier(max_features='sqrt', random_state=926210880),\n",
              " DecisionTreeClassifier(max_features='sqrt', random_state=1053703356),\n",
              " DecisionTreeClassifier(max_features='sqrt', random_state=1788612084),\n",
              " DecisionTreeClassifier(max_features='sqrt', random_state=726849742),\n",
              " DecisionTreeClassifier(max_features='sqrt', random_state=1984929937),\n",
              " DecisionTreeClassifier(max_features='sqrt', random_state=1137820839),\n",
              " DecisionTreeClassifier(max_features='sqrt', random_state=568083619),\n",
              " DecisionTreeClassifier(max_features='sqrt', random_state=284905937),\n",
              " DecisionTreeClassifier(max_features='sqrt', random_state=1134909084),\n",
              " DecisionTreeClassifier(max_features='sqrt', random_state=1589499542),\n",
              " DecisionTreeClassifier(max_features='sqrt', random_state=913684262),\n",
              " DecisionTreeClassifier(max_features='sqrt', random_state=557132457),\n",
              " DecisionTreeClassifier(max_features='sqrt', random_state=318937546),\n",
              " DecisionTreeClassifier(max_features='sqrt', random_state=902690509),\n",
              " DecisionTreeClassifier(max_features='sqrt', random_state=409822534),\n",
              " DecisionTreeClassifier(max_features='sqrt', random_state=1085576857),\n",
              " DecisionTreeClassifier(max_features='sqrt', random_state=696667366),\n",
              " DecisionTreeClassifier(max_features='sqrt', random_state=285772016),\n",
              " DecisionTreeClassifier(max_features='sqrt', random_state=1530999856),\n",
              " DecisionTreeClassifier(max_features='sqrt', random_state=1118044850),\n",
              " DecisionTreeClassifier(max_features='sqrt', random_state=409343934),\n",
              " DecisionTreeClassifier(max_features='sqrt', random_state=1308910892),\n",
              " DecisionTreeClassifier(max_features='sqrt', random_state=615309929),\n",
              " DecisionTreeClassifier(max_features='sqrt', random_state=830793910),\n",
              " DecisionTreeClassifier(max_features='sqrt', random_state=1851186432),\n",
              " DecisionTreeClassifier(max_features='sqrt', random_state=598979926),\n",
              " DecisionTreeClassifier(max_features='sqrt', random_state=328926711),\n",
              " DecisionTreeClassifier(max_features='sqrt', random_state=105958160),\n",
              " DecisionTreeClassifier(max_features='sqrt', random_state=1458765075),\n",
              " DecisionTreeClassifier(max_features='sqrt', random_state=1824536329),\n",
              " DecisionTreeClassifier(max_features='sqrt', random_state=529535600),\n",
              " DecisionTreeClassifier(max_features='sqrt', random_state=1130851036),\n",
              " DecisionTreeClassifier(max_features='sqrt', random_state=1393792051),\n",
              " DecisionTreeClassifier(max_features='sqrt', random_state=283300719),\n",
              " DecisionTreeClassifier(max_features='sqrt', random_state=979302538),\n",
              " DecisionTreeClassifier(max_features='sqrt', random_state=1009600635),\n",
              " DecisionTreeClassifier(max_features='sqrt', random_state=97653060),\n",
              " DecisionTreeClassifier(max_features='sqrt', random_state=1168995735),\n",
              " DecisionTreeClassifier(max_features='sqrt', random_state=1017097486),\n",
              " DecisionTreeClassifier(max_features='sqrt', random_state=1751555775),\n",
              " DecisionTreeClassifier(max_features='sqrt', random_state=710413845),\n",
              " DecisionTreeClassifier(max_features='sqrt', random_state=1855305902),\n",
              " DecisionTreeClassifier(max_features='sqrt', random_state=803409276),\n",
              " DecisionTreeClassifier(max_features='sqrt', random_state=59921539),\n",
              " DecisionTreeClassifier(max_features='sqrt', random_state=1833138616),\n",
              " DecisionTreeClassifier(max_features='sqrt', random_state=1006577496),\n",
              " DecisionTreeClassifier(max_features='sqrt', random_state=981646544),\n",
              " DecisionTreeClassifier(max_features='sqrt', random_state=501559214),\n",
              " DecisionTreeClassifier(max_features='sqrt', random_state=1100952118),\n",
              " DecisionTreeClassifier(max_features='sqrt', random_state=1928510415),\n",
              " DecisionTreeClassifier(max_features='sqrt', random_state=1707727431),\n",
              " DecisionTreeClassifier(max_features='sqrt', random_state=1933491708),\n",
              " DecisionTreeClassifier(max_features='sqrt', random_state=1826220558),\n",
              " DecisionTreeClassifier(max_features='sqrt', random_state=243323597),\n",
              " DecisionTreeClassifier(max_features='sqrt', random_state=874070159),\n",
              " DecisionTreeClassifier(max_features='sqrt', random_state=1785015705),\n",
              " DecisionTreeClassifier(max_features='sqrt', random_state=34371381),\n",
              " DecisionTreeClassifier(max_features='sqrt', random_state=608022228),\n",
              " DecisionTreeClassifier(max_features='sqrt', random_state=1831162361),\n",
              " DecisionTreeClassifier(max_features='sqrt', random_state=1675070394),\n",
              " DecisionTreeClassifier(max_features='sqrt', random_state=1264917461),\n",
              " DecisionTreeClassifier(max_features='sqrt', random_state=2087314034),\n",
              " DecisionTreeClassifier(max_features='sqrt', random_state=717051630),\n",
              " DecisionTreeClassifier(max_features='sqrt', random_state=448010141),\n",
              " DecisionTreeClassifier(max_features='sqrt', random_state=103515692),\n",
              " DecisionTreeClassifier(max_features='sqrt', random_state=212806693),\n",
              " DecisionTreeClassifier(max_features='sqrt', random_state=1941332118),\n",
              " DecisionTreeClassifier(max_features='sqrt', random_state=1830435291),\n",
              " DecisionTreeClassifier(max_features='sqrt', random_state=1324304822),\n",
              " DecisionTreeClassifier(max_features='sqrt', random_state=1798446412),\n",
              " DecisionTreeClassifier(max_features='sqrt', random_state=1582166540),\n",
              " DecisionTreeClassifier(max_features='sqrt', random_state=1695977848),\n",
              " DecisionTreeClassifier(max_features='sqrt', random_state=469040443),\n",
              " DecisionTreeClassifier(max_features='sqrt', random_state=1989697434),\n",
              " DecisionTreeClassifier(max_features='sqrt', random_state=149669836),\n",
              " DecisionTreeClassifier(max_features='sqrt', random_state=747133895),\n",
              " DecisionTreeClassifier(max_features='sqrt', random_state=1522897623),\n",
              " DecisionTreeClassifier(max_features='sqrt', random_state=542581159),\n",
              " DecisionTreeClassifier(max_features='sqrt', random_state=337240701),\n",
              " DecisionTreeClassifier(max_features='sqrt', random_state=580160555),\n",
              " DecisionTreeClassifier(max_features='sqrt', random_state=829724108),\n",
              " DecisionTreeClassifier(max_features='sqrt', random_state=24318834),\n",
              " DecisionTreeClassifier(max_features='sqrt', random_state=54600486),\n",
              " DecisionTreeClassifier(max_features='sqrt', random_state=92448347),\n",
              " DecisionTreeClassifier(max_features='sqrt', random_state=1973731952),\n",
              " DecisionTreeClassifier(max_features='sqrt', random_state=1924017405),\n",
              " DecisionTreeClassifier(max_features='sqrt', random_state=1981342533),\n",
              " DecisionTreeClassifier(max_features='sqrt', random_state=1404950242),\n",
              " DecisionTreeClassifier(max_features='sqrt', random_state=1435314593),\n",
              " DecisionTreeClassifier(max_features='sqrt', random_state=64506027),\n",
              " DecisionTreeClassifier(max_features='sqrt', random_state=2027582874),\n",
              " DecisionTreeClassifier(max_features='sqrt', random_state=756757176),\n",
              " DecisionTreeClassifier(max_features='sqrt', random_state=452651973),\n",
              " DecisionTreeClassifier(max_features='sqrt', random_state=1426202185),\n",
              " DecisionTreeClassifier(max_features='sqrt', random_state=13210932),\n",
              " DecisionTreeClassifier(max_features='sqrt', random_state=562627161),\n",
              " DecisionTreeClassifier(max_features='sqrt', random_state=1656525339),\n",
              " DecisionTreeClassifier(max_features='sqrt', random_state=1329252395),\n",
              " DecisionTreeClassifier(max_features='sqrt', random_state=147649537),\n",
              " DecisionTreeClassifier(max_features='sqrt', random_state=1480632658),\n",
              " DecisionTreeClassifier(max_features='sqrt', random_state=1208933503),\n",
              " DecisionTreeClassifier(max_features='sqrt', random_state=1890247262),\n",
              " DecisionTreeClassifier(max_features='sqrt', random_state=1522929632),\n",
              " DecisionTreeClassifier(max_features='sqrt', random_state=352248218),\n",
              " DecisionTreeClassifier(max_features='sqrt', random_state=1702010708),\n",
              " DecisionTreeClassifier(max_features='sqrt', random_state=1627071006),\n",
              " DecisionTreeClassifier(max_features='sqrt', random_state=1037187943),\n",
              " DecisionTreeClassifier(max_features='sqrt', random_state=1480623168),\n",
              " DecisionTreeClassifier(max_features='sqrt', random_state=102581398),\n",
              " DecisionTreeClassifier(max_features='sqrt', random_state=1741146722),\n",
              " DecisionTreeClassifier(max_features='sqrt', random_state=2000281396),\n",
              " DecisionTreeClassifier(max_features='sqrt', random_state=1975170691),\n",
              " DecisionTreeClassifier(max_features='sqrt', random_state=1846698054),\n",
              " DecisionTreeClassifier(max_features='sqrt', random_state=199058060),\n",
              " DecisionTreeClassifier(max_features='sqrt', random_state=1487297831),\n",
              " DecisionTreeClassifier(max_features='sqrt', random_state=1282492646),\n",
              " DecisionTreeClassifier(max_features='sqrt', random_state=331002963),\n",
              " DecisionTreeClassifier(max_features='sqrt', random_state=1227153135),\n",
              " DecisionTreeClassifier(max_features='sqrt', random_state=543425712),\n",
              " DecisionTreeClassifier(max_features='sqrt', random_state=2105622845),\n",
              " DecisionTreeClassifier(max_features='sqrt', random_state=1932921286),\n",
              " DecisionTreeClassifier(max_features='sqrt', random_state=425675533),\n",
              " DecisionTreeClassifier(max_features='sqrt', random_state=1346948260),\n",
              " DecisionTreeClassifier(max_features='sqrt', random_state=66714903),\n",
              " DecisionTreeClassifier(max_features='sqrt', random_state=1944894870),\n",
              " DecisionTreeClassifier(max_features='sqrt', random_state=401499586),\n",
              " DecisionTreeClassifier(max_features='sqrt', random_state=937991802),\n",
              " DecisionTreeClassifier(max_features='sqrt', random_state=1862625756),\n",
              " DecisionTreeClassifier(max_features='sqrt', random_state=1068159225),\n",
              " DecisionTreeClassifier(max_features='sqrt', random_state=1320103402),\n",
              " DecisionTreeClassifier(max_features='sqrt', random_state=1562516831),\n",
              " DecisionTreeClassifier(max_features='sqrt', random_state=1353966133),\n",
              " DecisionTreeClassifier(max_features='sqrt', random_state=1010469769),\n",
              " DecisionTreeClassifier(max_features='sqrt', random_state=1687444137),\n",
              " DecisionTreeClassifier(max_features='sqrt', random_state=1353344441),\n",
              " DecisionTreeClassifier(max_features='sqrt', random_state=334394200),\n",
              " DecisionTreeClassifier(max_features='sqrt', random_state=188537197),\n",
              " DecisionTreeClassifier(max_features='sqrt', random_state=790317814),\n",
              " DecisionTreeClassifier(max_features='sqrt', random_state=821456605),\n",
              " DecisionTreeClassifier(max_features='sqrt', random_state=1236646644),\n",
              " DecisionTreeClassifier(max_features='sqrt', random_state=381564620),\n",
              " DecisionTreeClassifier(max_features='sqrt', random_state=481170258),\n",
              " DecisionTreeClassifier(max_features='sqrt', random_state=206745962),\n",
              " DecisionTreeClassifier(max_features='sqrt', random_state=231538571),\n",
              " DecisionTreeClassifier(max_features='sqrt', random_state=68173929),\n",
              " DecisionTreeClassifier(max_features='sqrt', random_state=1804718116),\n",
              " DecisionTreeClassifier(max_features='sqrt', random_state=213507184),\n",
              " DecisionTreeClassifier(max_features='sqrt', random_state=769094800),\n",
              " DecisionTreeClassifier(max_features='sqrt', random_state=1715475614),\n",
              " DecisionTreeClassifier(max_features='sqrt', random_state=1797880947),\n",
              " DecisionTreeClassifier(max_features='sqrt', random_state=330300010)]"
            ]
          },
          "metadata": {},
          "execution_count": 22
        }
      ],
      "source": [
        "forest.estimators_"
      ],
      "id": "637d3904-dc26-4a34-9c02-260b4dcda6d7"
    },
    {
      "cell_type": "markdown",
      "metadata": {
        "id": "973531c2-12ad-4c27-b291-4d0c9ec7a6d5"
      },
      "source": [
        "# Recursive Feature Elimination"
      ],
      "id": "973531c2-12ad-4c27-b291-4d0c9ec7a6d5"
    },
    {
      "cell_type": "code",
      "execution_count": 23,
      "metadata": {
        "id": "ywBtBzCXOHo9"
      },
      "outputs": [],
      "source": [
        "%matplotlib inline\n",
        "import matplotlib.pyplot as plt"
      ],
      "id": "ywBtBzCXOHo9"
    },
    {
      "cell_type": "markdown",
      "metadata": {
        "id": "0371b217-fe24-4340-b1e4-28586fac28fb"
      },
      "source": [
        "## Dataset Preparation"
      ],
      "id": "0371b217-fe24-4340-b1e4-28586fac28fb"
    },
    {
      "cell_type": "code",
      "execution_count": 24,
      "metadata": {
        "outputId": "d4af9b22-e39f-431f-cc73-31885354185c",
        "colab": {
          "base_uri": "https://localhost:8080/",
          "height": 285
        },
        "id": "2h60Zjr8OHo-"
      },
      "outputs": [
        {
          "output_type": "stream",
          "name": "stdout",
          "text": [
            "Class labels [1 2 3]\n"
          ]
        },
        {
          "output_type": "execute_result",
          "data": {
            "text/plain": [
              "   Class label  Alcohol  Malic acid   Ash  Alcalinity of ash  Magnesium  \\\n",
              "0            1    14.23        1.71  2.43               15.6        127   \n",
              "1            1    13.20        1.78  2.14               11.2        100   \n",
              "2            1    13.16        2.36  2.67               18.6        101   \n",
              "3            1    14.37        1.95  2.50               16.8        113   \n",
              "4            1    13.24        2.59  2.87               21.0        118   \n",
              "\n",
              "   Total phenols  Flavanoids  Nonflavanoid phenols  Proanthocyanins  \\\n",
              "0           2.80        3.06                  0.28             2.29   \n",
              "1           2.65        2.76                  0.26             1.28   \n",
              "2           2.80        3.24                  0.30             2.81   \n",
              "3           3.85        3.49                  0.24             2.18   \n",
              "4           2.80        2.69                  0.39             1.82   \n",
              "\n",
              "   Color intensity   Hue  OD280/OD315 of diluted wines  Proline  \n",
              "0             5.64  1.04                          3.92     1065  \n",
              "1             4.38  1.05                          3.40     1050  \n",
              "2             5.68  1.03                          3.17     1185  \n",
              "3             7.80  0.86                          3.45     1480  \n",
              "4             4.32  1.04                          2.93      735  "
            ],
            "text/html": [
              "\n",
              "  <div id=\"df-2a3b9467-7a6b-4f9b-807d-7c05d031efd7\">\n",
              "    <div class=\"colab-df-container\">\n",
              "      <div>\n",
              "<style scoped>\n",
              "    .dataframe tbody tr th:only-of-type {\n",
              "        vertical-align: middle;\n",
              "    }\n",
              "\n",
              "    .dataframe tbody tr th {\n",
              "        vertical-align: top;\n",
              "    }\n",
              "\n",
              "    .dataframe thead th {\n",
              "        text-align: right;\n",
              "    }\n",
              "</style>\n",
              "<table border=\"1\" class=\"dataframe\">\n",
              "  <thead>\n",
              "    <tr style=\"text-align: right;\">\n",
              "      <th></th>\n",
              "      <th>Class label</th>\n",
              "      <th>Alcohol</th>\n",
              "      <th>Malic acid</th>\n",
              "      <th>Ash</th>\n",
              "      <th>Alcalinity of ash</th>\n",
              "      <th>Magnesium</th>\n",
              "      <th>Total phenols</th>\n",
              "      <th>Flavanoids</th>\n",
              "      <th>Nonflavanoid phenols</th>\n",
              "      <th>Proanthocyanins</th>\n",
              "      <th>Color intensity</th>\n",
              "      <th>Hue</th>\n",
              "      <th>OD280/OD315 of diluted wines</th>\n",
              "      <th>Proline</th>\n",
              "    </tr>\n",
              "  </thead>\n",
              "  <tbody>\n",
              "    <tr>\n",
              "      <th>0</th>\n",
              "      <td>1</td>\n",
              "      <td>14.23</td>\n",
              "      <td>1.71</td>\n",
              "      <td>2.43</td>\n",
              "      <td>15.6</td>\n",
              "      <td>127</td>\n",
              "      <td>2.80</td>\n",
              "      <td>3.06</td>\n",
              "      <td>0.28</td>\n",
              "      <td>2.29</td>\n",
              "      <td>5.64</td>\n",
              "      <td>1.04</td>\n",
              "      <td>3.92</td>\n",
              "      <td>1065</td>\n",
              "    </tr>\n",
              "    <tr>\n",
              "      <th>1</th>\n",
              "      <td>1</td>\n",
              "      <td>13.20</td>\n",
              "      <td>1.78</td>\n",
              "      <td>2.14</td>\n",
              "      <td>11.2</td>\n",
              "      <td>100</td>\n",
              "      <td>2.65</td>\n",
              "      <td>2.76</td>\n",
              "      <td>0.26</td>\n",
              "      <td>1.28</td>\n",
              "      <td>4.38</td>\n",
              "      <td>1.05</td>\n",
              "      <td>3.40</td>\n",
              "      <td>1050</td>\n",
              "    </tr>\n",
              "    <tr>\n",
              "      <th>2</th>\n",
              "      <td>1</td>\n",
              "      <td>13.16</td>\n",
              "      <td>2.36</td>\n",
              "      <td>2.67</td>\n",
              "      <td>18.6</td>\n",
              "      <td>101</td>\n",
              "      <td>2.80</td>\n",
              "      <td>3.24</td>\n",
              "      <td>0.30</td>\n",
              "      <td>2.81</td>\n",
              "      <td>5.68</td>\n",
              "      <td>1.03</td>\n",
              "      <td>3.17</td>\n",
              "      <td>1185</td>\n",
              "    </tr>\n",
              "    <tr>\n",
              "      <th>3</th>\n",
              "      <td>1</td>\n",
              "      <td>14.37</td>\n",
              "      <td>1.95</td>\n",
              "      <td>2.50</td>\n",
              "      <td>16.8</td>\n",
              "      <td>113</td>\n",
              "      <td>3.85</td>\n",
              "      <td>3.49</td>\n",
              "      <td>0.24</td>\n",
              "      <td>2.18</td>\n",
              "      <td>7.80</td>\n",
              "      <td>0.86</td>\n",
              "      <td>3.45</td>\n",
              "      <td>1480</td>\n",
              "    </tr>\n",
              "    <tr>\n",
              "      <th>4</th>\n",
              "      <td>1</td>\n",
              "      <td>13.24</td>\n",
              "      <td>2.59</td>\n",
              "      <td>2.87</td>\n",
              "      <td>21.0</td>\n",
              "      <td>118</td>\n",
              "      <td>2.80</td>\n",
              "      <td>2.69</td>\n",
              "      <td>0.39</td>\n",
              "      <td>1.82</td>\n",
              "      <td>4.32</td>\n",
              "      <td>1.04</td>\n",
              "      <td>2.93</td>\n",
              "      <td>735</td>\n",
              "    </tr>\n",
              "  </tbody>\n",
              "</table>\n",
              "</div>\n",
              "      <button class=\"colab-df-convert\" onclick=\"convertToInteractive('df-2a3b9467-7a6b-4f9b-807d-7c05d031efd7')\"\n",
              "              title=\"Convert this dataframe to an interactive table.\"\n",
              "              style=\"display:none;\">\n",
              "        \n",
              "  <svg xmlns=\"http://www.w3.org/2000/svg\" height=\"24px\"viewBox=\"0 0 24 24\"\n",
              "       width=\"24px\">\n",
              "    <path d=\"M0 0h24v24H0V0z\" fill=\"none\"/>\n",
              "    <path d=\"M18.56 5.44l.94 2.06.94-2.06 2.06-.94-2.06-.94-.94-2.06-.94 2.06-2.06.94zm-11 1L8.5 8.5l.94-2.06 2.06-.94-2.06-.94L8.5 2.5l-.94 2.06-2.06.94zm10 10l.94 2.06.94-2.06 2.06-.94-2.06-.94-.94-2.06-.94 2.06-2.06.94z\"/><path d=\"M17.41 7.96l-1.37-1.37c-.4-.4-.92-.59-1.43-.59-.52 0-1.04.2-1.43.59L10.3 9.45l-7.72 7.72c-.78.78-.78 2.05 0 2.83L4 21.41c.39.39.9.59 1.41.59.51 0 1.02-.2 1.41-.59l7.78-7.78 2.81-2.81c.8-.78.8-2.07 0-2.86zM5.41 20L4 18.59l7.72-7.72 1.47 1.35L5.41 20z\"/>\n",
              "  </svg>\n",
              "      </button>\n",
              "      \n",
              "  <style>\n",
              "    .colab-df-container {\n",
              "      display:flex;\n",
              "      flex-wrap:wrap;\n",
              "      gap: 12px;\n",
              "    }\n",
              "\n",
              "    .colab-df-convert {\n",
              "      background-color: #E8F0FE;\n",
              "      border: none;\n",
              "      border-radius: 50%;\n",
              "      cursor: pointer;\n",
              "      display: none;\n",
              "      fill: #1967D2;\n",
              "      height: 32px;\n",
              "      padding: 0 0 0 0;\n",
              "      width: 32px;\n",
              "    }\n",
              "\n",
              "    .colab-df-convert:hover {\n",
              "      background-color: #E2EBFA;\n",
              "      box-shadow: 0px 1px 2px rgba(60, 64, 67, 0.3), 0px 1px 3px 1px rgba(60, 64, 67, 0.15);\n",
              "      fill: #174EA6;\n",
              "    }\n",
              "\n",
              "    [theme=dark] .colab-df-convert {\n",
              "      background-color: #3B4455;\n",
              "      fill: #D2E3FC;\n",
              "    }\n",
              "\n",
              "    [theme=dark] .colab-df-convert:hover {\n",
              "      background-color: #434B5C;\n",
              "      box-shadow: 0px 1px 3px 1px rgba(0, 0, 0, 0.15);\n",
              "      filter: drop-shadow(0px 1px 2px rgba(0, 0, 0, 0.3));\n",
              "      fill: #FFFFFF;\n",
              "    }\n",
              "  </style>\n",
              "\n",
              "      <script>\n",
              "        const buttonEl =\n",
              "          document.querySelector('#df-2a3b9467-7a6b-4f9b-807d-7c05d031efd7 button.colab-df-convert');\n",
              "        buttonEl.style.display =\n",
              "          google.colab.kernel.accessAllowed ? 'block' : 'none';\n",
              "\n",
              "        async function convertToInteractive(key) {\n",
              "          const element = document.querySelector('#df-2a3b9467-7a6b-4f9b-807d-7c05d031efd7');\n",
              "          const dataTable =\n",
              "            await google.colab.kernel.invokeFunction('convertToInteractive',\n",
              "                                                     [key], {});\n",
              "          if (!dataTable) return;\n",
              "\n",
              "          const docLinkHtml = 'Like what you see? Visit the ' +\n",
              "            '<a target=\"_blank\" href=https://colab.research.google.com/notebooks/data_table.ipynb>data table notebook</a>'\n",
              "            + ' to learn more about interactive tables.';\n",
              "          element.innerHTML = '';\n",
              "          dataTable['output_type'] = 'display_data';\n",
              "          await google.colab.output.renderOutput(dataTable, element);\n",
              "          const docLink = document.createElement('div');\n",
              "          docLink.innerHTML = docLinkHtml;\n",
              "          element.appendChild(docLink);\n",
              "        }\n",
              "      </script>\n",
              "    </div>\n",
              "  </div>\n",
              "  "
            ]
          },
          "metadata": {},
          "execution_count": 24
        }
      ],
      "source": [
        "import pandas as pd\n",
        "import numpy as np\n",
        "\n",
        "\n",
        "df_wine = pd.read_csv('https://archive.ics.uci.edu/'\n",
        "                      'ml/machine-learning-databases/wine/wine.data',\n",
        "                      header=None)\n",
        "\n",
        "\n",
        "df_wine.columns = ['Class label', 'Alcohol', 'Malic acid', 'Ash',\n",
        "                   'Alcalinity of ash', 'Magnesium', 'Total phenols',\n",
        "                   'Flavanoids', 'Nonflavanoid phenols', 'Proanthocyanins',\n",
        "                   'Color intensity', 'Hue', 'OD280/OD315 of diluted wines',\n",
        "                   'Proline']\n",
        "\n",
        "print('Class labels', np.unique(df_wine['Class label']))\n",
        "df_wine.head()"
      ],
      "id": "2h60Zjr8OHo-"
    },
    {
      "cell_type": "code",
      "execution_count": 25,
      "metadata": {
        "id": "zkmUKFGeOHo-"
      },
      "outputs": [],
      "source": [
        "from sklearn.model_selection import train_test_split\n",
        "\n",
        "X, y = df_wine.iloc[:, 1:].values, df_wine.iloc[:, 0].values\n",
        "\n",
        "X_train, X_test, y_train, y_test =\\\n",
        "    train_test_split(X, y, \n",
        "                     test_size=0.3, \n",
        "                     random_state=0, \n",
        "                     stratify=y)"
      ],
      "id": "zkmUKFGeOHo-"
    },
    {
      "cell_type": "code",
      "execution_count": 26,
      "metadata": {
        "id": "O4yxulA4OHo_"
      },
      "outputs": [],
      "source": [
        "from sklearn.preprocessing import StandardScaler\n",
        "\n",
        "\n",
        "sc = StandardScaler()\n",
        "X_train_std = sc.fit_transform(X_train)\n",
        "X_test_std = sc.transform(X_test)"
      ],
      "id": "O4yxulA4OHo_"
    },
    {
      "cell_type": "markdown",
      "metadata": {
        "id": "f9a66595-dc4f-446b-bdac-f315362e91c9"
      },
      "source": [
        "## Recursive Feature Selection"
      ],
      "id": "f9a66595-dc4f-446b-bdac-f315362e91c9"
    },
    {
      "cell_type": "code",
      "execution_count": 27,
      "metadata": {
        "id": "-YHXaqEcOHo_"
      },
      "outputs": [],
      "source": [
        "from sklearn.linear_model import LogisticRegression\n",
        "from sklearn.feature_selection import RFE\n",
        "\n",
        "\n",
        "\n",
        "lr = LogisticRegression(solver='liblinear', random_state=123)\n",
        "\n",
        "rfe = RFE(estimator=lr, n_features_to_select=5, step=1)\n",
        "rfe.fit(X_train_std, y_train)\n",
        "\n",
        "X_train_sub = rfe.transform(X_train_std)"
      ],
      "id": "-YHXaqEcOHo_"
    },
    {
      "cell_type": "markdown",
      "metadata": {
        "id": "573a78bd-ce0c-4367-ba2c-92f9dca54e40"
      },
      "source": [
        "## Which features are selected?"
      ],
      "id": "573a78bd-ce0c-4367-ba2c-92f9dca54e40"
    },
    {
      "cell_type": "code",
      "execution_count": 28,
      "metadata": {
        "outputId": "6e9b04d1-74f1-442c-9849-a53b296d9386",
        "colab": {
          "base_uri": "https://localhost:8080/"
        },
        "id": "qaFzP44tOHpA"
      },
      "outputs": [
        {
          "output_type": "execute_result",
          "data": {
            "text/plain": [
              "array([ True, False, False, False, False, False,  True, False, False,\n",
              "        True,  True, False,  True])"
            ]
          },
          "metadata": {},
          "execution_count": 28
        }
      ],
      "source": [
        "rfe.support_"
      ],
      "id": "qaFzP44tOHpA"
    },
    {
      "cell_type": "code",
      "execution_count": 29,
      "metadata": {
        "outputId": "f728e31a-7ce8-452e-ca00-b9ef19653171",
        "colab": {
          "base_uri": "https://localhost:8080/"
        },
        "id": "CnYL1HyqOHpA"
      },
      "outputs": [
        {
          "output_type": "execute_result",
          "data": {
            "text/plain": [
              "Index(['Alcohol', 'Flavanoids', 'Color intensity', 'Hue', 'Proline'], dtype='object')"
            ]
          },
          "metadata": {},
          "execution_count": 29
        }
      ],
      "source": [
        "df_wine.columns[1:][rfe.support_]"
      ],
      "id": "CnYL1HyqOHpA"
    },
    {
      "cell_type": "markdown",
      "metadata": {
        "id": "03b3626e-02ba-4d70-b072-01a0ae90e2ff"
      },
      "source": [
        "## RFE as Part of a Pipeline"
      ],
      "id": "03b3626e-02ba-4d70-b072-01a0ae90e2ff"
    },
    {
      "cell_type": "code",
      "execution_count": 30,
      "metadata": {
        "id": "ef3e0011-0e7b-4ab9-8d8d-a4f60848c3c9",
        "outputId": "9948ef9e-38ad-49d0-8ccd-530c4a661350",
        "colab": {
          "base_uri": "https://localhost:8080/"
        }
      },
      "outputs": [
        {
          "output_type": "stream",
          "name": "stdout",
          "text": [
            "Best params: {'kneighborsclassifier__n_neighbors': 3, 'rfe__n_features_to_select': 5}\n",
            "Best accuracy: 0.9916666666666666\n"
          ]
        }
      ],
      "source": [
        "from sklearn.model_selection import GridSearchCV\n",
        "from sklearn.neighbors import KNeighborsClassifier\n",
        "from sklearn.pipeline import make_pipeline\n",
        "\n",
        "\n",
        "pipe = make_pipeline(RFE(estimator=lr, step=1),\n",
        "                     KNeighborsClassifier())\n",
        "\n",
        "\n",
        "parameters = {'rfe__n_features_to_select': range(1, 13), \n",
        "              'kneighborsclassifier__n_neighbors': range(1, 10) }\n",
        "\n",
        "grid = GridSearchCV(pipe, param_grid=parameters, cv=10, n_jobs=-1)\n",
        "grid.fit(X_train_std, y_train)\n",
        "\n",
        "print('Best params:', grid.best_params_)\n",
        "print('Best accuracy:', grid.best_score_)"
      ],
      "id": "ef3e0011-0e7b-4ab9-8d8d-a4f60848c3c9"
    },
    {
      "cell_type": "code",
      "execution_count": 31,
      "metadata": {
        "id": "21c21b59-afb4-449f-b9f7-ab1730bfed5d",
        "outputId": "d4ab56aa-c8b2-4616-da1a-2e6050054f86",
        "colab": {
          "base_uri": "https://localhost:8080/"
        }
      },
      "outputs": [
        {
          "output_type": "execute_result",
          "data": {
            "text/plain": [
              "1.0"
            ]
          },
          "metadata": {},
          "execution_count": 31
        }
      ],
      "source": [
        "# Reduced feature set from grid search\n",
        "\n",
        "grid.best_estimator_.score(X_test_std, y_test)"
      ],
      "id": "21c21b59-afb4-449f-b9f7-ab1730bfed5d"
    },
    {
      "cell_type": "code",
      "execution_count": 32,
      "metadata": {
        "id": "0c4dc214-31d8-4347-8229-9e9840b7acef",
        "outputId": "bd51f8bf-7f81-44d8-d4eb-96fc9e015b6f",
        "colab": {
          "base_uri": "https://localhost:8080/"
        }
      },
      "outputs": [
        {
          "output_type": "execute_result",
          "data": {
            "text/plain": [
              "0.9629629629629629"
            ]
          },
          "metadata": {},
          "execution_count": 32
        }
      ],
      "source": [
        "# Full feature set for reference\n",
        "\n",
        "knn = KNeighborsClassifier(n_neighbors=3)\n",
        "knn.fit(X_train_std, y_train)\n",
        "knn.score(X_test_std, y_test)"
      ],
      "id": "0c4dc214-31d8-4347-8229-9e9840b7acef"
    },
    {
      "cell_type": "markdown",
      "metadata": {
        "id": "38V5RvpsOca6"
      },
      "source": [
        "# Permutation Importance"
      ],
      "id": "38V5RvpsOca6"
    },
    {
      "cell_type": "code",
      "execution_count": 33,
      "metadata": {
        "id": "hYlnHIV6Oca9"
      },
      "outputs": [],
      "source": [
        "%matplotlib inline\n",
        "import matplotlib.pyplot as plt"
      ],
      "id": "hYlnHIV6Oca9"
    },
    {
      "cell_type": "markdown",
      "metadata": {
        "tags": [],
        "id": "Bx1DsGynOca9"
      },
      "source": [
        "## Dataset Preparation"
      ],
      "id": "Bx1DsGynOca9"
    },
    {
      "cell_type": "code",
      "execution_count": 34,
      "metadata": {
        "outputId": "2f8d3f70-bb83-4dd9-9846-eb9e42e070da",
        "colab": {
          "base_uri": "https://localhost:8080/",
          "height": 285
        },
        "id": "1Dgbkt-nOca9"
      },
      "outputs": [
        {
          "output_type": "stream",
          "name": "stdout",
          "text": [
            "Class labels [1 2 3]\n"
          ]
        },
        {
          "output_type": "execute_result",
          "data": {
            "text/plain": [
              "   Class label  Alcohol  Malic acid   Ash  Alcalinity of ash  Magnesium  \\\n",
              "0            1    14.23        1.71  2.43               15.6        127   \n",
              "1            1    13.20        1.78  2.14               11.2        100   \n",
              "2            1    13.16        2.36  2.67               18.6        101   \n",
              "3            1    14.37        1.95  2.50               16.8        113   \n",
              "4            1    13.24        2.59  2.87               21.0        118   \n",
              "\n",
              "   Total phenols  Flavanoids  Nonflavanoid phenols  Proanthocyanins  \\\n",
              "0           2.80        3.06                  0.28             2.29   \n",
              "1           2.65        2.76                  0.26             1.28   \n",
              "2           2.80        3.24                  0.30             2.81   \n",
              "3           3.85        3.49                  0.24             2.18   \n",
              "4           2.80        2.69                  0.39             1.82   \n",
              "\n",
              "   Color intensity   Hue  OD280/OD315 of diluted wines  Proline  \n",
              "0             5.64  1.04                          3.92     1065  \n",
              "1             4.38  1.05                          3.40     1050  \n",
              "2             5.68  1.03                          3.17     1185  \n",
              "3             7.80  0.86                          3.45     1480  \n",
              "4             4.32  1.04                          2.93      735  "
            ],
            "text/html": [
              "\n",
              "  <div id=\"df-ff1806ef-853d-4a82-b899-5bd2b55234a6\">\n",
              "    <div class=\"colab-df-container\">\n",
              "      <div>\n",
              "<style scoped>\n",
              "    .dataframe tbody tr th:only-of-type {\n",
              "        vertical-align: middle;\n",
              "    }\n",
              "\n",
              "    .dataframe tbody tr th {\n",
              "        vertical-align: top;\n",
              "    }\n",
              "\n",
              "    .dataframe thead th {\n",
              "        text-align: right;\n",
              "    }\n",
              "</style>\n",
              "<table border=\"1\" class=\"dataframe\">\n",
              "  <thead>\n",
              "    <tr style=\"text-align: right;\">\n",
              "      <th></th>\n",
              "      <th>Class label</th>\n",
              "      <th>Alcohol</th>\n",
              "      <th>Malic acid</th>\n",
              "      <th>Ash</th>\n",
              "      <th>Alcalinity of ash</th>\n",
              "      <th>Magnesium</th>\n",
              "      <th>Total phenols</th>\n",
              "      <th>Flavanoids</th>\n",
              "      <th>Nonflavanoid phenols</th>\n",
              "      <th>Proanthocyanins</th>\n",
              "      <th>Color intensity</th>\n",
              "      <th>Hue</th>\n",
              "      <th>OD280/OD315 of diluted wines</th>\n",
              "      <th>Proline</th>\n",
              "    </tr>\n",
              "  </thead>\n",
              "  <tbody>\n",
              "    <tr>\n",
              "      <th>0</th>\n",
              "      <td>1</td>\n",
              "      <td>14.23</td>\n",
              "      <td>1.71</td>\n",
              "      <td>2.43</td>\n",
              "      <td>15.6</td>\n",
              "      <td>127</td>\n",
              "      <td>2.80</td>\n",
              "      <td>3.06</td>\n",
              "      <td>0.28</td>\n",
              "      <td>2.29</td>\n",
              "      <td>5.64</td>\n",
              "      <td>1.04</td>\n",
              "      <td>3.92</td>\n",
              "      <td>1065</td>\n",
              "    </tr>\n",
              "    <tr>\n",
              "      <th>1</th>\n",
              "      <td>1</td>\n",
              "      <td>13.20</td>\n",
              "      <td>1.78</td>\n",
              "      <td>2.14</td>\n",
              "      <td>11.2</td>\n",
              "      <td>100</td>\n",
              "      <td>2.65</td>\n",
              "      <td>2.76</td>\n",
              "      <td>0.26</td>\n",
              "      <td>1.28</td>\n",
              "      <td>4.38</td>\n",
              "      <td>1.05</td>\n",
              "      <td>3.40</td>\n",
              "      <td>1050</td>\n",
              "    </tr>\n",
              "    <tr>\n",
              "      <th>2</th>\n",
              "      <td>1</td>\n",
              "      <td>13.16</td>\n",
              "      <td>2.36</td>\n",
              "      <td>2.67</td>\n",
              "      <td>18.6</td>\n",
              "      <td>101</td>\n",
              "      <td>2.80</td>\n",
              "      <td>3.24</td>\n",
              "      <td>0.30</td>\n",
              "      <td>2.81</td>\n",
              "      <td>5.68</td>\n",
              "      <td>1.03</td>\n",
              "      <td>3.17</td>\n",
              "      <td>1185</td>\n",
              "    </tr>\n",
              "    <tr>\n",
              "      <th>3</th>\n",
              "      <td>1</td>\n",
              "      <td>14.37</td>\n",
              "      <td>1.95</td>\n",
              "      <td>2.50</td>\n",
              "      <td>16.8</td>\n",
              "      <td>113</td>\n",
              "      <td>3.85</td>\n",
              "      <td>3.49</td>\n",
              "      <td>0.24</td>\n",
              "      <td>2.18</td>\n",
              "      <td>7.80</td>\n",
              "      <td>0.86</td>\n",
              "      <td>3.45</td>\n",
              "      <td>1480</td>\n",
              "    </tr>\n",
              "    <tr>\n",
              "      <th>4</th>\n",
              "      <td>1</td>\n",
              "      <td>13.24</td>\n",
              "      <td>2.59</td>\n",
              "      <td>2.87</td>\n",
              "      <td>21.0</td>\n",
              "      <td>118</td>\n",
              "      <td>2.80</td>\n",
              "      <td>2.69</td>\n",
              "      <td>0.39</td>\n",
              "      <td>1.82</td>\n",
              "      <td>4.32</td>\n",
              "      <td>1.04</td>\n",
              "      <td>2.93</td>\n",
              "      <td>735</td>\n",
              "    </tr>\n",
              "  </tbody>\n",
              "</table>\n",
              "</div>\n",
              "      <button class=\"colab-df-convert\" onclick=\"convertToInteractive('df-ff1806ef-853d-4a82-b899-5bd2b55234a6')\"\n",
              "              title=\"Convert this dataframe to an interactive table.\"\n",
              "              style=\"display:none;\">\n",
              "        \n",
              "  <svg xmlns=\"http://www.w3.org/2000/svg\" height=\"24px\"viewBox=\"0 0 24 24\"\n",
              "       width=\"24px\">\n",
              "    <path d=\"M0 0h24v24H0V0z\" fill=\"none\"/>\n",
              "    <path d=\"M18.56 5.44l.94 2.06.94-2.06 2.06-.94-2.06-.94-.94-2.06-.94 2.06-2.06.94zm-11 1L8.5 8.5l.94-2.06 2.06-.94-2.06-.94L8.5 2.5l-.94 2.06-2.06.94zm10 10l.94 2.06.94-2.06 2.06-.94-2.06-.94-.94-2.06-.94 2.06-2.06.94z\"/><path d=\"M17.41 7.96l-1.37-1.37c-.4-.4-.92-.59-1.43-.59-.52 0-1.04.2-1.43.59L10.3 9.45l-7.72 7.72c-.78.78-.78 2.05 0 2.83L4 21.41c.39.39.9.59 1.41.59.51 0 1.02-.2 1.41-.59l7.78-7.78 2.81-2.81c.8-.78.8-2.07 0-2.86zM5.41 20L4 18.59l7.72-7.72 1.47 1.35L5.41 20z\"/>\n",
              "  </svg>\n",
              "      </button>\n",
              "      \n",
              "  <style>\n",
              "    .colab-df-container {\n",
              "      display:flex;\n",
              "      flex-wrap:wrap;\n",
              "      gap: 12px;\n",
              "    }\n",
              "\n",
              "    .colab-df-convert {\n",
              "      background-color: #E8F0FE;\n",
              "      border: none;\n",
              "      border-radius: 50%;\n",
              "      cursor: pointer;\n",
              "      display: none;\n",
              "      fill: #1967D2;\n",
              "      height: 32px;\n",
              "      padding: 0 0 0 0;\n",
              "      width: 32px;\n",
              "    }\n",
              "\n",
              "    .colab-df-convert:hover {\n",
              "      background-color: #E2EBFA;\n",
              "      box-shadow: 0px 1px 2px rgba(60, 64, 67, 0.3), 0px 1px 3px 1px rgba(60, 64, 67, 0.15);\n",
              "      fill: #174EA6;\n",
              "    }\n",
              "\n",
              "    [theme=dark] .colab-df-convert {\n",
              "      background-color: #3B4455;\n",
              "      fill: #D2E3FC;\n",
              "    }\n",
              "\n",
              "    [theme=dark] .colab-df-convert:hover {\n",
              "      background-color: #434B5C;\n",
              "      box-shadow: 0px 1px 3px 1px rgba(0, 0, 0, 0.15);\n",
              "      filter: drop-shadow(0px 1px 2px rgba(0, 0, 0, 0.3));\n",
              "      fill: #FFFFFF;\n",
              "    }\n",
              "  </style>\n",
              "\n",
              "      <script>\n",
              "        const buttonEl =\n",
              "          document.querySelector('#df-ff1806ef-853d-4a82-b899-5bd2b55234a6 button.colab-df-convert');\n",
              "        buttonEl.style.display =\n",
              "          google.colab.kernel.accessAllowed ? 'block' : 'none';\n",
              "\n",
              "        async function convertToInteractive(key) {\n",
              "          const element = document.querySelector('#df-ff1806ef-853d-4a82-b899-5bd2b55234a6');\n",
              "          const dataTable =\n",
              "            await google.colab.kernel.invokeFunction('convertToInteractive',\n",
              "                                                     [key], {});\n",
              "          if (!dataTable) return;\n",
              "\n",
              "          const docLinkHtml = 'Like what you see? Visit the ' +\n",
              "            '<a target=\"_blank\" href=https://colab.research.google.com/notebooks/data_table.ipynb>data table notebook</a>'\n",
              "            + ' to learn more about interactive tables.';\n",
              "          element.innerHTML = '';\n",
              "          dataTable['output_type'] = 'display_data';\n",
              "          await google.colab.output.renderOutput(dataTable, element);\n",
              "          const docLink = document.createElement('div');\n",
              "          docLink.innerHTML = docLinkHtml;\n",
              "          element.appendChild(docLink);\n",
              "        }\n",
              "      </script>\n",
              "    </div>\n",
              "  </div>\n",
              "  "
            ]
          },
          "metadata": {},
          "execution_count": 34
        }
      ],
      "source": [
        "import pandas as pd\n",
        "import numpy as np\n",
        "\n",
        "\n",
        "df_wine = pd.read_csv('https://archive.ics.uci.edu/'\n",
        "                      'ml/machine-learning-databases/wine/wine.data',\n",
        "                      header=None)\n",
        "\n",
        "\n",
        "df_wine.columns = ['Class label', 'Alcohol', 'Malic acid', 'Ash',\n",
        "                   'Alcalinity of ash', 'Magnesium', 'Total phenols',\n",
        "                   'Flavanoids', 'Nonflavanoid phenols', 'Proanthocyanins',\n",
        "                   'Color intensity', 'Hue', 'OD280/OD315 of diluted wines',\n",
        "                   'Proline']\n",
        "\n",
        "print('Class labels', np.unique(df_wine['Class label']))\n",
        "df_wine.head()"
      ],
      "id": "1Dgbkt-nOca9"
    },
    {
      "cell_type": "code",
      "execution_count": 35,
      "metadata": {
        "id": "iXvQjhciOca9"
      },
      "outputs": [],
      "source": [
        "from sklearn.model_selection import train_test_split\n",
        "\n",
        "X, y = df_wine.iloc[:, 1:].values, df_wine.iloc[:, 0].values\n",
        "\n",
        "X_train, X_test, y_train, y_test =\\\n",
        "    train_test_split(X, y, \n",
        "                     test_size=0.3, \n",
        "                     random_state=0, \n",
        "                     stratify=y)"
      ],
      "id": "iXvQjhciOca9"
    },
    {
      "cell_type": "markdown",
      "metadata": {
        "id": "ba659453-df01-457b-9a18-b1b91752021a"
      },
      "source": [
        "## Permutation importance vs Random Forest impurity-based performance"
      ],
      "id": "ba659453-df01-457b-9a18-b1b91752021a"
    },
    {
      "cell_type": "code",
      "execution_count": 36,
      "metadata": {
        "id": "5e575582-fb8d-44a0-8088-63cc83ecb685",
        "outputId": "f774e332-c10c-4d5f-8ee3-7c92d286f104",
        "colab": {
          "base_uri": "https://localhost:8080/"
        }
      },
      "outputs": [
        {
          "output_type": "stream",
          "name": "stdout",
          "text": [
            "Training accuracy: 100.0\n",
            "Test accuracy: 100.0\n"
          ]
        }
      ],
      "source": [
        "from sklearn.ensemble import RandomForestClassifier\n",
        "\n",
        "\n",
        "forest = RandomForestClassifier(n_estimators=100,\n",
        "                                random_state=0)\n",
        "\n",
        "forest.fit(X_train, y_train)\n",
        "\n",
        "print('Training accuracy:', np.mean(forest.predict(X_train) == y_train)*100)\n",
        "print('Test accuracy:', np.mean(forest.predict(X_test) == y_test)*100)"
      ],
      "id": "5e575582-fb8d-44a0-8088-63cc83ecb685"
    },
    {
      "cell_type": "code",
      "execution_count": 37,
      "metadata": {
        "id": "0576d15f-3a5d-448d-ab9d-87f02f990c3c",
        "outputId": "28ba4da5-089c-4a6e-cba2-6b1f96c158aa",
        "colab": {
          "base_uri": "https://localhost:8080/",
          "height": 297
        }
      },
      "outputs": [
        {
          "output_type": "display_data",
          "data": {
            "text/plain": [
              "<Figure size 432x288 with 1 Axes>"
            ],
            "image/png": "[encoded data removed]"
          },
          "metadata": {
            "needs_background": "light"
          }
        }
      ],
      "source": [
        "importance_vals = forest.feature_importances_\n",
        "indices = np.argsort(importance_vals)[::-1]\n",
        "\n",
        "# Plot the feature importances of the forest\n",
        "plt.figure()\n",
        "plt.title(\"Random Forest impurity-based feature importance\")\n",
        "plt.bar(range(X_train.shape[1]), importance_vals[indices])\n",
        "\n",
        "plt.xticks(range(X_train.shape[1]), df_wine.columns[1:][indices], rotation=90)\n",
        "plt.xlim([-1, X_train.shape[1]])\n",
        "plt.ylim([0, 0.2])\n",
        "\n",
        "plt.tight_layout()\n",
        "plt.savefig('1.pdf')\n",
        "plt.show()"
      ],
      "id": "0576d15f-3a5d-448d-ab9d-87f02f990c3c"
    },
    {
      "cell_type": "code",
      "execution_count": 38,
      "metadata": {
        "id": "4dabe5f6-1f37-4b80-9d27-5ab3eae280e1"
      },
      "outputs": [],
      "source": [
        "from mlxtend.evaluate import feature_importance_permutation\n",
        "\n",
        "\n",
        "imp_vals, imp_all = feature_importance_permutation(\n",
        "    predict_method=forest.predict, \n",
        "    X=X_test,\n",
        "    y=y_test,\n",
        "    metric='accuracy',\n",
        "    num_rounds=50,\n",
        "    seed=0)"
      ],
      "id": "4dabe5f6-1f37-4b80-9d27-5ab3eae280e1"
    },
    {
      "cell_type": "code",
      "execution_count": 39,
      "metadata": {
        "id": "bb9dc7a2-c2c2-49df-b5b7-d17d08a20f21",
        "outputId": "e7c0903b-5c2d-49b6-b97e-3ebd67d41919",
        "colab": {
          "base_uri": "https://localhost:8080/",
          "height": 297
        }
      },
      "outputs": [
        {
          "output_type": "display_data",
          "data": {
            "text/plain": [
              "<Figure size 432x288 with 1 Axes>"
            ],
            "image/png": "[encoded data removed]"
          },
          "metadata": {
            "needs_background": "light"
          }
        }
      ],
      "source": [
        "std = np.std(imp_all, axis=1)\n",
        "indices = np.argsort(imp_vals)[::-1]\n",
        "\n",
        "plt.figure()\n",
        "plt.title(\"Random Forest feature importance via permutation importance\")\n",
        "plt.bar(range(X_train.shape[1]), imp_vals[indices], yerr=std[indices])\n",
        "\n",
        "plt.xticks(range(X_train.shape[1]), df_wine.columns[1:][indices], rotation=90)\n",
        "plt.xlim([-1, X_train.shape[1]])\n",
        "plt.ylim([0, 0.2])\n",
        "\n",
        "plt.tight_layout()\n",
        "plt.savefig('2.pdf')\n",
        "plt.show()"
      ],
      "id": "bb9dc7a2-c2c2-49df-b5b7-d17d08a20f21"
    },
    {
      "cell_type": "markdown",
      "metadata": {
        "id": "93abf5d7-6de2-4adf-9387-b757235db722"
      },
      "source": [
        "## Scikit-learn"
      ],
      "id": "93abf5d7-6de2-4adf-9387-b757235db722"
    },
    {
      "cell_type": "code",
      "execution_count": 40,
      "metadata": {
        "id": "f5426634-cf73-45c6-9581-97fdf01b6992",
        "outputId": "87cfb0df-4614-46a6-fa27-a6a1480d2c67",
        "colab": {
          "base_uri": "https://localhost:8080/",
          "height": 297
        }
      },
      "outputs": [
        {
          "output_type": "display_data",
          "data": {
            "text/plain": [
              "<Figure size 432x288 with 1 Axes>"
            ],
            "image/png": "[encoded data removed]"
          },
          "metadata": {
            "needs_background": "light"
          }
        }
      ],
      "source": [
        "from sklearn.inspection import permutation_importance\n",
        "\n",
        "\n",
        "forest = RandomForestClassifier(n_estimators=100,\n",
        "                                random_state=0)\n",
        "\n",
        "forest.fit(X_train, y_train)\n",
        "\n",
        "result = permutation_importance(\n",
        "    estimator=forest,\n",
        "    X=X_test,\n",
        "    y=y_test,\n",
        "    scoring='accuracy',\n",
        "    n_repeats=50,\n",
        "    random_state=0\n",
        ")\n",
        "\n",
        "\n",
        "indices = np.argsort(result['importances_mean'])[::-1]\n",
        "\n",
        "plt.figure()\n",
        "plt.title(\"Random Forest feature importance via permutation importance\")\n",
        "plt.bar(\n",
        "    range(X.shape[1]),\n",
        "    result['importances_mean'][indices],\n",
        "    yerr=result['importances_std'][indices]\n",
        ")\n",
        "\n",
        "plt.xticks(range(X.shape[1]), df_wine.columns[1:][indices], rotation=90)\n",
        "plt.xlim([-1, X.shape[1]])\n",
        "plt.ylim([0, 0.2])\n",
        "\n",
        "plt.tight_layout()\n",
        "plt.savefig('3.pdf')\n",
        "plt.show()"
      ],
      "id": "f5426634-cf73-45c6-9581-97fdf01b6992"
    },
    {
      "cell_type": "markdown",
      "metadata": {
        "tags": [],
        "id": "982b378a-a66b-4fe5-8623-2840e46ed6f6"
      },
      "source": [
        "## Permutation Importance and Using Random Features as a Control"
      ],
      "id": "982b378a-a66b-4fe5-8623-2840e46ed6f6"
    },
    {
      "cell_type": "code",
      "execution_count": 41,
      "metadata": {
        "id": "f96afaa3-d84e-43ea-8bdd-617376f1291d"
      },
      "outputs": [],
      "source": [
        "%matplotlib inline\n",
        "import matplotlib.pyplot as plt"
      ],
      "id": "f96afaa3-d84e-43ea-8bdd-617376f1291d"
    },
    {
      "cell_type": "markdown",
      "metadata": {
        "tags": [],
        "id": "69f871ac-d8fe-4d7c-9ed6-f9c4d7bcf108"
      },
      "source": [
        "## Dataset Preparation"
      ],
      "id": "69f871ac-d8fe-4d7c-9ed6-f9c4d7bcf108"
    },
    {
      "cell_type": "code",
      "execution_count": 42,
      "metadata": {
        "outputId": "8acb0699-fb83-47b5-a246-9858fed5dd78",
        "colab": {
          "base_uri": "https://localhost:8080/",
          "height": 285
        },
        "id": "BNlYfkJ6OuSM"
      },
      "outputs": [
        {
          "output_type": "stream",
          "name": "stdout",
          "text": [
            "Class labels [1 2 3]\n"
          ]
        },
        {
          "output_type": "execute_result",
          "data": {
            "text/plain": [
              "   Class label  Alcohol  Malic acid   Ash  Alcalinity of ash  Magnesium  \\\n",
              "0            1    14.23        1.71  2.43               15.6        127   \n",
              "1            1    13.20        1.78  2.14               11.2        100   \n",
              "2            1    13.16        2.36  2.67               18.6        101   \n",
              "3            1    14.37        1.95  2.50               16.8        113   \n",
              "4            1    13.24        2.59  2.87               21.0        118   \n",
              "\n",
              "   Total phenols  Flavanoids  Nonflavanoid phenols  Proanthocyanins  \\\n",
              "0           2.80        3.06                  0.28             2.29   \n",
              "1           2.65        2.76                  0.26             1.28   \n",
              "2           2.80        3.24                  0.30             2.81   \n",
              "3           3.85        3.49                  0.24             2.18   \n",
              "4           2.80        2.69                  0.39             1.82   \n",
              "\n",
              "   Color intensity   Hue  OD280/OD315 of diluted wines  Proline  \n",
              "0             5.64  1.04                          3.92     1065  \n",
              "1             4.38  1.05                          3.40     1050  \n",
              "2             5.68  1.03                          3.17     1185  \n",
              "3             7.80  0.86                          3.45     1480  \n",
              "4             4.32  1.04                          2.93      735  "
            ],
            "text/html": [
              "\n",
              "  <div id=\"df-9657ca3e-6863-4b8a-9ef7-9dcec6c2fa95\">\n",
              "    <div class=\"colab-df-container\">\n",
              "      <div>\n",
              "<style scoped>\n",
              "    .dataframe tbody tr th:only-of-type {\n",
              "        vertical-align: middle;\n",
              "    }\n",
              "\n",
              "    .dataframe tbody tr th {\n",
              "        vertical-align: top;\n",
              "    }\n",
              "\n",
              "    .dataframe thead th {\n",
              "        text-align: right;\n",
              "    }\n",
              "</style>\n",
              "<table border=\"1\" class=\"dataframe\">\n",
              "  <thead>\n",
              "    <tr style=\"text-align: right;\">\n",
              "      <th></th>\n",
              "      <th>Class label</th>\n",
              "      <th>Alcohol</th>\n",
              "      <th>Malic acid</th>\n",
              "      <th>Ash</th>\n",
              "      <th>Alcalinity of ash</th>\n",
              "      <th>Magnesium</th>\n",
              "      <th>Total phenols</th>\n",
              "      <th>Flavanoids</th>\n",
              "      <th>Nonflavanoid phenols</th>\n",
              "      <th>Proanthocyanins</th>\n",
              "      <th>Color intensity</th>\n",
              "      <th>Hue</th>\n",
              "      <th>OD280/OD315 of diluted wines</th>\n",
              "      <th>Proline</th>\n",
              "    </tr>\n",
              "  </thead>\n",
              "  <tbody>\n",
              "    <tr>\n",
              "      <th>0</th>\n",
              "      <td>1</td>\n",
              "      <td>14.23</td>\n",
              "      <td>1.71</td>\n",
              "      <td>2.43</td>\n",
              "      <td>15.6</td>\n",
              "      <td>127</td>\n",
              "      <td>2.80</td>\n",
              "      <td>3.06</td>\n",
              "      <td>0.28</td>\n",
              "      <td>2.29</td>\n",
              "      <td>5.64</td>\n",
              "      <td>1.04</td>\n",
              "      <td>3.92</td>\n",
              "      <td>1065</td>\n",
              "    </tr>\n",
              "    <tr>\n",
              "      <th>1</th>\n",
              "      <td>1</td>\n",
              "      <td>13.20</td>\n",
              "      <td>1.78</td>\n",
              "      <td>2.14</td>\n",
              "      <td>11.2</td>\n",
              "      <td>100</td>\n",
              "      <td>2.65</td>\n",
              "      <td>2.76</td>\n",
              "      <td>0.26</td>\n",
              "      <td>1.28</td>\n",
              "      <td>4.38</td>\n",
              "      <td>1.05</td>\n",
              "      <td>3.40</td>\n",
              "      <td>1050</td>\n",
              "    </tr>\n",
              "    <tr>\n",
              "      <th>2</th>\n",
              "      <td>1</td>\n",
              "      <td>13.16</td>\n",
              "      <td>2.36</td>\n",
              "      <td>2.67</td>\n",
              "      <td>18.6</td>\n",
              "      <td>101</td>\n",
              "      <td>2.80</td>\n",
              "      <td>3.24</td>\n",
              "      <td>0.30</td>\n",
              "      <td>2.81</td>\n",
              "      <td>5.68</td>\n",
              "      <td>1.03</td>\n",
              "      <td>3.17</td>\n",
              "      <td>1185</td>\n",
              "    </tr>\n",
              "    <tr>\n",
              "      <th>3</th>\n",
              "      <td>1</td>\n",
              "      <td>14.37</td>\n",
              "      <td>1.95</td>\n",
              "      <td>2.50</td>\n",
              "      <td>16.8</td>\n",
              "      <td>113</td>\n",
              "      <td>3.85</td>\n",
              "      <td>3.49</td>\n",
              "      <td>0.24</td>\n",
              "      <td>2.18</td>\n",
              "      <td>7.80</td>\n",
              "      <td>0.86</td>\n",
              "      <td>3.45</td>\n",
              "      <td>1480</td>\n",
              "    </tr>\n",
              "    <tr>\n",
              "      <th>4</th>\n",
              "      <td>1</td>\n",
              "      <td>13.24</td>\n",
              "      <td>2.59</td>\n",
              "      <td>2.87</td>\n",
              "      <td>21.0</td>\n",
              "      <td>118</td>\n",
              "      <td>2.80</td>\n",
              "      <td>2.69</td>\n",
              "      <td>0.39</td>\n",
              "      <td>1.82</td>\n",
              "      <td>4.32</td>\n",
              "      <td>1.04</td>\n",
              "      <td>2.93</td>\n",
              "      <td>735</td>\n",
              "    </tr>\n",
              "  </tbody>\n",
              "</table>\n",
              "</div>\n",
              "      <button class=\"colab-df-convert\" onclick=\"convertToInteractive('df-9657ca3e-6863-4b8a-9ef7-9dcec6c2fa95')\"\n",
              "              title=\"Convert this dataframe to an interactive table.\"\n",
              "              style=\"display:none;\">\n",
              "        \n",
              "  <svg xmlns=\"http://www.w3.org/2000/svg\" height=\"24px\"viewBox=\"0 0 24 24\"\n",
              "       width=\"24px\">\n",
              "    <path d=\"M0 0h24v24H0V0z\" fill=\"none\"/>\n",
              "    <path d=\"M18.56 5.44l.94 2.06.94-2.06 2.06-.94-2.06-.94-.94-2.06-.94 2.06-2.06.94zm-11 1L8.5 8.5l.94-2.06 2.06-.94-2.06-.94L8.5 2.5l-.94 2.06-2.06.94zm10 10l.94 2.06.94-2.06 2.06-.94-2.06-.94-.94-2.06-.94 2.06-2.06.94z\"/><path d=\"M17.41 7.96l-1.37-1.37c-.4-.4-.92-.59-1.43-.59-.52 0-1.04.2-1.43.59L10.3 9.45l-7.72 7.72c-.78.78-.78 2.05 0 2.83L4 21.41c.39.39.9.59 1.41.59.51 0 1.02-.2 1.41-.59l7.78-7.78 2.81-2.81c.8-.78.8-2.07 0-2.86zM5.41 20L4 18.59l7.72-7.72 1.47 1.35L5.41 20z\"/>\n",
              "  </svg>\n",
              "      </button>\n",
              "      \n",
              "  <style>\n",
              "    .colab-df-container {\n",
              "      display:flex;\n",
              "      flex-wrap:wrap;\n",
              "      gap: 12px;\n",
              "    }\n",
              "\n",
              "    .colab-df-convert {\n",
              "      background-color: #E8F0FE;\n",
              "      border: none;\n",
              "      border-radius: 50%;\n",
              "      cursor: pointer;\n",
              "      display: none;\n",
              "      fill: #1967D2;\n",
              "      height: 32px;\n",
              "      padding: 0 0 0 0;\n",
              "      width: 32px;\n",
              "    }\n",
              "\n",
              "    .colab-df-convert:hover {\n",
              "      background-color: #E2EBFA;\n",
              "      box-shadow: 0px 1px 2px rgba(60, 64, 67, 0.3), 0px 1px 3px 1px rgba(60, 64, 67, 0.15);\n",
              "      fill: #174EA6;\n",
              "    }\n",
              "\n",
              "    [theme=dark] .colab-df-convert {\n",
              "      background-color: #3B4455;\n",
              "      fill: #D2E3FC;\n",
              "    }\n",
              "\n",
              "    [theme=dark] .colab-df-convert:hover {\n",
              "      background-color: #434B5C;\n",
              "      box-shadow: 0px 1px 3px 1px rgba(0, 0, 0, 0.15);\n",
              "      filter: drop-shadow(0px 1px 2px rgba(0, 0, 0, 0.3));\n",
              "      fill: #FFFFFF;\n",
              "    }\n",
              "  </style>\n",
              "\n",
              "      <script>\n",
              "        const buttonEl =\n",
              "          document.querySelector('#df-9657ca3e-6863-4b8a-9ef7-9dcec6c2fa95 button.colab-df-convert');\n",
              "        buttonEl.style.display =\n",
              "          google.colab.kernel.accessAllowed ? 'block' : 'none';\n",
              "\n",
              "        async function convertToInteractive(key) {\n",
              "          const element = document.querySelector('#df-9657ca3e-6863-4b8a-9ef7-9dcec6c2fa95');\n",
              "          const dataTable =\n",
              "            await google.colab.kernel.invokeFunction('convertToInteractive',\n",
              "                                                     [key], {});\n",
              "          if (!dataTable) return;\n",
              "\n",
              "          const docLinkHtml = 'Like what you see? Visit the ' +\n",
              "            '<a target=\"_blank\" href=https://colab.research.google.com/notebooks/data_table.ipynb>data table notebook</a>'\n",
              "            + ' to learn more about interactive tables.';\n",
              "          element.innerHTML = '';\n",
              "          dataTable['output_type'] = 'display_data';\n",
              "          await google.colab.output.renderOutput(dataTable, element);\n",
              "          const docLink = document.createElement('div');\n",
              "          docLink.innerHTML = docLinkHtml;\n",
              "          element.appendChild(docLink);\n",
              "        }\n",
              "      </script>\n",
              "    </div>\n",
              "  </div>\n",
              "  "
            ]
          },
          "metadata": {},
          "execution_count": 42
        }
      ],
      "source": [
        "import pandas as pd\n",
        "import numpy as np\n",
        "\n",
        "\n",
        "df_wine = pd.read_csv('https://archive.ics.uci.edu/'\n",
        "                      'ml/machine-learning-databases/wine/wine.data',\n",
        "                      header=None)\n",
        "\n",
        "\n",
        "df_wine.columns = ['Class label', 'Alcohol', 'Malic acid', 'Ash',\n",
        "                   'Alcalinity of ash', 'Magnesium', 'Total phenols',\n",
        "                   'Flavanoids', 'Nonflavanoid phenols', 'Proanthocyanins',\n",
        "                   'Color intensity', 'Hue', 'OD280/OD315 of diluted wines',\n",
        "                   'Proline']\n",
        "\n",
        "print('Class labels', np.unique(df_wine['Class label']))\n",
        "df_wine.head()"
      ],
      "id": "BNlYfkJ6OuSM"
    },
    {
      "cell_type": "code",
      "execution_count": 43,
      "metadata": {
        "id": "FWh6Km0POuSN"
      },
      "outputs": [],
      "source": [
        "from sklearn.model_selection import train_test_split\n",
        "\n",
        "X, y = df_wine.iloc[:, 1:].values, df_wine.iloc[:, 0].values\n",
        "\n",
        "X_train, X_test, y_train, y_test =\\\n",
        "    train_test_split(X, y, \n",
        "                     test_size=0.3, \n",
        "                     random_state=0, \n",
        "                     stratify=y)"
      ],
      "id": "FWh6Km0POuSN"
    },
    {
      "cell_type": "markdown",
      "metadata": {
        "id": "61c888d8-8b8b-4efe-bf2c-9f07ae4f6cc2"
      },
      "source": [
        "## Add random column"
      ],
      "id": "61c888d8-8b8b-4efe-bf2c-9f07ae4f6cc2"
    },
    {
      "cell_type": "code",
      "execution_count": 44,
      "metadata": {
        "id": "9d8fc91a-fb8f-468d-88de-a56d123af3ca"
      },
      "outputs": [],
      "source": [
        "import numpy as np\n",
        "\n",
        "\n",
        "np.random.seed(123)\n",
        "x1 = np.random.randn(X_train.shape[0]).reshape(-1, 1)\n",
        "x2 = np.random.randn(X_test.shape[0]).reshape(-1, 1)"
      ],
      "id": "9d8fc91a-fb8f-468d-88de-a56d123af3ca"
    },
    {
      "cell_type": "code",
      "execution_count": 45,
      "metadata": {
        "id": "6f612886-5c59-4a16-a8bc-8482372bf438",
        "outputId": "41ce2494-9e5b-4407-d0d2-10b75b0d6e79",
        "colab": {
          "base_uri": "https://localhost:8080/"
        }
      },
      "outputs": [
        {
          "output_type": "execute_result",
          "data": {
            "text/plain": [
              "(54, 14)"
            ]
          },
          "metadata": {},
          "execution_count": 45
        }
      ],
      "source": [
        "X_train_r = np.hstack((X_train, x1))\n",
        "X_test_r = np.hstack((X_test, x2))\n",
        "X_test_r.shape"
      ],
      "id": "6f612886-5c59-4a16-a8bc-8482372bf438"
    },
    {
      "cell_type": "code",
      "execution_count": 46,
      "metadata": {
        "id": "42bd2836-7fa8-4fcf-8c4f-1aae8be26fc2",
        "outputId": "b2027f20-f54c-494b-dc89-770b177bdefb",
        "colab": {
          "base_uri": "https://localhost:8080/",
          "height": 297
        }
      },
      "outputs": [
        {
          "output_type": "display_data",
          "data": {
            "text/plain": [
              "<Figure size 432x288 with 1 Axes>"
            ],
            "image/png": "[encoded data removed]"
          },
          "metadata": {
            "needs_background": "light"
          }
        }
      ],
      "source": [
        "from sklearn.inspection import permutation_importance\n",
        "from sklearn.ensemble import RandomForestClassifier\n",
        "\n",
        "\n",
        "forest = RandomForestClassifier(n_estimators=100,\n",
        "                                random_state=0)\n",
        "\n",
        "forest.fit(X_train_r, y_train)\n",
        "\n",
        "result = permutation_importance(\n",
        "    estimator=forest,\n",
        "    X=X_test_r,\n",
        "    y=y_test,\n",
        "    scoring='accuracy',\n",
        "    n_repeats=50,\n",
        "    random_state=0\n",
        ")\n",
        "\n",
        "\n",
        "indices = np.argsort(result['importances_mean'])[::-1]\n",
        "\n",
        "plt.figure()\n",
        "plt.title(\"Random Forest feature importance via permutation importance\")\n",
        "plt.bar(\n",
        "    range(X_train_r.shape[1]),\n",
        "    result['importances_mean'][indices],\n",
        "    yerr=result['importances_std'][indices]\n",
        ")\n",
        "\n",
        "feature_names = np.array(list(df_wine.columns[1:])+['random'])\n",
        "plt.xticks(range(X_train_r.shape[1]), feature_names[indices], rotation=90)\n",
        "plt.xlim([-1, X_train_r.shape[1]])\n",
        "plt.ylim([0, 0.2])\n",
        "\n",
        "plt.tight_layout()\n",
        "plt.savefig('4.pdf')\n",
        "plt.show()"
      ],
      "id": "42bd2836-7fa8-4fcf-8c4f-1aae8be26fc2"
    },
    {
      "cell_type": "markdown",
      "metadata": {
        "id": "e640b784-ad96-4608-b942-adf8212ee01f"
      },
      "source": [
        "# Permutation Importance and Dealing with Correlated Features"
      ],
      "id": "e640b784-ad96-4608-b942-adf8212ee01f"
    },
    {
      "cell_type": "code",
      "execution_count": 47,
      "metadata": {
        "id": "f8d0d20f-b368-41de-ac7d-4cbc3ad9a68e"
      },
      "outputs": [],
      "source": [
        "%matplotlib inline\n",
        "import matplotlib.pyplot as plt"
      ],
      "id": "f8d0d20f-b368-41de-ac7d-4cbc3ad9a68e"
    },
    {
      "cell_type": "code",
      "execution_count": 48,
      "metadata": {
        "id": "cd3b1c7d-c775-4123-b5ba-d46f4fa24125",
        "outputId": "345d11fa-a483-4206-e8b9-143d5578819b",
        "colab": {
          "base_uri": "https://localhost:8080/"
        }
      },
      "outputs": [
        {
          "output_type": "execute_result",
          "data": {
            "text/plain": [
              "(1000, 3)"
            ]
          },
          "metadata": {},
          "execution_count": 48
        }
      ],
      "source": [
        "import numpy as np\n",
        "\n",
        "\n",
        "np.random.seed(123)\n",
        "\n",
        "y = np.zeros(1000)\n",
        "y[:500] = 1\n",
        "\n",
        "x1 = np.random.randn(1000)\n",
        "\n",
        "x2 = np.empty(1000)\n",
        "x2[:500] = np.random.randn(500)\n",
        "x2[500:] = np.random.randn(500)+4\n",
        "\n",
        "x3 = x2 \n",
        "\n",
        "X = np.vstack((x3, x2, x1)).swapaxes(1, 0)\n",
        "X.shape"
      ],
      "id": "cd3b1c7d-c775-4123-b5ba-d46f4fa24125"
    },
    {
      "cell_type": "code",
      "execution_count": 49,
      "metadata": {
        "id": "900bbe90-d37e-4fc5-b69d-5ff4559d1ac5"
      },
      "outputs": [],
      "source": [
        "from sklearn.model_selection import train_test_split\n",
        "\n",
        "\n",
        "X_train, X_test, y_train, y_test =\\\n",
        "    train_test_split(X, y, \n",
        "                     test_size=0.3, \n",
        "                     random_state=123, \n",
        "                     stratify=y)"
      ],
      "id": "900bbe90-d37e-4fc5-b69d-5ff4559d1ac5"
    },
    {
      "cell_type": "code",
      "execution_count": 50,
      "metadata": {
        "id": "5e9a89df-6aaa-4543-a900-137888df27ac",
        "outputId": "a39e1170-a771-4a2c-8ace-aa345cfe55f1",
        "colab": {
          "base_uri": "https://localhost:8080/"
        }
      },
      "outputs": [
        {
          "output_type": "stream",
          "name": "stdout",
          "text": [
            "Training accuracy: 99.71428571428571\n",
            "Test accuracy: 97.66666666666667\n"
          ]
        }
      ],
      "source": [
        "from sklearn.ensemble import RandomForestClassifier\n",
        "\n",
        "\n",
        "forest = RandomForestClassifier(n_estimators=10,\n",
        "                                random_state=123,\n",
        "                                max_features=2)\n",
        "\n",
        "forest.fit(X_train, y_train)\n",
        "\n",
        "print('Training accuracy:', np.mean(forest.predict(X_train) == y_train)*100)\n",
        "print('Test accuracy:', np.mean(forest.predict(X_test) == y_test)*100)"
      ],
      "id": "5e9a89df-6aaa-4543-a900-137888df27ac"
    },
    {
      "cell_type": "code",
      "execution_count": 51,
      "metadata": {
        "id": "1ac84e1e-80f7-4be0-8956-a3609e738b07",
        "outputId": "b1cd418a-8f23-49d0-be87-7900c843151e",
        "colab": {
          "base_uri": "https://localhost:8080/"
        }
      },
      "outputs": [
        {
          "output_type": "execute_result",
          "data": {
            "text/plain": [
              "(3, 3)"
            ]
          },
          "metadata": {},
          "execution_count": 51
        }
      ],
      "source": [
        "corr = np.corrcoef(X_train.T)\n",
        "corr.shape"
      ],
      "id": "1ac84e1e-80f7-4be0-8956-a3609e738b07"
    },
    {
      "cell_type": "code",
      "execution_count": 53,
      "metadata": {
        "id": "8c5238fc-2e47-47bf-919c-92c03215ab90"
      },
      "outputs": [],
      "source": [
        "from mlxtend.evaluate import feature_importance_permutation\n",
        "\n",
        "\n",
        "imp_vals, imp_all = feature_importance_permutation(\n",
        "    predict_method=forest.predict, \n",
        "    X=X_test,\n",
        "    y=y_test,\n",
        "    metric='accuracy',\n",
        "    num_rounds=50,\n",
        "    seed=123)"
      ],
      "id": "8c5238fc-2e47-47bf-919c-92c03215ab90"
    },
    {
      "cell_type": "code",
      "execution_count": 54,
      "metadata": {
        "id": "8ccda815-bbd7-46d6-91ee-f2d709d2b4a2",
        "outputId": "f4c195c3-2ab5-43ed-ffab-aad782d284a0",
        "colab": {
          "base_uri": "https://localhost:8080/",
          "height": 297
        }
      },
      "outputs": [
        {
          "output_type": "display_data",
          "data": {
            "text/plain": [
              "<Figure size 432x288 with 1 Axes>"
            ],
            "image/png": "[encoded data removed]"
          },
          "metadata": {
            "needs_background": "light"
          }
        }
      ],
      "source": [
        "std = np.std(imp_all, axis=1)\n",
        "indices = np.argsort(imp_vals)[::-1]\n",
        "\n",
        "plt.figure()\n",
        "plt.title(\"Random Forest feature importance via permutation importance\")\n",
        "plt.bar(range(X_train.shape[1]), imp_vals[indices], yerr=std[indices])\n",
        "\n",
        "plt.xticks(range(X_train.shape[1]), indices)\n",
        "plt.xlim([-1, X_train.shape[1]])\n",
        "plt.ylim([0, 0.6])\n",
        "\n",
        "plt.tight_layout()\n",
        "plt.savefig('6.pdf')\n",
        "plt.show()"
      ],
      "id": "8ccda815-bbd7-46d6-91ee-f2d709d2b4a2"
    },
    {
      "cell_type": "code",
      "execution_count": 55,
      "metadata": {
        "id": "14450fca-ec5f-4f79-a42d-dee92df21ba1",
        "outputId": "e7dfc632-0580-47c2-fbf8-60a92d852123",
        "colab": {
          "base_uri": "https://localhost:8080/",
          "height": 297
        }
      },
      "outputs": [
        {
          "output_type": "display_data",
          "data": {
            "text/plain": [
              "<Figure size 432x288 with 1 Axes>"
            ],
            "image/png": "[encoded data removed]"
          },
          "metadata": {
            "needs_background": "light"
          }
        }
      ],
      "source": [
        "X_train = X_train[:, 1:]\n",
        "X_test = X_test[:, 1:]\n",
        "\n",
        "forest = RandomForestClassifier(n_estimators=10,\n",
        "                                random_state=123,\n",
        "                                max_features=2)\n",
        "\n",
        "forest.fit(X_train, y_train)\n",
        "\n",
        "imp_vals, imp_all = feature_importance_permutation(\n",
        "    predict_method=forest.predict, \n",
        "    X=X_test,\n",
        "    y=y_test,\n",
        "    metric='accuracy',\n",
        "    num_rounds=50,\n",
        "    seed=123)\n",
        "\n",
        "std = np.std(imp_all, axis=1)\n",
        "indices = np.argsort(imp_vals)[::-1]\n",
        "\n",
        "plt.figure()\n",
        "plt.title(\"Random Forest feature importance via permutation importance\")\n",
        "plt.bar(range(X_train.shape[1]), imp_vals[indices], yerr=std[indices])\n",
        "\n",
        "plt.xticks(range(X_train.shape[1]), indices)\n",
        "plt.xlim([-1, X_train.shape[1]])\n",
        "plt.ylim([0, 0.6])\n",
        "\n",
        "plt.tight_layout()\n",
        "plt.savefig('7.pdf')\n",
        "plt.show()"
      ],
      "id": "14450fca-ec5f-4f79-a42d-dee92df21ba1"
    },
    {
      "cell_type": "markdown",
      "metadata": {
        "id": "KvHroVSLPNAX"
      },
      "source": [
        "# Sequential Feature Selection"
      ],
      "id": "KvHroVSLPNAX"
    },
    {
      "cell_type": "code",
      "execution_count": 56,
      "metadata": {
        "id": "DRAgOAOGPNAa"
      },
      "outputs": [],
      "source": [
        "%matplotlib inline\n",
        "import matplotlib.pyplot as plt"
      ],
      "id": "DRAgOAOGPNAa"
    },
    {
      "cell_type": "markdown",
      "metadata": {
        "id": "f9cd2c48-842d-41b2-abc3-b49ce8235339"
      },
      "source": [
        "## Dataset Preparation"
      ],
      "id": "f9cd2c48-842d-41b2-abc3-b49ce8235339"
    },
    {
      "cell_type": "code",
      "execution_count": 57,
      "metadata": {
        "id": "cdedede9-ee6a-470d-84ca-c95304c4bb02",
        "outputId": "7bb1e800-00fa-4f63-8347-681563ba242f",
        "colab": {
          "base_uri": "https://localhost:8080/",
          "height": 285
        }
      },
      "outputs": [
        {
          "output_type": "stream",
          "name": "stdout",
          "text": [
            "Class labels [1 2 3]\n"
          ]
        },
        {
          "output_type": "execute_result",
          "data": {
            "text/plain": [
              "   Class label  Alcohol  Malic acid   Ash  Alcalinity of ash  Magnesium  \\\n",
              "0            1    14.23        1.71  2.43               15.6        127   \n",
              "1            1    13.20        1.78  2.14               11.2        100   \n",
              "2            1    13.16        2.36  2.67               18.6        101   \n",
              "3            1    14.37        1.95  2.50               16.8        113   \n",
              "4            1    13.24        2.59  2.87               21.0        118   \n",
              "\n",
              "   Total phenols  Flavanoids  Nonflavanoid phenols  Proanthocyanins  \\\n",
              "0           2.80        3.06                  0.28             2.29   \n",
              "1           2.65        2.76                  0.26             1.28   \n",
              "2           2.80        3.24                  0.30             2.81   \n",
              "3           3.85        3.49                  0.24             2.18   \n",
              "4           2.80        2.69                  0.39             1.82   \n",
              "\n",
              "   Color intensity   Hue  OD280/OD315 of diluted wines  Proline  \n",
              "0             5.64  1.04                          3.92     1065  \n",
              "1             4.38  1.05                          3.40     1050  \n",
              "2             5.68  1.03                          3.17     1185  \n",
              "3             7.80  0.86                          3.45     1480  \n",
              "4             4.32  1.04                          2.93      735  "
            ],
            "text/html": [
              "\n",
              "  <div id=\"df-1f42c572-ef61-4f43-b434-ddb4711a6bf0\">\n",
              "    <div class=\"colab-df-container\">\n",
              "      <div>\n",
              "<style scoped>\n",
              "    .dataframe tbody tr th:only-of-type {\n",
              "        vertical-align: middle;\n",
              "    }\n",
              "\n",
              "    .dataframe tbody tr th {\n",
              "        vertical-align: top;\n",
              "    }\n",
              "\n",
              "    .dataframe thead th {\n",
              "        text-align: right;\n",
              "    }\n",
              "</style>\n",
              "<table border=\"1\" class=\"dataframe\">\n",
              "  <thead>\n",
              "    <tr style=\"text-align: right;\">\n",
              "      <th></th>\n",
              "      <th>Class label</th>\n",
              "      <th>Alcohol</th>\n",
              "      <th>Malic acid</th>\n",
              "      <th>Ash</th>\n",
              "      <th>Alcalinity of ash</th>\n",
              "      <th>Magnesium</th>\n",
              "      <th>Total phenols</th>\n",
              "      <th>Flavanoids</th>\n",
              "      <th>Nonflavanoid phenols</th>\n",
              "      <th>Proanthocyanins</th>\n",
              "      <th>Color intensity</th>\n",
              "      <th>Hue</th>\n",
              "      <th>OD280/OD315 of diluted wines</th>\n",
              "      <th>Proline</th>\n",
              "    </tr>\n",
              "  </thead>\n",
              "  <tbody>\n",
              "    <tr>\n",
              "      <th>0</th>\n",
              "      <td>1</td>\n",
              "      <td>14.23</td>\n",
              "      <td>1.71</td>\n",
              "      <td>2.43</td>\n",
              "      <td>15.6</td>\n",
              "      <td>127</td>\n",
              "      <td>2.80</td>\n",
              "      <td>3.06</td>\n",
              "      <td>0.28</td>\n",
              "      <td>2.29</td>\n",
              "      <td>5.64</td>\n",
              "      <td>1.04</td>\n",
              "      <td>3.92</td>\n",
              "      <td>1065</td>\n",
              "    </tr>\n",
              "    <tr>\n",
              "      <th>1</th>\n",
              "      <td>1</td>\n",
              "      <td>13.20</td>\n",
              "      <td>1.78</td>\n",
              "      <td>2.14</td>\n",
              "      <td>11.2</td>\n",
              "      <td>100</td>\n",
              "      <td>2.65</td>\n",
              "      <td>2.76</td>\n",
              "      <td>0.26</td>\n",
              "      <td>1.28</td>\n",
              "      <td>4.38</td>\n",
              "      <td>1.05</td>\n",
              "      <td>3.40</td>\n",
              "      <td>1050</td>\n",
              "    </tr>\n",
              "    <tr>\n",
              "      <th>2</th>\n",
              "      <td>1</td>\n",
              "      <td>13.16</td>\n",
              "      <td>2.36</td>\n",
              "      <td>2.67</td>\n",
              "      <td>18.6</td>\n",
              "      <td>101</td>\n",
              "      <td>2.80</td>\n",
              "      <td>3.24</td>\n",
              "      <td>0.30</td>\n",
              "      <td>2.81</td>\n",
              "      <td>5.68</td>\n",
              "      <td>1.03</td>\n",
              "      <td>3.17</td>\n",
              "      <td>1185</td>\n",
              "    </tr>\n",
              "    <tr>\n",
              "      <th>3</th>\n",
              "      <td>1</td>\n",
              "      <td>14.37</td>\n",
              "      <td>1.95</td>\n",
              "      <td>2.50</td>\n",
              "      <td>16.8</td>\n",
              "      <td>113</td>\n",
              "      <td>3.85</td>\n",
              "      <td>3.49</td>\n",
              "      <td>0.24</td>\n",
              "      <td>2.18</td>\n",
              "      <td>7.80</td>\n",
              "      <td>0.86</td>\n",
              "      <td>3.45</td>\n",
              "      <td>1480</td>\n",
              "    </tr>\n",
              "    <tr>\n",
              "      <th>4</th>\n",
              "      <td>1</td>\n",
              "      <td>13.24</td>\n",
              "      <td>2.59</td>\n",
              "      <td>2.87</td>\n",
              "      <td>21.0</td>\n",
              "      <td>118</td>\n",
              "      <td>2.80</td>\n",
              "      <td>2.69</td>\n",
              "      <td>0.39</td>\n",
              "      <td>1.82</td>\n",
              "      <td>4.32</td>\n",
              "      <td>1.04</td>\n",
              "      <td>2.93</td>\n",
              "      <td>735</td>\n",
              "    </tr>\n",
              "  </tbody>\n",
              "</table>\n",
              "</div>\n",
              "      <button class=\"colab-df-convert\" onclick=\"convertToInteractive('df-1f42c572-ef61-4f43-b434-ddb4711a6bf0')\"\n",
              "              title=\"Convert this dataframe to an interactive table.\"\n",
              "              style=\"display:none;\">\n",
              "        \n",
              "  <svg xmlns=\"http://www.w3.org/2000/svg\" height=\"24px\"viewBox=\"0 0 24 24\"\n",
              "       width=\"24px\">\n",
              "    <path d=\"M0 0h24v24H0V0z\" fill=\"none\"/>\n",
              "    <path d=\"M18.56 5.44l.94 2.06.94-2.06 2.06-.94-2.06-.94-.94-2.06-.94 2.06-2.06.94zm-11 1L8.5 8.5l.94-2.06 2.06-.94-2.06-.94L8.5 2.5l-.94 2.06-2.06.94zm10 10l.94 2.06.94-2.06 2.06-.94-2.06-.94-.94-2.06-.94 2.06-2.06.94z\"/><path d=\"M17.41 7.96l-1.37-1.37c-.4-.4-.92-.59-1.43-.59-.52 0-1.04.2-1.43.59L10.3 9.45l-7.72 7.72c-.78.78-.78 2.05 0 2.83L4 21.41c.39.39.9.59 1.41.59.51 0 1.02-.2 1.41-.59l7.78-7.78 2.81-2.81c.8-.78.8-2.07 0-2.86zM5.41 20L4 18.59l7.72-7.72 1.47 1.35L5.41 20z\"/>\n",
              "  </svg>\n",
              "      </button>\n",
              "      \n",
              "  <style>\n",
              "    .colab-df-container {\n",
              "      display:flex;\n",
              "      flex-wrap:wrap;\n",
              "      gap: 12px;\n",
              "    }\n",
              "\n",
              "    .colab-df-convert {\n",
              "      background-color: #E8F0FE;\n",
              "      border: none;\n",
              "      border-radius: 50%;\n",
              "      cursor: pointer;\n",
              "      display: none;\n",
              "      fill: #1967D2;\n",
              "      height: 32px;\n",
              "      padding: 0 0 0 0;\n",
              "      width: 32px;\n",
              "    }\n",
              "\n",
              "    .colab-df-convert:hover {\n",
              "      background-color: #E2EBFA;\n",
              "      box-shadow: 0px 1px 2px rgba(60, 64, 67, 0.3), 0px 1px 3px 1px rgba(60, 64, 67, 0.15);\n",
              "      fill: #174EA6;\n",
              "    }\n",
              "\n",
              "    [theme=dark] .colab-df-convert {\n",
              "      background-color: #3B4455;\n",
              "      fill: #D2E3FC;\n",
              "    }\n",
              "\n",
              "    [theme=dark] .colab-df-convert:hover {\n",
              "      background-color: #434B5C;\n",
              "      box-shadow: 0px 1px 3px 1px rgba(0, 0, 0, 0.15);\n",
              "      filter: drop-shadow(0px 1px 2px rgba(0, 0, 0, 0.3));\n",
              "      fill: #FFFFFF;\n",
              "    }\n",
              "  </style>\n",
              "\n",
              "      <script>\n",
              "        const buttonEl =\n",
              "          document.querySelector('#df-1f42c572-ef61-4f43-b434-ddb4711a6bf0 button.colab-df-convert');\n",
              "        buttonEl.style.display =\n",
              "          google.colab.kernel.accessAllowed ? 'block' : 'none';\n",
              "\n",
              "        async function convertToInteractive(key) {\n",
              "          const element = document.querySelector('#df-1f42c572-ef61-4f43-b434-ddb4711a6bf0');\n",
              "          const dataTable =\n",
              "            await google.colab.kernel.invokeFunction('convertToInteractive',\n",
              "                                                     [key], {});\n",
              "          if (!dataTable) return;\n",
              "\n",
              "          const docLinkHtml = 'Like what you see? Visit the ' +\n",
              "            '<a target=\"_blank\" href=https://colab.research.google.com/notebooks/data_table.ipynb>data table notebook</a>'\n",
              "            + ' to learn more about interactive tables.';\n",
              "          element.innerHTML = '';\n",
              "          dataTable['output_type'] = 'display_data';\n",
              "          await google.colab.output.renderOutput(dataTable, element);\n",
              "          const docLink = document.createElement('div');\n",
              "          docLink.innerHTML = docLinkHtml;\n",
              "          element.appendChild(docLink);\n",
              "        }\n",
              "      </script>\n",
              "    </div>\n",
              "  </div>\n",
              "  "
            ]
          },
          "metadata": {},
          "execution_count": 57
        }
      ],
      "source": [
        "import pandas as pd\n",
        "import numpy as np\n",
        "\n",
        "\n",
        "df_wine = pd.read_csv('https://archive.ics.uci.edu/'\n",
        "                      'ml/machine-learning-databases/wine/wine.data',\n",
        "                      header=None)\n",
        "\n",
        "\n",
        "df_wine.columns = ['Class label', 'Alcohol', 'Malic acid', 'Ash',\n",
        "                   'Alcalinity of ash', 'Magnesium', 'Total phenols',\n",
        "                   'Flavanoids', 'Nonflavanoid phenols', 'Proanthocyanins',\n",
        "                   'Color intensity', 'Hue', 'OD280/OD315 of diluted wines',\n",
        "                   'Proline']\n",
        "\n",
        "print('Class labels', np.unique(df_wine['Class label']))\n",
        "df_wine.head()"
      ],
      "id": "cdedede9-ee6a-470d-84ca-c95304c4bb02"
    },
    {
      "cell_type": "code",
      "execution_count": 58,
      "metadata": {
        "id": "4ed8ab7c-6257-4a72-ac35-283ad9988949"
      },
      "outputs": [],
      "source": [
        "from sklearn.model_selection import train_test_split\n",
        "from sklearn.preprocessing import StandardScaler\n",
        "\n",
        "\n",
        "X, y = df_wine.iloc[:, 1:].values, df_wine.iloc[:, 0].values\n",
        "\n",
        "X_train, X_test, y_train, y_test =\\\n",
        "    train_test_split(X, y, \n",
        "                     test_size=0.2, \n",
        "                     random_state=123, \n",
        "                     stratify=y)\n",
        "\n",
        "sc = StandardScaler()\n",
        "X_train_std = sc.fit_transform(X_train)\n",
        "X_test_std = sc.transform(X_test)"
      ],
      "id": "4ed8ab7c-6257-4a72-ac35-283ad9988949"
    },
    {
      "cell_type": "code",
      "execution_count": 59,
      "metadata": {
        "id": "77352ec1-c680-4a5c-beb6-c24fe3f9ce1b",
        "outputId": "73c2d1fd-8427-4760-883e-ce305b550084",
        "colab": {
          "base_uri": "https://localhost:8080/"
        }
      },
      "outputs": [
        {
          "output_type": "stream",
          "name": "stdout",
          "text": [
            "Training accuracy: 98.59154929577466\n",
            "Test accuracy: 94.44444444444444\n"
          ]
        }
      ],
      "source": [
        "from sklearn.neighbors import KNeighborsClassifier\n",
        "\n",
        "\n",
        "model = KNeighborsClassifier(n_neighbors=5)\n",
        "\n",
        "model.fit(X_train_std, y_train)\n",
        "\n",
        "print('Training accuracy:', np.mean(model.predict(X_train_std) == y_train)*100)\n",
        "print('Test accuracy:', np.mean(model.predict(X_test_std) == y_test)*100)"
      ],
      "id": "77352ec1-c680-4a5c-beb6-c24fe3f9ce1b"
    },
    {
      "cell_type": "markdown",
      "metadata": {
        "id": "adcb2a0e-d9e6-4d65-ba45-066fd3e64602"
      },
      "source": [
        "## Sequential Feature Selection in Scikit-learn"
      ],
      "id": "adcb2a0e-d9e6-4d65-ba45-066fd3e64602"
    },
    {
      "cell_type": "markdown",
      "metadata": {
        "id": "9b6c625a-619c-48d5-9d4a-c5a4c4352ecf"
      },
      "source": [
        "- Simpler interface without that many bells and whistles\n",
        "- Use this if you are interested in a specific feature size and don't want to use floating variants"
      ],
      "id": "9b6c625a-619c-48d5-9d4a-c5a4c4352ecf"
    },
    {
      "cell_type": "code",
      "execution_count": 62,
      "metadata": {
        "id": "e00f6425-98b4-4eaf-bd6d-9e815e3023f4"
      },
      "outputs": [],
      "source": [
        "from sklearn.feature_selection import SequentialFeatureSelector as SFS\n",
        "\n",
        "\n",
        "sfs2 = SFS(model,\n",
        "           n_features_to_select=5,\n",
        "           direction='forward',\n",
        "           scoring='accuracy',\n",
        "           n_jobs=-1,\n",
        "           cv=5)\n",
        "\n",
        "sfs2 = sfs2.fit(X_train_std, y_train)"
      ],
      "id": "e00f6425-98b4-4eaf-bd6d-9e815e3023f4"
    },
    {
      "cell_type": "code",
      "execution_count": 63,
      "metadata": {
        "id": "a3570539-b97e-4ed0-aa58-b39aed075598",
        "outputId": "79c73bb6-854b-4b73-a660-ba95cdeb895f",
        "colab": {
          "base_uri": "https://localhost:8080/"
        }
      },
      "outputs": [
        {
          "output_type": "execute_result",
          "data": {
            "text/plain": [
              "array([ 0,  6,  9, 10, 12])"
            ]
          },
          "metadata": {},
          "execution_count": 63
        }
      ],
      "source": [
        "np.arange(X.shape[1])[sfs2.support_]"
      ],
      "id": "a3570539-b97e-4ed0-aa58-b39aed075598"
    },
    {
      "cell_type": "code",
      "execution_count": null,
      "metadata": {
        "id": "0b042591-2b49-4650-8919-23b13a72528c"
      },
      "outputs": [],
      "source": [],
      "id": "0b042591-2b49-4650-8919-23b13a72528c"
    },
    {
      "cell_type": "code",
      "execution_count": null,
      "metadata": {
        "id": "141e21d7-6f7a-4133-95c9-e0128e6c8251"
      },
      "outputs": [],
      "source": [],
      "id": "141e21d7-6f7a-4133-95c9-e0128e6c8251"
    }
  ],
  "metadata": {
    "kernelspec": {
      "display_name": "Python 3 (ipykernel)",
      "language": "python",
      "name": "python3"
    },
    "language_info": {
      "codemirror_mode": {
        "name": "ipython",
        "version": 3
      },
      "file_extension": ".py",
      "mimetype": "text/x-python",
      "name": "python",
      "nbconvert_exporter": "python",
      "pygments_lexer": "ipython3",
      "version": "3.9.6"
    },
    "colab": {
      "provenance": []
    }
  },
  "nbformat": 4,
  "nbformat_minor": 5
}