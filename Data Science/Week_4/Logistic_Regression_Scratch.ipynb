{
  "nbformat": 4,
  "nbformat_minor": 0,
  "metadata": {
    "colab": {
      "provenance": []
    },
    "kernelspec": {
      "name": "python3",
      "display_name": "Python 3"
    },
    "language_info": {
      "name": "python"
    }
  },
  "cells": [
    {
      "cell_type": "code",
      "execution_count": null,
      "metadata": {
        "id": "K9E57oWIhUNj"
      },
      "outputs": [],
      "source": [
        "import pandas as pd\n",
        "from sklearn.model_selection import train_test_split\n",
        "from sklearn.datasets import load_breast_cancer\n",
        "import copy\n",
        "import numpy as np\n",
        "from sklearn.metrics import accuracy_score"
      ]
    },
    {
      "cell_type": "code",
      "source": [
        "def sklearn_to_df(data_loader):\n",
        "    X_data = data_loader.data\n",
        "    X_columns = data_loader.feature_names\n",
        "    x = pd.DataFrame(X_data, columns=X_columns)\n",
        "    y_data = data_loader.target\n",
        "    y = pd.Series(y_data, name='target')\n",
        "    return x, y"
      ],
      "metadata": {
        "id": "l_WNJU54hYVC"
      },
      "execution_count": null,
      "outputs": []
    },
    {
      "cell_type": "code",
      "source": [
        "x, y = sklearn_to_df(load_breast_cancer())\n",
        "\n",
        "x_train, x_test, y_train, y_test = train_test_split(x, y, test_size=0.2, random_state=42)"
      ],
      "metadata": {
        "id": "SA2vbfRChbsZ"
      },
      "execution_count": null,
      "outputs": []
    },
    {
      "cell_type": "code",
      "source": [
        "class LogReg():\n",
        "    def __init__(self):\n",
        "        self.losses = []\n",
        "        self.train_accuracies = []\n",
        "\n",
        "    def compute_loss(self, y_true, y_pred):\n",
        "        # binary cross entropy\n",
        "        y_zero_loss = y_true * np.log(y_pred + 1e-9)\n",
        "        y_one_loss = (1-y_true) * np.log(1 - y_pred + 1e-9)\n",
        "        return -np.mean(y_zero_loss + y_one_loss)\n",
        "\n",
        "    def compute_gradients(self, x, y_true, y_pred):\n",
        "        # derivative of binary cross entropy\n",
        "        difference =  y_pred - y_true\n",
        "        gradient_b = np.mean(difference)\n",
        "        gradients_w = np.matmul(x.transpose(), difference)\n",
        "        gradients_w = np.array([np.mean(grad) for grad in gradients_w])\n",
        "\n",
        "        return gradients_w, gradient_b\n",
        "\n",
        "    def update_model_parameters(self, error_w, error_b):\n",
        "        self.weights = self.weights - 0.1 * error_w\n",
        "        self.bias = self.bias - 0.1 * error_b\n",
        "\n",
        "    def predict(self, x):\n",
        "        x_dot_weights = np.matmul(x, self.weights.transpose()) + self.bias\n",
        "        probabilities = self._sigmoid(x_dot_weights)\n",
        "        return [1 if p > 0.5 else 0 for p in probabilities]\n",
        "\n",
        "    def _sigmoid(self, x):\n",
        "        return np.array([self._sigmoid_function(value) for value in x])\n",
        "\n",
        "    def _sigmoid_function(self, x):\n",
        "        if x >= 0:\n",
        "            z = np.exp(-x)\n",
        "            return 1 / (1 + z)\n",
        "        else:\n",
        "            z = np.exp(x)\n",
        "            return z / (1 + z)\n",
        "\n",
        "    def _transform_x(self, x):\n",
        "        x = copy.deepcopy(x)\n",
        "        return x.values\n",
        "\n",
        "    def _transform_y(self, y):\n",
        "        y = copy.deepcopy(y)\n",
        "        return y.values.reshape(y.shape[0], 1)\n",
        "\n",
        "    def fit(self, x, y, epochs):\n",
        "        x = self._transform_x(x)\n",
        "        y = self._transform_y(y)\n",
        "\n",
        "        self.weights = np.zeros(x.shape[1])\n",
        "        self.bias = 0\n",
        "\n",
        "        for i in range(epochs):\n",
        "            x_dot_weights = np.matmul(self.weights, x.transpose()) + self.bias\n",
        "            pred = self._sigmoid(x_dot_weights)\n",
        "            loss = self.compute_loss(y, pred)\n",
        "            error_w, error_b = self.compute_gradients(x, y, pred)\n",
        "            self.update_model_parameters(error_w, error_b)\n",
        "\n",
        "            pred_to_class = [1 if p > 0.5 else 0 for p in pred]\n",
        "            self.train_accuracies.append(accuracy_score(y, pred_to_class))\n",
        "            self.losses.append(loss)\n",
        "\n"
      ],
      "metadata": {
        "id": "1IgT5KK3hgFp"
      },
      "execution_count": null,
      "outputs": []
    },
    {
      "cell_type": "code",
      "source": [
        "lr = LogReg()\n",
        "lr.fit(x_train, y_train, epochs=150)\n",
        "pred = lr.predict(x_test)\n",
        "accuracy = accuracy_score(y_test, pred)\n",
        "print(accuracy)"
      ],
      "metadata": {
        "colab": {
          "base_uri": "https://localhost:8080/"
        },
        "id": "wiaZGdUpib_O",
        "outputId": "9a7d8d87-5bee-4328-df13-5755bc28ebc8"
      },
      "execution_count": null,
      "outputs": [
        {
          "output_type": "stream",
          "name": "stdout",
          "text": [
            "0.9298245614035088\n"
          ]
        }
      ]
    },
    {
      "cell_type": "code",
      "source": [
        "from sklearn.metrics import accuracy_score\n",
        "from sklearn.linear_model import LogisticRegression\n",
        "\n",
        "model = LogisticRegression(solver='newton-cg', max_iter=150)\n",
        "model.fit(x_train, y_train)\n",
        "pred2 = model.predict(x_test)\n",
        "accuracy2 = accuracy_score(y_test, pred2)\n",
        "print(accuracy2)"
      ],
      "metadata": {
        "colab": {
          "base_uri": "https://localhost:8080/"
        },
        "id": "qlLVGnOGiWe7",
        "outputId": "9744dc0d-7c40-4e4a-e208-93f57f92a1e8"
      },
      "execution_count": null,
      "outputs": [
        {
          "output_type": "stream",
          "name": "stdout",
          "text": [
            "0.956140350877193\n"
          ]
        }
      ]
    }
  ]
}