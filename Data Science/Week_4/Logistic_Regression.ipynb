{
  "nbformat": 4,
  "nbformat_minor": 0,
  "metadata": {
    "colab": {
      "provenance": []
    },
    "kernelspec": {
      "name": "python3",
      "display_name": "Python 3"
    },
    "language_info": {
      "name": "python"
    }
  },
  "cells": [
    {
      "cell_type": "markdown",
      "source": [
        "Predicting if a tumor is malignant or benign"
      ],
      "metadata": {
        "id": "PjnB6oOcw7eq"
      }
    },
    {
      "cell_type": "code",
      "source": [
        "import numpy as np"
      ],
      "metadata": {
        "id": "3zUaG8fDw_OY"
      },
      "execution_count": null,
      "outputs": []
    },
    {
      "cell_type": "code",
      "source": [
        "#X represents the size of a tumor in centimeters.\n",
        "X = np.array([3.78, 2.44, 2.09, 0.14, 1.72, 1.65, 4.92, 4.37, 4.96, 4.52, 3.69, 5.88]).reshape(-1,1)\n",
        "\n",
        "#Note: X has to be reshaped into a column from a row for the LogisticRegression() function to work.\n",
        "#y represents whether or not the tumor is cancerous (0 for \"No\", 1 for \"Yes\").\n",
        "y = np.array([0, 0, 0, 0, 0, 0, 1, 1, 1, 1, 1, 1])"
      ],
      "metadata": {
        "id": "pS1VjP4Bwu11"
      },
      "execution_count": null,
      "outputs": []
    },
    {
      "cell_type": "code",
      "source": [
        "from sklearn import linear_model"
      ],
      "metadata": {
        "id": "9ZSEragxxIgf"
      },
      "execution_count": null,
      "outputs": []
    },
    {
      "cell_type": "code",
      "source": [
        "logr = linear_model.LogisticRegression()\n",
        "logr.fit(X,y)"
      ],
      "metadata": {
        "id": "BifOfKLJxLLN",
        "colab": {
          "base_uri": "https://localhost:8080/"
        },
        "outputId": "5a67a730-6209-4a26-e1c7-75cee8ca54b6"
      },
      "execution_count": null,
      "outputs": [
        {
          "output_type": "execute_result",
          "data": {
            "text/plain": [
              "LogisticRegression()"
            ]
          },
          "metadata": {},
          "execution_count": 4
        }
      ]
    },
    {
      "cell_type": "code",
      "source": [
        "#predict if tumor is cancerous where the size is 3.46mm:\n",
        "predicted = logr.predict(np.array([3.46]).reshape(-1,1))\n",
        "print(predicted)"
      ],
      "metadata": {
        "id": "-L3a5yDjxPDp",
        "colab": {
          "base_uri": "https://localhost:8080/"
        },
        "outputId": "de859498-e924-4476-97b7-462d70558cbb"
      },
      "execution_count": null,
      "outputs": [
        {
          "output_type": "stream",
          "name": "stdout",
          "text": [
            "[0]\n"
          ]
        }
      ]
    },
    {
      "cell_type": "markdown",
      "source": [
        "Perform logistic regression by importing scikit learn breast cancer dataset"
      ],
      "metadata": {
        "id": "SJueMyDNxREq"
      }
    },
    {
      "cell_type": "code",
      "execution_count": null,
      "metadata": {
        "id": "K9E57oWIhUNj"
      },
      "outputs": [],
      "source": [
        "import pandas as pd\n",
        "from sklearn.model_selection import train_test_split\n",
        "from sklearn.datasets import load_breast_cancer\n",
        "import copy\n",
        "import numpy as np\n",
        "from sklearn.metrics import accuracy_score"
      ]
    },
    {
      "cell_type": "code",
      "source": [
        "def sklearn_to_df(data_loader):\n",
        "    X_data = data_loader.data\n",
        "    X_columns = data_loader.feature_names\n",
        "    x = pd.DataFrame(X_data, columns=X_columns)\n",
        "    y_data = data_loader.target\n",
        "    y = pd.Series(y_data, name='target')\n",
        "    return x, y"
      ],
      "metadata": {
        "id": "l_WNJU54hYVC"
      },
      "execution_count": null,
      "outputs": []
    },
    {
      "cell_type": "code",
      "source": [
        "x, y = sklearn_to_df(load_breast_cancer())\n",
        "\n",
        "x_train, x_test, y_train, y_test = train_test_split(x, y, test_size=0.2, random_state=42)"
      ],
      "metadata": {
        "id": "SA2vbfRChbsZ"
      },
      "execution_count": null,
      "outputs": []
    },
    {
      "cell_type": "code",
      "source": [
        "from sklearn.metrics import accuracy_score\n",
        "from sklearn.linear_model import LogisticRegression\n",
        "\n",
        "model = LogisticRegression(solver='newton-cg', max_iter=150)\n",
        "model.fit(x_train, y_train)\n",
        "pred2 = model.predict(x_test)\n",
        "accuracy2 = accuracy_score(y_test, pred2)\n",
        "print(accuracy2)"
      ],
      "metadata": {
        "colab": {
          "base_uri": "https://localhost:8080/"
        },
        "id": "qlLVGnOGiWe7",
        "outputId": "c228702f-ef94-4c2f-9251-1ab57cf8c7d5"
      },
      "execution_count": null,
      "outputs": [
        {
          "output_type": "stream",
          "name": "stdout",
          "text": [
            "0.956140350877193\n"
          ]
        }
      ]
    }
  ]
}