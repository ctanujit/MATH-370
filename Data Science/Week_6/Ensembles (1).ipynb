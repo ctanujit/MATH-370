{
  "cells": [
    {
      "cell_type": "markdown",
      "metadata": {
        "id": "lD2en8doFRgN"
      },
      "source": [
        "# Gradient Boosting"
      ]
    },
    {
      "cell_type": "code",
      "execution_count": null,
      "metadata": {
        "colab": {
          "base_uri": "https://localhost:8080/"
        },
        "id": "KvxPJTJdFRgN",
        "outputId": "3470a925-f306-4852-b0ae-a9875cd45bca"
      },
      "outputs": [
        {
          "output_type": "stream",
          "name": "stdout",
          "text": [
            "Train/Valid/Test sizes: 318 80 171\n"
          ]
        }
      ],
      "source": [
        "from sklearn import model_selection\n",
        "from sklearn.model_selection import train_test_split\n",
        "from sklearn import datasets\n",
        "\n",
        "\n",
        "data = datasets.load_breast_cancer()\n",
        "X, y = data.data, data.target\n",
        "\n",
        "X_temp, X_test, y_temp, y_test = \\\n",
        "    train_test_split(X, y, test_size=0.3, random_state=123, stratify=y)\n",
        "\n",
        "X_train, X_valid, y_train, y_valid = \\\n",
        "    train_test_split(X_temp, y_temp, test_size=0.2, random_state=123, stratify=y_temp)\n",
        "\n",
        "print('Train/Valid/Test sizes:', y_train.shape[0], y_valid.shape[0], y_test.shape[0])"
      ]
    },
    {
      "cell_type": "markdown",
      "metadata": {
        "id": "72I6boCaFRgN"
      },
      "source": [
        "## Original gradient boosting"
      ]
    },
    {
      "cell_type": "code",
      "execution_count": null,
      "metadata": {
        "colab": {
          "base_uri": "https://localhost:8080/"
        },
        "id": "nLJzYpeXFRgO",
        "outputId": "f93b69c2-e3d7-48ad-f9c1-de38f69c30bf"
      },
      "outputs": [
        {
          "output_type": "stream",
          "name": "stdout",
          "text": [
            "Training Accuracy: 1.00\n",
            "Validation Accuracy: 0.90\n",
            "Test Accuracy: 0.92\n"
          ]
        }
      ],
      "source": [
        "from sklearn.ensemble import GradientBoostingClassifier\n",
        "\n",
        "\n",
        "boost = GradientBoostingClassifier(\n",
        "    learning_rate=0.1,\n",
        "    n_estimators=100,\n",
        "    max_depth=8,\n",
        "    random_state=1)\n",
        "\n",
        "boost.fit(X_train, y_train)\n",
        "    \n",
        "    \n",
        "print(\"Training Accuracy: %0.2f\" % boost.score(X_train, y_train))\n",
        "print(\"Validation Accuracy: %0.2f\" % boost.score(X_valid, y_valid))\n",
        "print(\"Test Accuracy: %0.2f\" % boost.score(X_test, y_test))"
      ]
    },
    {
      "cell_type": "markdown",
      "metadata": {
        "id": "1KXGYIJqFRgO"
      },
      "source": [
        "## HistGradientBoostingClassifier (inspired by LightGBM)"
      ]
    },
    {
      "cell_type": "code",
      "execution_count": null,
      "metadata": {
        "colab": {
          "base_uri": "https://localhost:8080/"
        },
        "id": "A86bYgIkFRgO",
        "outputId": "1b7a057f-791b-4346-bf04-796f3b01228d"
      },
      "outputs": [
        {
          "output_type": "stream",
          "name": "stdout",
          "text": [
            "Training Accuracy: 1.00\n",
            "Validation Accuracy: 0.96\n",
            "Test Accuracy: 0.97\n"
          ]
        }
      ],
      "source": [
        "#from sklearn.experimental import enable_hist_gradient_boosting\n",
        "from sklearn.ensemble import HistGradientBoostingClassifier\n",
        "\n",
        "boost = HistGradientBoostingClassifier(\n",
        "    learning_rate=0.1,\n",
        "    #n_estimators=100,\n",
        "    #max_depth=8,\n",
        "    random_state=1)\n",
        "\n",
        "boost.fit(X_train, y_train)\n",
        "    \n",
        "print(\"Training Accuracy: %0.2f\" % boost.score(X_train, y_train))\n",
        "print(\"Validation Accuracy: %0.2f\" % boost.score(X_valid, y_valid))\n",
        "print(\"Test Accuracy: %0.2f\" % boost.score(X_test, y_test))"
      ]
    },
    {
      "cell_type": "markdown",
      "metadata": {
        "id": "9TcLR88oFRgP"
      },
      "source": [
        "```\n",
        "import numpy as np\n",
        "import xgboost as xgb\n",
        "\n",
        "\n",
        "dtrain = xgb.DMatrix(X_train, label=y_train)\n",
        "dtest = xgb.DMatrix(X_test, label=y_test)\n",
        "\n",
        "\n",
        "param = {\n",
        "    'max_depth': 8,\n",
        "    'eta': 0.1,  # learning rate\n",
        "    'objective': 'multi:softprob',  # loss function for multiclass\n",
        "    'num_class': 3}  # number of classes\n",
        "\n",
        "boost = xgb.train(param, dtrain, num_boost_round=100)\n",
        "\n",
        "y_pred = boost.predict(dtest)\n",
        "y_labels = np.argmax(y_pred, axis=1)\n",
        "\n",
        "\n",
        "print(\"Test Accuracy: %0.2f\" % (y_labels == y_test).mean())\n",
        "```"
      ]
    },
    {
      "cell_type": "markdown",
      "metadata": {
        "id": "EH34Ht2aFRgP"
      },
      "source": [
        "## XGBoost"
      ]
    },
    {
      "cell_type": "code",
      "execution_count": null,
      "metadata": {
        "id": "CXMw9JrqFRgQ"
      },
      "outputs": [],
      "source": [
        "# https://xgboost.readthedocs.io/en/latest/build.html"
      ]
    },
    {
      "cell_type": "code",
      "execution_count": null,
      "metadata": {
        "id": "VE9yOFmiFRgQ"
      },
      "outputs": [],
      "source": [
        "#!pip install xgboost"
      ]
    },
    {
      "cell_type": "code",
      "execution_count": null,
      "metadata": {
        "colab": {
          "base_uri": "https://localhost:8080/"
        },
        "id": "PjKKUr5uFRgQ",
        "outputId": "25c820b0-b069-4cb4-a986-01eee879c0b2"
      },
      "outputs": [
        {
          "output_type": "stream",
          "name": "stdout",
          "text": [
            "Training Accuracy: 1.00\n",
            "Validation Accuracy: 0.95\n",
            "Test Accuracy: 0.98\n"
          ]
        }
      ],
      "source": [
        "import numpy as np\n",
        "import xgboost as xgb\n",
        "\n",
        "\n",
        "boost = xgb.XGBClassifier()\n",
        "\n",
        "boost.fit(X_train, y_train)\n",
        "    \n",
        "print(\"Training Accuracy: %0.2f\" % boost.score(X_train, y_train))\n",
        "print(\"Validation Accuracy: %0.2f\" % boost.score(X_valid, y_valid))\n",
        "print(\"Test Accuracy: %0.2f\" % boost.score(X_test, y_test))"
      ]
    },
    {
      "cell_type": "markdown",
      "metadata": {
        "id": "d0EZsrORFRgQ"
      },
      "source": [
        "## LightGBM"
      ]
    },
    {
      "cell_type": "code",
      "execution_count": null,
      "metadata": {
        "id": "WYVHQ5uRFRgQ"
      },
      "outputs": [],
      "source": [
        "# https://lightgbm.readthedocs.io/en/latest/Installation-Guide.html\n",
        "# conda install -c conda-forge lightgbm"
      ]
    },
    {
      "cell_type": "code",
      "execution_count": null,
      "metadata": {
        "colab": {
          "base_uri": "https://localhost:8080/"
        },
        "id": "wlTkg9PhFRgR",
        "outputId": "6683757d-9d92-4852-8ceb-eb24e0d87a44"
      },
      "outputs": [
        {
          "output_type": "stream",
          "name": "stdout",
          "text": [
            "Training Accuracy: 1.00\n",
            "Validation Accuracy: 0.97\n",
            "Test Accuracy: 0.97\n"
          ]
        }
      ],
      "source": [
        "import lightgbm as lgb\n",
        "\n",
        "\n",
        "boost = lgb.LGBMClassifier()\n",
        "\n",
        "boost.fit(X_train, y_train)\n",
        "\n",
        "\n",
        "print(\"Training Accuracy: %0.2f\" % boost.score(X_train, y_train))\n",
        "print(\"Validation Accuracy: %0.2f\" % boost.score(X_valid, y_valid))\n",
        "print(\"Test Accuracy: %0.2f\" % boost.score(X_test, y_test))"
      ]
    },
    {
      "cell_type": "markdown",
      "metadata": {
        "id": "hExo-ualFRgR"
      },
      "source": [
        "## CatBoost"
      ]
    },
    {
      "cell_type": "code",
      "execution_count": null,
      "metadata": {
        "id": "f9a-8TEfFRgR"
      },
      "outputs": [],
      "source": [
        "# https://catboost.ai\n",
        "# conda install -c conda-forge catboost"
      ]
    },
    {
      "cell_type": "code",
      "source": [
        "!pip install catboost"
      ],
      "metadata": {
        "colab": {
          "base_uri": "https://localhost:8080/"
        },
        "id": "pdT9VFvDUbEF",
        "outputId": "35a0719e-e960-4440-b710-93012d86bfaf"
      },
      "execution_count": null,
      "outputs": [
        {
          "output_type": "stream",
          "name": "stdout",
          "text": [
            "Looking in indexes: https://pypi.org/simple, https://us-python.pkg.dev/colab-wheels/public/simple/\n",
            "Collecting catboost\n",
            "  Downloading catboost-1.1.1-cp38-none-manylinux1_x86_64.whl (76.6 MB)\n",
            "\u001b[2K     \u001b[90m━━━━━━━━━━━━━━━━━━━━━━━━━━━━━━━━━━━━━━━━\u001b[0m \u001b[32m76.6/76.6 MB\u001b[0m \u001b[31m13.7 MB/s\u001b[0m eta \u001b[36m0:00:00\u001b[0m\n",
            "\u001b[?25hRequirement already satisfied: graphviz in /usr/local/lib/python3.8/dist-packages (from catboost) (0.10.1)\n",
            "Requirement already satisfied: scipy in /usr/local/lib/python3.8/dist-packages (from catboost) (1.7.3)\n",
            "Requirement already satisfied: pandas>=0.24.0 in /usr/local/lib/python3.8/dist-packages (from catboost) (1.3.5)\n",
            "Requirement already satisfied: plotly in /usr/local/lib/python3.8/dist-packages (from catboost) (5.5.0)\n",
            "Requirement already satisfied: six in /usr/local/lib/python3.8/dist-packages (from catboost) (1.15.0)\n",
            "Requirement already satisfied: matplotlib in /usr/local/lib/python3.8/dist-packages (from catboost) (3.2.2)\n",
            "Requirement already satisfied: numpy>=1.16.0 in /usr/local/lib/python3.8/dist-packages (from catboost) (1.21.6)\n",
            "Requirement already satisfied: pytz>=2017.3 in /usr/local/lib/python3.8/dist-packages (from pandas>=0.24.0->catboost) (2022.7.1)\n",
            "Requirement already satisfied: python-dateutil>=2.7.3 in /usr/local/lib/python3.8/dist-packages (from pandas>=0.24.0->catboost) (2.8.2)\n",
            "Requirement already satisfied: pyparsing!=2.0.4,!=2.1.2,!=2.1.6,>=2.0.1 in /usr/local/lib/python3.8/dist-packages (from matplotlib->catboost) (3.0.9)\n",
            "Requirement already satisfied: cycler>=0.10 in /usr/local/lib/python3.8/dist-packages (from matplotlib->catboost) (0.11.0)\n",
            "Requirement already satisfied: kiwisolver>=1.0.1 in /usr/local/lib/python3.8/dist-packages (from matplotlib->catboost) (1.4.4)\n",
            "Requirement already satisfied: tenacity>=6.2.0 in /usr/local/lib/python3.8/dist-packages (from plotly->catboost) (8.2.1)\n",
            "Installing collected packages: catboost\n",
            "Successfully installed catboost-1.1.1\n"
          ]
        }
      ]
    },
    {
      "cell_type": "code",
      "execution_count": null,
      "metadata": {
        "colab": {
          "base_uri": "https://localhost:8080/"
        },
        "id": "ANrsWfpzFRgR",
        "outputId": "76e34971-49fc-4a28-e06a-d95e99a50305"
      },
      "outputs": [
        {
          "output_type": "stream",
          "name": "stdout",
          "text": [
            "Training Accuracy: 1.00\n",
            "Validation Accuracy: 0.97\n",
            "Test Accuracy: 0.98\n"
          ]
        }
      ],
      "source": [
        "from catboost import CatBoostClassifier\n",
        "\n",
        "\n",
        "boost = CatBoostClassifier(verbose=0)\n",
        "\n",
        "boost.fit(X_train, y_train)\n",
        "\n",
        "print(\"Training Accuracy: %0.2f\" % boost.score(X_train, y_train))\n",
        "print(\"Validation Accuracy: %0.2f\" % boost.score(X_valid, y_valid))\n",
        "print(\"Test Accuracy: %0.2f\" % boost.score(X_test, y_test))"
      ]
    },
    {
      "cell_type": "markdown",
      "source": [
        "## Ensemble methods"
      ],
      "metadata": {
        "id": "FS6b7YEnVMpd"
      }
    },
    {
      "cell_type": "code",
      "execution_count": null,
      "metadata": {
        "id": "6c93fa42"
      },
      "outputs": [],
      "source": [
        "import pandas as pd\n",
        "import numpy as np"
      ]
    },
    {
      "cell_type": "markdown",
      "metadata": {
        "id": "a6ccb913"
      },
      "source": [
        "# Demo Notebook Illustrating How To Use Common Gradient Boosting Implementations With Categorical Data"
      ]
    },
    {
      "cell_type": "markdown",
      "metadata": {
        "id": "0649740c"
      },
      "source": [
        "# Dataset Loading"
      ]
    },
    {
      "cell_type": "markdown",
      "metadata": {
        "id": "b2cbe111"
      },
      "source": [
        "- To keep things simple, we will be using the Titanic dataset. Consequently, please don't overinterpret the predictive performance values. This is more intended as a technical demo/reference for how to use categorical support, not how to achieve good predictive performance.\n",
        "- Titanic dataset reference: https://www.openml.org/d/40945"
      ]
    },
    {
      "cell_type": "code",
      "execution_count": null,
      "metadata": {
        "id": "1c5ead9a",
        "outputId": "5d9fbade-6d4b-4134-da1d-2be1fdc3ac8e",
        "colab": {
          "base_uri": "https://localhost:8080/",
          "height": 285
        }
      },
      "outputs": [
        {
          "output_type": "execute_result",
          "data": {
            "text/plain": [
              "   PassengerId  Survived  Pclass  \\\n",
              "0            1         0       3   \n",
              "1            2         1       1   \n",
              "2            3         1       3   \n",
              "3            4         1       1   \n",
              "4            5         0       3   \n",
              "\n",
              "                                                Name     Sex   Age  SibSp  \\\n",
              "0                            Braund, Mr. Owen Harris    male  22.0      1   \n",
              "1  Cumings, Mrs. John Bradley (Florence Briggs Th...  female  38.0      1   \n",
              "2                             Heikkinen, Miss. Laina  female  26.0      0   \n",
              "3       Futrelle, Mrs. Jacques Heath (Lily May Peel)  female  35.0      1   \n",
              "4                           Allen, Mr. William Henry    male  35.0      0   \n",
              "\n",
              "   Parch            Ticket     Fare Cabin Embarked  \n",
              "0      0         A/5 21171   7.2500   NaN        S  \n",
              "1      0          PC 17599  71.2833   C85        C  \n",
              "2      0  STON/O2. 3101282   7.9250   NaN        S  \n",
              "3      0            113803  53.1000  C123        S  \n",
              "4      0            373450   8.0500   NaN        S  "
            ],
            "text/html": [
              "\n",
              "  <div id=\"df-36626939-2acb-47ab-b37f-f4ea99e9355b\">\n",
              "    <div class=\"colab-df-container\">\n",
              "      <div>\n",
              "<style scoped>\n",
              "    .dataframe tbody tr th:only-of-type {\n",
              "        vertical-align: middle;\n",
              "    }\n",
              "\n",
              "    .dataframe tbody tr th {\n",
              "        vertical-align: top;\n",
              "    }\n",
              "\n",
              "    .dataframe thead th {\n",
              "        text-align: right;\n",
              "    }\n",
              "</style>\n",
              "<table border=\"1\" class=\"dataframe\">\n",
              "  <thead>\n",
              "    <tr style=\"text-align: right;\">\n",
              "      <th></th>\n",
              "      <th>PassengerId</th>\n",
              "      <th>Survived</th>\n",
              "      <th>Pclass</th>\n",
              "      <th>Name</th>\n",
              "      <th>Sex</th>\n",
              "      <th>Age</th>\n",
              "      <th>SibSp</th>\n",
              "      <th>Parch</th>\n",
              "      <th>Ticket</th>\n",
              "      <th>Fare</th>\n",
              "      <th>Cabin</th>\n",
              "      <th>Embarked</th>\n",
              "    </tr>\n",
              "  </thead>\n",
              "  <tbody>\n",
              "    <tr>\n",
              "      <th>0</th>\n",
              "      <td>1</td>\n",
              "      <td>0</td>\n",
              "      <td>3</td>\n",
              "      <td>Braund, Mr. Owen Harris</td>\n",
              "      <td>male</td>\n",
              "      <td>22.0</td>\n",
              "      <td>1</td>\n",
              "      <td>0</td>\n",
              "      <td>A/5 21171</td>\n",
              "      <td>7.2500</td>\n",
              "      <td>NaN</td>\n",
              "      <td>S</td>\n",
              "    </tr>\n",
              "    <tr>\n",
              "      <th>1</th>\n",
              "      <td>2</td>\n",
              "      <td>1</td>\n",
              "      <td>1</td>\n",
              "      <td>Cumings, Mrs. John Bradley (Florence Briggs Th...</td>\n",
              "      <td>female</td>\n",
              "      <td>38.0</td>\n",
              "      <td>1</td>\n",
              "      <td>0</td>\n",
              "      <td>PC 17599</td>\n",
              "      <td>71.2833</td>\n",
              "      <td>C85</td>\n",
              "      <td>C</td>\n",
              "    </tr>\n",
              "    <tr>\n",
              "      <th>2</th>\n",
              "      <td>3</td>\n",
              "      <td>1</td>\n",
              "      <td>3</td>\n",
              "      <td>Heikkinen, Miss. Laina</td>\n",
              "      <td>female</td>\n",
              "      <td>26.0</td>\n",
              "      <td>0</td>\n",
              "      <td>0</td>\n",
              "      <td>STON/O2. 3101282</td>\n",
              "      <td>7.9250</td>\n",
              "      <td>NaN</td>\n",
              "      <td>S</td>\n",
              "    </tr>\n",
              "    <tr>\n",
              "      <th>3</th>\n",
              "      <td>4</td>\n",
              "      <td>1</td>\n",
              "      <td>1</td>\n",
              "      <td>Futrelle, Mrs. Jacques Heath (Lily May Peel)</td>\n",
              "      <td>female</td>\n",
              "      <td>35.0</td>\n",
              "      <td>1</td>\n",
              "      <td>0</td>\n",
              "      <td>113803</td>\n",
              "      <td>53.1000</td>\n",
              "      <td>C123</td>\n",
              "      <td>S</td>\n",
              "    </tr>\n",
              "    <tr>\n",
              "      <th>4</th>\n",
              "      <td>5</td>\n",
              "      <td>0</td>\n",
              "      <td>3</td>\n",
              "      <td>Allen, Mr. William Henry</td>\n",
              "      <td>male</td>\n",
              "      <td>35.0</td>\n",
              "      <td>0</td>\n",
              "      <td>0</td>\n",
              "      <td>373450</td>\n",
              "      <td>8.0500</td>\n",
              "      <td>NaN</td>\n",
              "      <td>S</td>\n",
              "    </tr>\n",
              "  </tbody>\n",
              "</table>\n",
              "</div>\n",
              "      <button class=\"colab-df-convert\" onclick=\"convertToInteractive('df-36626939-2acb-47ab-b37f-f4ea99e9355b')\"\n",
              "              title=\"Convert this dataframe to an interactive table.\"\n",
              "              style=\"display:none;\">\n",
              "        \n",
              "  <svg xmlns=\"http://www.w3.org/2000/svg\" height=\"24px\"viewBox=\"0 0 24 24\"\n",
              "       width=\"24px\">\n",
              "    <path d=\"M0 0h24v24H0V0z\" fill=\"none\"/>\n",
              "    <path d=\"M18.56 5.44l.94 2.06.94-2.06 2.06-.94-2.06-.94-.94-2.06-.94 2.06-2.06.94zm-11 1L8.5 8.5l.94-2.06 2.06-.94-2.06-.94L8.5 2.5l-.94 2.06-2.06.94zm10 10l.94 2.06.94-2.06 2.06-.94-2.06-.94-.94-2.06-.94 2.06-2.06.94z\"/><path d=\"M17.41 7.96l-1.37-1.37c-.4-.4-.92-.59-1.43-.59-.52 0-1.04.2-1.43.59L10.3 9.45l-7.72 7.72c-.78.78-.78 2.05 0 2.83L4 21.41c.39.39.9.59 1.41.59.51 0 1.02-.2 1.41-.59l7.78-7.78 2.81-2.81c.8-.78.8-2.07 0-2.86zM5.41 20L4 18.59l7.72-7.72 1.47 1.35L5.41 20z\"/>\n",
              "  </svg>\n",
              "      </button>\n",
              "      \n",
              "  <style>\n",
              "    .colab-df-container {\n",
              "      display:flex;\n",
              "      flex-wrap:wrap;\n",
              "      gap: 12px;\n",
              "    }\n",
              "\n",
              "    .colab-df-convert {\n",
              "      background-color: #E8F0FE;\n",
              "      border: none;\n",
              "      border-radius: 50%;\n",
              "      cursor: pointer;\n",
              "      display: none;\n",
              "      fill: #1967D2;\n",
              "      height: 32px;\n",
              "      padding: 0 0 0 0;\n",
              "      width: 32px;\n",
              "    }\n",
              "\n",
              "    .colab-df-convert:hover {\n",
              "      background-color: #E2EBFA;\n",
              "      box-shadow: 0px 1px 2px rgba(60, 64, 67, 0.3), 0px 1px 3px 1px rgba(60, 64, 67, 0.15);\n",
              "      fill: #174EA6;\n",
              "    }\n",
              "\n",
              "    [theme=dark] .colab-df-convert {\n",
              "      background-color: #3B4455;\n",
              "      fill: #D2E3FC;\n",
              "    }\n",
              "\n",
              "    [theme=dark] .colab-df-convert:hover {\n",
              "      background-color: #434B5C;\n",
              "      box-shadow: 0px 1px 3px 1px rgba(0, 0, 0, 0.15);\n",
              "      filter: drop-shadow(0px 1px 2px rgba(0, 0, 0, 0.3));\n",
              "      fill: #FFFFFF;\n",
              "    }\n",
              "  </style>\n",
              "\n",
              "      <script>\n",
              "        const buttonEl =\n",
              "          document.querySelector('#df-36626939-2acb-47ab-b37f-f4ea99e9355b button.colab-df-convert');\n",
              "        buttonEl.style.display =\n",
              "          google.colab.kernel.accessAllowed ? 'block' : 'none';\n",
              "\n",
              "        async function convertToInteractive(key) {\n",
              "          const element = document.querySelector('#df-36626939-2acb-47ab-b37f-f4ea99e9355b');\n",
              "          const dataTable =\n",
              "            await google.colab.kernel.invokeFunction('convertToInteractive',\n",
              "                                                     [key], {});\n",
              "          if (!dataTable) return;\n",
              "\n",
              "          const docLinkHtml = 'Like what you see? Visit the ' +\n",
              "            '<a target=\"_blank\" href=https://colab.research.google.com/notebooks/data_table.ipynb>data table notebook</a>'\n",
              "            + ' to learn more about interactive tables.';\n",
              "          element.innerHTML = '';\n",
              "          dataTable['output_type'] = 'display_data';\n",
              "          await google.colab.output.renderOutput(dataTable, element);\n",
              "          const docLink = document.createElement('div');\n",
              "          docLink.innerHTML = docLinkHtml;\n",
              "          element.appendChild(docLink);\n",
              "        }\n",
              "      </script>\n",
              "    </div>\n",
              "  </div>\n",
              "  "
            ]
          },
          "metadata": {},
          "execution_count": 2
        }
      ],
      "source": [
        "data = pd.read_csv('/content/titanic.csv', sep=',')\n",
        "data.head()"
      ]
    },
    {
      "cell_type": "markdown",
      "metadata": {
        "id": "18c43fee"
      },
      "source": [
        "### Remove rows with missing values"
      ]
    },
    {
      "cell_type": "code",
      "source": [
        "data.isna().sum()"
      ],
      "metadata": {
        "colab": {
          "base_uri": "https://localhost:8080/"
        },
        "id": "_3GP3uY9X4kQ",
        "outputId": "749afc3b-5369-42c4-c547-73463514331b"
      },
      "execution_count": null,
      "outputs": [
        {
          "output_type": "execute_result",
          "data": {
            "text/plain": [
              "PassengerId      0\n",
              "Survived         0\n",
              "Pclass           0\n",
              "Name             0\n",
              "Sex              0\n",
              "Age            177\n",
              "SibSp            0\n",
              "Parch            0\n",
              "Ticket           0\n",
              "Fare             0\n",
              "Cabin          687\n",
              "Embarked         2\n",
              "dtype: int64"
            ]
          },
          "metadata": {},
          "execution_count": 3
        }
      ]
    },
    {
      "cell_type": "code",
      "source": [
        "df = data.drop(['Age','Cabin'], axis = 1)\n",
        "df.columns"
      ],
      "metadata": {
        "colab": {
          "base_uri": "https://localhost:8080/"
        },
        "id": "5u-rDo3XYRoN",
        "outputId": "e58ef2d5-d2a1-4797-9e20-e0d3be8a00cf"
      },
      "execution_count": null,
      "outputs": [
        {
          "output_type": "execute_result",
          "data": {
            "text/plain": [
              "Index(['PassengerId', 'Survived', 'Pclass', 'Name', 'Sex', 'SibSp', 'Parch',\n",
              "       'Ticket', 'Fare', 'Embarked'],\n",
              "      dtype='object')"
            ]
          },
          "metadata": {},
          "execution_count": 4
        }
      ]
    },
    {
      "cell_type": "code",
      "source": [
        "df = df.dropna(axis = 0)"
      ],
      "metadata": {
        "id": "JHl3lRkEYsZ9"
      },
      "execution_count": null,
      "outputs": []
    },
    {
      "cell_type": "code",
      "source": [
        "df.isna().sum()"
      ],
      "metadata": {
        "colab": {
          "base_uri": "https://localhost:8080/"
        },
        "id": "2RgscjDjY5Gf",
        "outputId": "403cb133-9eba-412f-e103-29c7d7dc2f9b"
      },
      "execution_count": null,
      "outputs": [
        {
          "output_type": "execute_result",
          "data": {
            "text/plain": [
              "PassengerId    0\n",
              "Survived       0\n",
              "Pclass         0\n",
              "Name           0\n",
              "Sex            0\n",
              "SibSp          0\n",
              "Parch          0\n",
              "Ticket         0\n",
              "Fare           0\n",
              "Embarked       0\n",
              "dtype: int64"
            ]
          },
          "metadata": {},
          "execution_count": 6
        }
      ]
    },
    {
      "cell_type": "code",
      "execution_count": null,
      "metadata": {
        "id": "74927bec"
      },
      "outputs": [],
      "source": [
        "df['Fare'] = df['Fare'].astype(float)"
      ]
    },
    {
      "cell_type": "markdown",
      "metadata": {
        "id": "d47c5c9b"
      },
      "source": [
        "### Convert to array format"
      ]
    },
    {
      "cell_type": "markdown",
      "metadata": {
        "id": "6ec7f2e8"
      },
      "source": [
        "- To keep things simple, we will only use a few columns in this dataset:"
      ]
    },
    {
      "cell_type": "code",
      "source": [
        "df.columns"
      ],
      "metadata": {
        "colab": {
          "base_uri": "https://localhost:8080/"
        },
        "id": "E1dGUnqeWszC",
        "outputId": "9e02ec2c-0f47-4f09-b7bc-54d197f526d7"
      },
      "execution_count": null,
      "outputs": [
        {
          "output_type": "execute_result",
          "data": {
            "text/plain": [
              "Index(['PassengerId', 'Survived', 'Pclass', 'Name', 'Sex', 'SibSp', 'Parch',\n",
              "       'Ticket', 'Fare', 'Embarked'],\n",
              "      dtype='object')"
            ]
          },
          "metadata": {},
          "execution_count": 8
        }
      ]
    },
    {
      "cell_type": "code",
      "execution_count": null,
      "metadata": {
        "id": "64c787c4",
        "outputId": "6cffccc2-7dc8-440f-8b70-e950bd2be33f",
        "colab": {
          "base_uri": "https://localhost:8080/"
        }
      },
      "outputs": [
        {
          "output_type": "execute_result",
          "data": {
            "text/plain": [
              "array([[3, 'male', 7.25, 'S'],\n",
              "       [1, 'female', 71.2833, 'C'],\n",
              "       [3, 'female', 7.925, 'S'],\n",
              "       [1, 'female', 53.1, 'S'],\n",
              "       [3, 'male', 8.05, 'S'],\n",
              "       [3, 'male', 8.4583, 'Q'],\n",
              "       [1, 'male', 51.8625, 'S'],\n",
              "       [3, 'male', 21.075, 'S'],\n",
              "       [3, 'female', 11.1333, 'S'],\n",
              "       [2, 'female', 30.0708, 'C']], dtype=object)"
            ]
          },
          "metadata": {},
          "execution_count": 9
        }
      ],
      "source": [
        "y = df['Survived'].values\n",
        "\n",
        "feature_names = ['Pclass', 'Sex', 'Fare', 'Embarked']\n",
        "\n",
        "X = df[feature_names].values\n",
        "\n",
        "X[:10]"
      ]
    },
    {
      "cell_type": "code",
      "execution_count": null,
      "metadata": {
        "id": "b8493cb1",
        "outputId": "39d7eb77-3ad0-49fe-b46b-893bbb882b2f",
        "colab": {
          "base_uri": "https://localhost:8080/"
        }
      },
      "outputs": [
        {
          "output_type": "execute_result",
          "data": {
            "text/plain": [
              "array([549, 340])"
            ]
          },
          "metadata": {},
          "execution_count": 10
        }
      ],
      "source": [
        "np.bincount(y)"
      ]
    },
    {
      "cell_type": "code",
      "execution_count": null,
      "metadata": {
        "id": "d21683fb",
        "outputId": "468d05b3-4f57-49b5-bb9a-41a9407ffb2d",
        "colab": {
          "base_uri": "https://localhost:8080/"
        }
      },
      "outputs": [
        {
          "output_type": "execute_result",
          "data": {
            "text/plain": [
              "array([3, 1, 2])"
            ]
          },
          "metadata": {},
          "execution_count": 11
        }
      ],
      "source": [
        "df.Pclass.unique()"
      ]
    },
    {
      "cell_type": "code",
      "source": [
        "df.Sex.unique()"
      ],
      "metadata": {
        "colab": {
          "base_uri": "https://localhost:8080/"
        },
        "id": "Fai2TkaCXKwL",
        "outputId": "9db12074-5d29-48b5-bdfd-17d74a446771"
      },
      "execution_count": null,
      "outputs": [
        {
          "output_type": "execute_result",
          "data": {
            "text/plain": [
              "array(['male', 'female'], dtype=object)"
            ]
          },
          "metadata": {},
          "execution_count": 12
        }
      ]
    },
    {
      "cell_type": "code",
      "source": [
        "df.Embarked.unique()"
      ],
      "metadata": {
        "colab": {
          "base_uri": "https://localhost:8080/"
        },
        "id": "Lgv2jKXcXQFo",
        "outputId": "7c98ea23-3478-474a-bf27-6baf891205aa"
      },
      "execution_count": null,
      "outputs": [
        {
          "output_type": "execute_result",
          "data": {
            "text/plain": [
              "array(['S', 'C', 'Q'], dtype=object)"
            ]
          },
          "metadata": {},
          "execution_count": 13
        }
      ]
    },
    {
      "cell_type": "markdown",
      "metadata": {
        "id": "07979956"
      },
      "source": [
        "- In this dataset, `'sex'` is a binary variable with only two values, so using categorical or onehot encoding is not necessary. However, we will do it anyways for demo purposes.\n",
        "- Here, `'embarked'` is a categorical variable with 3 possible values."
      ]
    },
    {
      "cell_type": "markdown",
      "metadata": {
        "id": "5f1e7626"
      },
      "source": [
        "### Onehot encoder pipeline"
      ]
    },
    {
      "cell_type": "markdown",
      "metadata": {
        "id": "3589fea4"
      },
      "source": [
        "- The OneHot encoder pipeline encodes `'sex'` and `'embarked'` into a onehot-encoded form. The remaining features remain unchanged."
      ]
    },
    {
      "cell_type": "code",
      "execution_count": null,
      "metadata": {
        "id": "a97b917f",
        "outputId": "8b2ffcae-4262-486b-a7ca-41c8641d0eec",
        "colab": {
          "base_uri": "https://localhost:8080/"
        }
      },
      "outputs": [
        {
          "output_type": "execute_result",
          "data": {
            "text/plain": [
              "array([[ 1.    ,  0.    ,  1.    ,  3.    ,  7.25  ],\n",
              "       [ 0.    ,  0.    ,  0.    ,  1.    , 71.2833],\n",
              "       [ 0.    ,  0.    ,  1.    ,  3.    ,  7.925 ],\n",
              "       ...,\n",
              "       [ 0.    ,  0.    ,  1.    ,  3.    , 23.45  ],\n",
              "       [ 1.    ,  0.    ,  0.    ,  1.    , 30.    ],\n",
              "       [ 1.    ,  1.    ,  0.    ,  3.    ,  7.75  ]])"
            ]
          },
          "metadata": {},
          "execution_count": 14
        }
      ],
      "source": [
        "from sklearn.pipeline import make_pipeline\n",
        "from sklearn.preprocessing import OneHotEncoder\n",
        "from sklearn.compose import ColumnTransformer\n",
        "\n",
        "\n",
        "ohe_features = ['Sex', 'Embarked']\n",
        "ohe_transformer = make_pipeline(OneHotEncoder(drop='first'))\n",
        "\n",
        "ohe_preprocessor = ColumnTransformer(\n",
        "    transformers=[\n",
        "        ('ohe', ohe_transformer, ohe_features)],\n",
        "    remainder='passthrough')\n",
        "\n",
        "ohe_preprocessor.fit_transform(df[feature_names])"
      ]
    },
    {
      "cell_type": "code",
      "execution_count": null,
      "metadata": {
        "id": "91ab1c7f",
        "outputId": "fac8a4e8-8010-43d0-f55e-85320efafdab",
        "colab": {
          "base_uri": "https://localhost:8080/"
        }
      },
      "outputs": [
        {
          "output_type": "execute_result",
          "data": {
            "text/plain": [
              "array(['ohe__Sex_male', 'ohe__Embarked_Q', 'ohe__Embarked_S',\n",
              "       'remainder__Pclass', 'remainder__Fare'], dtype=object)"
            ]
          },
          "metadata": {},
          "execution_count": 15
        }
      ],
      "source": [
        "ohe_preprocessor.get_feature_names_out()"
      ]
    },
    {
      "cell_type": "markdown",
      "metadata": {
        "id": "7fe8a1e2"
      },
      "source": [
        "### Ordinal/Categorical encoder pipeline"
      ]
    },
    {
      "cell_type": "markdown",
      "metadata": {
        "id": "4b8a8b77"
      },
      "source": [
        "- This pipeline will convert the string encoding of `'sex'` and `'embarked'` into an integer format."
      ]
    },
    {
      "cell_type": "code",
      "execution_count": null,
      "metadata": {
        "id": "11201035",
        "outputId": "de4ae50d-ae53-4c75-e0b9-23ea2f7a9dca",
        "colab": {
          "base_uri": "https://localhost:8080/"
        }
      },
      "outputs": [
        {
          "output_type": "execute_result",
          "data": {
            "text/plain": [
              "array([[ 1.    ,  2.    ,  3.    ,  7.25  ],\n",
              "       [ 0.    ,  0.    ,  1.    , 71.2833],\n",
              "       [ 0.    ,  2.    ,  3.    ,  7.925 ],\n",
              "       ...,\n",
              "       [ 0.    ,  2.    ,  3.    , 23.45  ],\n",
              "       [ 1.    ,  0.    ,  1.    , 30.    ],\n",
              "       [ 1.    ,  1.    ,  3.    ,  7.75  ]])"
            ]
          },
          "metadata": {},
          "execution_count": 16
        }
      ],
      "source": [
        "from sklearn.preprocessing import OrdinalEncoder\n",
        "\n",
        "\n",
        "cat_features = ['Sex', 'Embarked']\n",
        "cat_transformer = make_pipeline(OrdinalEncoder())\n",
        "\n",
        "cat_preprocessor = ColumnTransformer(\n",
        "    transformers=[\n",
        "        ('cat', cat_transformer, cat_features)],\n",
        "    remainder='passthrough')\n",
        "\n",
        "cat_preprocessor.fit_transform(df[feature_names])"
      ]
    },
    {
      "cell_type": "markdown",
      "metadata": {
        "id": "a51145c5"
      },
      "source": [
        "- Note that feature index 0 corresponds to `'sex'`, and feature index 1 to `'embarked'`"
      ]
    },
    {
      "cell_type": "markdown",
      "metadata": {
        "id": "7358f5a5"
      },
      "source": [
        "### Train/Valid/Test splits"
      ]
    },
    {
      "cell_type": "markdown",
      "metadata": {
        "id": "d5d8ba89"
      },
      "source": [
        "- Next, we are splitting the dataset into the usual subsets."
      ]
    },
    {
      "cell_type": "code",
      "execution_count": null,
      "metadata": {
        "id": "cb3f4403",
        "outputId": "e0ceaa43-3c9c-48e9-fb8f-8c8c6c977602",
        "colab": {
          "base_uri": "https://localhost:8080/"
        }
      },
      "outputs": [
        {
          "output_type": "stream",
          "name": "stdout",
          "text": [
            "Train/Valid/Test sizes: 533 178 178\n"
          ]
        }
      ],
      "source": [
        "from sklearn.model_selection import train_test_split\n",
        "\n",
        "\n",
        "df_X_temp, df_X_test, df_y_temp, df_y_test = \\\n",
        "    train_test_split(df[feature_names], df['Survived'], test_size=0.20, random_state=123, stratify=df['Survived'])\n",
        "\n",
        "df_X_train, df_X_valid, df_y_train, df_y_valid = \\\n",
        "    train_test_split(df_X_temp, df_y_temp, test_size=0.25, random_state=123, stratify=df_y_temp)\n",
        "\n",
        "print('Train/Valid/Test sizes:', df_y_train.shape[0], df_y_valid.shape[0], df_y_test.shape[0])"
      ]
    },
    {
      "cell_type": "markdown",
      "metadata": {
        "id": "5dbafa2f"
      },
      "source": [
        "## Performance Baselines"
      ]
    },
    {
      "cell_type": "markdown",
      "metadata": {
        "id": "88bce41f"
      },
      "source": [
        "### Majority class prediction"
      ]
    },
    {
      "cell_type": "code",
      "execution_count": null,
      "metadata": {
        "id": "9dea26cc",
        "outputId": "f5858530-88ff-4dc4-a235-7f5e55e792e7",
        "colab": {
          "base_uri": "https://localhost:8080/"
        }
      },
      "outputs": [
        {
          "output_type": "stream",
          "name": "stdout",
          "text": [
            "Test accuracy: 61.80%\n"
          ]
        }
      ],
      "source": [
        "bins = np.bincount(df_y_test)\n",
        "print(f'Test accuracy: {100* np.max(bins) / np.sum(bins):.2f}%', )"
      ]
    },
    {
      "cell_type": "markdown",
      "metadata": {
        "id": "283d5f4b"
      },
      "source": [
        "### Decision Tree (Onehot)"
      ]
    },
    {
      "cell_type": "code",
      "execution_count": null,
      "metadata": {
        "id": "33702a4b",
        "outputId": "02d7f905-45f3-4891-e738-2dfd3dd00961",
        "colab": {
          "base_uri": "https://localhost:8080/"
        }
      },
      "outputs": [
        {
          "output_type": "stream",
          "name": "stdout",
          "text": [
            "Training Accuracy: 93.25%\n",
            "Validation Accuracy: 79.78%\n",
            "Test Accuracy: 78.65%\n"
          ]
        }
      ],
      "source": [
        "from sklearn.tree import DecisionTreeClassifier\n",
        "\n",
        "\n",
        "tree = DecisionTreeClassifier(random_state=123)\n",
        "clf_pipe = make_pipeline(ohe_preprocessor, tree)\n",
        "clf_pipe.fit(df_X_train, df_y_train)\n",
        "\n",
        "print(f\"Training Accuracy: {100*clf_pipe.score(df_X_train, df_y_train):0.2f}%\")\n",
        "print(f\"Validation Accuracy: {100*clf_pipe.score(df_X_valid, df_y_valid):0.2f}%\")\n",
        "print(f\"Test Accuracy: {100*clf_pipe.score(df_X_test, df_y_test):0.2f}%\")"
      ]
    },
    {
      "cell_type": "markdown",
      "metadata": {
        "id": "6ac09d90"
      },
      "source": [
        "### Decision Tree (Ordinal)"
      ]
    },
    {
      "cell_type": "markdown",
      "metadata": {
        "id": "a4f09d01"
      },
      "source": [
        "- \"Ordinal\" means that the `'embarked'` variable is treated as an ordinal variable due to the integer encoding."
      ]
    },
    {
      "cell_type": "code",
      "execution_count": null,
      "metadata": {
        "id": "ad069769",
        "outputId": "f03c26ee-3bba-4a51-a52a-cd3673633240",
        "colab": {
          "base_uri": "https://localhost:8080/"
        }
      },
      "outputs": [
        {
          "output_type": "stream",
          "name": "stdout",
          "text": [
            "Training Accuracy: 93.25%\n",
            "Validation Accuracy: 78.65%\n",
            "Test Accuracy: 76.97%\n"
          ]
        }
      ],
      "source": [
        "from sklearn.tree import DecisionTreeClassifier\n",
        "\n",
        "\n",
        "tree = DecisionTreeClassifier(random_state=123)\n",
        "clf_pipe = make_pipeline(cat_preprocessor, tree)\n",
        "\n",
        "clf_pipe.fit(df_X_train, df_y_train)\n",
        "\n",
        "print(f\"Training Accuracy: {100*clf_pipe.score(df_X_train, df_y_train):0.2f}%\")\n",
        "print(f\"Validation Accuracy: {100*clf_pipe.score(df_X_valid, df_y_valid):0.2f}%\")\n",
        "print(f\"Test Accuracy: {100*clf_pipe.score(df_X_test, df_y_test):0.2f}%\")"
      ]
    },
    {
      "cell_type": "markdown",
      "metadata": {
        "id": "99be0f35"
      },
      "source": [
        "## Original gradient boosting (Onehot)"
      ]
    },
    {
      "cell_type": "code",
      "execution_count": null,
      "metadata": {
        "id": "088c891f",
        "outputId": "40c6f858-d182-45af-c6b6-d5fd35082e2c",
        "colab": {
          "base_uri": "https://localhost:8080/"
        }
      },
      "outputs": [
        {
          "output_type": "stream",
          "name": "stdout",
          "text": [
            "Training Accuracy: 91.74%\n",
            "Validation Accuracy: 77.53%\n",
            "Test Accuracy: 79.21%\n"
          ]
        }
      ],
      "source": [
        "from sklearn.ensemble import GradientBoostingClassifier\n",
        "\n",
        "\n",
        "boost = GradientBoostingClassifier(\n",
        "    learning_rate=0.1,\n",
        "    n_estimators=100,\n",
        "    max_depth=4,\n",
        "    random_state=1)\n",
        "\n",
        "clf_pipe = make_pipeline(ohe_preprocessor, boost)\n",
        "clf_pipe.fit(df_X_train, df_y_train)\n",
        "    \n",
        "print(f\"Training Accuracy: {100*clf_pipe.score(df_X_train, df_y_train):0.2f}%\")\n",
        "print(f\"Validation Accuracy: {100*clf_pipe.score(df_X_valid, df_y_valid):0.2f}%\")\n",
        "print(f\"Test Accuracy: {100*clf_pipe.score(df_X_test, df_y_test):0.2f}%\")"
      ]
    },
    {
      "cell_type": "markdown",
      "metadata": {
        "id": "8699ca28"
      },
      "source": [
        "## Original gradient boosting (Ordinal)"
      ]
    },
    {
      "cell_type": "code",
      "execution_count": null,
      "metadata": {
        "id": "c7deb7e4",
        "outputId": "fbcfa237-be77-4ee6-a169-36005da46174",
        "colab": {
          "base_uri": "https://localhost:8080/"
        }
      },
      "outputs": [
        {
          "output_type": "stream",
          "name": "stdout",
          "text": [
            "Training Accuracy: 91.56%\n",
            "Validation Accuracy: 77.53%\n",
            "Test Accuracy: 76.97%\n"
          ]
        }
      ],
      "source": [
        "from sklearn.ensemble import GradientBoostingClassifier\n",
        "\n",
        "\n",
        "boost = GradientBoostingClassifier(\n",
        "    learning_rate=0.1,\n",
        "    n_estimators=100,\n",
        "    max_depth=4,\n",
        "    random_state=1)\n",
        "\n",
        "clf_pipe = make_pipeline(cat_preprocessor, boost)\n",
        "clf_pipe.fit(df_X_train, df_y_train)\n",
        "    \n",
        "print(f\"Training Accuracy: {100*clf_pipe.score(df_X_train, df_y_train):0.2f}%\")\n",
        "print(f\"Validation Accuracy: {100*clf_pipe.score(df_X_valid, df_y_valid):0.2f}%\")\n",
        "print(f\"Test Accuracy: {100*clf_pipe.score(df_X_test, df_y_test):0.2f}%\")"
      ]
    },
    {
      "cell_type": "markdown",
      "metadata": {
        "id": "36cb3408"
      },
      "source": [
        "## HistGradientBoostingClassifier (Onehot)"
      ]
    },
    {
      "cell_type": "code",
      "execution_count": null,
      "metadata": {
        "id": "9506d181",
        "outputId": "9717e7a4-9414-4f17-dcd8-6a93b7f14df5",
        "colab": {
          "base_uri": "https://localhost:8080/"
        }
      },
      "outputs": [
        {
          "output_type": "stream",
          "name": "stdout",
          "text": [
            "Training Accuracy: 90.62%\n",
            "Validation Accuracy: 78.65%\n",
            "Test Accuracy: 80.34%\n"
          ]
        }
      ],
      "source": [
        "#from sklearn.experimental import enable_hist_gradient_boosting\n",
        "from sklearn.ensemble import HistGradientBoostingClassifier\n",
        "\n",
        "\n",
        "boost = HistGradientBoostingClassifier(\n",
        "    learning_rate=0.1,\n",
        "    random_state=1)\n",
        "\n",
        "clf_pipe = make_pipeline(ohe_preprocessor, boost)\n",
        "clf_pipe.fit(df_X_train, df_y_train)\n",
        "    \n",
        "print(f\"Training Accuracy: {100*clf_pipe.score(df_X_train, df_y_train):0.2f}%\")\n",
        "print(f\"Validation Accuracy: {100*clf_pipe.score(df_X_valid, df_y_valid):0.2f}%\")\n",
        "print(f\"Test Accuracy: {100*clf_pipe.score(df_X_test, df_y_test):0.2f}%\")"
      ]
    },
    {
      "cell_type": "markdown",
      "metadata": {
        "id": "5942ca0a"
      },
      "source": [
        "## HistGradientBoostingClassifier (Ordinal)"
      ]
    },
    {
      "cell_type": "code",
      "execution_count": null,
      "metadata": {
        "id": "d3087934",
        "outputId": "0012a16d-14dd-49bf-bff6-b609f5f50ca0",
        "colab": {
          "base_uri": "https://localhost:8080/"
        }
      },
      "outputs": [
        {
          "output_type": "stream",
          "name": "stdout",
          "text": [
            "Training Accuracy: 90.06%\n",
            "Validation Accuracy: 78.09%\n",
            "Test Accuracy: 79.78%\n"
          ]
        }
      ],
      "source": [
        "boost = HistGradientBoostingClassifier(\n",
        "    learning_rate=0.1,\n",
        "    random_state=1)\n",
        "\n",
        "clf_pipe = make_pipeline(cat_preprocessor, boost)\n",
        "clf_pipe.fit(df_X_train, df_y_train)\n",
        "    \n",
        "print(f\"Training Accuracy: {100*clf_pipe.score(df_X_train, df_y_train):0.2f}%\")\n",
        "print(f\"Validation Accuracy: {100*clf_pipe.score(df_X_valid, df_y_valid):0.2f}%\")\n",
        "print(f\"Test Accuracy: {100*clf_pipe.score(df_X_test, df_y_test):0.2f}%\")"
      ]
    },
    {
      "cell_type": "markdown",
      "metadata": {
        "id": "886e3125"
      },
      "source": [
        "## HistGradientBoostingClassifier (Categorical)"
      ]
    },
    {
      "cell_type": "markdown",
      "metadata": {
        "id": "9b766142"
      },
      "source": [
        "- In contrast to the \"ordinal\" control above, the \"categorical\" sections shows how to use the implemented support for categorical variables"
      ]
    },
    {
      "cell_type": "code",
      "execution_count": null,
      "metadata": {
        "id": "e6bae1f0",
        "outputId": "2f88a7be-b379-482e-f42b-fe4d11dd7dec",
        "colab": {
          "base_uri": "https://localhost:8080/"
        }
      },
      "outputs": [
        {
          "output_type": "stream",
          "name": "stdout",
          "text": [
            "Training Accuracy: 90.06%\n",
            "Validation Accuracy: 78.65%\n",
            "Test Accuracy: 80.34%\n"
          ]
        }
      ],
      "source": [
        "boost = HistGradientBoostingClassifier(\n",
        "    learning_rate=0.1,\n",
        "    categorical_features=[0, 1], # -> ['sex', 'embarked'],\n",
        "    random_state=1)\n",
        "\n",
        "clf_pipe = make_pipeline(cat_preprocessor, boost)\n",
        "clf_pipe.fit(df_X_train, df_y_train)\n",
        "    \n",
        "print(f\"Training Accuracy: {100*clf_pipe.score(df_X_train, df_y_train):0.2f}%\")\n",
        "print(f\"Validation Accuracy: {100*clf_pipe.score(df_X_valid, df_y_valid):0.2f}%\")\n",
        "print(f\"Test Accuracy: {100*clf_pipe.score(df_X_test, df_y_test):0.2f}%\")"
      ]
    },
    {
      "cell_type": "markdown",
      "metadata": {
        "id": "fe9a196c"
      },
      "source": [
        "## XGBoost (Onehot)"
      ]
    },
    {
      "cell_type": "code",
      "execution_count": null,
      "metadata": {
        "id": "26c3be3a",
        "outputId": "61a1621c-dfec-4d42-c4a7-737030b385f8",
        "colab": {
          "base_uri": "https://localhost:8080/"
        }
      },
      "outputs": [
        {
          "output_type": "stream",
          "name": "stdout",
          "text": [
            "Training Accuracy: 87.43%\n",
            "Validation Accuracy: 76.40%\n",
            "Test Accuracy: 76.97%\n"
          ]
        }
      ],
      "source": [
        "import numpy as np\n",
        "import xgboost as xgb\n",
        "\n",
        "\n",
        "boost = xgb.XGBClassifier()\n",
        "\n",
        "clf_pipe = make_pipeline(ohe_preprocessor, boost)\n",
        "clf_pipe.fit(df_X_train, df_y_train)\n",
        "    \n",
        "print(f\"Training Accuracy: {100*clf_pipe.score(df_X_train, df_y_train):0.2f}%\")\n",
        "print(f\"Validation Accuracy: {100*clf_pipe.score(df_X_valid, df_y_valid):0.2f}%\")\n",
        "print(f\"Test Accuracy: {100*clf_pipe.score(df_X_test, df_y_test):0.2f}%\")"
      ]
    },
    {
      "cell_type": "markdown",
      "metadata": {
        "id": "86066b55"
      },
      "source": [
        "## XGBoost (Ordinal)"
      ]
    },
    {
      "cell_type": "code",
      "execution_count": null,
      "metadata": {
        "id": "b0fd15b1",
        "outputId": "b8b10f52-0692-4f50-8d14-93995da89d1f",
        "colab": {
          "base_uri": "https://localhost:8080/"
        }
      },
      "outputs": [
        {
          "output_type": "stream",
          "name": "stdout",
          "text": [
            "Training Accuracy: 87.43%\n",
            "Validation Accuracy: 76.97%\n",
            "Test Accuracy: 77.53%\n"
          ]
        }
      ],
      "source": [
        "boost = xgb.XGBClassifier()\n",
        "\n",
        "clf_pipe = make_pipeline(cat_preprocessor, boost)\n",
        "clf_pipe.fit(df_X_train, df_y_train)\n",
        "    \n",
        "print(f\"Training Accuracy: {100*clf_pipe.score(df_X_train, df_y_train):0.2f}%\")\n",
        "print(f\"Validation Accuracy: {100*clf_pipe.score(df_X_valid, df_y_valid):0.2f}%\")\n",
        "print(f\"Test Accuracy: {100*clf_pipe.score(df_X_test, df_y_test):0.2f}%\")"
      ]
    },
    {
      "cell_type": "markdown",
      "metadata": {
        "id": "dabb2294"
      },
      "source": [
        "## LightGBM (Onehot)"
      ]
    },
    {
      "cell_type": "code",
      "execution_count": null,
      "metadata": {
        "id": "3a8fa014",
        "outputId": "c7196658-77bd-462a-8f22-80a680647ff3",
        "colab": {
          "base_uri": "https://localhost:8080/"
        }
      },
      "outputs": [
        {
          "output_type": "stream",
          "name": "stdout",
          "text": [
            "Training Accuracy: 88.56%\n",
            "Validation Accuracy: 77.53%\n",
            "Test Accuracy: 78.65%\n"
          ]
        }
      ],
      "source": [
        "import lightgbm as lgb\n",
        "\n",
        "\n",
        "boost = lgb.LGBMClassifier()\n",
        "\n",
        "clf_pipe = make_pipeline(ohe_preprocessor, boost)\n",
        "clf_pipe.fit(df_X_train, df_y_train)\n",
        "    \n",
        "print(f\"Training Accuracy: {100*clf_pipe.score(df_X_train, df_y_train):0.2f}%\")\n",
        "print(f\"Validation Accuracy: {100*clf_pipe.score(df_X_valid, df_y_valid):0.2f}%\")\n",
        "print(f\"Test Accuracy: {100*clf_pipe.score(df_X_test, df_y_test):0.2f}%\")"
      ]
    },
    {
      "cell_type": "markdown",
      "metadata": {
        "id": "d6ea2840"
      },
      "source": [
        "## LightGBM (Ordinal)"
      ]
    },
    {
      "cell_type": "code",
      "execution_count": null,
      "metadata": {
        "id": "7b440d80",
        "outputId": "14032973-8f53-470b-feff-04aead2cd862",
        "colab": {
          "base_uri": "https://localhost:8080/"
        }
      },
      "outputs": [
        {
          "output_type": "stream",
          "name": "stdout",
          "text": [
            "Training Accuracy: 88.93%\n",
            "Validation Accuracy: 76.97%\n",
            "Test Accuracy: 78.65%\n"
          ]
        }
      ],
      "source": [
        "boost = lgb.LGBMClassifier()\n",
        "\n",
        "clf_pipe = make_pipeline(cat_preprocessor, boost)\n",
        "clf_pipe.fit(df_X_train, df_y_train)\n",
        "    \n",
        "print(f\"Training Accuracy: {100*clf_pipe.score(df_X_train, df_y_train):0.2f}%\")\n",
        "print(f\"Validation Accuracy: {100*clf_pipe.score(df_X_valid, df_y_valid):0.2f}%\")\n",
        "print(f\"Test Accuracy: {100*clf_pipe.score(df_X_test, df_y_test):0.2f}%\")"
      ]
    },
    {
      "cell_type": "markdown",
      "metadata": {
        "id": "bff75bd4"
      },
      "source": [
        "## LightGBM (Categorical)"
      ]
    },
    {
      "cell_type": "markdown",
      "metadata": {
        "id": "917e04d8"
      },
      "source": [
        "- In contrast to the \"ordinal\" control above, the \"categorical\" sections shows how to use the implemented support for categorical variables"
      ]
    },
    {
      "cell_type": "code",
      "execution_count": null,
      "metadata": {
        "id": "484ab34e",
        "outputId": "dac9dff1-cfeb-4008-8563-8d0bbb78185d",
        "colab": {
          "base_uri": "https://localhost:8080/"
        }
      },
      "outputs": [
        {
          "output_type": "stream",
          "name": "stdout",
          "text": [
            "Training Accuracy: 89.12%\n",
            "Validation Accuracy: 76.97%\n",
            "Test Accuracy: 79.21%\n"
          ]
        },
        {
          "output_type": "stream",
          "name": "stderr",
          "text": [
            "/usr/local/lib/python3.8/dist-packages/lightgbm/basic.py:739: UserWarning: categorical_feature keyword has been found in `params` and will be ignored.\n",
            "Please use categorical_feature argument of the Dataset constructor to pass this parameter.\n",
            "  warnings.warn('{0} keyword has been found in `params` and will be ignored.\\n'\n"
          ]
        }
      ],
      "source": [
        "boost = lgb.LGBMClassifier(categorical_feature=\"0,1\")\n",
        "\n",
        "clf_pipe = make_pipeline(cat_preprocessor, boost)\n",
        "clf_pipe.fit(df_X_train, df_y_train)\n",
        "    \n",
        "print(f\"Training Accuracy: {100*clf_pipe.score(df_X_train, df_y_train):0.2f}%\")\n",
        "print(f\"Validation Accuracy: {100*clf_pipe.score(df_X_valid, df_y_valid):0.2f}%\")\n",
        "print(f\"Test Accuracy: {100*clf_pipe.score(df_X_test, df_y_test):0.2f}%\")"
      ]
    },
    {
      "cell_type": "markdown",
      "metadata": {
        "id": "8f8ac7fd"
      },
      "source": [
        "## CatBoost (Onehot)"
      ]
    },
    {
      "cell_type": "code",
      "execution_count": null,
      "metadata": {
        "id": "6b2b9df2",
        "outputId": "856ae33b-c749-48c5-fac3-07eb9e2bf2e7",
        "colab": {
          "base_uri": "https://localhost:8080/"
        }
      },
      "outputs": [
        {
          "output_type": "stream",
          "name": "stdout",
          "text": [
            "Training Accuracy: 87.24%\n",
            "Validation Accuracy: 77.53%\n",
            "Test Accuracy: 78.65%\n"
          ]
        }
      ],
      "source": [
        "from catboost import CatBoostClassifier\n",
        "\n",
        "\n",
        "boost = CatBoostClassifier(verbose=0)\n",
        "\n",
        "clf_pipe = make_pipeline(ohe_preprocessor, boost)\n",
        "clf_pipe.fit(df_X_train, df_y_train)\n",
        "    \n",
        "print(f\"Training Accuracy: {100*clf_pipe.score(df_X_train, df_y_train):0.2f}%\")\n",
        "print(f\"Validation Accuracy: {100*clf_pipe.score(df_X_valid, df_y_valid):0.2f}%\")\n",
        "print(f\"Test Accuracy: {100*clf_pipe.score(df_X_test, df_y_test):0.2f}%\")"
      ]
    },
    {
      "cell_type": "markdown",
      "metadata": {
        "id": "539fc986"
      },
      "source": [
        "## CatBoost (Ordinal)"
      ]
    },
    {
      "cell_type": "code",
      "execution_count": null,
      "metadata": {
        "id": "982188b1",
        "outputId": "0322e39b-f740-4e75-f886-343401170a73",
        "colab": {
          "base_uri": "https://localhost:8080/"
        }
      },
      "outputs": [
        {
          "output_type": "stream",
          "name": "stdout",
          "text": [
            "Training Accuracy: 88.37%\n",
            "Validation Accuracy: 78.09%\n",
            "Test Accuracy: 78.09%\n"
          ]
        }
      ],
      "source": [
        "from catboost import CatBoostClassifier\n",
        "\n",
        "\n",
        "boost = CatBoostClassifier(verbose=0)\n",
        "\n",
        "clf_pipe = make_pipeline(cat_preprocessor, boost)\n",
        "clf_pipe.fit(df_X_train, df_y_train)\n",
        "    \n",
        "print(f\"Training Accuracy: {100*clf_pipe.score(df_X_train, df_y_train):0.2f}%\")\n",
        "print(f\"Validation Accuracy: {100*clf_pipe.score(df_X_valid, df_y_valid):0.2f}%\")\n",
        "print(f\"Test Accuracy: {100*clf_pipe.score(df_X_test, df_y_test):0.2f}%\")"
      ]
    },
    {
      "cell_type": "markdown",
      "metadata": {
        "id": "197bb7cc"
      },
      "source": [
        "## CatBoost (Categorical)"
      ]
    },
    {
      "cell_type": "markdown",
      "metadata": {
        "id": "3252bacc"
      },
      "source": [
        "- In contrast to the \"ordinal\" control above, the \"categorical\" sections shows how to use the implemented support for categorical variables"
      ]
    },
    {
      "cell_type": "code",
      "execution_count": null,
      "metadata": {
        "id": "68d32f4a",
        "outputId": "d86fe2f7-7115-4014-b43c-6f2ce5ad7b71",
        "colab": {
          "base_uri": "https://localhost:8080/"
        }
      },
      "outputs": [
        {
          "output_type": "stream",
          "name": "stdout",
          "text": [
            "Training Accuracy: 85.37%\n",
            "Validation Accuracy: 78.09%\n",
            "Test Accuracy: 76.40%\n"
          ]
        }
      ],
      "source": [
        "boost = CatBoostClassifier(verbose=0, cat_features=['Sex', 'Embarked'])\n",
        "\n",
        "\n",
        "#clf_pipe = make_pipeline(cat_preprocessor, boost)\n",
        "boost.fit(df_X_train, df_y_train)\n",
        "\n",
        "print(f\"Training Accuracy: {100*boost.score(df_X_train, df_y_train):0.2f}%\")\n",
        "print(f\"Validation Accuracy: {100*boost.score(df_X_valid, df_y_valid):0.2f}%\")\n",
        "print(f\"Test Accuracy: {100*boost.score(df_X_test, df_y_test):0.2f}%\")"
      ]
    },
    {
      "cell_type": "markdown",
      "metadata": {
        "id": "tQyh2cnubUnK"
      },
      "source": [
        "# Random Forests"
      ]
    },
    {
      "cell_type": "code",
      "execution_count": null,
      "metadata": {
        "id": "KQ5sjZyUbUnK",
        "outputId": "78c0f5c1-5197-43ae-864f-8b556717c70f",
        "colab": {
          "base_uri": "https://localhost:8080/"
        }
      },
      "outputs": [
        {
          "output_type": "stream",
          "name": "stdout",
          "text": [
            "Train/Valid/Test sizes: 318 80 171\n"
          ]
        }
      ],
      "source": [
        "from sklearn import model_selection\n",
        "from sklearn.model_selection import train_test_split\n",
        "from sklearn import datasets\n",
        "\n",
        "\n",
        "data = datasets.load_breast_cancer()\n",
        "X, y = data.data, data.target\n",
        "\n",
        "X_temp, X_test, y_temp, y_test = \\\n",
        "    train_test_split(X, y, test_size=0.3, random_state=123, stratify=y)\n",
        "\n",
        "X_train, X_valid, y_train, y_valid = \\\n",
        "    train_test_split(X_temp, y_temp, test_size=0.2, random_state=123, stratify=y_temp)\n",
        "\n",
        "print('Train/Valid/Test sizes:', y_train.shape[0], y_valid.shape[0], y_test.shape[0])"
      ]
    },
    {
      "cell_type": "code",
      "execution_count": null,
      "metadata": {
        "id": "NaN5AB3HbUnL",
        "outputId": "3529d15b-668c-41c4-8db7-cded63dd3820",
        "colab": {
          "base_uri": "https://localhost:8080/"
        }
      },
      "outputs": [
        {
          "output_type": "stream",
          "name": "stdout",
          "text": [
            "Training Accuracy: 1.00\n",
            "Validation Accuracy: 0.95\n",
            "Test Accuracy: 0.98\n"
          ]
        }
      ],
      "source": [
        "from sklearn.ensemble import RandomForestClassifier\n",
        "\n",
        "\n",
        "forest = RandomForestClassifier(n_estimators=100,\n",
        "                                random_state=1)\n",
        "\n",
        "forest.fit(X_train, y_train)\n",
        "    \n",
        "print(\"Training Accuracy: %0.2f\" % forest.score(X_train, y_train))\n",
        "print(\"Validation Accuracy: %0.2f\" % forest.score(X_valid, y_valid))\n",
        "print(\"Test Accuracy: %0.2f\" % forest.score(X_test, y_test))"
      ]
    },
    {
      "cell_type": "code",
      "execution_count": null,
      "metadata": {
        "id": "UKk6wiUobUnL",
        "outputId": "7933d095-32b0-4141-c457-6960812e6c41",
        "colab": {
          "base_uri": "https://localhost:8080/"
        }
      },
      "outputs": [
        {
          "output_type": "stream",
          "name": "stdout",
          "text": [
            "Training Accuracy: 1.00\n",
            "Validation Accuracy: 1.00\n",
            "Test Accuracy: 0.98\n"
          ]
        }
      ],
      "source": [
        "from sklearn.ensemble import ExtraTreesClassifier\n",
        "\n",
        "\n",
        "forest = ExtraTreesClassifier(n_estimators=100,\n",
        "                              random_state=1)\n",
        "\n",
        "forest.fit(X_train, y_train)\n",
        "    \n",
        "    \n",
        "print(\"Training Accuracy: %0.2f\" % forest.score(X_train, y_train))\n",
        "print(\"Validation Accuracy: %0.2f\" % forest.score(X_valid, y_valid))\n",
        "print(\"Test Accuracy: %0.2f\" % forest.score(X_test, y_test))"
      ]
    },
    {
      "cell_type": "markdown",
      "metadata": {
        "id": "q2UNvKI4bhZG"
      },
      "source": [
        "# Stacking"
      ]
    },
    {
      "cell_type": "markdown",
      "metadata": {
        "id": "m98IYFQlbhZG"
      },
      "source": [
        "## Dataset"
      ]
    },
    {
      "cell_type": "code",
      "execution_count": null,
      "metadata": {
        "id": "cIzsrq-fbhZG",
        "outputId": "28f40b0e-0d35-4294-f84a-093048473c23",
        "colab": {
          "base_uri": "https://localhost:8080/"
        }
      },
      "outputs": [
        {
          "output_type": "stream",
          "name": "stdout",
          "text": [
            "Train/Valid/Test sizes: 318 80 171\n"
          ]
        }
      ],
      "source": [
        "from sklearn.model_selection import train_test_split\n",
        "from sklearn import datasets\n",
        "\n",
        "data = datasets.load_breast_cancer()\n",
        "X, y = data.data, data.target\n",
        "\n",
        "X_temp, X_test, y_temp, y_test = \\\n",
        "    train_test_split(X, y, test_size=0.3, random_state=123, stratify=y)\n",
        "\n",
        "X_train, X_valid, y_train, y_valid = \\\n",
        "    train_test_split(X_temp, y_temp, test_size=0.2, random_state=123, stratify=y_temp)\n",
        "\n",
        "print('Train/Valid/Test sizes:', y_train.shape[0], y_valid.shape[0], y_test.shape[0])"
      ]
    },
    {
      "cell_type": "markdown",
      "metadata": {
        "id": "vOSVvvQKbhZH"
      },
      "source": [
        "## Stacking Classifier from scikit-learn (also includes CV)"
      ]
    },
    {
      "cell_type": "code",
      "execution_count": null,
      "metadata": {
        "id": "bB4VpOOYbhZH",
        "outputId": "36e351de-d9d4-4f22-b8b2-8fa172176ceb",
        "colab": {
          "base_uri": "https://localhost:8080/"
        }
      },
      "outputs": [
        {
          "output_type": "stream",
          "name": "stdout",
          "text": [
            "Training Accuracy: 1.00\n",
            "Validation Accuracy: 0.99\n",
            "Test Accuracy: 0.98\n"
          ]
        }
      ],
      "source": [
        "from sklearn import model_selection\n",
        "from sklearn.linear_model import LogisticRegression\n",
        "from sklearn.neighbors import KNeighborsClassifier\n",
        "from sklearn.ensemble import AdaBoostClassifier\n",
        "from sklearn.ensemble import RandomForestClassifier\n",
        "from sklearn.tree import DecisionTreeClassifier\n",
        "from sklearn.ensemble import HistGradientBoostingClassifier\n",
        "from sklearn.ensemble import StackingClassifier\n",
        "\n",
        "\n",
        "clf1 = KNeighborsClassifier(n_neighbors=5)\n",
        "clf2 = RandomForestClassifier(random_state=123)\n",
        "clf3 = HistGradientBoostingClassifier(random_state=123)\n",
        "clf4 = AdaBoostClassifier(random_state=123)\n",
        "clf5 = DecisionTreeClassifier(random_state=123,\n",
        "                              max_depth=None)\n",
        "\n",
        "lr = LogisticRegression(random_state=123)\n",
        "\n",
        "estimators = [('clf1', clf1),\n",
        "              ('clf2', clf2),\n",
        "              ('clf3', clf3),\n",
        "              ('clf4', clf4),\n",
        "              ('clf5', clf5)]\n",
        "\n",
        "sclf = StackingClassifier(estimators=estimators, \n",
        "                          final_estimator=lr, \n",
        "                          cv=10)\n",
        "\n",
        "\n",
        "sclf.fit(X_train, y_train)\n",
        "print(\"Training Accuracy: %0.2f\" % sclf.score(X_train, y_train))\n",
        "print(\"Validation Accuracy: %0.2f\" % sclf.score(X_valid, y_valid))\n",
        "print(\"Test Accuracy: %0.2f\" % sclf.score(X_test, y_test))"
      ]
    }
  ],
  "metadata": {
    "kernelspec": {
      "display_name": "Python 3",
      "language": "python",
      "name": "python3"
    },
    "language_info": {
      "codemirror_mode": {
        "name": "ipython",
        "version": 3
      },
      "file_extension": ".py",
      "mimetype": "text/x-python",
      "name": "python",
      "nbconvert_exporter": "python",
      "pygments_lexer": "ipython3",
      "version": "3.8.8"
    },
    "colab": {
      "provenance": []
    }
  },
  "nbformat": 4,
  "nbformat_minor": 0
}