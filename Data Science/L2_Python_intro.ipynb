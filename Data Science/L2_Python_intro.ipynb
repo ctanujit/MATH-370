{
  "cells": [
    {
      "cell_type": "markdown",
      "metadata": {
        "id": "zxnBw4GZQbEU"
      },
      "source": [
        "MATH 370: Machine Learning (2023)"
      ]
    },
    {
      "cell_type": "markdown",
      "metadata": {
        "id": "37ABGjbxQbEX"
      },
      "source": [
        "# Scientific Computing in Python"
      ]
    },
    {
      "cell_type": "markdown",
      "metadata": {
        "id": "g5cjcPP8QbEa"
      },
      "source": [
        "---\n",
        "\n",
        "### NumPy Basics\n",
        "\n",
        "---"
      ]
    },
    {
      "cell_type": "markdown",
      "metadata": {
        "id": "Xu8ENN8lQbEb"
      },
      "source": [
        "## NumPy -- Working with Numerical Arrays"
      ]
    },
    {
      "cell_type": "markdown",
      "metadata": {
        "id": "Vv5dw19KQbEb"
      },
      "source": [
        "### Introduction to NumPy"
      ]
    },
    {
      "cell_type": "markdown",
      "metadata": {
        "id": "tL_GjmN5QbEb"
      },
      "source": [
        "This section offers a quick tour of the NumPy library for working with multi-dimensional arrays in Python. NumPy (short for Numerical Python) was created in 2005, by merging Numarray into Numeric. Since then, the open source NumPy library has evolved into an essential library for scientific computing in Python and has become a building block of many other scientific libraries, such as SciPy, Scikit-learn, Pandas, and others.\n",
        "What makes NumPy so particularly attractive to the scientific community is that it provides a convenient Python interface for working with multi-dimensional array data structures efficiently; the NumPy array data structure is also called `ndarray`, which is short for *n*-dimensional array. \n",
        "\n",
        "In addition to being mostly implemented in C and using Python as a \"glue language,\" the main reason why NumPy is so efficient for numerical computations is that NumPy arrays use contiguous blocks of memory that can be efficiently cached by the CPU. In contrast, Python lists are arrays of pointers to objects in random locations in memory, which cannot be easily cached and come with a more expensive memory-look-up. However, the computational efficiency and low-memory footprint come at a cost: NumPy arrays have a fixed size and are homogeneous, which means that all elements must have the same type. Homogenous `ndarray` objects have the advantage that NumPy can carry out operations using efficient C loops and avoid expensive type checks and other overheads of the Python API. While adding and removing elements from the end of a Python list is very efficient, altering the size of a NumPy array is very expensive since it requires to create a new array and carry over the contents of the old array that we want to expand or shrink. \n",
        "\n",
        "Besides being more efficient for numerical computations than native Python code, NumPy can also be more elegant and readable due to vectorized operations and broadcasting, which are features that we will explore in this lecture. While this material should be sufficient to follow the code examples in this course."
      ]
    },
    {
      "cell_type": "markdown",
      "metadata": {
        "id": "ht49S5T9QbEc"
      },
      "source": [
        "### Motivation: NumPy is fast!"
      ]
    },
    {
      "cell_type": "markdown",
      "metadata": {
        "id": "lF7KS9pxQbEc"
      },
      "source": [
        "To provide you with some motivation why learning about and using NumPy is useful, take a look at the speed comparison computing a vector dot product in Python (using lists) versus NumPy (the details will become clear later)."
      ]
    },
    {
      "cell_type": "markdown",
      "metadata": {
        "id": "Y8mkUoxcQbEd"
      },
      "source": [
        "$$\n",
        "z = \\sum_i x_i w_i = \\mathbf{x}^\\top \\mathbf{w}\n",
        "$$"
      ]
    },
    {
      "cell_type": "code",
      "execution_count": null,
      "metadata": {
        "colab": {
          "base_uri": "https://localhost:8080/"
        },
        "id": "A68ncEacQbEd",
        "outputId": "addc4a7f-30b8-42f4-a463-720094044bad"
      },
      "outputs": [
        {
          "output_type": "stream",
          "name": "stdout",
          "text": [
            "32.0\n"
          ]
        }
      ],
      "source": [
        "def python_forloop_list_approach(x, w):\n",
        "    z = 0.\n",
        "    for i in range(len(x)):\n",
        "        z += x[i] * w[i]\n",
        "    return z\n",
        "\n",
        "a = [1., 2., 3.]\n",
        "b = [4., 5., 6.]\n",
        "\n",
        "print(python_forloop_list_approach(a, b))"
      ]
    },
    {
      "cell_type": "code",
      "execution_count": null,
      "metadata": {
        "colab": {
          "base_uri": "https://localhost:8080/"
        },
        "id": "qhQf60r8QbEd",
        "outputId": "130245ff-b7a1-4a79-9d98-a554fc718471"
      },
      "outputs": [
        {
          "output_type": "execute_result",
          "data": {
            "text/plain": [
              "332833500.0"
            ]
          },
          "metadata": {},
          "execution_count": 5
        }
      ],
      "source": [
        "large_a = list(range(1000))\n",
        "large_b = list(range(1000))\n",
        "\n",
        "python_forloop_list_approach(large_a, large_b)"
      ]
    },
    {
      "cell_type": "code",
      "execution_count": null,
      "metadata": {
        "colab": {
          "base_uri": "https://localhost:8080/"
        },
        "id": "1bkj-AZKQbEd",
        "outputId": "a43f7803-ec99-470f-9096-921e9578d210"
      },
      "outputs": [
        {
          "output_type": "stream",
          "name": "stdout",
          "text": [
            "32.0\n"
          ]
        }
      ],
      "source": [
        "import numpy as np\n",
        "\n",
        "\n",
        "def numpy_dotproduct_approach(x, w):\n",
        "    return x.dot(w)\n",
        "\n",
        "a = np.array([1., 2., 3.])\n",
        "b = np.array([4., 5., 6.])\n",
        "\n",
        "print(numpy_dotproduct_approach(a, b))"
      ]
    },
    {
      "cell_type": "code",
      "execution_count": null,
      "metadata": {
        "colab": {
          "base_uri": "https://localhost:8080/"
        },
        "id": "hwWdV70CQbEe",
        "outputId": "c5504553-b32a-4474-fcbe-d9b1ce5d42f0"
      },
      "outputs": [
        {
          "output_type": "execute_result",
          "data": {
            "text/plain": [
              "332833500"
            ]
          },
          "metadata": {},
          "execution_count": 7
        }
      ],
      "source": [
        "large_a = np.arange(1000)\n",
        "large_b = np.arange(1000)\n",
        "\n",
        "numpy_dotproduct_approach(large_a, large_b)"
      ]
    },
    {
      "cell_type": "markdown",
      "metadata": {
        "id": "n4d9wZwHQbEe"
      },
      "source": [
        "### N-dimensional Arrays"
      ]
    },
    {
      "cell_type": "markdown",
      "metadata": {
        "id": "KECDwqwDQbEe"
      },
      "source": [
        "NumPy is built around [`ndarrays`](https://docs.scipy.org/doc/numpy/reference/generated/numpy.ndarray.html) objects, which are high-performance multi-dimensional array data structures. Intuitively, we can think of a one-dimensional NumPy array as a data structure to represent a vector of elements -- you may think of it as a fixed-size Python list where all elements share the same type. Similarly, we can think of a two-dimensional array as a data structure to represent a matrix or a Python list of lists. While NumPy arrays can have up to 32 dimensions if it was compiled without alterations to the source code, we will focus on lower-dimensional arrays for the purpose of illustration in this introduction.\n",
        "\n",
        "Now, let us get started with NumPy by calling the `array` function to create a two-dimensional NumPy array, consisting of two rows and three columns, from a list of lists:"
      ]
    },
    {
      "cell_type": "code",
      "execution_count": null,
      "metadata": {
        "colab": {
          "base_uri": "https://localhost:8080/"
        },
        "id": "zBITiWS_QbEe",
        "outputId": "e49029de-d608-4f88-817b-7665de6be99d"
      },
      "outputs": [
        {
          "output_type": "execute_result",
          "data": {
            "text/plain": [
              "array([[1, 2, 3],\n",
              "       [4, 5, 6]])"
            ]
          },
          "metadata": {},
          "execution_count": 8
        }
      ],
      "source": [
        "import numpy as np\n",
        "\n",
        "\n",
        "lst = [[1, 2, 3], [4, 5, 6]]\n",
        "ary2d = np.array(lst)\n",
        "ary2d"
      ]
    },
    {
      "cell_type": "markdown",
      "metadata": {
        "id": "FW0nDo52QbEf"
      },
      "source": [
        "By default, NumPy infers the type of the array upon construction. Since we passed Python integers to the array, the `ndarray` object `ary2d` should be of type `int64` on a 64-bit machine, which we can confirm by accessing the `dtype` attribute:"
      ]
    },
    {
      "cell_type": "code",
      "execution_count": null,
      "metadata": {
        "colab": {
          "base_uri": "https://localhost:8080/"
        },
        "id": "sBSmc5YyQbEf",
        "outputId": "34bc2d4c-3a0e-4c4f-dccc-476777848921"
      },
      "outputs": [
        {
          "output_type": "execute_result",
          "data": {
            "text/plain": [
              "dtype('int64')"
            ]
          },
          "metadata": {},
          "execution_count": 9
        }
      ],
      "source": [
        "ary2d.dtype"
      ]
    },
    {
      "cell_type": "markdown",
      "metadata": {
        "id": "a9XcyFznQbEf"
      },
      "source": [
        "If we want to construct NumPy arrays of different types, we can pass an argument to the `dtype` parameter of the `array` function, for example `np.int32` to create 32-bit arrays. For a full list of supported data types, please refer to the official [NumPy documentation](https://docs.scipy.org/doc/numpy/user/basics.types.html). Once an array has been constructed, we can downcast or recast its type via the `astype` method as shown in the following example:"
      ]
    },
    {
      "cell_type": "code",
      "execution_count": null,
      "metadata": {
        "colab": {
          "base_uri": "https://localhost:8080/"
        },
        "id": "5rXsTZmTQbEf",
        "outputId": "fb5afa0f-3cde-4c41-c96e-e74d429e147b"
      },
      "outputs": [
        {
          "output_type": "execute_result",
          "data": {
            "text/plain": [
              "array([[1., 2., 3.],\n",
              "       [4., 5., 6.]], dtype=float32)"
            ]
          },
          "metadata": {},
          "execution_count": 10
        }
      ],
      "source": [
        "float32_ary = ary2d.astype(np.float32)\n",
        "float32_ary"
      ]
    },
    {
      "cell_type": "code",
      "execution_count": null,
      "metadata": {
        "colab": {
          "base_uri": "https://localhost:8080/"
        },
        "id": "fo9FZ03jQbEf",
        "outputId": "ebedf0c4-0629-471b-e720-1c666832c10f"
      },
      "outputs": [
        {
          "output_type": "execute_result",
          "data": {
            "text/plain": [
              "dtype('float32')"
            ]
          },
          "metadata": {},
          "execution_count": 11
        }
      ],
      "source": [
        "float32_ary.dtype"
      ]
    },
    {
      "cell_type": "markdown",
      "metadata": {
        "id": "6-WX23txQbEf"
      },
      "source": [
        "To return the number of elements in an array, we can use the `size` attribute, as shown below:"
      ]
    },
    {
      "cell_type": "code",
      "execution_count": null,
      "metadata": {
        "id": "uE9EbeXjQbEf",
        "outputId": "22d80c70-e1a4-41b4-e6fb-b99f752eba46"
      },
      "outputs": [
        {
          "data": {
            "text/plain": [
              "6"
            ]
          },
          "execution_count": 14,
          "metadata": {},
          "output_type": "execute_result"
        }
      ],
      "source": [
        "ary2d.size"
      ]
    },
    {
      "cell_type": "markdown",
      "metadata": {
        "id": "DvlM7LT8QbEg"
      },
      "source": [
        "And the number of dimensions of our array (Intuitively, you may think of *dimensions* as the *rank* of a tensor) can be obtained via the `ndim` attribute:"
      ]
    },
    {
      "cell_type": "code",
      "execution_count": null,
      "metadata": {
        "colab": {
          "base_uri": "https://localhost:8080/"
        },
        "id": "qjl2WGj3QbEg",
        "outputId": "dc14c460-6bb4-46f6-88f3-1ba99b5b9064"
      },
      "outputs": [
        {
          "output_type": "execute_result",
          "data": {
            "text/plain": [
              "2"
            ]
          },
          "metadata": {},
          "execution_count": 12
        }
      ],
      "source": [
        "ary2d.ndim"
      ]
    },
    {
      "cell_type": "markdown",
      "metadata": {
        "id": "YH7B1yvxQbEh"
      },
      "source": [
        "If we are interested in the number of elements along each array dimension (in the context of NumPy arrays, we may also refer to them as *axes*), we can access the `shape` attribute as shown below:"
      ]
    },
    {
      "cell_type": "code",
      "execution_count": null,
      "metadata": {
        "colab": {
          "base_uri": "https://localhost:8080/"
        },
        "id": "at_JqVk2QbEh",
        "outputId": "c547f5db-8023-43e2-fdbc-b16c3b54ac20"
      },
      "outputs": [
        {
          "output_type": "execute_result",
          "data": {
            "text/plain": [
              "(2, 3)"
            ]
          },
          "metadata": {},
          "execution_count": 13
        }
      ],
      "source": [
        "ary2d.shape"
      ]
    },
    {
      "cell_type": "markdown",
      "metadata": {
        "id": "fwoPfpOtQbEh"
      },
      "source": [
        "The `shape` is always a tuple; in the code example above, the two-dimensional `ary` object has two *rows* and *three* columns, `(2, 3)`, if we think of it as a matrix representation.\n",
        "\n",
        "Similarly, the `shape` of the one-dimensional array only contains a single value:"
      ]
    },
    {
      "cell_type": "code",
      "execution_count": null,
      "metadata": {
        "colab": {
          "base_uri": "https://localhost:8080/"
        },
        "id": "bXXzQ1AAQbEh",
        "outputId": "0210a19d-276c-4c0f-bec9-977e9e856793"
      },
      "outputs": [
        {
          "output_type": "execute_result",
          "data": {
            "text/plain": [
              "(3,)"
            ]
          },
          "metadata": {},
          "execution_count": 14
        }
      ],
      "source": [
        "np.array([1, 2, 3]).shape"
      ]
    },
    {
      "cell_type": "markdown",
      "metadata": {
        "id": "cbIyFZMeQbEh"
      },
      "source": [
        "---\n",
        "\n",
        "###  NumPy Array Construction and Indexing\n",
        "\n",
        "---"
      ]
    },
    {
      "cell_type": "markdown",
      "metadata": {
        "id": "j-h6-K8GQbEh"
      },
      "source": [
        "### Array Construction Routines"
      ]
    },
    {
      "cell_type": "markdown",
      "metadata": {
        "id": "pcwEF-86QbEh"
      },
      "source": [
        "This section provides a non-comprehensive list of array construction functions. Simple yet useful functions exist to construct arrays containing ones or zeros:"
      ]
    },
    {
      "cell_type": "code",
      "execution_count": null,
      "metadata": {
        "colab": {
          "base_uri": "https://localhost:8080/"
        },
        "id": "wj-r6fczQbEi",
        "outputId": "fe1a004b-8807-4787-c6e3-6880ca55eb44"
      },
      "outputs": [
        {
          "output_type": "execute_result",
          "data": {
            "text/plain": [
              "array([[1., 1., 1.],\n",
              "       [1., 1., 1.],\n",
              "       [1., 1., 1.]])"
            ]
          },
          "metadata": {},
          "execution_count": 15
        }
      ],
      "source": [
        "np.ones((3, 3))"
      ]
    },
    {
      "cell_type": "code",
      "execution_count": null,
      "metadata": {
        "colab": {
          "base_uri": "https://localhost:8080/"
        },
        "id": "bjSgsaCYQbEi",
        "outputId": "dee4317f-07a0-424a-a9be-b23fb7da3acf"
      },
      "outputs": [
        {
          "output_type": "execute_result",
          "data": {
            "text/plain": [
              "array([[0., 0., 0.],\n",
              "       [0., 0., 0.],\n",
              "       [0., 0., 0.]])"
            ]
          },
          "metadata": {},
          "execution_count": 16
        }
      ],
      "source": [
        "np.zeros((3, 3))"
      ]
    },
    {
      "cell_type": "markdown",
      "metadata": {
        "id": "siyOjuYIQbEi"
      },
      "source": [
        "Creating arrays of ones or zeros can also be useful as placeholder arrays, in cases where we do not want to use the initial values for computations but want to fill it with other values right away. If we do not need the initial values (for instance, `'0.'` or `'1.'`), there is also `numpy.empty`, which follows the same syntax as `numpy.ones` and `np.zeros`. However, instead of filling the array with a particular value, the `empty` function creates the array with non-sensical values from memory. We can think of `zeros` as a function that creates the array via `empty` and then sets all its values to `0.` -- in practice, a difference in speed is not noticeable, though.  "
      ]
    },
    {
      "cell_type": "markdown",
      "metadata": {
        "id": "TjikZxGEQbEi"
      },
      "source": [
        "NumPy also comes with functions to create identity matrices and diagonal matrices as `ndarrays` that can be useful in the context of linear algebra -- a topic that we will explore later in this section. "
      ]
    },
    {
      "cell_type": "code",
      "execution_count": null,
      "metadata": {
        "colab": {
          "base_uri": "https://localhost:8080/"
        },
        "id": "i5LAp0Q4QbEi",
        "outputId": "f56bc4f8-86bb-442b-dd57-e409fe7004f6"
      },
      "outputs": [
        {
          "output_type": "execute_result",
          "data": {
            "text/plain": [
              "array([[1., 0., 0.],\n",
              "       [0., 1., 0.],\n",
              "       [0., 0., 1.]])"
            ]
          },
          "metadata": {},
          "execution_count": 17
        }
      ],
      "source": [
        "np.eye(3)"
      ]
    },
    {
      "cell_type": "code",
      "execution_count": null,
      "metadata": {
        "colab": {
          "base_uri": "https://localhost:8080/"
        },
        "id": "v66UQZg6QbEj",
        "outputId": "9397149b-0476-41ff-d312-42124ddbb5e7"
      },
      "outputs": [
        {
          "output_type": "execute_result",
          "data": {
            "text/plain": [
              "array([[1, 0, 0],\n",
              "       [0, 2, 0],\n",
              "       [0, 0, 3]])"
            ]
          },
          "metadata": {},
          "execution_count": 20
        }
      ],
      "source": [
        "np.diag((1, 2, 3))"
      ]
    },
    {
      "cell_type": "markdown",
      "metadata": {
        "id": "LZwnoSK0QbEj"
      },
      "source": [
        "Lastly, I want to mention two very useful functions for creating sequences of numbers within a specified range, namely, `arange` and `linspace`. NumPy's `arange` function follows the same syntax as Python's `range` objects: If two arguments are provided, the first argument represents the start value and the second value defines the stop value of a half-open interval:"
      ]
    },
    {
      "cell_type": "code",
      "execution_count": null,
      "metadata": {
        "colab": {
          "base_uri": "https://localhost:8080/"
        },
        "id": "spPI3RqFQbEj",
        "outputId": "09ceef85-f455-4143-cbcb-d6342b06b687"
      },
      "outputs": [
        {
          "output_type": "execute_result",
          "data": {
            "text/plain": [
              "array([4., 5., 6., 7., 8., 9.])"
            ]
          },
          "metadata": {},
          "execution_count": 21
        }
      ],
      "source": [
        "np.arange(4., 10.)"
      ]
    },
    {
      "cell_type": "markdown",
      "metadata": {
        "id": "YGLvqqC7QbEj"
      },
      "source": [
        "Notice that `arange` also performs type inference similar to the `array` function. If we only provide a single function argument, the range object treats this number as the endpoint of the interval and starts at 0:"
      ]
    },
    {
      "cell_type": "code",
      "execution_count": null,
      "metadata": {
        "colab": {
          "base_uri": "https://localhost:8080/"
        },
        "id": "j5ly-7hXQbEj",
        "outputId": "fc28a23e-a51a-46b1-9d81-253760cb0cd5"
      },
      "outputs": [
        {
          "output_type": "execute_result",
          "data": {
            "text/plain": [
              "array([0, 1, 2, 3, 4])"
            ]
          },
          "metadata": {},
          "execution_count": 22
        }
      ],
      "source": [
        "np.arange(5)"
      ]
    },
    {
      "cell_type": "markdown",
      "metadata": {
        "id": "DrgLGsgkQbEj"
      },
      "source": [
        "Similar to Python's `range`, a third argument can be provided to define the *step* (the default step size is 1). For example, we can obtain an array of all uneven values between one and ten as follows:"
      ]
    },
    {
      "cell_type": "code",
      "execution_count": null,
      "metadata": {
        "colab": {
          "base_uri": "https://localhost:8080/"
        },
        "id": "0ps8kCa0QbEj",
        "outputId": "6f06c197-1a92-460c-d57f-40283d1d5ff9"
      },
      "outputs": [
        {
          "output_type": "execute_result",
          "data": {
            "text/plain": [
              "array([1., 3., 5., 7., 9.])"
            ]
          },
          "metadata": {},
          "execution_count": 23
        }
      ],
      "source": [
        "np.arange(1., 11., 2)"
      ]
    },
    {
      "cell_type": "markdown",
      "metadata": {
        "id": "Afk5aoQXQbEk"
      },
      "source": [
        "The `linspace` function is especially useful if we want to create a particular number of evenly spaced values in a specified half-open interval:"
      ]
    },
    {
      "cell_type": "code",
      "execution_count": null,
      "metadata": {
        "colab": {
          "base_uri": "https://localhost:8080/"
        },
        "id": "0wduvx9gQbEk",
        "outputId": "1aebdc93-059a-407f-d3af-e22bbd7805d0"
      },
      "outputs": [
        {
          "output_type": "execute_result",
          "data": {
            "text/plain": [
              "array([0.  , 0.25, 0.5 , 0.75, 1.  ])"
            ]
          },
          "metadata": {},
          "execution_count": 24
        }
      ],
      "source": [
        "np.linspace(0., 1., num=5)"
      ]
    },
    {
      "cell_type": "markdown",
      "metadata": {
        "id": "EesqaOX4QbEk"
      },
      "source": [
        "### Array Indexing"
      ]
    },
    {
      "cell_type": "markdown",
      "metadata": {
        "id": "HvPGij0lQbEk"
      },
      "source": [
        "In this section, we will go over the basics of retrieving NumPy array elements via different indexing methods. Simple NumPy indexing and slicing works similar to Python lists, which we will demonstrate in the following code snippet, where we retrieve the first element of a one-dimensional array:"
      ]
    },
    {
      "cell_type": "code",
      "execution_count": null,
      "metadata": {
        "colab": {
          "base_uri": "https://localhost:8080/"
        },
        "id": "pxZUh15qQbEk",
        "outputId": "bf6c373e-e45d-4f66-eba7-a893e20ba914"
      },
      "outputs": [
        {
          "output_type": "execute_result",
          "data": {
            "text/plain": [
              "1"
            ]
          },
          "metadata": {},
          "execution_count": 25
        }
      ],
      "source": [
        "ary = np.array([1, 2, 3])\n",
        "ary[0]"
      ]
    },
    {
      "cell_type": "markdown",
      "metadata": {
        "id": "cmSER10lQbEk"
      },
      "source": [
        "Also, the same Python semantics apply to slicing operations. The following example shows how to fetch the first two elements in `ary`:"
      ]
    },
    {
      "cell_type": "code",
      "execution_count": null,
      "metadata": {
        "colab": {
          "base_uri": "https://localhost:8080/"
        },
        "id": "jeq2N-JOQbEk",
        "outputId": "7493c97b-7cc5-4ccd-aa1c-f8aa95ec19d2"
      },
      "outputs": [
        {
          "output_type": "execute_result",
          "data": {
            "text/plain": [
              "array([1, 2])"
            ]
          },
          "metadata": {},
          "execution_count": 26
        }
      ],
      "source": [
        "ary[:2] # equivalent to ary[0:2]"
      ]
    },
    {
      "cell_type": "markdown",
      "metadata": {
        "id": "5N_TUFclQbEl"
      },
      "source": [
        "If we work with arrays that have more than one dimension or axis, we separate our indexing or slicing operations by commas as shown in the series of examples below:"
      ]
    },
    {
      "cell_type": "code",
      "execution_count": null,
      "metadata": {
        "colab": {
          "base_uri": "https://localhost:8080/"
        },
        "id": "QZ4NVoT5QbEl",
        "outputId": "095424e0-0e85-4b86-f37a-6b8d5f8e98a9"
      },
      "outputs": [
        {
          "output_type": "execute_result",
          "data": {
            "text/plain": [
              "1"
            ]
          },
          "metadata": {},
          "execution_count": 27
        }
      ],
      "source": [
        "ary = np.array([[1, 2, 3],\n",
        "                [4, 5, 6]])\n",
        "\n",
        "ary[0, 0] # upper left"
      ]
    },
    {
      "cell_type": "code",
      "execution_count": null,
      "metadata": {
        "colab": {
          "base_uri": "https://localhost:8080/"
        },
        "id": "P41RhtBGQbEl",
        "outputId": "dca06fc2-b95a-4e9b-9842-47b2330a4d75"
      },
      "outputs": [
        {
          "output_type": "execute_result",
          "data": {
            "text/plain": [
              "6"
            ]
          },
          "metadata": {},
          "execution_count": 28
        }
      ],
      "source": [
        "ary[-1, -1] # lower right"
      ]
    },
    {
      "cell_type": "code",
      "execution_count": null,
      "metadata": {
        "colab": {
          "base_uri": "https://localhost:8080/"
        },
        "id": "KoXKxFIbQbEm",
        "outputId": "f889f44b-6e47-410e-a7ea-1a12580e4a9f"
      },
      "outputs": [
        {
          "output_type": "execute_result",
          "data": {
            "text/plain": [
              "2"
            ]
          },
          "metadata": {},
          "execution_count": 29
        }
      ],
      "source": [
        "ary[0, 1] # first row, second column"
      ]
    },
    {
      "cell_type": "code",
      "execution_count": null,
      "metadata": {
        "colab": {
          "base_uri": "https://localhost:8080/"
        },
        "id": "7ozgCBVQQbEn",
        "outputId": "e3391430-9f0d-4c48-a88e-f1368617ed79"
      },
      "outputs": [
        {
          "output_type": "execute_result",
          "data": {
            "text/plain": [
              "array([1, 2, 3])"
            ]
          },
          "metadata": {},
          "execution_count": 30
        }
      ],
      "source": [
        "ary[0] # entire first row"
      ]
    },
    {
      "cell_type": "code",
      "execution_count": null,
      "metadata": {
        "id": "S166rmoAQbEn",
        "outputId": "39789e20-d89a-4e83-ea0e-9df0ad64f7f4"
      },
      "outputs": [
        {
          "data": {
            "text/plain": [
              "array([1, 4])"
            ]
          },
          "execution_count": 32,
          "metadata": {},
          "output_type": "execute_result"
        }
      ],
      "source": [
        "ary[:, 0] # entire first column"
      ]
    },
    {
      "cell_type": "code",
      "execution_count": null,
      "metadata": {
        "colab": {
          "base_uri": "https://localhost:8080/"
        },
        "id": "1qX9BkelQbEn",
        "outputId": "20ade412-e7f6-45d3-8503-4370e4ddff30"
      },
      "outputs": [
        {
          "output_type": "execute_result",
          "data": {
            "text/plain": [
              "array([[1, 2],\n",
              "       [4, 5]])"
            ]
          },
          "metadata": {},
          "execution_count": 31
        }
      ],
      "source": [
        "ary[:, :2] # first two columns"
      ]
    },
    {
      "cell_type": "code",
      "execution_count": null,
      "metadata": {
        "colab": {
          "base_uri": "https://localhost:8080/"
        },
        "id": "KhU-LO4RQbEn",
        "outputId": "77926300-43b0-48bb-bb94-ebad3c8cc0de"
      },
      "outputs": [
        {
          "output_type": "execute_result",
          "data": {
            "text/plain": [
              "1"
            ]
          },
          "metadata": {},
          "execution_count": 32
        }
      ],
      "source": [
        "ary[0, 0]"
      ]
    },
    {
      "cell_type": "markdown",
      "metadata": {
        "id": "pPviDBh2QbEo"
      },
      "source": [
        "---\n",
        "\n",
        "### NumPy Array Math and Universal Functions\n",
        "\n",
        "---"
      ]
    },
    {
      "cell_type": "markdown",
      "metadata": {
        "id": "88uGP7hcQbEo"
      },
      "source": [
        "### Array Math and Universal Functions"
      ]
    },
    {
      "cell_type": "markdown",
      "metadata": {
        "id": "2INauDT1QbEo"
      },
      "source": [
        "In the previous sections, you learned how to create NumPy arrays and how to access different elements in an array. It is about time that we introduce one of the core features of NumPy that makes working with `ndarray` so efficient and convenient: vectorization. While we typically use for-loops if we want to perform arithmetic operations on sequence-like objects, NumPy provides vectorized wrappers for performing element-wise operations implicitly via so-called *ufuncs* -- short for universal functions.\n",
        "\n",
        "As of this writing, there are more than 60 ufuncs available in NumPy; ufuncs are implemented in compiled C code and very fast and efficient compared to vanilla Python. In this section, we will take a look at the most commonly used ufuncs, and I recommend you to check out the [official documentation](https://docs.scipy.org/doc/numpy/reference/ufuncs.html#available-ufuncs) for a complete list.\n",
        "\n",
        "To provide an example of a simple ufunc for element-wise addition, consider the following example, where we add a scalar (here: 1) to each element in a nested Python list:"
      ]
    },
    {
      "cell_type": "code",
      "execution_count": null,
      "metadata": {
        "colab": {
          "base_uri": "https://localhost:8080/"
        },
        "id": "dp-6V4U5QbEo",
        "outputId": "9cfab790-66f0-4591-a203-581cb99e276f"
      },
      "outputs": [
        {
          "output_type": "execute_result",
          "data": {
            "text/plain": [
              "[[2, 3, 4], [5, 6, 7]]"
            ]
          },
          "metadata": {},
          "execution_count": 33
        }
      ],
      "source": [
        "lst = [[1, 2, 3], [4, 5, 6]]\n",
        "\n",
        "for row_idx, row_val in enumerate(lst):\n",
        "    for col_idx, col_val in enumerate(row_val):\n",
        "        lst[row_idx][col_idx] += 1\n",
        "lst"
      ]
    },
    {
      "cell_type": "markdown",
      "metadata": {
        "id": "Rybo6VRuQbEo"
      },
      "source": [
        "This for-loop approach is very verbose, and we could achieve the same goal more elegantly using list comprehensions:"
      ]
    },
    {
      "cell_type": "code",
      "execution_count": null,
      "metadata": {
        "colab": {
          "base_uri": "https://localhost:8080/"
        },
        "id": "HFsUKqwTQbEo",
        "outputId": "39b188ec-90ad-4bbb-9ee4-ddd03c8a300d"
      },
      "outputs": [
        {
          "output_type": "execute_result",
          "data": {
            "text/plain": [
              "[[2, 3, 4], [5, 6, 7]]"
            ]
          },
          "metadata": {},
          "execution_count": 34
        }
      ],
      "source": [
        "lst = [[1, 2, 3], [4, 5, 6]]\n",
        "[[cell + 1 for cell in row] for row in lst]"
      ]
    },
    {
      "cell_type": "markdown",
      "metadata": {
        "id": "tsNxwCZGQbEo"
      },
      "source": [
        "We can accomplish the same using NumPy's ufunc for element-wise scalar addition as shown below:"
      ]
    },
    {
      "cell_type": "code",
      "execution_count": null,
      "metadata": {
        "colab": {
          "base_uri": "https://localhost:8080/"
        },
        "id": "bS07MhSsQbEo",
        "outputId": "0b92ae62-6ede-4f67-b930-0f8ce6f5cb05"
      },
      "outputs": [
        {
          "output_type": "execute_result",
          "data": {
            "text/plain": [
              "array([[2, 3, 4],\n",
              "       [5, 6, 7]])"
            ]
          },
          "metadata": {},
          "execution_count": 35
        }
      ],
      "source": [
        "ary = np.array([[1, 2, 3], [4, 5, 6]])\n",
        "ary = np.add(ary, 1)\n",
        "ary"
      ]
    },
    {
      "cell_type": "markdown",
      "metadata": {
        "id": "dzJSWsmBQbEw"
      },
      "source": [
        "The ufuncs for basic arithmetic operations are `add`, `subtract`, `divide`, `multiply`, and `exp` (exponential). However, NumPy uses operator overloading so that we can use mathematical operators (`+`, `-`, `/`, `*`, and `**`) directly:"
      ]
    },
    {
      "cell_type": "code",
      "execution_count": null,
      "metadata": {
        "colab": {
          "base_uri": "https://localhost:8080/"
        },
        "id": "xUkHkxBoQbEw",
        "outputId": "303d361b-370e-44e3-87ce-3e9bc159bfac"
      },
      "outputs": [
        {
          "output_type": "execute_result",
          "data": {
            "text/plain": [
              "array([[3, 4, 5],\n",
              "       [6, 7, 8]])"
            ]
          },
          "metadata": {},
          "execution_count": 36
        }
      ],
      "source": [
        "ary + 1"
      ]
    },
    {
      "cell_type": "code",
      "execution_count": null,
      "metadata": {
        "colab": {
          "base_uri": "https://localhost:8080/"
        },
        "id": "pUa2DSyjQbEx",
        "outputId": "3661a3f8-07e3-484b-c523-7fa84dd71f45"
      },
      "outputs": [
        {
          "output_type": "execute_result",
          "data": {
            "text/plain": [
              "array([[ 4,  9, 16],\n",
              "       [25, 36, 49]])"
            ]
          },
          "metadata": {},
          "execution_count": 37
        }
      ],
      "source": [
        "ary**2"
      ]
    },
    {
      "cell_type": "markdown",
      "metadata": {
        "id": "AHNH4CxLQbEx"
      },
      "source": [
        "Above, we have seen examples of *binary* ufuncs, which are ufuncs that take two arguments as an input. In addition, NumPy implements several useful *unary* ufuncs, such as `log` (natural logarithm), `log10` (base-10 logarithm), and `sqrt` (square root).\n",
        "\n",
        "Often, we want to compute the sum or product of array element along a given axis. For this purpose, we can use a ufunc's `reduce` operation. By default, `reduce` applies an operation along the first axis (`axis=0`). In the case of a two-dimensional array, we can think of the first axis as the rows of a matrix. Thus, adding up elements along rows yields the column sums of that matrix as shown below:"
      ]
    },
    {
      "cell_type": "code",
      "execution_count": null,
      "metadata": {
        "colab": {
          "base_uri": "https://localhost:8080/"
        },
        "id": "51gycwXDQbEy",
        "outputId": "7c776212-bbd9-4d8a-88fb-7b4ebcb2ed8b"
      },
      "outputs": [
        {
          "output_type": "execute_result",
          "data": {
            "text/plain": [
              "array([5, 7, 9])"
            ]
          },
          "metadata": {},
          "execution_count": 38
        }
      ],
      "source": [
        "ary = np.array([[1, 2, 3], \n",
        "                [4, 5, 6]])\n",
        "\n",
        "np.add.reduce(ary) # column sumns"
      ]
    },
    {
      "cell_type": "markdown",
      "metadata": {
        "id": "hhP2nZ27QbE0"
      },
      "source": [
        "To compute the row sums of the array above, we can specify `axis=1`:"
      ]
    },
    {
      "cell_type": "code",
      "execution_count": null,
      "metadata": {
        "colab": {
          "base_uri": "https://localhost:8080/"
        },
        "id": "TKYccR4SQbE0",
        "outputId": "f4cadd76-af42-4ef7-c507-ff779304712c"
      },
      "outputs": [
        {
          "output_type": "execute_result",
          "data": {
            "text/plain": [
              "array([ 6, 15])"
            ]
          },
          "metadata": {},
          "execution_count": 39
        }
      ],
      "source": [
        "np.add.reduce(ary, axis=1) # row sums"
      ]
    },
    {
      "cell_type": "markdown",
      "metadata": {
        "id": "9_m8seN6QbE0"
      },
      "source": [
        "While it can be more intuitive to use `reduce` as a more general operation, NumPy also provides shorthands for specific operations such as `product` and `sum`. For example, `sum(axis=0)` is equivalent to `add.reduce`:"
      ]
    },
    {
      "cell_type": "code",
      "execution_count": null,
      "metadata": {
        "colab": {
          "base_uri": "https://localhost:8080/"
        },
        "id": "vYBsBLuhQbE0",
        "outputId": "1747a4d1-71de-4866-b5d2-7ca11e492353"
      },
      "outputs": [
        {
          "output_type": "execute_result",
          "data": {
            "text/plain": [
              "array([5, 7, 9])"
            ]
          },
          "metadata": {},
          "execution_count": 40
        }
      ],
      "source": [
        "ary.sum(axis=0) # column sums"
      ]
    },
    {
      "cell_type": "markdown",
      "metadata": {
        "id": "Ycc97YSEQbE1"
      },
      "source": [
        "As a word of caution, keep in mind that `product` and `sum` both compute the product or sum of the entire array if we do not specify an axis:"
      ]
    },
    {
      "cell_type": "code",
      "execution_count": null,
      "metadata": {
        "colab": {
          "base_uri": "https://localhost:8080/"
        },
        "id": "XbtAoSvYQbE1",
        "outputId": "b9d42046-e130-4394-9afe-e9b0a2b88168"
      },
      "outputs": [
        {
          "output_type": "execute_result",
          "data": {
            "text/plain": [
              "21"
            ]
          },
          "metadata": {},
          "execution_count": 41
        }
      ],
      "source": [
        "ary.sum()"
      ]
    },
    {
      "cell_type": "markdown",
      "metadata": {
        "id": "ACkdBTNKQbE1"
      },
      "source": [
        "Other useful unary ufuncs are:\n",
        "    \n",
        "- `np.mean` (computes arithmetic average)\n",
        "- `np.std` (computes the standard deviation)\n",
        "- `np.var` (computes variance)\n",
        "- `np.sort` (sorts an array)\n",
        "- `np.argsort` (returns indices that would sort an array)\n",
        "- `np.min` (returns the minimum value of an array)\n",
        "- `np.max` (returns the maximum value of an array)\n",
        "- `np.argmin` (returns the index of the minimum value)\n",
        "- `np.argmax` (returns the index of the maximum value)\n",
        "- `np.array_equal` (checks if two arrays have the same shape and elements)"
      ]
    },
    {
      "cell_type": "markdown",
      "metadata": {
        "id": "9uhHFAnfQbE1"
      },
      "source": [
        "---\n",
        "\n",
        "### NumPy Broadcasting\n",
        "\n",
        "---"
      ]
    },
    {
      "cell_type": "markdown",
      "metadata": {
        "id": "XyxvTITWQbE2"
      },
      "source": [
        "### Broadcasting"
      ]
    },
    {
      "cell_type": "markdown",
      "metadata": {
        "id": "QmHNlnObQbE2"
      },
      "source": [
        "A topic we glanced over in the previous section is broadcasting. Broadcasting allows us to perform vectorized operations between two arrays even if their dimensions do not match by creating implicit multidimensional grids. You already learned about ufuncs in the previous section where we performed element-wise addition between a scalar and a multidimensional array, which is just one example of broadcasting. \n",
        "Naturally, we can also perform element-wise operations between arrays of equal dimensions:"
      ]
    },
    {
      "cell_type": "code",
      "execution_count": null,
      "metadata": {
        "colab": {
          "base_uri": "https://localhost:8080/"
        },
        "id": "Qz-mWpPOQbE3",
        "outputId": "4dcfcf27-c8be-4fd3-94e0-e34908eec647"
      },
      "outputs": [
        {
          "output_type": "execute_result",
          "data": {
            "text/plain": [
              "array([5, 7, 9])"
            ]
          },
          "metadata": {},
          "execution_count": 42
        }
      ],
      "source": [
        "ary1 = np.array([1, 2, 3])\n",
        "ary2 = np.array([4, 5, 6])\n",
        "\n",
        "ary1 + ary2"
      ]
    },
    {
      "cell_type": "markdown",
      "metadata": {
        "id": "Efl1GhcWQbE3"
      },
      "source": [
        "In contrast to what we are used from linear algebra, we can also add arrays of different shapes. In the example above, we will add a one-dimensional to a two-dimensional array, where NumPy creates an implicit multidimensional grid from the one-dimensional array `ary1`:"
      ]
    },
    {
      "cell_type": "code",
      "execution_count": null,
      "metadata": {
        "colab": {
          "base_uri": "https://localhost:8080/"
        },
        "id": "xObvhcXrQbE3",
        "outputId": "aca8d4cb-a8da-43ab-e6d5-5e2dddce7154"
      },
      "outputs": [
        {
          "output_type": "execute_result",
          "data": {
            "text/plain": [
              "array([[ 5,  7,  9],\n",
              "       [ 8, 10, 12]])"
            ]
          },
          "metadata": {},
          "execution_count": 43
        }
      ],
      "source": [
        "ary3 = np.array([[4, 5, 6], \n",
        "                 [7, 8, 9]])\n",
        "\n",
        "ary3 + ary1 # similarly, ary1 + ary3"
      ]
    },
    {
      "cell_type": "markdown",
      "metadata": {
        "id": "MW0oKE0cQbE4"
      },
      "source": [
        "---\n",
        "\n",
        "### NumPy Advanced Indexing -- Memory Views and Copies\n",
        "\n",
        "---"
      ]
    },
    {
      "cell_type": "markdown",
      "metadata": {
        "id": "8TRAzsu2QbE4"
      },
      "source": [
        "### Advanced Indexing -- Memory Views and Copies"
      ]
    },
    {
      "cell_type": "markdown",
      "metadata": {
        "id": "9GnM_Ut2QbE4"
      },
      "source": [
        "In the previous sections, we have used basic indexing and slicing routines. It is important to note that basic integer-based indexing and slicing create so-called *views* of NumPy arrays in memory. Working with views can be highly desirable since it avoids making unnecessary copies of arrays to save memory resources. To illustrate the concept of memory views, let us walk through a simple example where we access the first row in an array, assign it to a variable, and modify that variable:"
      ]
    },
    {
      "cell_type": "code",
      "execution_count": null,
      "metadata": {
        "colab": {
          "base_uri": "https://localhost:8080/"
        },
        "id": "NHHCTW2qQbFA",
        "outputId": "9c27998c-bf2c-447f-864b-6d39a1844494"
      },
      "outputs": [
        {
          "output_type": "execute_result",
          "data": {
            "text/plain": [
              "array([[100, 101, 102],\n",
              "       [  4,   5,   6]])"
            ]
          },
          "metadata": {},
          "execution_count": 44
        }
      ],
      "source": [
        "ary = np.array([[1, 2, 3],\n",
        "                [4, 5, 6]])\n",
        "\n",
        "first_row = ary[0]\n",
        "first_row += 99\n",
        "ary"
      ]
    },
    {
      "cell_type": "markdown",
      "metadata": {
        "id": "9MgMGvHxQbFB"
      },
      "source": [
        "As we can see in the example above, changing the value of `first_row` also affected the original array. The reason for this is that `ary[0]` created a view of the first row in `ary`, and its elements were then incremented by 99. The same concept applies to slicing operations:"
      ]
    },
    {
      "cell_type": "code",
      "execution_count": null,
      "metadata": {
        "colab": {
          "base_uri": "https://localhost:8080/"
        },
        "id": "ZIO3Zy9dQbFB",
        "outputId": "2b49114f-05fd-4b3f-d7d3-ffb11f280a29"
      },
      "outputs": [
        {
          "output_type": "execute_result",
          "data": {
            "text/plain": [
              "array([[100, 101, 102],\n",
              "       [  4,   5,   6]])"
            ]
          },
          "metadata": {},
          "execution_count": 45
        }
      ],
      "source": [
        "ary = np.array([[1, 2, 3],\n",
        "                [4, 5, 6]])\n",
        "\n",
        "first_row = ary[:1]\n",
        "first_row += 99\n",
        "ary"
      ]
    },
    {
      "cell_type": "code",
      "execution_count": null,
      "metadata": {
        "colab": {
          "base_uri": "https://localhost:8080/"
        },
        "id": "ncorfy2BQbFB",
        "outputId": "ba5ff13e-1fae-45be-9172-89c9b84e17d6"
      },
      "outputs": [
        {
          "output_type": "execute_result",
          "data": {
            "text/plain": [
              "array([[  1, 101,   3],\n",
              "       [  4, 104,   6]])"
            ]
          },
          "metadata": {},
          "execution_count": 46
        }
      ],
      "source": [
        "ary = np.array([[1, 2, 3],\n",
        "                [4, 5, 6]])\n",
        "\n",
        "center_col = ary[:, 1]\n",
        "center_col += 99\n",
        "ary"
      ]
    },
    {
      "cell_type": "markdown",
      "metadata": {
        "id": "t4fzmxwIQbFB"
      },
      "source": [
        "If we are working with NumPy arrays, it is always important to be aware that **slicing creates views** -- sometimes it is desirable since it can speed up our code by avoiding to create unnecessary copies in memory. However, in certain scenarios we want force a copy of an array; we can do this via the `copy` method as shown below:"
      ]
    },
    {
      "cell_type": "code",
      "execution_count": null,
      "metadata": {
        "colab": {
          "base_uri": "https://localhost:8080/"
        },
        "id": "un2OvTWYQbFB",
        "outputId": "9c3ec599-072f-4935-8569-13c460ff1767"
      },
      "outputs": [
        {
          "output_type": "execute_result",
          "data": {
            "text/plain": [
              "array([[1, 2, 3],\n",
              "       [4, 5, 6]])"
            ]
          },
          "metadata": {},
          "execution_count": 47
        }
      ],
      "source": [
        "ary = np.array([[1, 2, 3],\n",
        "                [4, 5, 6]])\n",
        "\n",
        "second_row = ary[1].copy()\n",
        "second_row += 99\n",
        "ary"
      ]
    },
    {
      "cell_type": "markdown",
      "metadata": {
        "id": "nhsO_7iCQbFB"
      },
      "source": [
        "In addition to basic single-integer indexing and slicing operations, NumPy supports advanced indexing routines called *fancy* indexing. Via fancy indexing, we can use tuple or list objects of non-contiguous integer indices to return desired array elements. Since fancy indexing can be performed with non-contiguous sequences, it cannot return a view -- a contiguous slice from memory. Thus, fancy indexing always returns a copy of an array -- it is important to keep that in mind. The following code snippets show some fancy indexing examples:"
      ]
    },
    {
      "cell_type": "code",
      "execution_count": null,
      "metadata": {
        "colab": {
          "base_uri": "https://localhost:8080/"
        },
        "id": "vShA8yCeQbFB",
        "outputId": "057fa09b-7c38-4462-d410-d766c4a40434"
      },
      "outputs": [
        {
          "output_type": "execute_result",
          "data": {
            "text/plain": [
              "array([[1, 3],\n",
              "       [4, 6]])"
            ]
          },
          "metadata": {},
          "execution_count": 48
        }
      ],
      "source": [
        "ary = np.array([[1, 2, 3],\n",
        "                [4, 5, 6]])\n",
        "\n",
        "ary[:, [0, 2]] # first and and last column"
      ]
    },
    {
      "cell_type": "code",
      "execution_count": null,
      "metadata": {
        "colab": {
          "base_uri": "https://localhost:8080/"
        },
        "id": "GPWltl6NQbFB",
        "outputId": "cac25022-9802-4622-cf55-3c4b413c6d1a"
      },
      "outputs": [
        {
          "output_type": "execute_result",
          "data": {
            "text/plain": [
              "array([[1, 2, 3],\n",
              "       [4, 5, 6]])"
            ]
          },
          "metadata": {},
          "execution_count": 49
        }
      ],
      "source": [
        "this_is_a_copy = ary[:, [0, 2]]\n",
        "this_is_a_copy += 99\n",
        "ary"
      ]
    },
    {
      "cell_type": "code",
      "execution_count": null,
      "metadata": {
        "colab": {
          "base_uri": "https://localhost:8080/"
        },
        "id": "FUg2gtiIQbFC",
        "outputId": "5b6700da-7ce7-4aa1-978f-29bdae54c25d"
      },
      "outputs": [
        {
          "output_type": "execute_result",
          "data": {
            "text/plain": [
              "array([[3, 1],\n",
              "       [6, 4]])"
            ]
          },
          "metadata": {},
          "execution_count": 50
        }
      ],
      "source": [
        "ary[:, [2, 0]] # first and and last column"
      ]
    },
    {
      "cell_type": "markdown",
      "metadata": {
        "id": "gX8ztidZQbFC"
      },
      "source": [
        "Finally, we can also use Boolean masks for indexing -- that is, arrays of `True` and `False` values. Consider the following example, where we return all values in the array that are greater than 3:"
      ]
    },
    {
      "cell_type": "code",
      "execution_count": null,
      "metadata": {
        "colab": {
          "base_uri": "https://localhost:8080/"
        },
        "id": "S_BO8z7SQbFC",
        "outputId": "bf08d091-2bb5-4be9-b849-a4086a59c468"
      },
      "outputs": [
        {
          "output_type": "execute_result",
          "data": {
            "text/plain": [
              "array([[False, False, False],\n",
              "       [ True,  True,  True]])"
            ]
          },
          "metadata": {},
          "execution_count": 51
        }
      ],
      "source": [
        "ary = np.array([[1, 2, 3],\n",
        "                [4, 5, 6]])\n",
        "\n",
        "greater3_mask = ary > 3\n",
        "greater3_mask"
      ]
    },
    {
      "cell_type": "markdown",
      "metadata": {
        "id": "YtPh8YBFQbFC"
      },
      "source": [
        "Using these masks, we can select elements given our desired criteria:"
      ]
    },
    {
      "cell_type": "code",
      "execution_count": null,
      "metadata": {
        "colab": {
          "base_uri": "https://localhost:8080/"
        },
        "id": "5fGnwG7KQbFD",
        "outputId": "778cdcbe-e41c-4e0c-c84b-2828cfbbe80b"
      },
      "outputs": [
        {
          "output_type": "execute_result",
          "data": {
            "text/plain": [
              "array([4, 5, 6])"
            ]
          },
          "metadata": {},
          "execution_count": 52
        }
      ],
      "source": [
        "ary[greater3_mask]"
      ]
    },
    {
      "cell_type": "markdown",
      "metadata": {
        "id": "z4iA8YTAQbFD"
      },
      "source": [
        "We can also chain different selection criteria using the logical *and* operator '&' or the logical *or* operator '|'. The example below demonstrates how we can select array elements that are greater than 3 and divisible by 2:"
      ]
    },
    {
      "cell_type": "code",
      "execution_count": null,
      "metadata": {
        "colab": {
          "base_uri": "https://localhost:8080/"
        },
        "id": "bj9YTUdpQbFD",
        "outputId": "0126fe39-0319-42a6-f645-b697d40f4ee8"
      },
      "outputs": [
        {
          "output_type": "execute_result",
          "data": {
            "text/plain": [
              "array([4, 6])"
            ]
          },
          "metadata": {},
          "execution_count": 53
        }
      ],
      "source": [
        "ary[(ary > 3) & (ary % 2 == 0)]"
      ]
    },
    {
      "cell_type": "markdown",
      "metadata": {
        "id": "x6YYvzJ_QbFD"
      },
      "source": [
        "Note that indexing using Boolean arrays is also considered \"fancy indexing\" and thus returns a copy of the array."
      ]
    },
    {
      "cell_type": "markdown",
      "metadata": {
        "id": "6LHEocGPQbFD"
      },
      "source": [
        "---\n",
        "\n",
        "### Random Number Generators\n",
        "\n",
        "---"
      ]
    },
    {
      "cell_type": "markdown",
      "metadata": {
        "id": "uxKLl6Y0QbFD"
      },
      "source": [
        "### Random Number Generators"
      ]
    },
    {
      "cell_type": "markdown",
      "metadata": {
        "id": "N27hzbCaQbFD"
      },
      "source": [
        "In machine learning and deep learning, we often have to generate arrays of random numbers -- for example, the initial values of our model parameters before optimization. NumPy has a `random` subpackage to create random numbers and samples from a variety of distributions conveniently. Again, I encourage you to browse through the more comprehensive [numpy.random documentation](https://docs.scipy.org/doc/numpy/reference/routines.random.html) for a more comprehensive list of functions for random sampling.\n",
        "\n",
        "To provide a brief overview of the pseudo-random number generators that we will use most commonly, let's start with drawing a random sample from a uniform distribution:"
      ]
    },
    {
      "cell_type": "code",
      "execution_count": null,
      "metadata": {
        "colab": {
          "base_uri": "https://localhost:8080/"
        },
        "id": "urKgAetEQbFD",
        "outputId": "1e487088-7a6a-43f6-f4b3-07cffc9e9c10"
      },
      "outputs": [
        {
          "output_type": "execute_result",
          "data": {
            "text/plain": [
              "array([0.69646919, 0.28613933, 0.22685145])"
            ]
          },
          "metadata": {},
          "execution_count": 54
        }
      ],
      "source": [
        "np.random.seed(123)\n",
        "np.random.rand(3)"
      ]
    },
    {
      "cell_type": "markdown",
      "metadata": {
        "id": "kgMTOZ1cQbFD"
      },
      "source": [
        "In the code snippet above, we first seeded NumPy's random number generator. Then, we drew three random samples from a uniform distribution via `random.rand` in the half-open interval [0, 1). I highly recommend the seeding step in practical applications as well as in research projects, since it ensures that our results are reproducible. If we run our code sequentially -- for example, if we execute a Python script -- it should be sufficient to seed the random number generator only once at the beginning to enforce reproducible outcomes between different runs. However, it is often useful to create separate `RandomState` objects for various parts of our code, so that we can test methods of functions reliably in unit tests. Working with multiple, separate `RandomState` objects can also be useful if we run our code in non-sequential order -- for example if we are experimenting with our code in interactive sessions or Jupyter Notebook environments. \n",
        "\n",
        "The example below shows how we can use a `RandomState` object to create the same results that we obtained via `np.random.rand` in the previous code snippet:"
      ]
    },
    {
      "cell_type": "code",
      "execution_count": null,
      "metadata": {
        "colab": {
          "base_uri": "https://localhost:8080/"
        },
        "id": "W7bevX1QQbFE",
        "outputId": "c419a0be-c970-44b4-9fef-6f3086b391ef"
      },
      "outputs": [
        {
          "output_type": "execute_result",
          "data": {
            "text/plain": [
              "array([0.69646919, 0.28613933, 0.22685145])"
            ]
          },
          "metadata": {},
          "execution_count": 55
        }
      ],
      "source": [
        "rng1 = np.random.RandomState(seed=123)\n",
        "rng1.rand(3)"
      ]
    },
    {
      "cell_type": "markdown",
      "metadata": {
        "id": "uHmV78LAQbFE"
      },
      "source": [
        "---\n",
        "\n",
        "### Reshaping NumPy Arrays\n",
        "\n",
        "---"
      ]
    },
    {
      "cell_type": "markdown",
      "metadata": {
        "id": "CgBNU3nJQbFE"
      },
      "source": [
        "### Reshaping Arrays"
      ]
    },
    {
      "cell_type": "markdown",
      "metadata": {
        "id": "2YJmMOmGQbFE"
      },
      "source": [
        "In practice, we often run into situations where existing arrays do not have the *right* shape to perform certain computations. As you might remember from the beginning of this lecture, the size of NumPy arrays is fixed. Fortunately, this does not mean that we have to create new arrays and copy values from the old array to the new one if we want arrays of different shapes -- the size is fixed, but the shape is not. NumPy provides a `reshape` methods that allow us to obtain a view of an array with a different shape. \n",
        "\n",
        "For example, we can reshape a one-dimensional array into a two-dimensional one using `reshape` as follows:"
      ]
    },
    {
      "cell_type": "code",
      "execution_count": null,
      "metadata": {
        "colab": {
          "base_uri": "https://localhost:8080/"
        },
        "id": "ZK9pLtnTQbFE",
        "outputId": "64edd63e-80b8-4033-934c-9b6ef21384aa"
      },
      "outputs": [
        {
          "output_type": "execute_result",
          "data": {
            "text/plain": [
              "array([[1, 2, 3],\n",
              "       [4, 5, 6]])"
            ]
          },
          "metadata": {},
          "execution_count": 56
        }
      ],
      "source": [
        "ary1d = np.array([1, 2, 3, 4, 5, 6])\n",
        "ary2d_view = ary1d.reshape(2, 3)\n",
        "ary2d_view"
      ]
    },
    {
      "cell_type": "code",
      "execution_count": null,
      "metadata": {
        "colab": {
          "base_uri": "https://localhost:8080/"
        },
        "id": "srrxLpraQbFE",
        "outputId": "a8256247-31a4-461f-b343-43386a083f74"
      },
      "outputs": [
        {
          "output_type": "execute_result",
          "data": {
            "text/plain": [
              "True"
            ]
          },
          "metadata": {},
          "execution_count": 57
        }
      ],
      "source": [
        "np.may_share_memory(ary2d_view, ary1d)"
      ]
    },
    {
      "cell_type": "markdown",
      "metadata": {
        "id": "6HXVLwoNQbFE"
      },
      "source": [
        "While we need to specify the desired elements along each axis, we need to make sure that the reshaped array has the same number of elements as the original one. However, we do not need to specify the number elements in each axis; NumPy is smart enough to figure out how many elements to put along an axis if only one axis is unspecified (by using the placeholder `-1`):"
      ]
    },
    {
      "cell_type": "code",
      "execution_count": null,
      "metadata": {
        "colab": {
          "base_uri": "https://localhost:8080/"
        },
        "id": "12sc8E5RQbFE",
        "outputId": "b7ac9c97-2760-47c1-b1be-15e986daf19b"
      },
      "outputs": [
        {
          "output_type": "execute_result",
          "data": {
            "text/plain": [
              "array([[1, 2, 3],\n",
              "       [4, 5, 6]])"
            ]
          },
          "metadata": {},
          "execution_count": 77
        }
      ],
      "source": [
        "ary1d.reshape(2, -1)"
      ]
    },
    {
      "cell_type": "code",
      "execution_count": null,
      "metadata": {
        "id": "IQiPH-sRQbFE",
        "outputId": "b6738b97-e690-4d02-ab66-684aaf1da56d"
      },
      "outputs": [
        {
          "data": {
            "text/plain": [
              "array([[1, 2],\n",
              "       [3, 4],\n",
              "       [5, 6]])"
            ]
          },
          "execution_count": 61,
          "metadata": {},
          "output_type": "execute_result"
        }
      ],
      "source": [
        "ary1d.reshape(-1, 2)"
      ]
    },
    {
      "cell_type": "markdown",
      "metadata": {
        "id": "eBJJrZfIQbFF"
      },
      "source": [
        "We can, of course, also use `reshape` to flatten an array:"
      ]
    },
    {
      "cell_type": "code",
      "execution_count": null,
      "metadata": {
        "colab": {
          "base_uri": "https://localhost:8080/"
        },
        "id": "bKOaOJ6IQbFF",
        "outputId": "834202f2-3cec-4e10-8cdf-c854216273f4"
      },
      "outputs": [
        {
          "output_type": "execute_result",
          "data": {
            "text/plain": [
              "array([1, 2, 3, 4, 5, 6])"
            ]
          },
          "metadata": {},
          "execution_count": 78
        }
      ],
      "source": [
        "ary = np.array([[[1, 2, 3],\n",
        "                [4, 5, 6]]])\n",
        "\n",
        "ary.reshape(-1)"
      ]
    },
    {
      "cell_type": "markdown",
      "metadata": {
        "id": "v7VJvSkVQbFG"
      },
      "source": [
        "Sometimes, we are interested in merging different arrays. Unfortunately, there is no efficient way to do this without creating a new array, since NumPy arrays have a fixed size. While combining arrays should be avoided if possible -- for reasons of computational efficiency -- it is sometimes necessary. To combine two or more array objects, we can use NumPy's `concatenate` function as shown in the following examples:"
      ]
    },
    {
      "cell_type": "code",
      "execution_count": null,
      "metadata": {
        "colab": {
          "base_uri": "https://localhost:8080/"
        },
        "id": "PnrAB_RtQbFG",
        "outputId": "30a285c2-7e81-4756-8e12-5c716d32835b"
      },
      "outputs": [
        {
          "output_type": "execute_result",
          "data": {
            "text/plain": [
              "array([1, 2, 3, 1, 2, 3])"
            ]
          },
          "metadata": {},
          "execution_count": 79
        }
      ],
      "source": [
        "ary = np.array([1, 2, 3])\n",
        "\n",
        "# stack along the first axis\n",
        "np.concatenate((ary, ary)) "
      ]
    },
    {
      "cell_type": "code",
      "execution_count": null,
      "metadata": {
        "colab": {
          "base_uri": "https://localhost:8080/"
        },
        "id": "ma15vpBPQbFG",
        "outputId": "3a627db2-a6e4-4cac-f2ad-5d297861bd7a"
      },
      "outputs": [
        {
          "output_type": "execute_result",
          "data": {
            "text/plain": [
              "array([[1, 2, 3],\n",
              "       [1, 2, 3]])"
            ]
          },
          "metadata": {},
          "execution_count": 80
        }
      ],
      "source": [
        "ary = np.array([[1, 2, 3]])\n",
        "\n",
        "# stack along the first axis (here: rows)\n",
        "np.concatenate((ary, ary), axis=0) "
      ]
    },
    {
      "cell_type": "code",
      "execution_count": null,
      "metadata": {
        "colab": {
          "base_uri": "https://localhost:8080/"
        },
        "id": "CjuFV0kTQbFH",
        "outputId": "08a42120-88de-4291-da8e-e35253f6bf45"
      },
      "outputs": [
        {
          "output_type": "execute_result",
          "data": {
            "text/plain": [
              "array([[1, 2, 3, 1, 2, 3]])"
            ]
          },
          "metadata": {},
          "execution_count": 81
        }
      ],
      "source": [
        "# stack along the second axis (here: column)\n",
        "np.concatenate((ary, ary), axis=1) "
      ]
    },
    {
      "cell_type": "markdown",
      "metadata": {
        "id": "IrQlcUYZQbFH"
      },
      "source": [
        "---\n",
        "\n",
        "### NumPy Comparison Operators and Masks\n",
        "\n",
        "---"
      ]
    },
    {
      "cell_type": "markdown",
      "metadata": {
        "id": "L6i4WV37QbFH"
      },
      "source": [
        "### Comparison Operators and Masks"
      ]
    },
    {
      "cell_type": "markdown",
      "metadata": {
        "id": "SsNXbDsTQbFH"
      },
      "source": [
        "In the previous section, we already briefly introduced the concept of Boolean masks in NumPy. Boolean masks are `bool`-type arrays (storing `True` and `False` values) that have the same shape as a certain target array. For example, consider the following 4-element array below. Using comparison operators (such as `<`, `>`, `<=`, and `>=`), we can create a Boolean mask of that array which consists of `True` and `False` elements depending on whether a condition is met in the target array (here: `ary`):"
      ]
    },
    {
      "cell_type": "code",
      "execution_count": null,
      "metadata": {
        "colab": {
          "base_uri": "https://localhost:8080/"
        },
        "id": "2KfO7xYpQbFN",
        "outputId": "e92f663f-f09d-4044-ffdb-a7f1623b6e16"
      },
      "outputs": [
        {
          "output_type": "execute_result",
          "data": {
            "text/plain": [
              "array([False, False,  True,  True])"
            ]
          },
          "metadata": {},
          "execution_count": 69
        }
      ],
      "source": [
        "ary = np.array([1, 2, 3, 4])\n",
        "mask = ary > 2\n",
        "mask"
      ]
    },
    {
      "cell_type": "markdown",
      "metadata": {
        "id": "5yAgo8jpQbFO"
      },
      "source": [
        "One we created such a Boolean mask, we can use it to select certain entries from the target array -- those entries that match the condition upon which the mask was created):"
      ]
    },
    {
      "cell_type": "code",
      "execution_count": null,
      "metadata": {
        "colab": {
          "base_uri": "https://localhost:8080/"
        },
        "id": "yWOdJ7i_QbFO",
        "outputId": "7faccf6f-3435-45fd-dc70-98752e4a3a51"
      },
      "outputs": [
        {
          "output_type": "execute_result",
          "data": {
            "text/plain": [
              "array([3, 4])"
            ]
          },
          "metadata": {},
          "execution_count": 70
        }
      ],
      "source": [
        "ary[mask]"
      ]
    },
    {
      "cell_type": "markdown",
      "metadata": {
        "id": "5-Yl_guyQbFO"
      },
      "source": [
        "Beyond the selection of elements from an array, Boolean masks can also come in handy when we want to count how many elements in an array meet a certain condition:"
      ]
    },
    {
      "cell_type": "code",
      "execution_count": null,
      "metadata": {
        "colab": {
          "base_uri": "https://localhost:8080/"
        },
        "id": "Y-QPvt1FQbFO",
        "outputId": "78a72ea5-e94c-4679-9701-3f40be4bb28a"
      },
      "outputs": [
        {
          "output_type": "execute_result",
          "data": {
            "text/plain": [
              "array([False, False,  True,  True])"
            ]
          },
          "metadata": {},
          "execution_count": 71
        }
      ],
      "source": [
        "mask"
      ]
    },
    {
      "cell_type": "code",
      "execution_count": null,
      "metadata": {
        "colab": {
          "base_uri": "https://localhost:8080/"
        },
        "id": "IzTwopVQQbFO",
        "outputId": "3a60edc1-2a0a-4830-c629-97192848ae4c"
      },
      "outputs": [
        {
          "output_type": "execute_result",
          "data": {
            "text/plain": [
              "2"
            ]
          },
          "metadata": {},
          "execution_count": 72
        }
      ],
      "source": [
        "mask.sum()"
      ]
    },
    {
      "cell_type": "markdown",
      "metadata": {
        "id": "89yHcppOQbFO"
      },
      "source": [
        "A related, useful function to assign values to specific elements in an array is the `np.where` function. In the example below, we assign a 1 to all values in the array that are greater than 2 -- and 0, otherwise:"
      ]
    },
    {
      "cell_type": "code",
      "execution_count": null,
      "metadata": {
        "colab": {
          "base_uri": "https://localhost:8080/"
        },
        "id": "bBD7Y1YEQbFO",
        "outputId": "ba0a12c6-6b8f-466a-e92d-66b532f80670"
      },
      "outputs": [
        {
          "output_type": "execute_result",
          "data": {
            "text/plain": [
              "array([0, 0, 1, 1])"
            ]
          },
          "metadata": {},
          "execution_count": 73
        }
      ],
      "source": [
        "np.where(ary > 2, 1, 0)"
      ]
    },
    {
      "cell_type": "markdown",
      "metadata": {
        "id": "HahdVfenQbFO"
      },
      "source": [
        "There are also so-called bit-wise operators that we can use to specify more complex selection criteria:"
      ]
    },
    {
      "cell_type": "code",
      "execution_count": null,
      "metadata": {
        "colab": {
          "base_uri": "https://localhost:8080/"
        },
        "id": "9pZUup_sQbFO",
        "outputId": "a4ee1fcb-03d9-4ba2-ae93-08f1394d8acc"
      },
      "outputs": [
        {
          "output_type": "execute_result",
          "data": {
            "text/plain": [
              "array([0, 0, 1, 1])"
            ]
          },
          "metadata": {},
          "execution_count": 74
        }
      ],
      "source": [
        "ary = np.array([1, 2, 3, 4])\n",
        "mask = ary > 2\n",
        "ary[mask] = 1\n",
        "ary[~mask] = 0\n",
        "ary"
      ]
    },
    {
      "cell_type": "markdown",
      "metadata": {
        "id": "9rNjNX0GQbFP"
      },
      "source": [
        "The `~` operator in the example above is one of the logical operators in NumPy:\n",
        "    \n",
        "- A: `&`  or `np.bitwise_and`\n",
        "- Or: `|` or `np.bitwise_or`\n",
        "- Xor: `^` or `np.bitwise_xor`\n",
        "- Not: `~` or `np.bitwise_not`"
      ]
    },
    {
      "cell_type": "markdown",
      "metadata": {
        "id": "kqznJpMrQbFP"
      },
      "source": [
        "These logical operators allow us to chain an arbitrary number of conditions to create even more \"complex\" Boolean masks. For example, using the \"Or\" operator, we can select all elements that are greater than 3 or smaller than 2 as follows:"
      ]
    },
    {
      "cell_type": "code",
      "execution_count": null,
      "metadata": {
        "colab": {
          "base_uri": "https://localhost:8080/"
        },
        "id": "ubiHxzxFQbFP",
        "outputId": "26c864f9-99a6-4c8f-a7a1-8a2e6a567eb3"
      },
      "outputs": [
        {
          "output_type": "execute_result",
          "data": {
            "text/plain": [
              "array([ True, False, False,  True])"
            ]
          },
          "metadata": {},
          "execution_count": 75
        }
      ],
      "source": [
        "ary = np.array([1, 2, 3, 4])\n",
        "\n",
        "(ary > 3) | (ary < 2)"
      ]
    },
    {
      "cell_type": "markdown",
      "metadata": {
        "id": "c_TYofFvQbFP"
      },
      "source": [
        "And, for example, to negate the condition, we can use the `~` operator:"
      ]
    },
    {
      "cell_type": "code",
      "execution_count": null,
      "metadata": {
        "colab": {
          "base_uri": "https://localhost:8080/"
        },
        "id": "GieZY7cyQbFP",
        "outputId": "4028c830-c13e-46b0-eee5-7fba4976b507"
      },
      "outputs": [
        {
          "output_type": "execute_result",
          "data": {
            "text/plain": [
              "array([False,  True,  True, False])"
            ]
          },
          "metadata": {},
          "execution_count": 76
        }
      ],
      "source": [
        "~((ary > 3) | (ary < 2))"
      ]
    },
    {
      "cell_type": "markdown",
      "metadata": {
        "id": "O_HgwaohQbFP"
      },
      "source": [
        "---\n",
        "\n",
        "### Linear Algebra with NumPy\n",
        "\n",
        "---"
      ]
    },
    {
      "cell_type": "markdown",
      "metadata": {
        "id": "bHyRTFXFQbFP"
      },
      "source": [
        "### Linear Algebra with NumPy Arrays"
      ]
    },
    {
      "cell_type": "markdown",
      "metadata": {
        "id": "FYPmRV0nQbFP"
      },
      "source": [
        "Intuitively, we can think of one-dimensional NumPy arrays as data structures that represent row vectors:"
      ]
    },
    {
      "cell_type": "code",
      "execution_count": null,
      "metadata": {
        "colab": {
          "base_uri": "https://localhost:8080/"
        },
        "id": "UYedSbV-QbFP",
        "outputId": "d7904007-850f-48d7-c3df-65911566d69b"
      },
      "outputs": [
        {
          "output_type": "execute_result",
          "data": {
            "text/plain": [
              "array([1, 2, 3])"
            ]
          },
          "metadata": {},
          "execution_count": 82
        }
      ],
      "source": [
        "row_vector = np.array([1, 2, 3])\n",
        "row_vector"
      ]
    },
    {
      "cell_type": "markdown",
      "metadata": {
        "id": "NKMkU8MwQbFP"
      },
      "source": [
        "Similarly, we can use two-dimensional arrays to create column vectors:"
      ]
    },
    {
      "cell_type": "code",
      "execution_count": null,
      "metadata": {
        "colab": {
          "base_uri": "https://localhost:8080/"
        },
        "id": "PNwiGZepQbFP",
        "outputId": "8563174f-92e1-4c44-f99b-f3353ba78954"
      },
      "outputs": [
        {
          "output_type": "execute_result",
          "data": {
            "text/plain": [
              "array([[1],\n",
              "       [2],\n",
              "       [3]])"
            ]
          },
          "metadata": {},
          "execution_count": 83
        }
      ],
      "source": [
        "column_vector = np.array([[1, 2, 3]]).reshape(-1, 1)\n",
        "column_vector"
      ]
    },
    {
      "cell_type": "markdown",
      "metadata": {
        "id": "Br7PJzqQQbFP"
      },
      "source": [
        "Instead of reshaping a one-dimensional array into a two-dimensional one, we can simply add a new axis as shown below:"
      ]
    },
    {
      "cell_type": "code",
      "execution_count": null,
      "metadata": {
        "colab": {
          "base_uri": "https://localhost:8080/"
        },
        "id": "4IHI3ehQQbFQ",
        "outputId": "f9317130-b49a-48bf-90e6-3877a7e34063"
      },
      "outputs": [
        {
          "output_type": "execute_result",
          "data": {
            "text/plain": [
              "array([[1],\n",
              "       [2],\n",
              "       [3]])"
            ]
          },
          "metadata": {},
          "execution_count": 84
        }
      ],
      "source": [
        "row_vector[:, np.newaxis]"
      ]
    },
    {
      "cell_type": "markdown",
      "metadata": {
        "id": "M_pTeNrLQbFR"
      },
      "source": [
        "Note that in this context, `np.newaxis` behaves like `None`:"
      ]
    },
    {
      "cell_type": "code",
      "execution_count": null,
      "metadata": {
        "id": "KrKq7AWTQbFR",
        "outputId": "275c82ec-658e-44f2-c17f-ea5e819e3af7"
      },
      "outputs": [
        {
          "data": {
            "text/plain": [
              "array([[1],\n",
              "       [2],\n",
              "       [3]])"
            ]
          },
          "execution_count": 77,
          "metadata": {},
          "output_type": "execute_result"
        }
      ],
      "source": [
        "row_vector[:, None]"
      ]
    },
    {
      "cell_type": "markdown",
      "metadata": {
        "id": "guPWSoSFQbFS"
      },
      "source": [
        "All three approaches listed above, using `reshape(-1, 1)`, `np.newaxis`, or `None` yield the same results -- all three approaches create views not copies of the `row_vector` array.\n",
        "\n",
        "As we remember from the Linear Algebra appendix, we can think of a column vector as a matrix consisting only of one column. To perform matrix multiplication between matrices, we learned that number of columns of the left matrix must match the number of rows of the matrix to the right. In NumPy, we can perform matrix multiplication via the `matmul` function:"
      ]
    },
    {
      "cell_type": "code",
      "execution_count": null,
      "metadata": {
        "id": "dTdD7YMdQbFS"
      },
      "outputs": [],
      "source": [
        "matrix = np.array([[1, 2, 3], \n",
        "                   [4, 5, 6]])"
      ]
    },
    {
      "cell_type": "code",
      "execution_count": null,
      "metadata": {
        "colab": {
          "base_uri": "https://localhost:8080/"
        },
        "id": "r6iVLjVpQbFS",
        "outputId": "dc82ec1e-e150-459c-981b-b0355e07d800"
      },
      "outputs": [
        {
          "output_type": "execute_result",
          "data": {
            "text/plain": [
              "array([[14],\n",
              "       [32]])"
            ]
          },
          "metadata": {},
          "execution_count": 86
        }
      ],
      "source": [
        "np.matmul(matrix, column_vector)"
      ]
    },
    {
      "cell_type": "markdown",
      "metadata": {
        "id": "HPSQXrE5QbFS"
      },
      "source": [
        "However, if we are working with matrices and vectors, NumPy can be quite forgiving if the dimensions of matrices and one-dimensional arrays do not match exactly -- thanks to broadcasting. The following example yields the same result as the matrix-column vector multiplication, except that it returns a one-dimensional array instead of a two-dimensional one:"
      ]
    },
    {
      "cell_type": "code",
      "execution_count": null,
      "metadata": {
        "colab": {
          "base_uri": "https://localhost:8080/"
        },
        "id": "fNSjQdi7QbFS",
        "outputId": "fee16c64-295f-4249-964c-c5c2f4c227df"
      },
      "outputs": [
        {
          "output_type": "execute_result",
          "data": {
            "text/plain": [
              "array([14, 32])"
            ]
          },
          "metadata": {},
          "execution_count": 87
        }
      ],
      "source": [
        "np.matmul(matrix, row_vector)"
      ]
    },
    {
      "cell_type": "markdown",
      "metadata": {
        "id": "1DpH8F8aQbFS"
      },
      "source": [
        "Similarly, we can compute the dot-product between two vectors (here: the vector norm)"
      ]
    },
    {
      "cell_type": "code",
      "execution_count": null,
      "metadata": {
        "colab": {
          "base_uri": "https://localhost:8080/"
        },
        "id": "rboveacXQbFS",
        "outputId": "e1e59fd1-79d4-44c3-92cd-c1e5130c9d3f"
      },
      "outputs": [
        {
          "output_type": "execute_result",
          "data": {
            "text/plain": [
              "14"
            ]
          },
          "metadata": {},
          "execution_count": 88
        }
      ],
      "source": [
        "np.matmul(row_vector, row_vector)"
      ]
    },
    {
      "cell_type": "markdown",
      "metadata": {
        "id": "4pRduhcPQbFS"
      },
      "source": [
        "NumPy has a special `dot` function that behaves similar to `matmul` on pairs of one- or two-dimensional arrays -- its underlying implementation is different though, and one or the other can be slightly faster on specific machines and versions of [BLAS](https://en.wikipedia.org/wiki/Basic_Linear_Algebra_Subprograms):"
      ]
    },
    {
      "cell_type": "code",
      "execution_count": null,
      "metadata": {
        "colab": {
          "base_uri": "https://localhost:8080/"
        },
        "id": "xNrt8hgzQbFT",
        "outputId": "4fddc6a4-c492-4a39-c6a3-671800b0d0e9"
      },
      "outputs": [
        {
          "output_type": "execute_result",
          "data": {
            "text/plain": [
              "14"
            ]
          },
          "metadata": {},
          "execution_count": 89
        }
      ],
      "source": [
        "np.dot(row_vector, row_vector)"
      ]
    },
    {
      "cell_type": "code",
      "execution_count": null,
      "metadata": {
        "colab": {
          "base_uri": "https://localhost:8080/"
        },
        "id": "o27ljAenQbFT",
        "outputId": "5f9487de-3f20-43c4-b977-a4a77e498f12"
      },
      "outputs": [
        {
          "output_type": "execute_result",
          "data": {
            "text/plain": [
              "array([14, 32])"
            ]
          },
          "metadata": {},
          "execution_count": 90
        }
      ],
      "source": [
        "np.dot(matrix, row_vector)"
      ]
    },
    {
      "cell_type": "code",
      "execution_count": null,
      "metadata": {
        "colab": {
          "base_uri": "https://localhost:8080/"
        },
        "id": "cWYq8qJFQbFT",
        "outputId": "93b087fe-b25d-408a-caf6-5846672059e1"
      },
      "outputs": [
        {
          "output_type": "execute_result",
          "data": {
            "text/plain": [
              "array([[14],\n",
              "       [32]])"
            ]
          },
          "metadata": {},
          "execution_count": 91
        }
      ],
      "source": [
        "np.dot(matrix, column_vector)"
      ]
    },
    {
      "cell_type": "markdown",
      "metadata": {
        "id": "YWpwz7hNQbFT"
      },
      "source": [
        "Similar to the examples above we can use `matmul` or `dot` to multiply two matrices (here: two-dimensional arrays). In this context, NumPy arrays have a handy `transpose` method to transpose matrices if necessary:"
      ]
    },
    {
      "cell_type": "code",
      "execution_count": null,
      "metadata": {
        "colab": {
          "base_uri": "https://localhost:8080/"
        },
        "id": "PtWdgkIOQbFT",
        "outputId": "51646129-e235-4af8-f437-c511542d8f38"
      },
      "outputs": [
        {
          "output_type": "execute_result",
          "data": {
            "text/plain": [
              "array([[1, 4],\n",
              "       [2, 5],\n",
              "       [3, 6]])"
            ]
          },
          "metadata": {},
          "execution_count": 92
        }
      ],
      "source": [
        "matrix = np.array([[1, 2, 3], \n",
        "                   [4, 5, 6]])\n",
        "\n",
        "matrix.transpose()"
      ]
    },
    {
      "cell_type": "code",
      "execution_count": null,
      "metadata": {
        "colab": {
          "base_uri": "https://localhost:8080/"
        },
        "id": "sdyiBPVeQbFT",
        "outputId": "9479535e-6348-4a39-a8c6-2f1563e6ae96"
      },
      "outputs": [
        {
          "output_type": "execute_result",
          "data": {
            "text/plain": [
              "array([[14, 32],\n",
              "       [32, 77]])"
            ]
          },
          "metadata": {},
          "execution_count": 93
        }
      ],
      "source": [
        "np.matmul(matrix, matrix.transpose())"
      ]
    },
    {
      "cell_type": "markdown",
      "metadata": {
        "id": "k13CrOVZQbFT"
      },
      "source": [
        "While `transpose` can be annoyingly verbose for implementing linear algebra operations -- think of [PEP8's](https://www.python.org/dev/peps/pep-0008/) *80 character per line* recommendation -- NumPy has a shorthand for that: `T`:"
      ]
    },
    {
      "cell_type": "code",
      "execution_count": null,
      "metadata": {
        "colab": {
          "base_uri": "https://localhost:8080/"
        },
        "id": "XKSHkqdbQbFT",
        "outputId": "0ba533b4-3e17-43f8-cd74-8a038a0c1e7f"
      },
      "outputs": [
        {
          "output_type": "execute_result",
          "data": {
            "text/plain": [
              "array([[1, 4],\n",
              "       [2, 5],\n",
              "       [3, 6]])"
            ]
          },
          "metadata": {},
          "execution_count": 94
        }
      ],
      "source": [
        "matrix.T"
      ]
    },
    {
      "cell_type": "markdown",
      "metadata": {
        "id": "ppv0tkKvQbFT"
      },
      "source": [
        "While this section demonstrates some of the basic linear algebra operations carried out on NumPy arrays that we use in practice, you can find an additional function in the documentation of NumPy's submodule for linear algebra: [`numpy.linalg`](https://docs.scipy.org/doc/numpy/reference/routines.linalg.html). If you want to perform a particular linear algebra routine that is not implemented in NumPy, it is also worth consulting the [`scipy.linalg` documentation](https://docs.scipy.org/doc/scipy/reference/linalg.html) -- SciPy is a library for scientific computing built on top of NumPy."
      ]
    },
    {
      "cell_type": "markdown",
      "metadata": {
        "id": "ds47-UgkQbFT"
      },
      "source": [
        "---\n",
        "\n",
        "I want to mention that there is also a special [`matrix`](https://docs.scipy.org/doc/numpy/reference/generated/numpy.matrix.html) type in NumPy. NumPy `matrix` objects are analogous to NumPy arrays but are restricted to two dimensions. Also, matrices define certain operations differently than arrays; for instance, the `*` operator performs matrix multiplication instead of element-wise multiplication. However, NumPy `matrix` is less popular in the science community compared to the more general array data structure. \n",
        "\n",
        "---"
      ]
    },
    {
      "cell_type": "markdown",
      "metadata": {
        "id": "Sfx6QXg0QbFT"
      },
      "source": [
        "## SciPy"
      ]
    },
    {
      "cell_type": "markdown",
      "metadata": {
        "id": "PQxCatG2QbFT"
      },
      "source": [
        "SciPy is another open-source library from Python's scientific computing stack. SciPy includes submodules for integration, optimization, and many other kinds of computations that are out of the scope of NumPy itself. We will not cover SciPy as a library here, since it can be more considered as an \"add-on\" library on top of NumPy. Rather, we may discuss individual SciPy function in the context of homework exercises if the need arises.\n",
        "\n",
        "In any case, I recommend you to take a look at the SciPy documentation to get a brief overview of the different function that exists within this library: [https://docs.scipy.org/doc/scipy/reference/](https://docs.scipy.org/doc/scipy/reference/)"
      ]
    },
    {
      "cell_type": "markdown",
      "metadata": {
        "id": "N8MYaHjXQbFT"
      },
      "source": [
        "---\n",
        "\n",
        "### Matplotlib\n",
        "\n",
        "---"
      ]
    },
    {
      "cell_type": "markdown",
      "metadata": {
        "id": "fUZR94wKQbFU"
      },
      "source": [
        "## Matplotlib"
      ]
    },
    {
      "cell_type": "markdown",
      "metadata": {
        "id": "b1JUmNS0QbFU"
      },
      "source": [
        "Lastly, we will briefly cover Matplotlib in this lecture. Matplotlib is a plotting library for Python created by John D. Hunter in 2003. \n",
        "\n",
        "In general, Matplotlib is a rather \"low-level\" plotting library, which means that it has a lot of room for customization. The advantage of Matplotlib is that it is so customizable; the disadvantage of Matplotlib is that it is so customizable -- some people find it a little bit too verbose due to all the different options.\n",
        "\n",
        "In any case, Matplotlib is among the most widely used plotting library and the go-to choice for many data scientists and machine learning researchers and practictioners.\n",
        "\n",
        "In my opinion, the best way to work with Matplotlib is to use the Matplotlib gallery on the official website at [https://matplotlib.org/gallery/index.html](https://matplotlib.org/gallery/index.html) often. It contains code examples for creating various different kinds of plots, which are useful as templates for creating your own plots. Also, if you are completely new to Matplotlib, I recommend the tutorials at [https://matplotlib.org/tutorials/index.html](https://matplotlib.org/tutorials/index.html).\n",
        "\n",
        "In this section, we will look at a few very simple examples, which should be very intuitive and shouldn't require much explanation."
      ]
    },
    {
      "cell_type": "code",
      "execution_count": null,
      "metadata": {
        "id": "EYeswNx9QbFU"
      },
      "outputs": [],
      "source": [
        "%matplotlib inline\n",
        "import matplotlib.pyplot as plt"
      ]
    },
    {
      "cell_type": "markdown",
      "metadata": {
        "id": "j0JB139vQbFU"
      },
      "source": [
        "The main plotting functions of Matplotlib are contained in the pyplot module, which we imported above. Note that the `%matplotlib inline` command is an \"IPython magic\" command -- we discussed this last lecture. This particular `%matplotlib inline` is specific to Jupyter notebooks (which, in our case, use an IPython kernel) to show the plots \"inline,\" that is, the notebook itself."
      ]
    },
    {
      "cell_type": "markdown",
      "metadata": {
        "id": "IGrtAdfFQbFU"
      },
      "source": [
        "### Plotting Functions and Lines"
      ]
    },
    {
      "cell_type": "code",
      "execution_count": null,
      "metadata": {
        "colab": {
          "base_uri": "https://localhost:8080/",
          "height": 265
        },
        "id": "sp_rJaIWQbFU",
        "outputId": "e7a99fd8-4e0e-4ba5-df94-46122b3a2725"
      },
      "outputs": [
        {
          "output_type": "display_data",
          "data": {
            "text/plain": [
              "<Figure size 432x288 with 1 Axes>"
            ],
            "image/png": "[encoded data removed]"
          },
          "metadata": {
            "needs_background": "light"
          }
        }
      ],
      "source": [
        "x = np.linspace(0, 10, 100)\n",
        "plt.plot(x, np.sin(x))\n",
        "plt.show()"
      ]
    },
    {
      "cell_type": "markdown",
      "metadata": {
        "id": "OX2wVu3HQbFU"
      },
      "source": [
        "Add axis ranges and labels:"
      ]
    },
    {
      "cell_type": "code",
      "execution_count": null,
      "metadata": {
        "colab": {
          "base_uri": "https://localhost:8080/",
          "height": 279
        },
        "id": "yB3zL-CeQbFU",
        "outputId": "3397fea0-e79a-43f8-c48c-7edb81e6c3c0"
      },
      "outputs": [
        {
          "output_type": "display_data",
          "data": {
            "text/plain": [
              "<Figure size 432x288 with 1 Axes>"
            ],
            "image/png": "[encoded data removed]"
          },
          "metadata": {
            "needs_background": "light"
          }
        }
      ],
      "source": [
        "x = np.linspace(0, 10, 100)\n",
        "plt.plot(x, np.sin(x))\n",
        "\n",
        "plt.xlim([2, 8])\n",
        "plt.ylim([0, 0.75])\n",
        "\n",
        "plt.xlabel('x-axis')\n",
        "plt.ylabel('y-axis')\n",
        "\n",
        "plt.show()"
      ]
    },
    {
      "cell_type": "code",
      "execution_count": null,
      "metadata": {
        "colab": {
          "base_uri": "https://localhost:8080/",
          "height": 279
        },
        "id": "YEUYP1h1QbFU",
        "outputId": "8e070e29-d8bc-41e3-dcf9-17e27e424448"
      },
      "outputs": [
        {
          "output_type": "display_data",
          "data": {
            "text/plain": [
              "<Figure size 432x288 with 1 Axes>"
            ],
            "image/png": "[encoded data removed]"
          },
          "metadata": {
            "needs_background": "light"
          }
        }
      ],
      "source": [
        "x = np.linspace(0, 10, 100)\n",
        "\n",
        "plt.plot(x, np.sin(x), label=('sin(x)'))\n",
        "plt.plot(x, np.cos(x), label=('cos(x)'))\n",
        "\n",
        "plt.ylabel('f(x)')\n",
        "plt.xlabel('x')\n",
        "\n",
        "plt.legend(loc='lower left')\n",
        "plt.show()"
      ]
    },
    {
      "cell_type": "markdown",
      "metadata": {
        "id": "r-vncXp2QbFU"
      },
      "source": [
        "## Scatter Plots"
      ]
    },
    {
      "cell_type": "code",
      "execution_count": null,
      "metadata": {
        "colab": {
          "base_uri": "https://localhost:8080/",
          "height": 265
        },
        "id": "jj2Hga2tQbFU",
        "outputId": "d3884685-407e-47a3-98f4-0b8490807a3e"
      },
      "outputs": [
        {
          "output_type": "display_data",
          "data": {
            "text/plain": [
              "<Figure size 432x288 with 1 Axes>"
            ],
            "image/png": "[encoded data removed]"
          },
          "metadata": {
            "needs_background": "light"
          }
        }
      ],
      "source": [
        "rng = np.random.RandomState(123)\n",
        "x = rng.normal(size=500)\n",
        "y = rng.normal(size=500)\n",
        "\n",
        "\n",
        "plt.scatter(x, y)\n",
        "plt.show()"
      ]
    },
    {
      "cell_type": "markdown",
      "metadata": {
        "id": "X763PWd_QbFU"
      },
      "source": [
        "### Bar Plots"
      ]
    },
    {
      "cell_type": "code",
      "execution_count": null,
      "metadata": {
        "colab": {
          "base_uri": "https://localhost:8080/",
          "height": 265
        },
        "id": "3Jz379EUQbFU",
        "outputId": "9d4925f6-d6e0-4a18-d139-a4735c3883be"
      },
      "outputs": [
        {
          "output_type": "display_data",
          "data": {
            "text/plain": [
              "<Figure size 432x288 with 1 Axes>"
            ],
            "image/png": "[encoded data removed]"
          },
          "metadata": {
            "needs_background": "light"
          }
        }
      ],
      "source": [
        "# input data\n",
        "means = [1, 2, 3]\n",
        "stddevs = [0.2, 0.4, 0.5]\n",
        "bar_labels = ['bar 1', 'bar 2', 'bar 3']\n",
        "\n",
        "\n",
        "# plot bars\n",
        "x_pos = list(range(len(bar_labels)))\n",
        "plt.bar(x_pos, means, yerr=stddevs)\n",
        "\n",
        "plt.show()"
      ]
    },
    {
      "cell_type": "markdown",
      "metadata": {
        "id": "REHZoGTTQbFV"
      },
      "source": [
        "### Histograms"
      ]
    },
    {
      "cell_type": "code",
      "execution_count": null,
      "metadata": {
        "colab": {
          "base_uri": "https://localhost:8080/",
          "height": 265
        },
        "id": "uNko2gWvQbFV",
        "outputId": "aec9b916-50c7-4340-e6b8-3c663d644534"
      },
      "outputs": [
        {
          "output_type": "display_data",
          "data": {
            "text/plain": [
              "<Figure size 432x288 with 1 Axes>"
            ],
            "image/png": "[encoded data removed]"
          },
          "metadata": {
            "needs_background": "light"
          }
        }
      ],
      "source": [
        "rng = np.random.RandomState(123)\n",
        "x = rng.normal(0, 20, 1000) \n",
        "\n",
        "# fixed bin size\n",
        "bins = np.arange(-100, 100, 5) # fixed bin size\n",
        "\n",
        "plt.hist(x, bins=bins)\n",
        "plt.show()"
      ]
    },
    {
      "cell_type": "code",
      "execution_count": null,
      "metadata": {
        "colab": {
          "base_uri": "https://localhost:8080/",
          "height": 265
        },
        "id": "9WbsAMHMQbFV",
        "outputId": "870e6dbd-4351-4a54-fd25-f711c7602f8c"
      },
      "outputs": [
        {
          "output_type": "display_data",
          "data": {
            "text/plain": [
              "<Figure size 432x288 with 1 Axes>"
            ],
            "image/png": "[encoded data removed]"
          },
          "metadata": {
            "needs_background": "light"
          }
        }
      ],
      "source": [
        "rng = np.random.RandomState(123)\n",
        "x1 = rng.normal(0, 20, 1000) \n",
        "x2 = rng.normal(15, 10, 1000)\n",
        "\n",
        "# fixed bin size\n",
        "bins = np.arange(-100, 100, 5) # fixed bin size\n",
        "\n",
        "plt.hist(x1, bins=bins, alpha=0.5)\n",
        "plt.hist(x2, bins=bins, alpha=0.5)\n",
        "plt.show()"
      ]
    },
    {
      "cell_type": "markdown",
      "metadata": {
        "id": "CohG6yUWQbFV"
      },
      "source": [
        "### Subplots"
      ]
    },
    {
      "cell_type": "code",
      "execution_count": null,
      "metadata": {
        "colab": {
          "base_uri": "https://localhost:8080/",
          "height": 265
        },
        "id": "iFdLuqe_QbFV",
        "outputId": "194120c0-535c-44ce-bc32-3bbffeec55a4"
      },
      "outputs": [
        {
          "output_type": "display_data",
          "data": {
            "text/plain": [
              "<Figure size 432x288 with 6 Axes>"
            ],
            "image/png": "[encoded data removed]"
          },
          "metadata": {
            "needs_background": "light"
          }
        }
      ],
      "source": [
        "import matplotlib.pyplot as plt\n",
        "\n",
        "x = range(11)\n",
        "y = range(11)\n",
        "\n",
        "fig, ax = plt.subplots(nrows=2, ncols=3,\n",
        "                       sharex=True, sharey=True)\n",
        "\n",
        "for row in ax:\n",
        "    for col in row:\n",
        "        col.plot(x, y)\n",
        "        \n",
        "plt.show()"
      ]
    },
    {
      "cell_type": "markdown",
      "metadata": {
        "id": "cvmcaJ42QbFV"
      },
      "source": [
        "### Colors and Markers"
      ]
    },
    {
      "cell_type": "code",
      "execution_count": null,
      "metadata": {
        "colab": {
          "base_uri": "https://localhost:8080/",
          "height": 265
        },
        "id": "n_YbEq9NQbFV",
        "outputId": "8919b47a-55e9-4520-8453-88ee730dafc9"
      },
      "outputs": [
        {
          "output_type": "display_data",
          "data": {
            "text/plain": [
              "<Figure size 432x288 with 1 Axes>"
            ],
            "image/png": "[encoded data removed]"
          },
          "metadata": {
            "needs_background": "light"
          }
        }
      ],
      "source": [
        "x = np.linspace(0, 10, 100)\n",
        "plt.plot(x, np.sin(x),\n",
        "         color='orange',\n",
        "         marker='^',\n",
        "         linestyle='')\n",
        "plt.show()"
      ]
    },
    {
      "cell_type": "markdown",
      "metadata": {
        "id": "k0xkVkUdQbFV"
      },
      "source": [
        "### Saving Plots"
      ]
    },
    {
      "cell_type": "markdown",
      "metadata": {
        "id": "Vzzr3qOyQbFV"
      },
      "source": [
        "The file format for saving plots can be conveniently specified via the file suffix (.eps, .svg, .jpg, .png, .pdf, .tiff, etc.). Personally, I recommend using a vector graphics format (.eps, .svg, .pdf) whenever you can, which usually results in smaller file sizes than bitmap graphics (.jpg, .png, .bmp, tiff) and does not have a limited resolution."
      ]
    },
    {
      "cell_type": "code",
      "execution_count": null,
      "metadata": {
        "colab": {
          "base_uri": "https://localhost:8080/",
          "height": 265
        },
        "id": "8LIe774IQbFV",
        "outputId": "9a84c1be-3948-41fb-996b-c2d44e73aaaa"
      },
      "outputs": [
        {
          "output_type": "display_data",
          "data": {
            "text/plain": [
              "<Figure size 432x288 with 1 Axes>"
            ],
            "image/png": "[encoded data removed]"
          },
          "metadata": {
            "needs_background": "light"
          }
        }
      ],
      "source": [
        "x = np.linspace(0, 10, 100)\n",
        "plt.plot(x, np.sin(x))\n",
        "\n",
        "plt.savefig('myplot.png', dpi=300)\n",
        "plt.savefig('myplot.pdf')\n",
        "\n",
        "plt.show()"
      ]
    },
    {
      "cell_type": "markdown",
      "metadata": {
        "id": "AgPt0xnPQbFV"
      },
      "source": [
        "## Resources"
      ]
    },
    {
      "cell_type": "markdown",
      "metadata": {
        "id": "1H_AHtEaQbFV"
      },
      "source": [
        "There are no reading assignments for this lecture. However, you should run this notebook on your computer from top to bottom at your own pace and make sure that you are comfortable with the different commands, most of which you may need for the problem sets."
      ]
    },
    {
      "cell_type": "markdown",
      "metadata": {
        "id": "ZsuTkI9xQbFV"
      },
      "source": [
        "NumPy and Matplotlib reference material:\n",
        "\n",
        "- [The official NumPy documentation](https://docs.scipy.org/doc/numpy/reference/index.html)\n",
        "- [The official Matplotlib Gallery](https://matplotlib.org/gallery/index.html)\n",
        "- [The official Matplotlib Tutorials](https://matplotlib.org/tutorials/index.html)\n",
        "\n",
        "\n",
        "Optional references books for using NumPy and SciPy. You are not expected to read this for this class, but I am listing it in case you are interested in learning NumPy for your projects.\n",
        "\n",
        "- Rougier, N.P., 2016. [From Python to NumPy](http://www.labri.fr/perso/nrougier/from-python-to-numpy/).\n",
        "- Oliphant, T.E., 2015. [A Guide to NumPy: 2nd Edition](https://www.amazon.com/Guide-NumPy-Travis-Oliphant-PhD/dp/151730007X). USA: Travis Oliphant, independent publishing.\n",
        "- Varoquaux, G., Gouillart, E., Vahtras, O., Haenel, V., Rougier, N.P., Gommers, R., Pedregosa, F., Jędrzejewski-Szmek, Z., Virtanen, P., Combelles, C. and Pinte, D., 2015. [SciPy Lecture Notes](http://www.scipy-lectures.org/intro/numpy/index.html).\n",
        "- Harris, C.R., Millman, K.J., van der Walt, S.J. et al. [Array Programming with NumPy](https://www.nature.com/articles/s41586-020-2649-2). Nature 585, 357–362 (2020). "
      ]
    }
  ],
  "metadata": {
    "anaconda-cloud": {},
    "kernelspec": {
      "display_name": "Python 3 (ipykernel)",
      "language": "python",
      "name": "python3"
    },
    "language_info": {
      "codemirror_mode": {
        "name": "ipython",
        "version": 3
      },
      "file_extension": ".py",
      "mimetype": "text/x-python",
      "name": "python",
      "nbconvert_exporter": "python",
      "pygments_lexer": "ipython3",
      "version": "3.9.6"
    },
    "toc": {
      "nav_menu": {},
      "number_sections": true,
      "sideBar": true,
      "skip_h1_title": false,
      "title_cell": "Table of Contents",
      "title_sidebar": "Contents",
      "toc_cell": false,
      "toc_position": {},
      "toc_section_display": true,
      "toc_window_display": false
    },
    "colab": {
      "provenance": []
    }
  },
  "nbformat": 4,
  "nbformat_minor": 0
}