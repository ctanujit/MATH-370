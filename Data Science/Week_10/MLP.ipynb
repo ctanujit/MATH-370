{
  "nbformat": 4,
  "nbformat_minor": 0,
  "metadata": {
    "kernelspec": {
      "display_name": "Python 3",
      "language": "python",
      "name": "python3"
    },
    "language_info": {
      "codemirror_mode": {
        "name": "ipython",
        "version": 3
      },
      "file_extension": ".py",
      "mimetype": "text/x-python",
      "name": "python",
      "nbconvert_exporter": "python",
      "pygments_lexer": "ipython3",
      "version": "3.7.3"
    },
    "colab": {
      "provenance": []
    }
  },
  "cells": [
    {
      "cell_type": "code",
      "metadata": {
        "id": "txVfgmYS-jjZ"
      },
      "source": [
        "!pip install tensorflow"
      ],
      "execution_count": null,
      "outputs": []
    },
    {
      "cell_type": "markdown",
      "metadata": {
        "id": "nMFNBaSBDdcw"
      },
      "source": [
        "<h2 style='color:purple' align='center'>Section 1: Build our first neural network in Scikit Learn for Logistic_Reg.csv data</h2>"
      ]
    },
    {
      "cell_type": "code",
      "metadata": {
        "id": "4izuEc-vlO0o"
      },
      "source": [
        "from sklearn.model_selection import train_test_split\n",
        "from sklearn.neural_network import MLPClassifier"
      ],
      "execution_count": 1,
      "outputs": []
    },
    {
      "cell_type": "code",
      "metadata": {
        "colab": {
          "base_uri": "https://localhost:8080/",
          "height": 206
        },
        "id": "iTTkODi_DH12",
        "outputId": "a3d60b37-17e8-4081-a396-3450bc71cbfe"
      },
      "source": [
        "import pandas as pd\n",
        "mydata = pd.read_csv(\"/content/Logistic_Reg.csv\")\n",
        "mydata.head()"
      ],
      "execution_count": 3,
      "outputs": [
        {
          "output_type": "execute_result",
          "data": {
            "text/plain": [
              "   Ind_Exp_Act_Score  Tran_Speed_Score  Peer_Comb_Score  Outcome\n",
              "0                6.2               9.3              7.4        1\n",
              "1                2.6               2.2              8.7        1\n",
              "2                9.5               1.5              8.2        1\n",
              "3                2.6               5.0              0.4        0\n",
              "4               10.0               7.7              7.2        1"
            ],
            "text/html": [
              "\n",
              "  <div id=\"df-586a913f-0582-45b0-bbb4-4a38ddb2b0bc\">\n",
              "    <div class=\"colab-df-container\">\n",
              "      <div>\n",
              "<style scoped>\n",
              "    .dataframe tbody tr th:only-of-type {\n",
              "        vertical-align: middle;\n",
              "    }\n",
              "\n",
              "    .dataframe tbody tr th {\n",
              "        vertical-align: top;\n",
              "    }\n",
              "\n",
              "    .dataframe thead th {\n",
              "        text-align: right;\n",
              "    }\n",
              "</style>\n",
              "<table border=\"1\" class=\"dataframe\">\n",
              "  <thead>\n",
              "    <tr style=\"text-align: right;\">\n",
              "      <th></th>\n",
              "      <th>Ind_Exp_Act_Score</th>\n",
              "      <th>Tran_Speed_Score</th>\n",
              "      <th>Peer_Comb_Score</th>\n",
              "      <th>Outcome</th>\n",
              "    </tr>\n",
              "  </thead>\n",
              "  <tbody>\n",
              "    <tr>\n",
              "      <th>0</th>\n",
              "      <td>6.2</td>\n",
              "      <td>9.3</td>\n",
              "      <td>7.4</td>\n",
              "      <td>1</td>\n",
              "    </tr>\n",
              "    <tr>\n",
              "      <th>1</th>\n",
              "      <td>2.6</td>\n",
              "      <td>2.2</td>\n",
              "      <td>8.7</td>\n",
              "      <td>1</td>\n",
              "    </tr>\n",
              "    <tr>\n",
              "      <th>2</th>\n",
              "      <td>9.5</td>\n",
              "      <td>1.5</td>\n",
              "      <td>8.2</td>\n",
              "      <td>1</td>\n",
              "    </tr>\n",
              "    <tr>\n",
              "      <th>3</th>\n",
              "      <td>2.6</td>\n",
              "      <td>5.0</td>\n",
              "      <td>0.4</td>\n",
              "      <td>0</td>\n",
              "    </tr>\n",
              "    <tr>\n",
              "      <th>4</th>\n",
              "      <td>10.0</td>\n",
              "      <td>7.7</td>\n",
              "      <td>7.2</td>\n",
              "      <td>1</td>\n",
              "    </tr>\n",
              "  </tbody>\n",
              "</table>\n",
              "</div>\n",
              "      <button class=\"colab-df-convert\" onclick=\"convertToInteractive('df-586a913f-0582-45b0-bbb4-4a38ddb2b0bc')\"\n",
              "              title=\"Convert this dataframe to an interactive table.\"\n",
              "              style=\"display:none;\">\n",
              "        \n",
              "  <svg xmlns=\"http://www.w3.org/2000/svg\" height=\"24px\"viewBox=\"0 0 24 24\"\n",
              "       width=\"24px\">\n",
              "    <path d=\"M0 0h24v24H0V0z\" fill=\"none\"/>\n",
              "    <path d=\"M18.56 5.44l.94 2.06.94-2.06 2.06-.94-2.06-.94-.94-2.06-.94 2.06-2.06.94zm-11 1L8.5 8.5l.94-2.06 2.06-.94-2.06-.94L8.5 2.5l-.94 2.06-2.06.94zm10 10l.94 2.06.94-2.06 2.06-.94-2.06-.94-.94-2.06-.94 2.06-2.06.94z\"/><path d=\"M17.41 7.96l-1.37-1.37c-.4-.4-.92-.59-1.43-.59-.52 0-1.04.2-1.43.59L10.3 9.45l-7.72 7.72c-.78.78-.78 2.05 0 2.83L4 21.41c.39.39.9.59 1.41.59.51 0 1.02-.2 1.41-.59l7.78-7.78 2.81-2.81c.8-.78.8-2.07 0-2.86zM5.41 20L4 18.59l7.72-7.72 1.47 1.35L5.41 20z\"/>\n",
              "  </svg>\n",
              "      </button>\n",
              "      \n",
              "  <style>\n",
              "    .colab-df-container {\n",
              "      display:flex;\n",
              "      flex-wrap:wrap;\n",
              "      gap: 12px;\n",
              "    }\n",
              "\n",
              "    .colab-df-convert {\n",
              "      background-color: #E8F0FE;\n",
              "      border: none;\n",
              "      border-radius: 50%;\n",
              "      cursor: pointer;\n",
              "      display: none;\n",
              "      fill: #1967D2;\n",
              "      height: 32px;\n",
              "      padding: 0 0 0 0;\n",
              "      width: 32px;\n",
              "    }\n",
              "\n",
              "    .colab-df-convert:hover {\n",
              "      background-color: #E2EBFA;\n",
              "      box-shadow: 0px 1px 2px rgba(60, 64, 67, 0.3), 0px 1px 3px 1px rgba(60, 64, 67, 0.15);\n",
              "      fill: #174EA6;\n",
              "    }\n",
              "\n",
              "    [theme=dark] .colab-df-convert {\n",
              "      background-color: #3B4455;\n",
              "      fill: #D2E3FC;\n",
              "    }\n",
              "\n",
              "    [theme=dark] .colab-df-convert:hover {\n",
              "      background-color: #434B5C;\n",
              "      box-shadow: 0px 1px 3px 1px rgba(0, 0, 0, 0.15);\n",
              "      filter: drop-shadow(0px 1px 2px rgba(0, 0, 0, 0.3));\n",
              "      fill: #FFFFFF;\n",
              "    }\n",
              "  </style>\n",
              "\n",
              "      <script>\n",
              "        const buttonEl =\n",
              "          document.querySelector('#df-586a913f-0582-45b0-bbb4-4a38ddb2b0bc button.colab-df-convert');\n",
              "        buttonEl.style.display =\n",
              "          google.colab.kernel.accessAllowed ? 'block' : 'none';\n",
              "\n",
              "        async function convertToInteractive(key) {\n",
              "          const element = document.querySelector('#df-586a913f-0582-45b0-bbb4-4a38ddb2b0bc');\n",
              "          const dataTable =\n",
              "            await google.colab.kernel.invokeFunction('convertToInteractive',\n",
              "                                                     [key], {});\n",
              "          if (!dataTable) return;\n",
              "\n",
              "          const docLinkHtml = 'Like what you see? Visit the ' +\n",
              "            '<a target=\"_blank\" href=https://colab.research.google.com/notebooks/data_table.ipynb>data table notebook</a>'\n",
              "            + ' to learn more about interactive tables.';\n",
              "          element.innerHTML = '';\n",
              "          dataTable['output_type'] = 'display_data';\n",
              "          await google.colab.output.renderOutput(dataTable, element);\n",
              "          const docLink = document.createElement('div');\n",
              "          docLink.innerHTML = docLinkHtml;\n",
              "          element.appendChild(docLink);\n",
              "        }\n",
              "      </script>\n",
              "    </div>\n",
              "  </div>\n",
              "  "
            ]
          },
          "metadata": {},
          "execution_count": 3
        }
      ]
    },
    {
      "cell_type": "code",
      "metadata": {
        "id": "Yu4l0OIbDH13"
      },
      "source": [
        "x = mydata.drop(\"Outcome\", axis=1)\n",
        "y = mydata.Outcome\n",
        "x_train, x_test, y_train, y_test = train_test_split(x, y, test_size = 0.2, random_state = 100)"
      ],
      "execution_count": 4,
      "outputs": []
    },
    {
      "cell_type": "code",
      "metadata": {
        "colab": {
          "base_uri": "https://localhost:8080/",
          "height": 92
        },
        "id": "86Ndeje5DH13",
        "outputId": "caa42c65-cc0b-4b8e-cba8-642316fb62a7"
      },
      "source": [
        "mymodel = MLPClassifier(solver = 'lbfgs' , alpha= 1e-5, hidden_layer_sizes= (2), random_state= 100)\n",
        "mymodel.fit(x_train , y_train)"
      ],
      "execution_count": 5,
      "outputs": [
        {
          "output_type": "execute_result",
          "data": {
            "text/plain": [
              "MLPClassifier(alpha=1e-05, hidden_layer_sizes=2, random_state=100,\n",
              "              solver='lbfgs')"
            ],
            "text/html": [
              "<style>#sk-container-id-1 {color: black;background-color: white;}#sk-container-id-1 pre{padding: 0;}#sk-container-id-1 div.sk-toggleable {background-color: white;}#sk-container-id-1 label.sk-toggleable__label {cursor: pointer;display: block;width: 100%;margin-bottom: 0;padding: 0.3em;box-sizing: border-box;text-align: center;}#sk-container-id-1 label.sk-toggleable__label-arrow:before {content: \"▸\";float: left;margin-right: 0.25em;color: #696969;}#sk-container-id-1 label.sk-toggleable__label-arrow:hover:before {color: black;}#sk-container-id-1 div.sk-estimator:hover label.sk-toggleable__label-arrow:before {color: black;}#sk-container-id-1 div.sk-toggleable__content {max-height: 0;max-width: 0;overflow: hidden;text-align: left;background-color: #f0f8ff;}#sk-container-id-1 div.sk-toggleable__content pre {margin: 0.2em;color: black;border-radius: 0.25em;background-color: #f0f8ff;}#sk-container-id-1 input.sk-toggleable__control:checked~div.sk-toggleable__content {max-height: 200px;max-width: 100%;overflow: auto;}#sk-container-id-1 input.sk-toggleable__control:checked~label.sk-toggleable__label-arrow:before {content: \"▾\";}#sk-container-id-1 div.sk-estimator input.sk-toggleable__control:checked~label.sk-toggleable__label {background-color: #d4ebff;}#sk-container-id-1 div.sk-label input.sk-toggleable__control:checked~label.sk-toggleable__label {background-color: #d4ebff;}#sk-container-id-1 input.sk-hidden--visually {border: 0;clip: rect(1px 1px 1px 1px);clip: rect(1px, 1px, 1px, 1px);height: 1px;margin: -1px;overflow: hidden;padding: 0;position: absolute;width: 1px;}#sk-container-id-1 div.sk-estimator {font-family: monospace;background-color: #f0f8ff;border: 1px dotted black;border-radius: 0.25em;box-sizing: border-box;margin-bottom: 0.5em;}#sk-container-id-1 div.sk-estimator:hover {background-color: #d4ebff;}#sk-container-id-1 div.sk-parallel-item::after {content: \"\";width: 100%;border-bottom: 1px solid gray;flex-grow: 1;}#sk-container-id-1 div.sk-label:hover label.sk-toggleable__label {background-color: #d4ebff;}#sk-container-id-1 div.sk-serial::before {content: \"\";position: absolute;border-left: 1px solid gray;box-sizing: border-box;top: 0;bottom: 0;left: 50%;z-index: 0;}#sk-container-id-1 div.sk-serial {display: flex;flex-direction: column;align-items: center;background-color: white;padding-right: 0.2em;padding-left: 0.2em;position: relative;}#sk-container-id-1 div.sk-item {position: relative;z-index: 1;}#sk-container-id-1 div.sk-parallel {display: flex;align-items: stretch;justify-content: center;background-color: white;position: relative;}#sk-container-id-1 div.sk-item::before, #sk-container-id-1 div.sk-parallel-item::before {content: \"\";position: absolute;border-left: 1px solid gray;box-sizing: border-box;top: 0;bottom: 0;left: 50%;z-index: -1;}#sk-container-id-1 div.sk-parallel-item {display: flex;flex-direction: column;z-index: 1;position: relative;background-color: white;}#sk-container-id-1 div.sk-parallel-item:first-child::after {align-self: flex-end;width: 50%;}#sk-container-id-1 div.sk-parallel-item:last-child::after {align-self: flex-start;width: 50%;}#sk-container-id-1 div.sk-parallel-item:only-child::after {width: 0;}#sk-container-id-1 div.sk-dashed-wrapped {border: 1px dashed gray;margin: 0 0.4em 0.5em 0.4em;box-sizing: border-box;padding-bottom: 0.4em;background-color: white;}#sk-container-id-1 div.sk-label label {font-family: monospace;font-weight: bold;display: inline-block;line-height: 1.2em;}#sk-container-id-1 div.sk-label-container {text-align: center;}#sk-container-id-1 div.sk-container {/* jupyter's `normalize.less` sets `[hidden] { display: none; }` but bootstrap.min.css set `[hidden] { display: none !important; }` so we also need the `!important` here to be able to override the default hidden behavior on the sphinx rendered scikit-learn.org. See: https://github.com/scikit-learn/scikit-learn/issues/21755 */display: inline-block !important;position: relative;}#sk-container-id-1 div.sk-text-repr-fallback {display: none;}</style><div id=\"sk-container-id-1\" class=\"sk-top-container\"><div class=\"sk-text-repr-fallback\"><pre>MLPClassifier(alpha=1e-05, hidden_layer_sizes=2, random_state=100,\n",
              "              solver=&#x27;lbfgs&#x27;)</pre><b>In a Jupyter environment, please rerun this cell to show the HTML representation or trust the notebook. <br />On GitHub, the HTML representation is unable to render, please try loading this page with nbviewer.org.</b></div><div class=\"sk-container\" hidden><div class=\"sk-item\"><div class=\"sk-estimator sk-toggleable\"><input class=\"sk-toggleable__control sk-hidden--visually\" id=\"sk-estimator-id-1\" type=\"checkbox\" checked><label for=\"sk-estimator-id-1\" class=\"sk-toggleable__label sk-toggleable__label-arrow\">MLPClassifier</label><div class=\"sk-toggleable__content\"><pre>MLPClassifier(alpha=1e-05, hidden_layer_sizes=2, random_state=100,\n",
              "              solver=&#x27;lbfgs&#x27;)</pre></div></div></div></div></div>"
            ]
          },
          "metadata": {},
          "execution_count": 5
        }
      ]
    },
    {
      "cell_type": "code",
      "metadata": {
        "colab": {
          "base_uri": "https://localhost:8080/"
        },
        "id": "sIHxTvelDXAS",
        "outputId": "0ab53040-3f38-480b-c273-5d04c9f99d2d"
      },
      "source": [
        "mymodel.score(x_train , y_train)"
      ],
      "execution_count": 6,
      "outputs": [
        {
          "output_type": "execute_result",
          "data": {
            "text/plain": [
              "0.9693877551020408"
            ]
          },
          "metadata": {},
          "execution_count": 6
        }
      ]
    },
    {
      "cell_type": "code",
      "metadata": {
        "colab": {
          "base_uri": "https://localhost:8080/"
        },
        "id": "KMMkJYNWDXAb",
        "outputId": "9f39c678-3f68-4b8f-bcee-d768efc2720e"
      },
      "source": [
        "mymodel.predict_proba(x_train)"
      ],
      "execution_count": 7,
      "outputs": [
        {
          "output_type": "execute_result",
          "data": {
            "text/plain": [
              "array([[6.55060235e-07, 9.99999345e-01],\n",
              "       [1.09580282e-04, 9.99890420e-01],\n",
              "       [6.55060235e-07, 9.99999345e-01],\n",
              "       ...,\n",
              "       [5.69817529e-03, 9.94301825e-01],\n",
              "       [6.55060235e-07, 9.99999345e-01],\n",
              "       [5.28281166e-01, 4.71718834e-01]])"
            ]
          },
          "metadata": {},
          "execution_count": 7
        }
      ]
    },
    {
      "cell_type": "code",
      "metadata": {
        "id": "kMNb6J2KDXAc"
      },
      "source": [
        "predtest = mymodel.predict(x_test)\n",
        "mytable = pd.crosstab(y_test , predtest)"
      ],
      "execution_count": 8,
      "outputs": []
    },
    {
      "cell_type": "code",
      "metadata": {
        "colab": {
          "base_uri": "https://localhost:8080/",
          "height": 143
        },
        "id": "SqPootgKDXAc",
        "outputId": "490cbcfd-ad87-4f43-853d-2a69d4165e49"
      },
      "source": [
        "mytable"
      ],
      "execution_count": 9,
      "outputs": [
        {
          "output_type": "execute_result",
          "data": {
            "text/plain": [
              "col_0     0    1\n",
              "Outcome         \n",
              "0        54    4\n",
              "1         0  138"
            ],
            "text/html": [
              "\n",
              "  <div id=\"df-98686f83-15c9-4f13-8460-fa683feb8da4\">\n",
              "    <div class=\"colab-df-container\">\n",
              "      <div>\n",
              "<style scoped>\n",
              "    .dataframe tbody tr th:only-of-type {\n",
              "        vertical-align: middle;\n",
              "    }\n",
              "\n",
              "    .dataframe tbody tr th {\n",
              "        vertical-align: top;\n",
              "    }\n",
              "\n",
              "    .dataframe thead th {\n",
              "        text-align: right;\n",
              "    }\n",
              "</style>\n",
              "<table border=\"1\" class=\"dataframe\">\n",
              "  <thead>\n",
              "    <tr style=\"text-align: right;\">\n",
              "      <th>col_0</th>\n",
              "      <th>0</th>\n",
              "      <th>1</th>\n",
              "    </tr>\n",
              "    <tr>\n",
              "      <th>Outcome</th>\n",
              "      <th></th>\n",
              "      <th></th>\n",
              "    </tr>\n",
              "  </thead>\n",
              "  <tbody>\n",
              "    <tr>\n",
              "      <th>0</th>\n",
              "      <td>54</td>\n",
              "      <td>4</td>\n",
              "    </tr>\n",
              "    <tr>\n",
              "      <th>1</th>\n",
              "      <td>0</td>\n",
              "      <td>138</td>\n",
              "    </tr>\n",
              "  </tbody>\n",
              "</table>\n",
              "</div>\n",
              "      <button class=\"colab-df-convert\" onclick=\"convertToInteractive('df-98686f83-15c9-4f13-8460-fa683feb8da4')\"\n",
              "              title=\"Convert this dataframe to an interactive table.\"\n",
              "              style=\"display:none;\">\n",
              "        \n",
              "  <svg xmlns=\"http://www.w3.org/2000/svg\" height=\"24px\"viewBox=\"0 0 24 24\"\n",
              "       width=\"24px\">\n",
              "    <path d=\"M0 0h24v24H0V0z\" fill=\"none\"/>\n",
              "    <path d=\"M18.56 5.44l.94 2.06.94-2.06 2.06-.94-2.06-.94-.94-2.06-.94 2.06-2.06.94zm-11 1L8.5 8.5l.94-2.06 2.06-.94-2.06-.94L8.5 2.5l-.94 2.06-2.06.94zm10 10l.94 2.06.94-2.06 2.06-.94-2.06-.94-.94-2.06-.94 2.06-2.06.94z\"/><path d=\"M17.41 7.96l-1.37-1.37c-.4-.4-.92-.59-1.43-.59-.52 0-1.04.2-1.43.59L10.3 9.45l-7.72 7.72c-.78.78-.78 2.05 0 2.83L4 21.41c.39.39.9.59 1.41.59.51 0 1.02-.2 1.41-.59l7.78-7.78 2.81-2.81c.8-.78.8-2.07 0-2.86zM5.41 20L4 18.59l7.72-7.72 1.47 1.35L5.41 20z\"/>\n",
              "  </svg>\n",
              "      </button>\n",
              "      \n",
              "  <style>\n",
              "    .colab-df-container {\n",
              "      display:flex;\n",
              "      flex-wrap:wrap;\n",
              "      gap: 12px;\n",
              "    }\n",
              "\n",
              "    .colab-df-convert {\n",
              "      background-color: #E8F0FE;\n",
              "      border: none;\n",
              "      border-radius: 50%;\n",
              "      cursor: pointer;\n",
              "      display: none;\n",
              "      fill: #1967D2;\n",
              "      height: 32px;\n",
              "      padding: 0 0 0 0;\n",
              "      width: 32px;\n",
              "    }\n",
              "\n",
              "    .colab-df-convert:hover {\n",
              "      background-color: #E2EBFA;\n",
              "      box-shadow: 0px 1px 2px rgba(60, 64, 67, 0.3), 0px 1px 3px 1px rgba(60, 64, 67, 0.15);\n",
              "      fill: #174EA6;\n",
              "    }\n",
              "\n",
              "    [theme=dark] .colab-df-convert {\n",
              "      background-color: #3B4455;\n",
              "      fill: #D2E3FC;\n",
              "    }\n",
              "\n",
              "    [theme=dark] .colab-df-convert:hover {\n",
              "      background-color: #434B5C;\n",
              "      box-shadow: 0px 1px 3px 1px rgba(0, 0, 0, 0.15);\n",
              "      filter: drop-shadow(0px 1px 2px rgba(0, 0, 0, 0.3));\n",
              "      fill: #FFFFFF;\n",
              "    }\n",
              "  </style>\n",
              "\n",
              "      <script>\n",
              "        const buttonEl =\n",
              "          document.querySelector('#df-98686f83-15c9-4f13-8460-fa683feb8da4 button.colab-df-convert');\n",
              "        buttonEl.style.display =\n",
              "          google.colab.kernel.accessAllowed ? 'block' : 'none';\n",
              "\n",
              "        async function convertToInteractive(key) {\n",
              "          const element = document.querySelector('#df-98686f83-15c9-4f13-8460-fa683feb8da4');\n",
              "          const dataTable =\n",
              "            await google.colab.kernel.invokeFunction('convertToInteractive',\n",
              "                                                     [key], {});\n",
              "          if (!dataTable) return;\n",
              "\n",
              "          const docLinkHtml = 'Like what you see? Visit the ' +\n",
              "            '<a target=\"_blank\" href=https://colab.research.google.com/notebooks/data_table.ipynb>data table notebook</a>'\n",
              "            + ' to learn more about interactive tables.';\n",
              "          element.innerHTML = '';\n",
              "          dataTable['output_type'] = 'display_data';\n",
              "          await google.colab.output.renderOutput(dataTable, element);\n",
              "          const docLink = document.createElement('div');\n",
              "          docLink.innerHTML = docLinkHtml;\n",
              "          element.appendChild(docLink);\n",
              "        }\n",
              "      </script>\n",
              "    </div>\n",
              "  </div>\n",
              "  "
            ]
          },
          "metadata": {},
          "execution_count": 9
        }
      ]
    },
    {
      "cell_type": "markdown",
      "metadata": {
        "id": "8FYguD6aD5Vz"
      },
      "source": [
        "<h3 style='color:blue' align='center'>Section 2: Implementation of activation functions in python</h3>"
      ]
    },
    {
      "cell_type": "code",
      "metadata": {
        "id": "5Gpwaljr4ABD"
      },
      "source": [
        "import tensorflow as tf\n",
        "import numpy as np\n",
        "import pandas as pd\n",
        "from matplotlib import pyplot as plt\n",
        "%matplotlib inline"
      ],
      "execution_count": null,
      "outputs": []
    },
    {
      "cell_type": "code",
      "metadata": {
        "id": "rrlumWAf376v"
      },
      "source": [
        "def do_plot(x, y, title):\n",
        "    plt.figure(figsize=(10,5))\n",
        "    plt.plot(x,y)\n",
        "    plt.title(title)\n",
        "    plt.ylabel('Y axis')\n",
        "    plt.xlabel('X axis')\n",
        "    plt.show()"
      ],
      "execution_count": null,
      "outputs": []
    },
    {
      "cell_type": "code",
      "metadata": {
        "id": "vBPWMNDh4JMp",
        "colab": {
          "base_uri": "https://localhost:8080/"
        },
        "outputId": "b852f696-ea6c-4b16-aa51-4b6d219e394a"
      },
      "source": [
        "x = tf.Variable(tf.range(-10, 10, 0.1), dtype=tf.float32)\n",
        "x"
      ],
      "execution_count": null,
      "outputs": [
        {
          "output_type": "execute_result",
          "data": {
            "text/plain": [
              "<tf.Variable 'Variable:0' shape=(200,) dtype=float32, numpy=\n",
              "array([-1.00000000e+01, -9.89999962e+00, -9.79999924e+00, -9.69999886e+00,\n",
              "       -9.59999847e+00, -9.49999809e+00, -9.39999771e+00, -9.29999733e+00,\n",
              "       -9.19999695e+00, -9.09999657e+00, -8.99999619e+00, -8.89999580e+00,\n",
              "       -8.79999542e+00, -8.69999504e+00, -8.59999466e+00, -8.49999428e+00,\n",
              "       -8.39999390e+00, -8.29999352e+00, -8.19999313e+00, -8.09999275e+00,\n",
              "       -7.99999285e+00, -7.89999294e+00, -7.79999304e+00, -7.69999313e+00,\n",
              "       -7.59999323e+00, -7.49999332e+00, -7.39999342e+00, -7.29999352e+00,\n",
              "       -7.19999361e+00, -7.09999371e+00, -6.99999380e+00, -6.89999390e+00,\n",
              "       -6.79999399e+00, -6.69999409e+00, -6.59999418e+00, -6.49999428e+00,\n",
              "       -6.39999437e+00, -6.29999447e+00, -6.19999456e+00, -6.09999466e+00,\n",
              "       -5.99999475e+00, -5.89999485e+00, -5.79999495e+00, -5.69999504e+00,\n",
              "       -5.59999514e+00, -5.49999523e+00, -5.39999533e+00, -5.29999542e+00,\n",
              "       -5.19999552e+00, -5.09999561e+00, -4.99999571e+00, -4.89999580e+00,\n",
              "       -4.79999590e+00, -4.69999599e+00, -4.59999609e+00, -4.49999619e+00,\n",
              "       -4.39999628e+00, -4.29999638e+00, -4.19999647e+00, -4.09999657e+00,\n",
              "       -3.99999666e+00, -3.89999676e+00, -3.79999685e+00, -3.69999695e+00,\n",
              "       -3.59999704e+00, -3.49999714e+00, -3.39999723e+00, -3.29999733e+00,\n",
              "       -3.19999743e+00, -3.09999752e+00, -2.99999762e+00, -2.89999771e+00,\n",
              "       -2.79999781e+00, -2.69999790e+00, -2.59999800e+00, -2.49999809e+00,\n",
              "       -2.39999819e+00, -2.29999828e+00, -2.19999838e+00, -2.09999847e+00,\n",
              "       -1.99999845e+00, -1.89999843e+00, -1.79999840e+00, -1.69999838e+00,\n",
              "       -1.59999835e+00, -1.49999833e+00, -1.39999831e+00, -1.29999828e+00,\n",
              "       -1.19999826e+00, -1.09999824e+00, -9.99998212e-01, -8.99998188e-01,\n",
              "       -7.99998164e-01, -6.99998140e-01, -5.99998116e-01, -4.99998122e-01,\n",
              "       -3.99998128e-01, -2.99998134e-01, -1.99998140e-01, -9.99981388e-02,\n",
              "        1.86264515e-06,  1.00001864e-01,  2.00001866e-01,  3.00001860e-01,\n",
              "        4.00001854e-01,  5.00001848e-01,  6.00001872e-01,  7.00001895e-01,\n",
              "        8.00001919e-01,  9.00001943e-01,  1.00000191e+00,  1.10000193e+00,\n",
              "        1.20000196e+00,  1.30000198e+00,  1.40000200e+00,  1.50000203e+00,\n",
              "        1.60000205e+00,  1.70000207e+00,  1.80000210e+00,  1.90000212e+00,\n",
              "        2.00000215e+00,  2.10000205e+00,  2.20000196e+00,  2.30000186e+00,\n",
              "        2.40000176e+00,  2.50000167e+00,  2.60000157e+00,  2.70000148e+00,\n",
              "        2.80000138e+00,  2.90000129e+00,  3.00000119e+00,  3.10000110e+00,\n",
              "        3.20000100e+00,  3.30000091e+00,  3.40000081e+00,  3.50000072e+00,\n",
              "        3.60000062e+00,  3.70000052e+00,  3.80000043e+00,  3.90000033e+00,\n",
              "        4.00000048e+00,  4.10000038e+00,  4.20000029e+00,  4.30000019e+00,\n",
              "        4.40000010e+00,  4.50000000e+00,  4.59999990e+00,  4.69999981e+00,\n",
              "        4.79999971e+00,  4.89999962e+00,  4.99999952e+00,  5.09999943e+00,\n",
              "        5.19999933e+00,  5.29999924e+00,  5.39999914e+00,  5.49999905e+00,\n",
              "        5.59999895e+00,  5.69999886e+00,  5.79999876e+00,  5.89999866e+00,\n",
              "        5.99999857e+00,  6.09999847e+00,  6.19999838e+00,  6.29999828e+00,\n",
              "        6.39999819e+00,  6.49999809e+00,  6.59999800e+00,  6.69999790e+00,\n",
              "        6.79999781e+00,  6.89999771e+00,  6.99999762e+00,  7.09999752e+00,\n",
              "        7.19999743e+00,  7.29999733e+00,  7.39999723e+00,  7.49999714e+00,\n",
              "        7.59999704e+00,  7.69999695e+00,  7.79999685e+00,  7.89999676e+00,\n",
              "        7.99999666e+00,  8.09999657e+00,  8.19999695e+00,  8.29999733e+00,\n",
              "        8.39999771e+00,  8.49999809e+00,  8.59999847e+00,  8.69999886e+00,\n",
              "        8.79999924e+00,  8.89999962e+00,  9.00000000e+00,  9.10000038e+00,\n",
              "        9.20000076e+00,  9.30000114e+00,  9.40000153e+00,  9.50000191e+00,\n",
              "        9.60000229e+00,  9.70000267e+00,  9.80000305e+00,  9.90000343e+00],\n",
              "      dtype=float32)>"
            ]
          },
          "metadata": {
            "tags": []
          },
          "execution_count": 5
        }
      ]
    },
    {
      "cell_type": "markdown",
      "metadata": {
        "id": "P5CdX_Z7GppH"
      },
      "source": [
        "**Linear Activation**"
      ]
    },
    {
      "cell_type": "code",
      "metadata": {
        "colab": {
          "base_uri": "https://localhost:8080/",
          "height": 350
        },
        "id": "g1Io8LkM4VNL",
        "outputId": "9b9e5f35-6bf6-4105-f050-e6330c826823"
      },
      "source": [
        "#Linear Activation\n",
        "def linear_activation(x):\n",
        "    c = 0.1\n",
        "    return c*x.numpy()\n",
        "do_plot(x.numpy(), linear_activation(x), 'Linear Activation')"
      ],
      "execution_count": null,
      "outputs": [
        {
          "output_type": "display_data",
          "data": {
            "image/png": "[encoded data removed]",
            "text/plain": [
              "<Figure size 720x360 with 1 Axes>"
            ]
          },
          "metadata": {
            "tags": [],
            "needs_background": "light"
          }
        }
      ]
    },
    {
      "cell_type": "markdown",
      "metadata": {
        "id": "Q4zVNtlhCDxt"
      },
      "source": [
        "<h3 style='color:purple'>Sigmoid</h3>"
      ]
    },
    {
      "cell_type": "code",
      "metadata": {
        "colab": {
          "base_uri": "https://localhost:8080/",
          "height": 350
        },
        "id": "66D-ILML4Z05",
        "outputId": "160136e8-accf-48bb-82bb-b6fe5cfd306c"
      },
      "source": [
        "y = tf.nn.sigmoid(x)\n",
        "do_plot(x.numpy(), y.numpy(), 'Sigmoid Activation')"
      ],
      "execution_count": null,
      "outputs": [
        {
          "output_type": "display_data",
          "data": {
            "image/png": "[encoded data removed]",
            "text/plain": [
              "<Figure size 720x360 with 1 Axes>"
            ]
          },
          "metadata": {
            "tags": [],
            "needs_background": "light"
          }
        }
      ]
    },
    {
      "cell_type": "code",
      "metadata": {
        "colab": {
          "base_uri": "https://localhost:8080/",
          "height": 350
        },
        "id": "7yR-9KDn4lbu",
        "outputId": "f5a7548a-c80b-4b5e-8917-48d6c4c5b787"
      },
      "source": [
        "with tf.GradientTape() as t:\n",
        "    y = tf.nn.sigmoid(x)\n",
        "do_plot(x.numpy(), t.gradient(y, x).numpy(), 'Grad of Sigmoid')"
      ],
      "execution_count": null,
      "outputs": [
        {
          "output_type": "display_data",
          "data": {
            "image/png": "[encoded data removed]",
            "text/plain": [
              "<Figure size 720x360 with 1 Axes>"
            ]
          },
          "metadata": {
            "tags": [],
            "needs_background": "light"
          }
        }
      ]
    },
    {
      "cell_type": "markdown",
      "metadata": {
        "id": "Y9HaTEUOCqfC"
      },
      "source": [
        "<h3 style='color:purple'>tanh</h3>"
      ]
    },
    {
      "cell_type": "code",
      "metadata": {
        "id": "r33zaR5eB8aE"
      },
      "source": [
        "import math\n",
        "def tanh(x):\n",
        "  return (math.exp(x) - math.exp(-x)) / (math.exp(x) + math.exp(-x))"
      ],
      "execution_count": null,
      "outputs": []
    },
    {
      "cell_type": "code",
      "metadata": {
        "colab": {
          "base_uri": "https://localhost:8080/"
        },
        "id": "6sWtdWDaB8Xz",
        "outputId": "68fcc5ba-c7c1-48c2-f77b-a8845604bdc9"
      },
      "source": [
        "tanh(-56)"
      ],
      "execution_count": null,
      "outputs": [
        {
          "output_type": "execute_result",
          "data": {
            "text/plain": [
              "-1.0"
            ]
          },
          "metadata": {
            "tags": []
          },
          "execution_count": 10
        }
      ]
    },
    {
      "cell_type": "code",
      "metadata": {
        "colab": {
          "base_uri": "https://localhost:8080/"
        },
        "id": "HdvPRkOeB8V4",
        "outputId": "f72f6a54-6881-46e0-91d2-82ffdca957c2"
      },
      "source": [
        "tanh(86)"
      ],
      "execution_count": null,
      "outputs": [
        {
          "output_type": "execute_result",
          "data": {
            "text/plain": [
              "1.0"
            ]
          },
          "metadata": {
            "tags": []
          },
          "execution_count": 9
        }
      ]
    },
    {
      "cell_type": "code",
      "metadata": {
        "colab": {
          "base_uri": "https://localhost:8080/"
        },
        "id": "dicepBTPB8UP",
        "outputId": "7c2d8b49-698b-4fdd-8b3d-56f62a3699f6"
      },
      "source": [
        "tanh(.66)"
      ],
      "execution_count": null,
      "outputs": [
        {
          "output_type": "execute_result",
          "data": {
            "text/plain": [
              "0.5783634130445058"
            ]
          },
          "metadata": {
            "tags": []
          },
          "execution_count": 10
        }
      ]
    },
    {
      "cell_type": "code",
      "metadata": {
        "colab": {
          "base_uri": "https://localhost:8080/",
          "height": 350
        },
        "id": "CAW8fmvM4pM9",
        "outputId": "43416993-bbde-4399-ee54-f66eeeaeda85"
      },
      "source": [
        "y = tf.nn.tanh(x)\n",
        "do_plot(x.numpy(), y.numpy(), 'Tanh Activation')"
      ],
      "execution_count": null,
      "outputs": [
        {
          "output_type": "display_data",
          "data": {
            "image/png": "[encoded data removed]",
            "text/plain": [
              "<Figure size 720x360 with 1 Axes>"
            ]
          },
          "metadata": {
            "tags": [],
            "needs_background": "light"
          }
        }
      ]
    },
    {
      "cell_type": "code",
      "metadata": {
        "colab": {
          "base_uri": "https://localhost:8080/",
          "height": 350
        },
        "id": "YYXIeZ6m47Ge",
        "outputId": "ba73f301-6644-4ba7-fa65-fce2bbac5bdb"
      },
      "source": [
        "with tf.GradientTape() as t:\n",
        "    y = tf.nn.tanh(x)\n",
        "do_plot(x.numpy(), t.gradient(y, x).numpy(), 'Grad of Tanh')"
      ],
      "execution_count": null,
      "outputs": [
        {
          "output_type": "display_data",
          "data": {
            "image/png": "[encoded data removed]",
            "text/plain": [
              "<Figure size 720x360 with 1 Axes>"
            ]
          },
          "metadata": {
            "tags": [],
            "needs_background": "light"
          }
        }
      ]
    },
    {
      "cell_type": "markdown",
      "metadata": {
        "id": "OPi9AMKFC90Y"
      },
      "source": [
        "<h3 style='color:purple'>ReLU</h3>"
      ]
    },
    {
      "cell_type": "code",
      "metadata": {
        "id": "trE-GcAAC_Le"
      },
      "source": [
        "def relu(x):\n",
        "    return max(0,x)"
      ],
      "execution_count": null,
      "outputs": []
    },
    {
      "cell_type": "code",
      "metadata": {
        "colab": {
          "base_uri": "https://localhost:8080/"
        },
        "id": "CFiMsHC1C_JB",
        "outputId": "145aad3f-37f8-4eb9-b43a-ff0a416a939f"
      },
      "source": [
        "relu(-100)"
      ],
      "execution_count": null,
      "outputs": [
        {
          "output_type": "execute_result",
          "data": {
            "text/plain": [
              "0"
            ]
          },
          "metadata": {
            "tags": []
          },
          "execution_count": 14
        }
      ]
    },
    {
      "cell_type": "code",
      "metadata": {
        "colab": {
          "base_uri": "https://localhost:8080/"
        },
        "id": "EIXI8kRmC_Hg",
        "outputId": "05fcc7d7-6a5d-4dc9-c449-f9e55d4c20c8"
      },
      "source": [
        "relu(10)"
      ],
      "execution_count": null,
      "outputs": [
        {
          "output_type": "execute_result",
          "data": {
            "text/plain": [
              "10"
            ]
          },
          "metadata": {
            "tags": []
          },
          "execution_count": 15
        }
      ]
    },
    {
      "cell_type": "code",
      "metadata": {
        "colab": {
          "base_uri": "https://localhost:8080/"
        },
        "id": "QE8irMF4C_Fr",
        "outputId": "e03a0249-cdb1-4ff0-c2df-b5def4f6c9fc"
      },
      "source": [
        "relu(0.5)"
      ],
      "execution_count": null,
      "outputs": [
        {
          "output_type": "execute_result",
          "data": {
            "text/plain": [
              "0.5"
            ]
          },
          "metadata": {
            "tags": []
          },
          "execution_count": 16
        }
      ]
    },
    {
      "cell_type": "code",
      "metadata": {
        "colab": {
          "base_uri": "https://localhost:8080/",
          "height": 350
        },
        "id": "hBwmw1Ei5AdG",
        "outputId": "7060c41c-a465-451a-adfe-bc6d0b7a5a63"
      },
      "source": [
        "y = tf.nn.relu(x)\n",
        "do_plot(x.numpy(), y.numpy(), 'ReLU Activation')"
      ],
      "execution_count": null,
      "outputs": [
        {
          "output_type": "display_data",
          "data": {
            "image/png": "[encoded data removed]",
            "text/plain": [
              "<Figure size 720x360 with 1 Axes>"
            ]
          },
          "metadata": {
            "tags": [],
            "needs_background": "light"
          }
        }
      ]
    },
    {
      "cell_type": "code",
      "metadata": {
        "colab": {
          "base_uri": "https://localhost:8080/",
          "height": 350
        },
        "id": "D_x2YR515Bv5",
        "outputId": "6f3e3aa9-2d7f-4acd-d0c2-25c3c0cadc03"
      },
      "source": [
        "with tf.GradientTape() as t:\n",
        "    y = tf.nn.relu(x)\n",
        "do_plot(x.numpy(), t.gradient(y, x).numpy(), 'Grad of ReLU')"
      ],
      "execution_count": null,
      "outputs": [
        {
          "output_type": "display_data",
          "data": {
            "image/png": "[encoded data removed]",
            "text/plain": [
              "<Figure size 720x360 with 1 Axes>"
            ]
          },
          "metadata": {
            "tags": [],
            "needs_background": "light"
          }
        }
      ]
    },
    {
      "cell_type": "markdown",
      "metadata": {
        "id": "l4j0i5Yj5Ps8"
      },
      "source": [
        "Softmax "
      ]
    },
    {
      "cell_type": "code",
      "metadata": {
        "colab": {
          "base_uri": "https://localhost:8080/",
          "height": 350
        },
        "id": "QfuhxgHu5N5e",
        "outputId": "bb342386-941a-4c48-d3a4-926e6336e6a9"
      },
      "source": [
        "x1 = tf.Variable(tf.range(-1, 1, .5), dtype=tf.float32)\n",
        "y = tf.nn.softmax(x1)\n",
        "do_plot(x1.numpy(), y.numpy(), 'Softmax Activation')"
      ],
      "execution_count": null,
      "outputs": [
        {
          "output_type": "display_data",
          "data": {
            "image/png": "[encoded data removed]",
            "text/plain": [
              "<Figure size 720x360 with 1 Axes>"
            ]
          },
          "metadata": {
            "tags": [],
            "needs_background": "light"
          }
        }
      ]
    },
    {
      "cell_type": "markdown",
      "metadata": {
        "id": "9m0t9ncA5Yn6"
      },
      "source": [
        "Swish Function"
      ]
    },
    {
      "cell_type": "code",
      "metadata": {
        "colab": {
          "base_uri": "https://localhost:8080/",
          "height": 350
        },
        "id": "u1SzLYxl5Y85",
        "outputId": "79c11f91-465c-45de-abe3-5786ae5d9542"
      },
      "source": [
        "y = tf.nn.swish(x)\n",
        "do_plot(x.numpy(), y.numpy(), 'Swish Activation')"
      ],
      "execution_count": null,
      "outputs": [
        {
          "output_type": "display_data",
          "data": {
            "image/png": "[encoded data removed]",
            "text/plain": [
              "<Figure size 720x360 with 1 Axes>"
            ]
          },
          "metadata": {
            "tags": [],
            "needs_background": "light"
          }
        }
      ]
    },
    {
      "cell_type": "code",
      "metadata": {
        "colab": {
          "base_uri": "https://localhost:8080/",
          "height": 350
        },
        "id": "uNgC2dTh5fxE",
        "outputId": "289de248-e7f3-4d87-ae53-cc86d8ae39f0"
      },
      "source": [
        "with tf.GradientTape() as t:\n",
        "    y = tf.nn.swish(x)\n",
        "do_plot(x.numpy(), t.gradient(y, x).numpy(), 'Grad of Swish')"
      ],
      "execution_count": null,
      "outputs": [
        {
          "output_type": "display_data",
          "data": {
            "image/png": "[encoded data removed]",
            "text/plain": [
              "<Figure size 720x360 with 1 Axes>"
            ]
          },
          "metadata": {
            "tags": [],
            "needs_background": "light"
          }
        }
      ]
    },
    {
      "cell_type": "markdown",
      "metadata": {
        "id": "gqHtTQDKWLv-"
      },
      "source": [
        "<h3 style='color:blue' align='center'>Implementation of loss functions in python</h3>"
      ]
    },
    {
      "cell_type": "code",
      "metadata": {
        "id": "5McPO9xpWQaF"
      },
      "source": [
        "import numpy as np"
      ],
      "execution_count": null,
      "outputs": []
    },
    {
      "cell_type": "code",
      "metadata": {
        "id": "Lm16ZNFpWTqx"
      },
      "source": [
        "y_predicted = np.array([1,1,0,0,1])\n",
        "y_true = np.array([0.30,0.7,1,0,0.5])"
      ],
      "execution_count": null,
      "outputs": []
    },
    {
      "cell_type": "markdown",
      "metadata": {
        "id": "o-Djj-nsXWur"
      },
      "source": [
        "<h3 style='color:blue'>Implement Mean Absolute Error</h3>\n"
      ]
    },
    {
      "cell_type": "code",
      "metadata": {
        "id": "j5pHbGyxWbdV"
      },
      "source": [
        "def mae(y_predicted, y_true):\n",
        "    total_error = 0\n",
        "    for yp, yt in zip(y_predicted, y_true):\n",
        "        total_error += abs(yp - yt)\n",
        "    print(\"Total error is:\",total_error)\n",
        "    mae = total_error/len(y_predicted)\n",
        "    print(\"Mean absolute error is:\",mae)\n",
        "    return mae"
      ],
      "execution_count": null,
      "outputs": []
    },
    {
      "cell_type": "code",
      "metadata": {
        "colab": {
          "base_uri": "https://localhost:8080/"
        },
        "id": "vA9BoCdXWiWp",
        "outputId": "0fd0b648-13b5-4820-f293-9ab3b3c3a772"
      },
      "source": [
        "mae(y_predicted, y_true)"
      ],
      "execution_count": null,
      "outputs": [
        {
          "output_type": "stream",
          "text": [
            "Total error is: 2.5\n",
            "Mean absolute error is: 0.5\n"
          ],
          "name": "stdout"
        },
        {
          "output_type": "execute_result",
          "data": {
            "text/plain": [
              "0.5"
            ]
          },
          "metadata": {
            "tags": []
          },
          "execution_count": 23
        }
      ]
    },
    {
      "cell_type": "markdown",
      "metadata": {
        "id": "82UJdGMEhq1D"
      },
      "source": [
        "Implementation using Numpy"
      ]
    },
    {
      "cell_type": "code",
      "metadata": {
        "colab": {
          "base_uri": "https://localhost:8080/"
        },
        "id": "CYx1GyBgWiUS",
        "outputId": "26367e57-c718-4e77-97d3-e163ca8e2880"
      },
      "source": [
        "np.abs(y_predicted-y_true)"
      ],
      "execution_count": null,
      "outputs": [
        {
          "output_type": "execute_result",
          "data": {
            "text/plain": [
              "array([0.7, 0.3, 1. , 0. , 0.5])"
            ]
          },
          "metadata": {
            "tags": []
          },
          "execution_count": 24
        }
      ]
    },
    {
      "cell_type": "code",
      "metadata": {
        "colab": {
          "base_uri": "https://localhost:8080/"
        },
        "id": "sKNiXkyFWiSs",
        "outputId": "b39cd3a4-e684-401e-c588-82a130ea502c"
      },
      "source": [
        "np.mean(np.abs(y_predicted-y_true))"
      ],
      "execution_count": null,
      "outputs": [
        {
          "output_type": "execute_result",
          "data": {
            "text/plain": [
              "0.5"
            ]
          },
          "metadata": {
            "tags": []
          },
          "execution_count": 25
        }
      ]
    },
    {
      "cell_type": "code",
      "metadata": {
        "id": "56rt1KMjXBUS"
      },
      "source": [
        "def mae_np(y_predicted, y_true):\n",
        "    return np.mean(np.abs(y_predicted-y_true))"
      ],
      "execution_count": null,
      "outputs": []
    },
    {
      "cell_type": "code",
      "metadata": {
        "colab": {
          "base_uri": "https://localhost:8080/"
        },
        "id": "Yd5hA_mPXBRY",
        "outputId": "2cb5c48f-0dbe-49b7-f090-89cba747e6d8"
      },
      "source": [
        "mae_np(y_predicted, y_true)"
      ],
      "execution_count": null,
      "outputs": [
        {
          "output_type": "execute_result",
          "data": {
            "text/plain": [
              "0.5"
            ]
          },
          "metadata": {
            "tags": []
          },
          "execution_count": 27
        }
      ]
    },
    {
      "cell_type": "markdown",
      "metadata": {
        "id": "KRCDqPHhfsH_"
      },
      "source": [
        "<h3 style='color:blue'> Implement Log Loss or Binary Cross Entropy</h3>\n",
        "\n",
        "---\n",
        "\n"
      ]
    },
    {
      "cell_type": "code",
      "metadata": {
        "colab": {
          "base_uri": "https://localhost:8080/"
        },
        "id": "vrwpQG8dfr2W",
        "outputId": "a863fe86-3251-47ea-ffc8-7cc2fbb4bbd5"
      },
      "source": [
        "np.log([10])"
      ],
      "execution_count": null,
      "outputs": [
        {
          "output_type": "execute_result",
          "data": {
            "text/plain": [
              "array([2.30258509])"
            ]
          },
          "metadata": {
            "tags": []
          },
          "execution_count": 28
        }
      ]
    },
    {
      "cell_type": "code",
      "metadata": {
        "id": "UjW6DwWfXBPt"
      },
      "source": [
        "epsilon = 1e-15"
      ],
      "execution_count": null,
      "outputs": []
    },
    {
      "cell_type": "code",
      "metadata": {
        "colab": {
          "base_uri": "https://localhost:8080/"
        },
        "id": "C0wWd_TpXBNc",
        "outputId": "36d987d8-c418-4bb8-e476-f7e6fb2c0186"
      },
      "source": [
        "np.log([1e-15])"
      ],
      "execution_count": null,
      "outputs": [
        {
          "output_type": "execute_result",
          "data": {
            "text/plain": [
              "array([-34.53877639])"
            ]
          },
          "metadata": {
            "tags": []
          },
          "execution_count": 30
        }
      ]
    },
    {
      "cell_type": "code",
      "metadata": {
        "colab": {
          "base_uri": "https://localhost:8080/"
        },
        "id": "E2k6yFxyXBLk",
        "outputId": "e6cd6690-81e2-41d1-b859-82b84288eb32"
      },
      "source": [
        "y_predicted"
      ],
      "execution_count": null,
      "outputs": [
        {
          "output_type": "execute_result",
          "data": {
            "text/plain": [
              "array([1, 1, 0, 0, 1])"
            ]
          },
          "metadata": {
            "tags": []
          },
          "execution_count": 31
        }
      ]
    },
    {
      "cell_type": "code",
      "metadata": {
        "colab": {
          "base_uri": "https://localhost:8080/"
        },
        "id": "DEYuqKHEXBJC",
        "outputId": "2328a531-6ef7-4b70-d84f-d01bd8712d57"
      },
      "source": [
        "y_predicted_new = [max(i,epsilon) for i in y_predicted]\n",
        "y_predicted_new"
      ],
      "execution_count": null,
      "outputs": [
        {
          "output_type": "execute_result",
          "data": {
            "text/plain": [
              "[1, 1, 1e-15, 1e-15, 1]"
            ]
          },
          "metadata": {
            "tags": []
          },
          "execution_count": 32
        }
      ]
    },
    {
      "cell_type": "code",
      "metadata": {
        "colab": {
          "base_uri": "https://localhost:8080/"
        },
        "id": "uIKPtdTQgOc3",
        "outputId": "9915c10a-6e17-403f-cea8-3fcd879d252e"
      },
      "source": [
        "1-epsilon"
      ],
      "execution_count": null,
      "outputs": [
        {
          "output_type": "execute_result",
          "data": {
            "text/plain": [
              "0.999999999999999"
            ]
          },
          "metadata": {
            "tags": []
          },
          "execution_count": 33
        }
      ]
    },
    {
      "cell_type": "code",
      "metadata": {
        "colab": {
          "base_uri": "https://localhost:8080/"
        },
        "id": "Gg-VqGCdgOX5",
        "outputId": "cefed5b4-d367-4ce2-da7f-588ff43ee46a"
      },
      "source": [
        "y_predicted_new = [min(i,1-epsilon) for i in y_predicted_new]\n",
        "y_predicted_new"
      ],
      "execution_count": null,
      "outputs": [
        {
          "output_type": "execute_result",
          "data": {
            "text/plain": [
              "[0.999999999999999, 0.999999999999999, 1e-15, 1e-15, 0.999999999999999]"
            ]
          },
          "metadata": {
            "tags": []
          },
          "execution_count": 34
        }
      ]
    },
    {
      "cell_type": "code",
      "metadata": {
        "id": "2WV8GXCfgOVC"
      },
      "source": [
        "y_predicted_new = np.array(y_predicted_new)"
      ],
      "execution_count": null,
      "outputs": []
    },
    {
      "cell_type": "code",
      "metadata": {
        "colab": {
          "base_uri": "https://localhost:8080/"
        },
        "id": "biXFoaeqgYrh",
        "outputId": "e91fe0ad-5470-43b8-ddb2-39b61d66164f"
      },
      "source": [
        "np.log(y_predicted_new)"
      ],
      "execution_count": null,
      "outputs": [
        {
          "output_type": "execute_result",
          "data": {
            "text/plain": [
              "array([-9.99200722e-16, -9.99200722e-16, -3.45387764e+01, -3.45387764e+01,\n",
              "       -9.99200722e-16])"
            ]
          },
          "metadata": {
            "tags": []
          },
          "execution_count": 36
        }
      ]
    },
    {
      "cell_type": "code",
      "metadata": {
        "colab": {
          "base_uri": "https://localhost:8080/"
        },
        "id": "dUhq4oNsgYnC",
        "outputId": "a2c162bb-af01-4ed0-9357-6f7bd5a08040"
      },
      "source": [
        "-np.mean(y_true*np.log(y_predicted_new)+(1-y_true)*np.log(1-y_predicted_new))"
      ],
      "execution_count": null,
      "outputs": [
        {
          "output_type": "execute_result",
          "data": {
            "text/plain": [
              "17.2696280766844"
            ]
          },
          "metadata": {
            "tags": []
          },
          "execution_count": 37
        }
      ]
    },
    {
      "cell_type": "markdown",
      "metadata": {
        "id": "3g4rnTpBg-aC"
      },
      "source": [
        "<h3 style='color:blue'> Implement Mean Squared Error Function </h3>"
      ]
    },
    {
      "cell_type": "code",
      "metadata": {
        "id": "h65BpLwng_Zk"
      },
      "source": [
        "def mse(y_true, y_predicted):\n",
        "    total_error = 0\n",
        "    for yt, yp in zip(y_true, y_predicted):\n",
        "        total_error += (yt-yp)**2\n",
        "    print(\"Total Squared Error:\",total_error)\n",
        "    mse = total_error/len(y_true)\n",
        "    print(\"Mean Squared Error:\",mse)\n",
        "    return mse"
      ],
      "execution_count": null,
      "outputs": []
    },
    {
      "cell_type": "code",
      "metadata": {
        "colab": {
          "base_uri": "https://localhost:8080/"
        },
        "id": "Dxc22rI6g_Wq",
        "outputId": "891ab703-86ec-4d64-bfaa-d1544cc44be6"
      },
      "source": [
        "mse(y_true, y_predicted)"
      ],
      "execution_count": null,
      "outputs": [
        {
          "output_type": "stream",
          "text": [
            "Total Squared Error: 1.83\n",
            "Mean Squared Error: 0.366\n"
          ],
          "name": "stdout"
        },
        {
          "output_type": "execute_result",
          "data": {
            "text/plain": [
              "0.366"
            ]
          },
          "metadata": {
            "tags": []
          },
          "execution_count": 39
        }
      ]
    },
    {
      "cell_type": "code",
      "metadata": {
        "colab": {
          "base_uri": "https://localhost:8080/"
        },
        "id": "uFWlQVITg_T_",
        "outputId": "bf352242-bc3b-470b-cf18-e149efafbb41"
      },
      "source": [
        "np.mean(np.square(y_true-y_predicted))"
      ],
      "execution_count": null,
      "outputs": [
        {
          "output_type": "execute_result",
          "data": {
            "text/plain": [
              "0.366"
            ]
          },
          "metadata": {
            "tags": []
          },
          "execution_count": 40
        }
      ]
    },
    {
      "cell_type": "code",
      "source": [],
      "metadata": {
        "id": "GN6GATlSMsO0"
      },
      "execution_count": null,
      "outputs": []
    },
    {
      "cell_type": "markdown",
      "metadata": {
        "id": "RagyJlxeaGEX"
      },
      "source": [
        "# Multilayer Perceptron From Scratch (Sigmoid activation, MSE Loss)"
      ]
    },
    {
      "cell_type": "markdown",
      "metadata": {
        "id": "e4PPoqUNaGEX"
      },
      "source": [
        "Implementation of a 1-hidden layer multi-layer perceptron from scratch using\n",
        "- sigmoid activation in the hidden layer\n",
        "- sigmoid activation in the output layer\n",
        "- Mean Squared Error loss function"
      ]
    },
    {
      "cell_type": "markdown",
      "metadata": {
        "id": "CHYVCeqzaGEX"
      },
      "source": [
        "## Imports"
      ]
    },
    {
      "cell_type": "code",
      "execution_count": null,
      "metadata": {
        "id": "YJauiFAdaGEX"
      },
      "outputs": [],
      "source": [
        "import matplotlib.pyplot as plt\n",
        "import pandas as pd\n",
        "import torch\n",
        "%matplotlib inline"
      ]
    },
    {
      "cell_type": "code",
      "execution_count": null,
      "metadata": {
        "id": "SQ2dDhEnaGEX"
      },
      "outputs": [],
      "source": [
        "import time\n",
        "import numpy as np\n",
        "from torchvision import datasets\n",
        "from torchvision import transforms\n",
        "from torch.utils.data import DataLoader\n",
        "import torch.nn.functional as F\n",
        "import torch"
      ]
    },
    {
      "cell_type": "markdown",
      "metadata": {
        "id": "Tyqq_RVZaGEX"
      },
      "source": [
        "## Settings and Dataset"
      ]
    },
    {
      "cell_type": "code",
      "execution_count": null,
      "metadata": {
        "id": "bW7HUpwaaGEX",
        "outputId": "876a0c6d-cb6a-4637-a401-0ac409e10b4c"
      },
      "outputs": [
        {
          "name": "stdout",
          "output_type": "stream",
          "text": [
            "Image batch dimensions: torch.Size([100, 1, 28, 28])\n",
            "Image label dimensions: torch.Size([100])\n"
          ]
        }
      ],
      "source": [
        "##########################\n",
        "### SETTINGS\n",
        "##########################\n",
        "\n",
        "RANDOM_SEED = 1\n",
        "BATCH_SIZE = 100\n",
        "NUM_EPOCHS = 50\n",
        "\n",
        "##########################\n",
        "### MNIST DATASET\n",
        "##########################\n",
        "\n",
        "# Note transforms.ToTensor() scales input images\n",
        "# to 0-1 range\n",
        "train_dataset = datasets.MNIST(root='data', \n",
        "                               train=True, \n",
        "                               transform=transforms.ToTensor(),\n",
        "                               download=True)\n",
        "\n",
        "test_dataset = datasets.MNIST(root='data', \n",
        "                              train=False, \n",
        "                              transform=transforms.ToTensor())\n",
        "\n",
        "\n",
        "train_loader = DataLoader(dataset=train_dataset, \n",
        "                          batch_size=BATCH_SIZE, \n",
        "                          shuffle=True)\n",
        "\n",
        "test_loader = DataLoader(dataset=test_dataset, \n",
        "                         batch_size=BATCH_SIZE, \n",
        "                         shuffle=False)\n",
        "\n",
        "# Checking the dataset\n",
        "for images, labels in train_loader:  \n",
        "    print('Image batch dimensions:', images.shape)\n",
        "    print('Image label dimensions:', labels.shape)\n",
        "    break"
      ]
    },
    {
      "cell_type": "markdown",
      "metadata": {
        "id": "vstdGeYBaGEY"
      },
      "source": [
        "## Model Implementation"
      ]
    },
    {
      "cell_type": "code",
      "execution_count": null,
      "metadata": {
        "id": "jhcrJ9OiaGEY"
      },
      "outputs": [],
      "source": [
        "##########################\n",
        "### MODEL\n",
        "##########################\n",
        "\n",
        "class MultilayerPerceptron():\n",
        "\n",
        "    def __init__(self, num_features, num_hidden, num_classes):\n",
        "        super(MultilayerPerceptron, self).__init__()\n",
        "        \n",
        "        self.num_classes = num_classes\n",
        "        \n",
        "        # hidden 1\n",
        "        self.weight_1 = torch.zeros(num_hidden, num_features, \n",
        "                                    dtype=torch.float).normal_(0.0, 0.1)\n",
        "        self.bias_1 = torch.zeros(num_hidden, dtype=torch.float)\n",
        "        \n",
        "        # output\n",
        "        self.weight_o = torch.zeros(self.num_classes, num_hidden, \n",
        "                                    dtype=torch.float).normal_(0.0, 0.1)\n",
        "        self.bias_o = torch.zeros(self.num_classes, dtype=torch.float)\n",
        "        \n",
        "    def forward(self, x):\n",
        "        # hidden 1\n",
        "        \n",
        "        # input dim: [n_hidden, n_features] dot [n_features, n_examples] .T\n",
        "        # output dim: [n_examples, n_hidden]\n",
        "        z_1 = torch.mm(x, self.weight_1.t()) + self.bias_1\n",
        "        a_1 = torch.sigmoid(z_1)\n",
        "\n",
        "        # hidden 2\n",
        "        # input dim: [n_classes, n_hidden] dot [n_hidden, n_examples] .T\n",
        "        # output dim: [n_examples, n_classes]\n",
        "        z_2 = torch.mm(a_1, self.weight_o.t()) + self.bias_o\n",
        "        a_2 = torch.sigmoid(z_2)\n",
        "        return a_1, a_2\n",
        "\n",
        "    def backward(self, x, a_1, a_2, y):  \n",
        "    \n",
        "        #########################\n",
        "        ### Output layer weights\n",
        "        #########################\n",
        "        \n",
        "        # onehot encoding\n",
        "        y_onehot = torch.FloatTensor(y.size(0), self.num_classes)\n",
        "        y_onehot.zero_()\n",
        "        y_onehot.scatter_(1, y.view(-1, 1).long(), 1)\n",
        "        \n",
        "\n",
        "        # Part 1: dLoss/dOutWeights\n",
        "        ## = dLoss/dOutAct * dOutAct/dOutNet * dOutNet/dOutWeight\n",
        "        ## where DeltaOut = dLoss/dOutAct * dOutAct/dOutNet\n",
        "        ## for convenient re-use\n",
        "        \n",
        "        # input/output dim: [n_examples, n_classes]\n",
        "        dloss_da2 = 2.*(a_2 - y_onehot) / y.size(0)\n",
        "\n",
        "        # input/output dim: [n_examples, n_classes]\n",
        "        da2_dz2 = a_2 * (1. - a_2) # sigmoid derivative\n",
        "\n",
        "        # output dim: [n_examples, n_classes]\n",
        "        delta_out = dloss_da2 * da2_dz2 # \"delta (rule) placeholder\"\n",
        "\n",
        "        # gradient for output weights\n",
        "        \n",
        "        # [n_examples, n_hidden]\n",
        "        dz2__dw_out = a_1\n",
        "        \n",
        "        # input dim: [n_classlabels, n_examples] dot [n_examples, n_hidden]\n",
        "        # output dim: [n_classlabels, n_hidden]\n",
        "        dloss__dw_out = torch.mm(delta_out.t(), dz2__dw_out)\n",
        "        dloss__db_out = torch.sum(delta_out, dim=0)\n",
        "        \n",
        "\n",
        "        #################################        \n",
        "        # Part 2: dLoss/dHiddenWeights\n",
        "        ## = DeltaOut * dOutNet/dHiddenAct * dHiddenAct/dHiddenNet * dHiddenNet/dWeight\n",
        "        \n",
        "        # [n_classes, n_hidden]\n",
        "        dz2__a1 = self.weight_o\n",
        "        \n",
        "        # output dim: [n_examples, n_hidden]\n",
        "        dloss_a1 = torch.mm(delta_out, dz2__a1)\n",
        "        \n",
        "        # [n_examples, n_hidden]\n",
        "        da1__dz1 = a_1 * (1. - a_1) # sigmoid derivative\n",
        "        \n",
        "        # [n_examples, n_features]\n",
        "        dz1__dw1 = x\n",
        "        \n",
        "        # output dim: [n_hidden, n_features]\n",
        "        dloss_dw1 = torch.mm((dloss_a1 * da1__dz1).t(), dz1__dw1)\n",
        "        dloss_db1 = torch.sum((dloss_a1 * da1__dz1), dim=0)\n",
        "\n",
        "        return dloss__dw_out, dloss__db_out, dloss_dw1, dloss_db1"
      ]
    },
    {
      "cell_type": "markdown",
      "metadata": {
        "id": "62OaCtU4aGEY"
      },
      "source": [
        "## Training"
      ]
    },
    {
      "cell_type": "code",
      "execution_count": null,
      "metadata": {
        "id": "P01P0xG1aGEY"
      },
      "outputs": [],
      "source": [
        "####################################################\n",
        "##### Training and evaluation wrappers\n",
        "###################################################\n",
        "\n",
        "def to_onehot(y, num_classes):\n",
        "    y_onehot = torch.FloatTensor(y.size(0), num_classes)\n",
        "    y_onehot.zero_()\n",
        "    y_onehot.scatter_(1, y.view(-1, 1).long(), 1).float()\n",
        "    return y_onehot\n",
        "\n",
        "\n",
        "def loss_func(targets_onehot, probas_onehot):\n",
        "    return torch.mean(torch.mean((targets_onehot - probas_onehot)**2, dim=0))\n",
        "\n",
        "\n",
        "def compute_mse(net, data_loader):\n",
        "    curr_mse, num_examples = torch.zeros(model.num_classes).float(), 0\n",
        "    with torch.no_grad():\n",
        "        for features, targets in data_loader:\n",
        "            features = features.view(-1, 28*28)\n",
        "            logits, probas = net.forward(features)\n",
        "            y_onehot = to_onehot(targets, model.num_classes)\n",
        "            loss = torch.sum((y_onehot - probas)**2, dim=0)\n",
        "            num_examples += targets.size(0)\n",
        "            curr_mse += loss\n",
        "\n",
        "        curr_mse = torch.mean(curr_mse/num_examples, dim=0)\n",
        "        return curr_mse\n",
        "\n",
        "\n",
        "def train(model, data_loader, num_epochs,\n",
        "          learning_rate=0.1):\n",
        "    \n",
        "    minibatch_cost = []\n",
        "    epoch_cost = []\n",
        "    \n",
        "    for e in range(num_epochs):\n",
        "        \n",
        "        for batch_idx, (features, targets) in enumerate(train_loader):\n",
        "            \n",
        "            features = features.view(-1, 28*28)\n",
        "            \n",
        "            #### Compute outputs ####\n",
        "            a_1, a_2 = model.forward(features)\n",
        "\n",
        "            #### Compute gradients ####\n",
        "            dloss__dw_out, dloss__db_out, dloss_dw1, dloss_db1 = \\\n",
        "                model.backward(features, a_1, a_2, targets)\n",
        "\n",
        "            #### Update weights ####\n",
        "            model.weight_1 -= learning_rate * dloss_dw1\n",
        "            model.bias_1 -= learning_rate * dloss_db1\n",
        "            model.weight_o -= learning_rate * dloss__dw_out\n",
        "            model.bias_o -= learning_rate * dloss__db_out\n",
        "            \n",
        "            #### Logging ####\n",
        "            curr_cost = loss_func(to_onehot(targets, model.num_classes), a_2)\n",
        "            minibatch_cost.append(curr_cost)\n",
        "            if not batch_idx % 50:\n",
        "                print ('Epoch: %03d/%03d | Batch %03d/%03d | Cost: %.4f' \n",
        "                       %(e+1, NUM_EPOCHS, batch_idx, \n",
        "                         len(train_loader), curr_cost))\n",
        "        \n",
        "        #### Logging ####        \n",
        "        curr_cost = compute_mse(model, train_loader)\n",
        "        epoch_cost.append(curr_cost)\n",
        "        print('Epoch: %03d/%03d |' % (e+1, NUM_EPOCHS), end=\"\")\n",
        "        print(' Train MSE: %.5f' % curr_cost)\n",
        "\n",
        "    return minibatch_cost, epoch_cost"
      ]
    },
    {
      "cell_type": "code",
      "execution_count": null,
      "metadata": {
        "id": "XGY0KdNLaGEZ",
        "outputId": "9c4f56e8-6313-496f-c823-6b2928a9bd16"
      },
      "outputs": [
        {
          "name": "stdout",
          "output_type": "stream",
          "text": [
            "Epoch: 001/050 | Batch 000/600 | Cost: 0.2386\n",
            "Epoch: 001/050 | Batch 050/600 | Cost: 0.0895\n",
            "Epoch: 001/050 | Batch 100/600 | Cost: 0.0879\n",
            "Epoch: 001/050 | Batch 150/600 | Cost: 0.0878\n",
            "Epoch: 001/050 | Batch 200/600 | Cost: 0.0845\n",
            "Epoch: 001/050 | Batch 250/600 | Cost: 0.0845\n",
            "Epoch: 001/050 | Batch 300/600 | Cost: 0.0828\n",
            "Epoch: 001/050 | Batch 350/600 | Cost: 0.0817\n",
            "Epoch: 001/050 | Batch 400/600 | Cost: 0.0740\n",
            "Epoch: 001/050 | Batch 450/600 | Cost: 0.0728\n",
            "Epoch: 001/050 | Batch 500/600 | Cost: 0.0721\n",
            "Epoch: 001/050 | Batch 550/600 | Cost: 0.0729\n",
            "Epoch: 001/050 | Train MSE: 0.06567\n",
            "Epoch: 002/050 | Batch 000/600 | Cost: 0.0652\n",
            "Epoch: 002/050 | Batch 050/600 | Cost: 0.0585\n",
            "Epoch: 002/050 | Batch 100/600 | Cost: 0.0616\n",
            "Epoch: 002/050 | Batch 150/600 | Cost: 0.0625\n",
            "Epoch: 002/050 | Batch 200/600 | Cost: 0.0586\n",
            "Epoch: 002/050 | Batch 250/600 | Cost: 0.0613\n",
            "Epoch: 002/050 | Batch 300/600 | Cost: 0.0502\n",
            "Epoch: 002/050 | Batch 350/600 | Cost: 0.0513\n",
            "Epoch: 002/050 | Batch 400/600 | Cost: 0.0465\n",
            "Epoch: 002/050 | Batch 450/600 | Cost: 0.0519\n",
            "Epoch: 002/050 | Batch 500/600 | Cost: 0.0458\n",
            "Epoch: 002/050 | Batch 550/600 | Cost: 0.0408\n",
            "Epoch: 002/050 | Train MSE: 0.04299\n",
            "Epoch: 003/050 | Batch 000/600 | Cost: 0.0422\n",
            "Epoch: 003/050 | Batch 050/600 | Cost: 0.0424\n",
            "Epoch: 003/050 | Batch 100/600 | Cost: 0.0400\n",
            "Epoch: 003/050 | Batch 150/600 | Cost: 0.0367\n",
            "Epoch: 003/050 | Batch 200/600 | Cost: 0.0401\n",
            "Epoch: 003/050 | Batch 250/600 | Cost: 0.0383\n",
            "Epoch: 003/050 | Batch 300/600 | Cost: 0.0388\n",
            "Epoch: 003/050 | Batch 350/600 | Cost: 0.0382\n",
            "Epoch: 003/050 | Batch 400/600 | Cost: 0.0347\n",
            "Epoch: 003/050 | Batch 450/600 | Cost: 0.0347\n",
            "Epoch: 003/050 | Batch 500/600 | Cost: 0.0328\n",
            "Epoch: 003/050 | Batch 550/600 | Cost: 0.0324\n",
            "Epoch: 003/050 | Train MSE: 0.03255\n",
            "Epoch: 004/050 | Batch 000/600 | Cost: 0.0280\n",
            "Epoch: 004/050 | Batch 050/600 | Cost: 0.0296\n",
            "Epoch: 004/050 | Batch 100/600 | Cost: 0.0296\n",
            "Epoch: 004/050 | Batch 150/600 | Cost: 0.0276\n",
            "Epoch: 004/050 | Batch 200/600 | Cost: 0.0298\n",
            "Epoch: 004/050 | Batch 250/600 | Cost: 0.0282\n",
            "Epoch: 004/050 | Batch 300/600 | Cost: 0.0297\n",
            "Epoch: 004/050 | Batch 350/600 | Cost: 0.0277\n",
            "Epoch: 004/050 | Batch 400/600 | Cost: 0.0292\n",
            "Epoch: 004/050 | Batch 450/600 | Cost: 0.0279\n",
            "Epoch: 004/050 | Batch 500/600 | Cost: 0.0305\n",
            "Epoch: 004/050 | Batch 550/600 | Cost: 0.0250\n",
            "Epoch: 004/050 | Train MSE: 0.02692\n",
            "Epoch: 005/050 | Batch 000/600 | Cost: 0.0301\n",
            "Epoch: 005/050 | Batch 050/600 | Cost: 0.0246\n",
            "Epoch: 005/050 | Batch 100/600 | Cost: 0.0265\n",
            "Epoch: 005/050 | Batch 150/600 | Cost: 0.0294\n",
            "Epoch: 005/050 | Batch 200/600 | Cost: 0.0290\n",
            "Epoch: 005/050 | Batch 250/600 | Cost: 0.0247\n",
            "Epoch: 005/050 | Batch 300/600 | Cost: 0.0260\n",
            "Epoch: 005/050 | Batch 350/600 | Cost: 0.0272\n",
            "Epoch: 005/050 | Batch 400/600 | Cost: 0.0271\n",
            "Epoch: 005/050 | Batch 450/600 | Cost: 0.0256\n",
            "Epoch: 005/050 | Batch 500/600 | Cost: 0.0268\n",
            "Epoch: 005/050 | Batch 550/600 | Cost: 0.0260\n",
            "Epoch: 005/050 | Train MSE: 0.02366\n",
            "Epoch: 006/050 | Batch 000/600 | Cost: 0.0246\n",
            "Epoch: 006/050 | Batch 050/600 | Cost: 0.0253\n",
            "Epoch: 006/050 | Batch 100/600 | Cost: 0.0192\n",
            "Epoch: 006/050 | Batch 150/600 | Cost: 0.0244\n",
            "Epoch: 006/050 | Batch 200/600 | Cost: 0.0249\n",
            "Epoch: 006/050 | Batch 250/600 | Cost: 0.0226\n",
            "Epoch: 006/050 | Batch 300/600 | Cost: 0.0246\n",
            "Epoch: 006/050 | Batch 350/600 | Cost: 0.0195\n",
            "Epoch: 006/050 | Batch 400/600 | Cost: 0.0288\n",
            "Epoch: 006/050 | Batch 450/600 | Cost: 0.0242\n",
            "Epoch: 006/050 | Batch 500/600 | Cost: 0.0187\n",
            "Epoch: 006/050 | Batch 550/600 | Cost: 0.0250\n",
            "Epoch: 006/050 | Train MSE: 0.02154\n",
            "Epoch: 007/050 | Batch 000/600 | Cost: 0.0158\n",
            "Epoch: 007/050 | Batch 050/600 | Cost: 0.0216\n",
            "Epoch: 007/050 | Batch 100/600 | Cost: 0.0218\n",
            "Epoch: 007/050 | Batch 150/600 | Cost: 0.0260\n",
            "Epoch: 007/050 | Batch 200/600 | Cost: 0.0220\n",
            "Epoch: 007/050 | Batch 250/600 | Cost: 0.0179\n",
            "Epoch: 007/050 | Batch 300/600 | Cost: 0.0215\n",
            "Epoch: 007/050 | Batch 350/600 | Cost: 0.0221\n",
            "Epoch: 007/050 | Batch 400/600 | Cost: 0.0155\n",
            "Epoch: 007/050 | Batch 450/600 | Cost: 0.0196\n",
            "Epoch: 007/050 | Batch 500/600 | Cost: 0.0239\n",
            "Epoch: 007/050 | Batch 550/600 | Cost: 0.0203\n",
            "Epoch: 007/050 | Train MSE: 0.02007\n",
            "Epoch: 008/050 | Batch 000/600 | Cost: 0.0156\n",
            "Epoch: 008/050 | Batch 050/600 | Cost: 0.0194\n",
            "Epoch: 008/050 | Batch 100/600 | Cost: 0.0198\n",
            "Epoch: 008/050 | Batch 150/600 | Cost: 0.0191\n",
            "Epoch: 008/050 | Batch 200/600 | Cost: 0.0176\n",
            "Epoch: 008/050 | Batch 250/600 | Cost: 0.0198\n",
            "Epoch: 008/050 | Batch 300/600 | Cost: 0.0208\n",
            "Epoch: 008/050 | Batch 350/600 | Cost: 0.0193\n",
            "Epoch: 008/050 | Batch 400/600 | Cost: 0.0169\n",
            "Epoch: 008/050 | Batch 450/600 | Cost: 0.0230\n",
            "Epoch: 008/050 | Batch 500/600 | Cost: 0.0211\n",
            "Epoch: 008/050 | Batch 550/600 | Cost: 0.0179\n",
            "Epoch: 008/050 | Train MSE: 0.01893\n",
            "Epoch: 009/050 | Batch 000/600 | Cost: 0.0187\n",
            "Epoch: 009/050 | Batch 050/600 | Cost: 0.0216\n",
            "Epoch: 009/050 | Batch 100/600 | Cost: 0.0236\n",
            "Epoch: 009/050 | Batch 150/600 | Cost: 0.0179\n",
            "Epoch: 009/050 | Batch 200/600 | Cost: 0.0184\n",
            "Epoch: 009/050 | Batch 250/600 | Cost: 0.0151\n",
            "Epoch: 009/050 | Batch 300/600 | Cost: 0.0190\n",
            "Epoch: 009/050 | Batch 350/600 | Cost: 0.0156\n",
            "Epoch: 009/050 | Batch 400/600 | Cost: 0.0159\n",
            "Epoch: 009/050 | Batch 450/600 | Cost: 0.0211\n",
            "Epoch: 009/050 | Batch 500/600 | Cost: 0.0157\n",
            "Epoch: 009/050 | Batch 550/600 | Cost: 0.0167\n",
            "Epoch: 009/050 | Train MSE: 0.01804\n",
            "Epoch: 010/050 | Batch 000/600 | Cost: 0.0154\n",
            "Epoch: 010/050 | Batch 050/600 | Cost: 0.0152\n",
            "Epoch: 010/050 | Batch 100/600 | Cost: 0.0146\n",
            "Epoch: 010/050 | Batch 150/600 | Cost: 0.0188\n",
            "Epoch: 010/050 | Batch 200/600 | Cost: 0.0182\n",
            "Epoch: 010/050 | Batch 250/600 | Cost: 0.0173\n",
            "Epoch: 010/050 | Batch 300/600 | Cost: 0.0209\n",
            "Epoch: 010/050 | Batch 350/600 | Cost: 0.0138\n",
            "Epoch: 010/050 | Batch 400/600 | Cost: 0.0132\n",
            "Epoch: 010/050 | Batch 450/600 | Cost: 0.0153\n",
            "Epoch: 010/050 | Batch 500/600 | Cost: 0.0155\n",
            "Epoch: 010/050 | Batch 550/600 | Cost: 0.0202\n",
            "Epoch: 010/050 | Train MSE: 0.01728\n",
            "Epoch: 011/050 | Batch 000/600 | Cost: 0.0133\n",
            "Epoch: 011/050 | Batch 050/600 | Cost: 0.0136\n",
            "Epoch: 011/050 | Batch 100/600 | Cost: 0.0222\n",
            "Epoch: 011/050 | Batch 150/600 | Cost: 0.0130\n",
            "Epoch: 011/050 | Batch 200/600 | Cost: 0.0171\n",
            "Epoch: 011/050 | Batch 250/600 | Cost: 0.0214\n",
            "Epoch: 011/050 | Batch 300/600 | Cost: 0.0244\n",
            "Epoch: 011/050 | Batch 350/600 | Cost: 0.0168\n",
            "Epoch: 011/050 | Batch 400/600 | Cost: 0.0115\n",
            "Epoch: 011/050 | Batch 450/600 | Cost: 0.0123\n",
            "Epoch: 011/050 | Batch 500/600 | Cost: 0.0251\n",
            "Epoch: 011/050 | Batch 550/600 | Cost: 0.0128\n",
            "Epoch: 011/050 | Train MSE: 0.01664\n",
            "Epoch: 012/050 | Batch 000/600 | Cost: 0.0147\n",
            "Epoch: 012/050 | Batch 050/600 | Cost: 0.0173\n",
            "Epoch: 012/050 | Batch 100/600 | Cost: 0.0240\n",
            "Epoch: 012/050 | Batch 150/600 | Cost: 0.0147\n",
            "Epoch: 012/050 | Batch 200/600 | Cost: 0.0155\n",
            "Epoch: 012/050 | Batch 250/600 | Cost: 0.0141\n",
            "Epoch: 012/050 | Batch 300/600 | Cost: 0.0209\n",
            "Epoch: 012/050 | Batch 350/600 | Cost: 0.0170\n",
            "Epoch: 012/050 | Batch 400/600 | Cost: 0.0166\n",
            "Epoch: 012/050 | Batch 450/600 | Cost: 0.0194\n",
            "Epoch: 012/050 | Batch 500/600 | Cost: 0.0213\n",
            "Epoch: 012/050 | Batch 550/600 | Cost: 0.0171\n",
            "Epoch: 012/050 | Train MSE: 0.01610\n",
            "Epoch: 013/050 | Batch 000/600 | Cost: 0.0117\n",
            "Epoch: 013/050 | Batch 050/600 | Cost: 0.0138\n",
            "Epoch: 013/050 | Batch 100/600 | Cost: 0.0171\n",
            "Epoch: 013/050 | Batch 150/600 | Cost: 0.0202\n",
            "Epoch: 013/050 | Batch 200/600 | Cost: 0.0181\n",
            "Epoch: 013/050 | Batch 250/600 | Cost: 0.0194\n",
            "Epoch: 013/050 | Batch 300/600 | Cost: 0.0222\n",
            "Epoch: 013/050 | Batch 350/600 | Cost: 0.0152\n",
            "Epoch: 013/050 | Batch 400/600 | Cost: 0.0158\n",
            "Epoch: 013/050 | Batch 450/600 | Cost: 0.0131\n",
            "Epoch: 013/050 | Batch 500/600 | Cost: 0.0142\n",
            "Epoch: 013/050 | Batch 550/600 | Cost: 0.0110\n",
            "Epoch: 013/050 | Train MSE: 0.01561\n",
            "Epoch: 014/050 | Batch 000/600 | Cost: 0.0186\n",
            "Epoch: 014/050 | Batch 050/600 | Cost: 0.0157\n",
            "Epoch: 014/050 | Batch 100/600 | Cost: 0.0168\n",
            "Epoch: 014/050 | Batch 150/600 | Cost: 0.0136\n",
            "Epoch: 014/050 | Batch 200/600 | Cost: 0.0214\n",
            "Epoch: 014/050 | Batch 250/600 | Cost: 0.0192\n",
            "Epoch: 014/050 | Batch 300/600 | Cost: 0.0102\n",
            "Epoch: 014/050 | Batch 350/600 | Cost: 0.0087\n",
            "Epoch: 014/050 | Batch 400/600 | Cost: 0.0140\n",
            "Epoch: 014/050 | Batch 450/600 | Cost: 0.0110\n",
            "Epoch: 014/050 | Batch 500/600 | Cost: 0.0208\n",
            "Epoch: 014/050 | Batch 550/600 | Cost: 0.0156\n",
            "Epoch: 014/050 | Train MSE: 0.01519\n",
            "Epoch: 015/050 | Batch 000/600 | Cost: 0.0178\n",
            "Epoch: 015/050 | Batch 050/600 | Cost: 0.0154\n",
            "Epoch: 015/050 | Batch 100/600 | Cost: 0.0204\n",
            "Epoch: 015/050 | Batch 150/600 | Cost: 0.0085\n",
            "Epoch: 015/050 | Batch 200/600 | Cost: 0.0137\n",
            "Epoch: 015/050 | Batch 250/600 | Cost: 0.0124\n",
            "Epoch: 015/050 | Batch 300/600 | Cost: 0.0133\n",
            "Epoch: 015/050 | Batch 350/600 | Cost: 0.0169\n",
            "Epoch: 015/050 | Batch 400/600 | Cost: 0.0172\n",
            "Epoch: 015/050 | Batch 450/600 | Cost: 0.0137\n",
            "Epoch: 015/050 | Batch 500/600 | Cost: 0.0184\n",
            "Epoch: 015/050 | Batch 550/600 | Cost: 0.0187\n",
            "Epoch: 015/050 | Train MSE: 0.01481\n",
            "Epoch: 016/050 | Batch 000/600 | Cost: 0.0161\n",
            "Epoch: 016/050 | Batch 050/600 | Cost: 0.0138\n",
            "Epoch: 016/050 | Batch 100/600 | Cost: 0.0149\n",
            "Epoch: 016/050 | Batch 150/600 | Cost: 0.0149\n",
            "Epoch: 016/050 | Batch 200/600 | Cost: 0.0166\n",
            "Epoch: 016/050 | Batch 250/600 | Cost: 0.0127\n",
            "Epoch: 016/050 | Batch 300/600 | Cost: 0.0128\n",
            "Epoch: 016/050 | Batch 350/600 | Cost: 0.0111\n",
            "Epoch: 016/050 | Batch 400/600 | Cost: 0.0131\n",
            "Epoch: 016/050 | Batch 450/600 | Cost: 0.0180\n",
            "Epoch: 016/050 | Batch 500/600 | Cost: 0.0101\n",
            "Epoch: 016/050 | Batch 550/600 | Cost: 0.0188\n",
            "Epoch: 016/050 | Train MSE: 0.01447\n",
            "Epoch: 017/050 | Batch 000/600 | Cost: 0.0138\n",
            "Epoch: 017/050 | Batch 050/600 | Cost: 0.0231\n",
            "Epoch: 017/050 | Batch 100/600 | Cost: 0.0111\n",
            "Epoch: 017/050 | Batch 150/600 | Cost: 0.0115\n",
            "Epoch: 017/050 | Batch 200/600 | Cost: 0.0114\n",
            "Epoch: 017/050 | Batch 250/600 | Cost: 0.0133\n",
            "Epoch: 017/050 | Batch 300/600 | Cost: 0.0112\n",
            "Epoch: 017/050 | Batch 350/600 | Cost: 0.0208\n",
            "Epoch: 017/050 | Batch 400/600 | Cost: 0.0160\n",
            "Epoch: 017/050 | Batch 450/600 | Cost: 0.0165\n",
            "Epoch: 017/050 | Batch 500/600 | Cost: 0.0148\n",
            "Epoch: 017/050 | Batch 550/600 | Cost: 0.0078\n",
            "Epoch: 017/050 | Train MSE: 0.01416\n",
            "Epoch: 018/050 | Batch 000/600 | Cost: 0.0161\n",
            "Epoch: 018/050 | Batch 050/600 | Cost: 0.0130\n",
            "Epoch: 018/050 | Batch 100/600 | Cost: 0.0158\n",
            "Epoch: 018/050 | Batch 150/600 | Cost: 0.0194\n",
            "Epoch: 018/050 | Batch 200/600 | Cost: 0.0082\n",
            "Epoch: 018/050 | Batch 250/600 | Cost: 0.0140\n",
            "Epoch: 018/050 | Batch 300/600 | Cost: 0.0120\n",
            "Epoch: 018/050 | Batch 350/600 | Cost: 0.0142\n",
            "Epoch: 018/050 | Batch 400/600 | Cost: 0.0133\n",
            "Epoch: 018/050 | Batch 450/600 | Cost: 0.0147\n",
            "Epoch: 018/050 | Batch 500/600 | Cost: 0.0133\n",
            "Epoch: 018/050 | Batch 550/600 | Cost: 0.0170\n",
            "Epoch: 018/050 | Train MSE: 0.01386\n",
            "Epoch: 019/050 | Batch 000/600 | Cost: 0.0094\n",
            "Epoch: 019/050 | Batch 050/600 | Cost: 0.0139\n",
            "Epoch: 019/050 | Batch 100/600 | Cost: 0.0147\n",
            "Epoch: 019/050 | Batch 150/600 | Cost: 0.0157\n",
            "Epoch: 019/050 | Batch 200/600 | Cost: 0.0106\n",
            "Epoch: 019/050 | Batch 250/600 | Cost: 0.0134\n",
            "Epoch: 019/050 | Batch 300/600 | Cost: 0.0133\n",
            "Epoch: 019/050 | Batch 350/600 | Cost: 0.0187\n",
            "Epoch: 019/050 | Batch 400/600 | Cost: 0.0135\n",
            "Epoch: 019/050 | Batch 450/600 | Cost: 0.0124\n",
            "Epoch: 019/050 | Batch 500/600 | Cost: 0.0156\n",
            "Epoch: 019/050 | Batch 550/600 | Cost: 0.0145\n",
            "Epoch: 019/050 | Train MSE: 0.01361\n",
            "Epoch: 020/050 | Batch 000/600 | Cost: 0.0169\n",
            "Epoch: 020/050 | Batch 050/600 | Cost: 0.0079\n",
            "Epoch: 020/050 | Batch 100/600 | Cost: 0.0163\n",
            "Epoch: 020/050 | Batch 150/600 | Cost: 0.0164\n",
            "Epoch: 020/050 | Batch 200/600 | Cost: 0.0149\n",
            "Epoch: 020/050 | Batch 250/600 | Cost: 0.0157\n",
            "Epoch: 020/050 | Batch 300/600 | Cost: 0.0133\n",
            "Epoch: 020/050 | Batch 350/600 | Cost: 0.0089\n",
            "Epoch: 020/050 | Batch 400/600 | Cost: 0.0136\n",
            "Epoch: 020/050 | Batch 450/600 | Cost: 0.0110\n",
            "Epoch: 020/050 | Batch 500/600 | Cost: 0.0140\n",
            "Epoch: 020/050 | Batch 550/600 | Cost: 0.0168\n",
            "Epoch: 020/050 | Train MSE: 0.01335\n",
            "Epoch: 021/050 | Batch 000/600 | Cost: 0.0152\n",
            "Epoch: 021/050 | Batch 050/600 | Cost: 0.0126\n",
            "Epoch: 021/050 | Batch 100/600 | Cost: 0.0118\n",
            "Epoch: 021/050 | Batch 150/600 | Cost: 0.0151\n",
            "Epoch: 021/050 | Batch 200/600 | Cost: 0.0110\n",
            "Epoch: 021/050 | Batch 250/600 | Cost: 0.0127\n",
            "Epoch: 021/050 | Batch 300/600 | Cost: 0.0092\n",
            "Epoch: 021/050 | Batch 350/600 | Cost: 0.0133\n",
            "Epoch: 021/050 | Batch 400/600 | Cost: 0.0120\n",
            "Epoch: 021/050 | Batch 450/600 | Cost: 0.0107\n",
            "Epoch: 021/050 | Batch 500/600 | Cost: 0.0175\n",
            "Epoch: 021/050 | Batch 550/600 | Cost: 0.0133\n",
            "Epoch: 021/050 | Train MSE: 0.01311\n",
            "Epoch: 022/050 | Batch 000/600 | Cost: 0.0196\n",
            "Epoch: 022/050 | Batch 050/600 | Cost: 0.0163\n",
            "Epoch: 022/050 | Batch 100/600 | Cost: 0.0152\n",
            "Epoch: 022/050 | Batch 150/600 | Cost: 0.0126\n",
            "Epoch: 022/050 | Batch 200/600 | Cost: 0.0126\n",
            "Epoch: 022/050 | Batch 250/600 | Cost: 0.0123\n",
            "Epoch: 022/050 | Batch 300/600 | Cost: 0.0122\n",
            "Epoch: 022/050 | Batch 350/600 | Cost: 0.0091\n",
            "Epoch: 022/050 | Batch 400/600 | Cost: 0.0125\n",
            "Epoch: 022/050 | Batch 450/600 | Cost: 0.0165\n",
            "Epoch: 022/050 | Batch 500/600 | Cost: 0.0116\n",
            "Epoch: 022/050 | Batch 550/600 | Cost: 0.0161\n",
            "Epoch: 022/050 | Train MSE: 0.01289\n",
            "Epoch: 023/050 | Batch 000/600 | Cost: 0.0106\n",
            "Epoch: 023/050 | Batch 050/600 | Cost: 0.0089\n",
            "Epoch: 023/050 | Batch 100/600 | Cost: 0.0153\n",
            "Epoch: 023/050 | Batch 150/600 | Cost: 0.0155\n",
            "Epoch: 023/050 | Batch 200/600 | Cost: 0.0087\n",
            "Epoch: 023/050 | Batch 250/600 | Cost: 0.0130\n",
            "Epoch: 023/050 | Batch 300/600 | Cost: 0.0133\n",
            "Epoch: 023/050 | Batch 350/600 | Cost: 0.0070\n",
            "Epoch: 023/050 | Batch 400/600 | Cost: 0.0107\n",
            "Epoch: 023/050 | Batch 450/600 | Cost: 0.0177\n",
            "Epoch: 023/050 | Batch 500/600 | Cost: 0.0096\n",
            "Epoch: 023/050 | Batch 550/600 | Cost: 0.0163\n",
            "Epoch: 023/050 | Train MSE: 0.01269\n",
            "Epoch: 024/050 | Batch 000/600 | Cost: 0.0099\n",
            "Epoch: 024/050 | Batch 050/600 | Cost: 0.0103\n",
            "Epoch: 024/050 | Batch 100/600 | Cost: 0.0128\n",
            "Epoch: 024/050 | Batch 150/600 | Cost: 0.0112\n",
            "Epoch: 024/050 | Batch 200/600 | Cost: 0.0107\n",
            "Epoch: 024/050 | Batch 250/600 | Cost: 0.0123\n",
            "Epoch: 024/050 | Batch 300/600 | Cost: 0.0155\n",
            "Epoch: 024/050 | Batch 350/600 | Cost: 0.0181\n",
            "Epoch: 024/050 | Batch 400/600 | Cost: 0.0152\n",
            "Epoch: 024/050 | Batch 450/600 | Cost: 0.0140\n",
            "Epoch: 024/050 | Batch 500/600 | Cost: 0.0099\n",
            "Epoch: 024/050 | Batch 550/600 | Cost: 0.0158\n",
            "Epoch: 024/050 | Train MSE: 0.01250\n",
            "Epoch: 025/050 | Batch 000/600 | Cost: 0.0117\n",
            "Epoch: 025/050 | Batch 050/600 | Cost: 0.0114\n",
            "Epoch: 025/050 | Batch 100/600 | Cost: 0.0162\n",
            "Epoch: 025/050 | Batch 150/600 | Cost: 0.0120\n",
            "Epoch: 025/050 | Batch 200/600 | Cost: 0.0119\n",
            "Epoch: 025/050 | Batch 250/600 | Cost: 0.0113\n",
            "Epoch: 025/050 | Batch 300/600 | Cost: 0.0167\n",
            "Epoch: 025/050 | Batch 350/600 | Cost: 0.0113\n",
            "Epoch: 025/050 | Batch 400/600 | Cost: 0.0125\n",
            "Epoch: 025/050 | Batch 450/600 | Cost: 0.0108\n",
            "Epoch: 025/050 | Batch 500/600 | Cost: 0.0122\n",
            "Epoch: 025/050 | Batch 550/600 | Cost: 0.0094\n",
            "Epoch: 025/050 | Train MSE: 0.01232\n",
            "Epoch: 026/050 | Batch 000/600 | Cost: 0.0081\n",
            "Epoch: 026/050 | Batch 050/600 | Cost: 0.0102\n",
            "Epoch: 026/050 | Batch 100/600 | Cost: 0.0121\n",
            "Epoch: 026/050 | Batch 150/600 | Cost: 0.0211\n",
            "Epoch: 026/050 | Batch 200/600 | Cost: 0.0142\n",
            "Epoch: 026/050 | Batch 250/600 | Cost: 0.0094\n",
            "Epoch: 026/050 | Batch 300/600 | Cost: 0.0128\n",
            "Epoch: 026/050 | Batch 350/600 | Cost: 0.0100\n",
            "Epoch: 026/050 | Batch 400/600 | Cost: 0.0135\n",
            "Epoch: 026/050 | Batch 450/600 | Cost: 0.0175\n",
            "Epoch: 026/050 | Batch 500/600 | Cost: 0.0109\n",
            "Epoch: 026/050 | Batch 550/600 | Cost: 0.0123\n",
            "Epoch: 026/050 | Train MSE: 0.01214\n",
            "Epoch: 027/050 | Batch 000/600 | Cost: 0.0116\n",
            "Epoch: 027/050 | Batch 050/600 | Cost: 0.0148\n",
            "Epoch: 027/050 | Batch 100/600 | Cost: 0.0113\n",
            "Epoch: 027/050 | Batch 150/600 | Cost: 0.0181\n",
            "Epoch: 027/050 | Batch 200/600 | Cost: 0.0101\n",
            "Epoch: 027/050 | Batch 250/600 | Cost: 0.0134\n",
            "Epoch: 027/050 | Batch 300/600 | Cost: 0.0153\n",
            "Epoch: 027/050 | Batch 350/600 | Cost: 0.0096\n",
            "Epoch: 027/050 | Batch 400/600 | Cost: 0.0114\n",
            "Epoch: 027/050 | Batch 450/600 | Cost: 0.0121\n",
            "Epoch: 027/050 | Batch 500/600 | Cost: 0.0119\n",
            "Epoch: 027/050 | Batch 550/600 | Cost: 0.0162\n",
            "Epoch: 027/050 | Train MSE: 0.01198\n",
            "Epoch: 028/050 | Batch 000/600 | Cost: 0.0079\n",
            "Epoch: 028/050 | Batch 050/600 | Cost: 0.0148\n",
            "Epoch: 028/050 | Batch 100/600 | Cost: 0.0111\n",
            "Epoch: 028/050 | Batch 150/600 | Cost: 0.0178\n",
            "Epoch: 028/050 | Batch 200/600 | Cost: 0.0122\n",
            "Epoch: 028/050 | Batch 250/600 | Cost: 0.0117\n",
            "Epoch: 028/050 | Batch 300/600 | Cost: 0.0117\n",
            "Epoch: 028/050 | Batch 350/600 | Cost: 0.0110\n",
            "Epoch: 028/050 | Batch 400/600 | Cost: 0.0129\n",
            "Epoch: 028/050 | Batch 450/600 | Cost: 0.0117\n",
            "Epoch: 028/050 | Batch 500/600 | Cost: 0.0089\n",
            "Epoch: 028/050 | Batch 550/600 | Cost: 0.0065\n",
            "Epoch: 028/050 | Train MSE: 0.01182\n",
            "Epoch: 029/050 | Batch 000/600 | Cost: 0.0084\n",
            "Epoch: 029/050 | Batch 050/600 | Cost: 0.0112\n",
            "Epoch: 029/050 | Batch 100/600 | Cost: 0.0111\n",
            "Epoch: 029/050 | Batch 150/600 | Cost: 0.0176\n",
            "Epoch: 029/050 | Batch 200/600 | Cost: 0.0153\n",
            "Epoch: 029/050 | Batch 250/600 | Cost: 0.0148\n",
            "Epoch: 029/050 | Batch 300/600 | Cost: 0.0084\n",
            "Epoch: 029/050 | Batch 350/600 | Cost: 0.0117\n",
            "Epoch: 029/050 | Batch 400/600 | Cost: 0.0061\n",
            "Epoch: 029/050 | Batch 450/600 | Cost: 0.0119\n",
            "Epoch: 029/050 | Batch 500/600 | Cost: 0.0137\n",
            "Epoch: 029/050 | Batch 550/600 | Cost: 0.0130\n",
            "Epoch: 029/050 | Train MSE: 0.01168\n",
            "Epoch: 030/050 | Batch 000/600 | Cost: 0.0132\n",
            "Epoch: 030/050 | Batch 050/600 | Cost: 0.0143\n",
            "Epoch: 030/050 | Batch 100/600 | Cost: 0.0119\n",
            "Epoch: 030/050 | Batch 150/600 | Cost: 0.0113\n",
            "Epoch: 030/050 | Batch 200/600 | Cost: 0.0134\n",
            "Epoch: 030/050 | Batch 250/600 | Cost: 0.0113\n",
            "Epoch: 030/050 | Batch 300/600 | Cost: 0.0150\n",
            "Epoch: 030/050 | Batch 350/600 | Cost: 0.0111\n",
            "Epoch: 030/050 | Batch 400/600 | Cost: 0.0113\n",
            "Epoch: 030/050 | Batch 450/600 | Cost: 0.0167\n",
            "Epoch: 030/050 | Batch 500/600 | Cost: 0.0116\n",
            "Epoch: 030/050 | Batch 550/600 | Cost: 0.0109\n",
            "Epoch: 030/050 | Train MSE: 0.01152\n",
            "Epoch: 031/050 | Batch 000/600 | Cost: 0.0068\n",
            "Epoch: 031/050 | Batch 050/600 | Cost: 0.0130\n",
            "Epoch: 031/050 | Batch 100/600 | Cost: 0.0128\n",
            "Epoch: 031/050 | Batch 150/600 | Cost: 0.0108\n",
            "Epoch: 031/050 | Batch 200/600 | Cost: 0.0096\n",
            "Epoch: 031/050 | Batch 250/600 | Cost: 0.0086\n",
            "Epoch: 031/050 | Batch 300/600 | Cost: 0.0094\n",
            "Epoch: 031/050 | Batch 350/600 | Cost: 0.0130\n",
            "Epoch: 031/050 | Batch 400/600 | Cost: 0.0165\n",
            "Epoch: 031/050 | Batch 450/600 | Cost: 0.0119\n",
            "Epoch: 031/050 | Batch 500/600 | Cost: 0.0097\n",
            "Epoch: 031/050 | Batch 550/600 | Cost: 0.0112\n",
            "Epoch: 031/050 | Train MSE: 0.01140\n",
            "Epoch: 032/050 | Batch 000/600 | Cost: 0.0101\n",
            "Epoch: 032/050 | Batch 050/600 | Cost: 0.0111\n",
            "Epoch: 032/050 | Batch 100/600 | Cost: 0.0141\n",
            "Epoch: 032/050 | Batch 150/600 | Cost: 0.0121\n",
            "Epoch: 032/050 | Batch 200/600 | Cost: 0.0089\n",
            "Epoch: 032/050 | Batch 250/600 | Cost: 0.0103\n",
            "Epoch: 032/050 | Batch 300/600 | Cost: 0.0128\n",
            "Epoch: 032/050 | Batch 350/600 | Cost: 0.0118\n",
            "Epoch: 032/050 | Batch 400/600 | Cost: 0.0143\n",
            "Epoch: 032/050 | Batch 450/600 | Cost: 0.0073\n",
            "Epoch: 032/050 | Batch 500/600 | Cost: 0.0109\n",
            "Epoch: 032/050 | Batch 550/600 | Cost: 0.0104\n",
            "Epoch: 032/050 | Train MSE: 0.01126\n",
            "Epoch: 033/050 | Batch 000/600 | Cost: 0.0117\n",
            "Epoch: 033/050 | Batch 050/600 | Cost: 0.0094\n",
            "Epoch: 033/050 | Batch 100/600 | Cost: 0.0150\n",
            "Epoch: 033/050 | Batch 150/600 | Cost: 0.0121\n",
            "Epoch: 033/050 | Batch 200/600 | Cost: 0.0142\n",
            "Epoch: 033/050 | Batch 250/600 | Cost: 0.0075\n",
            "Epoch: 033/050 | Batch 300/600 | Cost: 0.0121\n",
            "Epoch: 033/050 | Batch 350/600 | Cost: 0.0111\n",
            "Epoch: 033/050 | Batch 400/600 | Cost: 0.0122\n",
            "Epoch: 033/050 | Batch 450/600 | Cost: 0.0099\n",
            "Epoch: 033/050 | Batch 500/600 | Cost: 0.0153\n",
            "Epoch: 033/050 | Batch 550/600 | Cost: 0.0114\n",
            "Epoch: 033/050 | Train MSE: 0.01112\n",
            "Epoch: 034/050 | Batch 000/600 | Cost: 0.0111\n",
            "Epoch: 034/050 | Batch 050/600 | Cost: 0.0076\n",
            "Epoch: 034/050 | Batch 100/600 | Cost: 0.0159\n",
            "Epoch: 034/050 | Batch 150/600 | Cost: 0.0145\n",
            "Epoch: 034/050 | Batch 200/600 | Cost: 0.0121\n",
            "Epoch: 034/050 | Batch 250/600 | Cost: 0.0123\n",
            "Epoch: 034/050 | Batch 300/600 | Cost: 0.0045\n",
            "Epoch: 034/050 | Batch 350/600 | Cost: 0.0153\n",
            "Epoch: 034/050 | Batch 400/600 | Cost: 0.0151\n",
            "Epoch: 034/050 | Batch 450/600 | Cost: 0.0104\n",
            "Epoch: 034/050 | Batch 500/600 | Cost: 0.0123\n",
            "Epoch: 034/050 | Batch 550/600 | Cost: 0.0134\n",
            "Epoch: 034/050 | Train MSE: 0.01100\n",
            "Epoch: 035/050 | Batch 000/600 | Cost: 0.0061\n",
            "Epoch: 035/050 | Batch 050/600 | Cost: 0.0079\n",
            "Epoch: 035/050 | Batch 100/600 | Cost: 0.0172\n",
            "Epoch: 035/050 | Batch 150/600 | Cost: 0.0097\n",
            "Epoch: 035/050 | Batch 200/600 | Cost: 0.0096\n",
            "Epoch: 035/050 | Batch 250/600 | Cost: 0.0030\n",
            "Epoch: 035/050 | Batch 300/600 | Cost: 0.0140\n",
            "Epoch: 035/050 | Batch 350/600 | Cost: 0.0137\n",
            "Epoch: 035/050 | Batch 400/600 | Cost: 0.0121\n",
            "Epoch: 035/050 | Batch 450/600 | Cost: 0.0121\n",
            "Epoch: 035/050 | Batch 500/600 | Cost: 0.0096\n",
            "Epoch: 035/050 | Batch 550/600 | Cost: 0.0152\n",
            "Epoch: 035/050 | Train MSE: 0.01088\n",
            "Epoch: 036/050 | Batch 000/600 | Cost: 0.0139\n",
            "Epoch: 036/050 | Batch 050/600 | Cost: 0.0085\n",
            "Epoch: 036/050 | Batch 100/600 | Cost: 0.0046\n",
            "Epoch: 036/050 | Batch 150/600 | Cost: 0.0099\n",
            "Epoch: 036/050 | Batch 200/600 | Cost: 0.0199\n",
            "Epoch: 036/050 | Batch 250/600 | Cost: 0.0100\n",
            "Epoch: 036/050 | Batch 300/600 | Cost: 0.0131\n",
            "Epoch: 036/050 | Batch 350/600 | Cost: 0.0126\n",
            "Epoch: 036/050 | Batch 400/600 | Cost: 0.0097\n",
            "Epoch: 036/050 | Batch 450/600 | Cost: 0.0073\n",
            "Epoch: 036/050 | Batch 500/600 | Cost: 0.0081\n",
            "Epoch: 036/050 | Batch 550/600 | Cost: 0.0107\n",
            "Epoch: 036/050 | Train MSE: 0.01077\n",
            "Epoch: 037/050 | Batch 000/600 | Cost: 0.0090\n",
            "Epoch: 037/050 | Batch 050/600 | Cost: 0.0115\n",
            "Epoch: 037/050 | Batch 100/600 | Cost: 0.0126\n",
            "Epoch: 037/050 | Batch 150/600 | Cost: 0.0115\n",
            "Epoch: 037/050 | Batch 200/600 | Cost: 0.0129\n",
            "Epoch: 037/050 | Batch 250/600 | Cost: 0.0121\n",
            "Epoch: 037/050 | Batch 300/600 | Cost: 0.0158\n",
            "Epoch: 037/050 | Batch 350/600 | Cost: 0.0121\n",
            "Epoch: 037/050 | Batch 400/600 | Cost: 0.0085\n",
            "Epoch: 037/050 | Batch 450/600 | Cost: 0.0076\n",
            "Epoch: 037/050 | Batch 500/600 | Cost: 0.0073\n",
            "Epoch: 037/050 | Batch 550/600 | Cost: 0.0136\n",
            "Epoch: 037/050 | Train MSE: 0.01065\n",
            "Epoch: 038/050 | Batch 000/600 | Cost: 0.0112\n",
            "Epoch: 038/050 | Batch 050/600 | Cost: 0.0101\n",
            "Epoch: 038/050 | Batch 100/600 | Cost: 0.0143\n",
            "Epoch: 038/050 | Batch 150/600 | Cost: 0.0121\n",
            "Epoch: 038/050 | Batch 200/600 | Cost: 0.0144\n",
            "Epoch: 038/050 | Batch 250/600 | Cost: 0.0056\n",
            "Epoch: 038/050 | Batch 300/600 | Cost: 0.0094\n",
            "Epoch: 038/050 | Batch 350/600 | Cost: 0.0128\n",
            "Epoch: 038/050 | Batch 400/600 | Cost: 0.0083\n",
            "Epoch: 038/050 | Batch 450/600 | Cost: 0.0101\n",
            "Epoch: 038/050 | Batch 500/600 | Cost: 0.0136\n",
            "Epoch: 038/050 | Batch 550/600 | Cost: 0.0078\n",
            "Epoch: 038/050 | Train MSE: 0.01055\n",
            "Epoch: 039/050 | Batch 000/600 | Cost: 0.0055\n",
            "Epoch: 039/050 | Batch 050/600 | Cost: 0.0110\n",
            "Epoch: 039/050 | Batch 100/600 | Cost: 0.0067\n",
            "Epoch: 039/050 | Batch 150/600 | Cost: 0.0074\n",
            "Epoch: 039/050 | Batch 200/600 | Cost: 0.0097\n",
            "Epoch: 039/050 | Batch 250/600 | Cost: 0.0120\n",
            "Epoch: 039/050 | Batch 300/600 | Cost: 0.0116\n",
            "Epoch: 039/050 | Batch 350/600 | Cost: 0.0100\n",
            "Epoch: 039/050 | Batch 400/600 | Cost: 0.0146\n",
            "Epoch: 039/050 | Batch 450/600 | Cost: 0.0076\n",
            "Epoch: 039/050 | Batch 500/600 | Cost: 0.0091\n",
            "Epoch: 039/050 | Batch 550/600 | Cost: 0.0137\n",
            "Epoch: 039/050 | Train MSE: 0.01045\n",
            "Epoch: 040/050 | Batch 000/600 | Cost: 0.0136\n",
            "Epoch: 040/050 | Batch 050/600 | Cost: 0.0108\n",
            "Epoch: 040/050 | Batch 100/600 | Cost: 0.0089\n",
            "Epoch: 040/050 | Batch 150/600 | Cost: 0.0080\n",
            "Epoch: 040/050 | Batch 200/600 | Cost: 0.0094\n",
            "Epoch: 040/050 | Batch 250/600 | Cost: 0.0089\n",
            "Epoch: 040/050 | Batch 300/600 | Cost: 0.0089\n",
            "Epoch: 040/050 | Batch 350/600 | Cost: 0.0098\n",
            "Epoch: 040/050 | Batch 400/600 | Cost: 0.0076\n",
            "Epoch: 040/050 | Batch 450/600 | Cost: 0.0098\n",
            "Epoch: 040/050 | Batch 500/600 | Cost: 0.0106\n",
            "Epoch: 040/050 | Batch 550/600 | Cost: 0.0140\n",
            "Epoch: 040/050 | Train MSE: 0.01034\n",
            "Epoch: 041/050 | Batch 000/600 | Cost: 0.0121\n",
            "Epoch: 041/050 | Batch 050/600 | Cost: 0.0161\n",
            "Epoch: 041/050 | Batch 100/600 | Cost: 0.0093\n",
            "Epoch: 041/050 | Batch 150/600 | Cost: 0.0104\n",
            "Epoch: 041/050 | Batch 200/600 | Cost: 0.0102\n",
            "Epoch: 041/050 | Batch 250/600 | Cost: 0.0076\n",
            "Epoch: 041/050 | Batch 300/600 | Cost: 0.0135\n",
            "Epoch: 041/050 | Batch 350/600 | Cost: 0.0062\n",
            "Epoch: 041/050 | Batch 400/600 | Cost: 0.0119\n",
            "Epoch: 041/050 | Batch 450/600 | Cost: 0.0114\n",
            "Epoch: 041/050 | Batch 500/600 | Cost: 0.0139\n",
            "Epoch: 041/050 | Batch 550/600 | Cost: 0.0131\n",
            "Epoch: 041/050 | Train MSE: 0.01024\n",
            "Epoch: 042/050 | Batch 000/600 | Cost: 0.0097\n",
            "Epoch: 042/050 | Batch 050/600 | Cost: 0.0047\n",
            "Epoch: 042/050 | Batch 100/600 | Cost: 0.0105\n",
            "Epoch: 042/050 | Batch 150/600 | Cost: 0.0050\n",
            "Epoch: 042/050 | Batch 200/600 | Cost: 0.0110\n",
            "Epoch: 042/050 | Batch 250/600 | Cost: 0.0110\n",
            "Epoch: 042/050 | Batch 300/600 | Cost: 0.0099\n",
            "Epoch: 042/050 | Batch 350/600 | Cost: 0.0104\n",
            "Epoch: 042/050 | Batch 400/600 | Cost: 0.0166\n",
            "Epoch: 042/050 | Batch 450/600 | Cost: 0.0085\n",
            "Epoch: 042/050 | Batch 500/600 | Cost: 0.0101\n",
            "Epoch: 042/050 | Batch 550/600 | Cost: 0.0096\n",
            "Epoch: 042/050 | Train MSE: 0.01015\n",
            "Epoch: 043/050 | Batch 000/600 | Cost: 0.0072\n",
            "Epoch: 043/050 | Batch 050/600 | Cost: 0.0099\n",
            "Epoch: 043/050 | Batch 100/600 | Cost: 0.0092\n",
            "Epoch: 043/050 | Batch 150/600 | Cost: 0.0106\n",
            "Epoch: 043/050 | Batch 200/600 | Cost: 0.0114\n",
            "Epoch: 043/050 | Batch 250/600 | Cost: 0.0130\n",
            "Epoch: 043/050 | Batch 300/600 | Cost: 0.0113\n",
            "Epoch: 043/050 | Batch 350/600 | Cost: 0.0084\n",
            "Epoch: 043/050 | Batch 400/600 | Cost: 0.0169\n",
            "Epoch: 043/050 | Batch 450/600 | Cost: 0.0060\n",
            "Epoch: 043/050 | Batch 500/600 | Cost: 0.0092\n",
            "Epoch: 043/050 | Batch 550/600 | Cost: 0.0098\n",
            "Epoch: 043/050 | Train MSE: 0.01004\n",
            "Epoch: 044/050 | Batch 000/600 | Cost: 0.0114\n",
            "Epoch: 044/050 | Batch 050/600 | Cost: 0.0075\n",
            "Epoch: 044/050 | Batch 100/600 | Cost: 0.0076\n",
            "Epoch: 044/050 | Batch 150/600 | Cost: 0.0106\n",
            "Epoch: 044/050 | Batch 200/600 | Cost: 0.0082\n",
            "Epoch: 044/050 | Batch 250/600 | Cost: 0.0088\n",
            "Epoch: 044/050 | Batch 300/600 | Cost: 0.0172\n",
            "Epoch: 044/050 | Batch 350/600 | Cost: 0.0086\n",
            "Epoch: 044/050 | Batch 400/600 | Cost: 0.0099\n",
            "Epoch: 044/050 | Batch 450/600 | Cost: 0.0108\n",
            "Epoch: 044/050 | Batch 500/600 | Cost: 0.0141\n",
            "Epoch: 044/050 | Batch 550/600 | Cost: 0.0107\n",
            "Epoch: 044/050 | Train MSE: 0.00996\n",
            "Epoch: 045/050 | Batch 000/600 | Cost: 0.0094\n",
            "Epoch: 045/050 | Batch 050/600 | Cost: 0.0125\n",
            "Epoch: 045/050 | Batch 100/600 | Cost: 0.0117\n",
            "Epoch: 045/050 | Batch 150/600 | Cost: 0.0135\n",
            "Epoch: 045/050 | Batch 200/600 | Cost: 0.0077\n",
            "Epoch: 045/050 | Batch 250/600 | Cost: 0.0043\n",
            "Epoch: 045/050 | Batch 300/600 | Cost: 0.0055\n",
            "Epoch: 045/050 | Batch 350/600 | Cost: 0.0106\n",
            "Epoch: 045/050 | Batch 400/600 | Cost: 0.0101\n",
            "Epoch: 045/050 | Batch 450/600 | Cost: 0.0130\n",
            "Epoch: 045/050 | Batch 500/600 | Cost: 0.0080\n",
            "Epoch: 045/050 | Batch 550/600 | Cost: 0.0089\n",
            "Epoch: 045/050 | Train MSE: 0.00987\n",
            "Epoch: 046/050 | Batch 000/600 | Cost: 0.0135\n",
            "Epoch: 046/050 | Batch 050/600 | Cost: 0.0082\n",
            "Epoch: 046/050 | Batch 100/600 | Cost: 0.0121\n",
            "Epoch: 046/050 | Batch 150/600 | Cost: 0.0121\n",
            "Epoch: 046/050 | Batch 200/600 | Cost: 0.0106\n",
            "Epoch: 046/050 | Batch 250/600 | Cost: 0.0080\n",
            "Epoch: 046/050 | Batch 300/600 | Cost: 0.0093\n",
            "Epoch: 046/050 | Batch 350/600 | Cost: 0.0075\n",
            "Epoch: 046/050 | Batch 400/600 | Cost: 0.0113\n",
            "Epoch: 046/050 | Batch 450/600 | Cost: 0.0118\n",
            "Epoch: 046/050 | Batch 500/600 | Cost: 0.0076\n",
            "Epoch: 046/050 | Batch 550/600 | Cost: 0.0084\n",
            "Epoch: 046/050 | Train MSE: 0.00979\n",
            "Epoch: 047/050 | Batch 000/600 | Cost: 0.0073\n",
            "Epoch: 047/050 | Batch 050/600 | Cost: 0.0102\n",
            "Epoch: 047/050 | Batch 100/600 | Cost: 0.0106\n",
            "Epoch: 047/050 | Batch 150/600 | Cost: 0.0075\n",
            "Epoch: 047/050 | Batch 200/600 | Cost: 0.0121\n",
            "Epoch: 047/050 | Batch 250/600 | Cost: 0.0110\n",
            "Epoch: 047/050 | Batch 300/600 | Cost: 0.0078\n",
            "Epoch: 047/050 | Batch 350/600 | Cost: 0.0099\n",
            "Epoch: 047/050 | Batch 400/600 | Cost: 0.0090\n",
            "Epoch: 047/050 | Batch 450/600 | Cost: 0.0119\n",
            "Epoch: 047/050 | Batch 500/600 | Cost: 0.0080\n",
            "Epoch: 047/050 | Batch 550/600 | Cost: 0.0136\n",
            "Epoch: 047/050 | Train MSE: 0.00969\n",
            "Epoch: 048/050 | Batch 000/600 | Cost: 0.0063\n",
            "Epoch: 048/050 | Batch 050/600 | Cost: 0.0119\n",
            "Epoch: 048/050 | Batch 100/600 | Cost: 0.0110\n",
            "Epoch: 048/050 | Batch 150/600 | Cost: 0.0121\n",
            "Epoch: 048/050 | Batch 200/600 | Cost: 0.0099\n",
            "Epoch: 048/050 | Batch 250/600 | Cost: 0.0094\n",
            "Epoch: 048/050 | Batch 300/600 | Cost: 0.0091\n",
            "Epoch: 048/050 | Batch 350/600 | Cost: 0.0094\n",
            "Epoch: 048/050 | Batch 400/600 | Cost: 0.0157\n",
            "Epoch: 048/050 | Batch 450/600 | Cost: 0.0105\n",
            "Epoch: 048/050 | Batch 500/600 | Cost: 0.0088\n",
            "Epoch: 048/050 | Batch 550/600 | Cost: 0.0052\n",
            "Epoch: 048/050 | Train MSE: 0.00961\n",
            "Epoch: 049/050 | Batch 000/600 | Cost: 0.0111\n",
            "Epoch: 049/050 | Batch 050/600 | Cost: 0.0136\n",
            "Epoch: 049/050 | Batch 100/600 | Cost: 0.0113\n",
            "Epoch: 049/050 | Batch 150/600 | Cost: 0.0112\n",
            "Epoch: 049/050 | Batch 200/600 | Cost: 0.0062\n",
            "Epoch: 049/050 | Batch 250/600 | Cost: 0.0117\n",
            "Epoch: 049/050 | Batch 300/600 | Cost: 0.0106\n",
            "Epoch: 049/050 | Batch 350/600 | Cost: 0.0107\n",
            "Epoch: 049/050 | Batch 400/600 | Cost: 0.0087\n",
            "Epoch: 049/050 | Batch 450/600 | Cost: 0.0066\n",
            "Epoch: 049/050 | Batch 500/600 | Cost: 0.0074\n",
            "Epoch: 049/050 | Batch 550/600 | Cost: 0.0091\n",
            "Epoch: 049/050 | Train MSE: 0.00954\n",
            "Epoch: 050/050 | Batch 000/600 | Cost: 0.0040\n",
            "Epoch: 050/050 | Batch 050/600 | Cost: 0.0141\n",
            "Epoch: 050/050 | Batch 100/600 | Cost: 0.0109\n",
            "Epoch: 050/050 | Batch 150/600 | Cost: 0.0076\n",
            "Epoch: 050/050 | Batch 200/600 | Cost: 0.0097\n",
            "Epoch: 050/050 | Batch 250/600 | Cost: 0.0067\n",
            "Epoch: 050/050 | Batch 300/600 | Cost: 0.0097\n",
            "Epoch: 050/050 | Batch 350/600 | Cost: 0.0059\n",
            "Epoch: 050/050 | Batch 400/600 | Cost: 0.0087\n",
            "Epoch: 050/050 | Batch 450/600 | Cost: 0.0089\n",
            "Epoch: 050/050 | Batch 500/600 | Cost: 0.0098\n",
            "Epoch: 050/050 | Batch 550/600 | Cost: 0.0083\n",
            "Epoch: 050/050 | Train MSE: 0.00945\n"
          ]
        }
      ],
      "source": [
        "####################################################\n",
        "##### Training \n",
        "###################################################\n",
        "\n",
        "torch.manual_seed(RANDOM_SEED)\n",
        "model = MultilayerPerceptron(num_features=28*28,\n",
        "                             num_hidden=50,\n",
        "                             num_classes=10)\n",
        "\n",
        "minibatch_cost, epoch_cost = train(model, \n",
        "                                   train_loader,\n",
        "                                   num_epochs=NUM_EPOCHS,\n",
        "                                   learning_rate=0.1)"
      ]
    },
    {
      "cell_type": "markdown",
      "metadata": {
        "id": "UVVHjQI3aGEZ"
      },
      "source": [
        "## Evaluation"
      ]
    },
    {
      "cell_type": "code",
      "execution_count": null,
      "metadata": {
        "id": "Zu9MYkToaGEZ",
        "outputId": "2e56ff26-1845-4a3a-bdf5-2f5c8ce642c0"
      },
      "outputs": [
        {
          "data": {
            "image/png": "[encoded data removed]",
            "text/plain": [
              "<Figure size 432x288 with 1 Axes>"
            ]
          },
          "metadata": {
            "needs_background": "light"
          },
          "output_type": "display_data"
        },
        {
          "data": {
            "image/png": "[encoded data removed]",
            "text/plain": [
              "<Figure size 432x288 with 1 Axes>"
            ]
          },
          "metadata": {
            "needs_background": "light"
          },
          "output_type": "display_data"
        }
      ],
      "source": [
        "plt.plot(range(len(minibatch_cost)), minibatch_cost)\n",
        "plt.ylabel('Mean Squared Error')\n",
        "plt.xlabel('Minibatch')\n",
        "plt.show()\n",
        "\n",
        "plt.plot(range(len(epoch_cost)), epoch_cost)\n",
        "plt.ylabel('Mean Squared Error')\n",
        "plt.xlabel('Epoch')\n",
        "plt.show()"
      ]
    },
    {
      "cell_type": "code",
      "execution_count": null,
      "metadata": {
        "id": "qgEHwZ0qaGEZ",
        "outputId": "14cb04ea-b2ff-4e98-8a77-46ad4dcb6423"
      },
      "outputs": [
        {
          "name": "stdout",
          "output_type": "stream",
          "text": [
            "Training Accuracy: 94.69\n",
            "Test Accuracy: 94.53\n"
          ]
        }
      ],
      "source": [
        "def compute_accuracy(net, data_loader):\n",
        "    correct_pred, num_examples = 0, 0\n",
        "    with torch.no_grad():\n",
        "        for features, targets in data_loader:\n",
        "            features = features.view(-1, 28*28)\n",
        "            _, outputs = net.forward(features)\n",
        "            predicted_labels = torch.argmax(outputs, 1)\n",
        "            num_examples += targets.size(0)\n",
        "            correct_pred += (predicted_labels == targets).sum()\n",
        "        return correct_pred.float()/num_examples * 100\n",
        "    \n",
        "print('Training Accuracy: %.2f' % compute_accuracy(model, train_loader))\n",
        "print('Test Accuracy: %.2f' % compute_accuracy(model, test_loader))"
      ]
    },
    {
      "cell_type": "markdown",
      "metadata": {
        "id": "Iatu6782aGEZ"
      },
      "source": [
        "## Visual Inspection"
      ]
    },
    {
      "cell_type": "code",
      "execution_count": null,
      "metadata": {
        "id": "jGNgvl-gaGEZ"
      },
      "outputs": [],
      "source": [
        "%matplotlib inline\n",
        "import matplotlib\n",
        "import matplotlib.pyplot as plt"
      ]
    },
    {
      "cell_type": "code",
      "execution_count": null,
      "metadata": {
        "id": "78VFjkWMaGEZ",
        "outputId": "a40ba7ed-72a3-43d4-8840-3fd49f6d523b"
      },
      "outputs": [
        {
          "data": {
            "image/png": "[encoded data removed]",
            "text/plain": [
              "<Figure size 432x288 with 4 Axes>"
            ]
          },
          "metadata": {
            "needs_background": "light"
          },
          "output_type": "display_data"
        }
      ],
      "source": [
        "for features, targets in test_loader:\n",
        "    break\n",
        "    \n",
        "fig, ax = plt.subplots(1, 4)\n",
        "for i in range(4):\n",
        "    ax[i].imshow(features[i].view(28, 28), cmap=matplotlib.cm.binary)\n",
        "\n",
        "plt.show()"
      ]
    },
    {
      "cell_type": "code",
      "execution_count": null,
      "metadata": {
        "id": "JxfPS3t-aGEa",
        "outputId": "90c2ac8c-9a53-456a-fd80-febb555e7d53"
      },
      "outputs": [
        {
          "name": "stdout",
          "output_type": "stream",
          "text": [
            "Predicted labels tensor([7, 2, 1, 0])\n"
          ]
        }
      ],
      "source": [
        "_, predictions = model.forward(features[:4].view(-1, 28*28))\n",
        "predictions = torch.argmax(predictions, dim=1)\n",
        "print('Predicted labels', predictions)"
      ]
    },
    {
      "cell_type": "markdown",
      "metadata": {
        "id": "MsHIdm45-z00"
      },
      "source": [
        "<h2 style='color:purple' align='center'> Section 3: Build our first neural network in Keras for handwritten digit recognition problem</h2>"
      ]
    },
    {
      "cell_type": "markdown",
      "metadata": {
        "id": "2jcxCoIY-zfC"
      },
      "source": [
        "**We will use keras digit MNIST dataset. This consist of 6000 28X28 pixel images and 1000 test images, these images are classified in one of the 10 categories (0-9)**"
      ]
    },
    {
      "cell_type": "code",
      "metadata": {
        "id": "oxfentE39Y-7"
      },
      "source": [
        "# import the packages\n",
        "import tensorflow as tf\n",
        "from tensorflow import keras\n",
        "import matplotlib.pyplot as plt\n",
        "%matplotlib inline\n",
        "import numpy as np"
      ],
      "execution_count": null,
      "outputs": []
    },
    {
      "cell_type": "code",
      "metadata": {
        "id": "irLBbNA99Y-8",
        "colab": {
          "base_uri": "https://localhost:8080/"
        },
        "outputId": "c3d833aa-5a38-4d1b-8d8f-a48f875fca6f"
      },
      "source": [
        "# Load the data\n",
        "(X_train, y_train) , (X_test, y_test) = keras.datasets.mnist.load_data()"
      ],
      "execution_count": null,
      "outputs": [
        {
          "output_type": "stream",
          "text": [
            "Downloading data from https://storage.googleapis.com/tensorflow/tf-keras-datasets/mnist.npz\n",
            "11493376/11490434 [==============================] - 0s 0us/step\n"
          ],
          "name": "stdout"
        }
      ]
    },
    {
      "cell_type": "markdown",
      "metadata": {
        "id": "wp_i6pz69vVO"
      },
      "source": [
        "Lets get some idea about the data"
      ]
    },
    {
      "cell_type": "code",
      "metadata": {
        "colab": {
          "base_uri": "https://localhost:8080/"
        },
        "id": "TjOewdnw9Y-8",
        "outputId": "46f88131-5e74-4375-9dd1-08323956e880"
      },
      "source": [
        "len(X_train)"
      ],
      "execution_count": null,
      "outputs": [
        {
          "output_type": "execute_result",
          "data": {
            "text/plain": [
              "60000"
            ]
          },
          "metadata": {
            "tags": []
          },
          "execution_count": 55
        }
      ]
    },
    {
      "cell_type": "code",
      "metadata": {
        "colab": {
          "base_uri": "https://localhost:8080/"
        },
        "id": "2H7AjHe49Y--",
        "outputId": "c80ffa98-bb14-46ff-c747-288657bb6b29"
      },
      "source": [
        "len(X_test)"
      ],
      "execution_count": null,
      "outputs": [
        {
          "output_type": "execute_result",
          "data": {
            "text/plain": [
              "10000"
            ]
          },
          "metadata": {
            "tags": []
          },
          "execution_count": 56
        }
      ]
    },
    {
      "cell_type": "code",
      "metadata": {
        "colab": {
          "base_uri": "https://localhost:8080/"
        },
        "id": "jjRjogVq9Y-_",
        "outputId": "e11b9599-4ff0-4218-9c80-194f63a31871"
      },
      "source": [
        "X_train[0].shape"
      ],
      "execution_count": null,
      "outputs": [
        {
          "output_type": "execute_result",
          "data": {
            "text/plain": [
              "(28, 28)"
            ]
          },
          "metadata": {
            "tags": []
          },
          "execution_count": 57
        }
      ]
    },
    {
      "cell_type": "code",
      "metadata": {
        "colab": {
          "base_uri": "https://localhost:8080/"
        },
        "id": "9qUk_lQP9Y_A",
        "outputId": "22cca584-29e8-43de-8780-5328bf499620"
      },
      "source": [
        "X_train[0]"
      ],
      "execution_count": null,
      "outputs": [
        {
          "output_type": "execute_result",
          "data": {
            "text/plain": [
              "array([[  0,   0,   0,   0,   0,   0,   0,   0,   0,   0,   0,   0,   0,\n",
              "          0,   0,   0,   0,   0,   0,   0,   0,   0,   0,   0,   0,   0,\n",
              "          0,   0],\n",
              "       [  0,   0,   0,   0,   0,   0,   0,   0,   0,   0,   0,   0,   0,\n",
              "          0,   0,   0,   0,   0,   0,   0,   0,   0,   0,   0,   0,   0,\n",
              "          0,   0],\n",
              "       [  0,   0,   0,   0,   0,   0,   0,   0,   0,   0,   0,   0,   0,\n",
              "          0,   0,   0,   0,   0,   0,   0,   0,   0,   0,   0,   0,   0,\n",
              "          0,   0],\n",
              "       [  0,   0,   0,   0,   0,   0,   0,   0,   0,   0,   0,   0,   0,\n",
              "          0,   0,   0,   0,   0,   0,   0,   0,   0,   0,   0,   0,   0,\n",
              "          0,   0],\n",
              "       [  0,   0,   0,   0,   0,   0,   0,   0,   0,   0,   0,   0,   0,\n",
              "          0,   0,   0,   0,   0,   0,   0,   0,   0,   0,   0,   0,   0,\n",
              "          0,   0],\n",
              "       [  0,   0,   0,   0,   0,   0,   0,   0,   0,   0,   0,   0,   3,\n",
              "         18,  18,  18, 126, 136, 175,  26, 166, 255, 247, 127,   0,   0,\n",
              "          0,   0],\n",
              "       [  0,   0,   0,   0,   0,   0,   0,   0,  30,  36,  94, 154, 170,\n",
              "        253, 253, 253, 253, 253, 225, 172, 253, 242, 195,  64,   0,   0,\n",
              "          0,   0],\n",
              "       [  0,   0,   0,   0,   0,   0,   0,  49, 238, 253, 253, 253, 253,\n",
              "        253, 253, 253, 253, 251,  93,  82,  82,  56,  39,   0,   0,   0,\n",
              "          0,   0],\n",
              "       [  0,   0,   0,   0,   0,   0,   0,  18, 219, 253, 253, 253, 253,\n",
              "        253, 198, 182, 247, 241,   0,   0,   0,   0,   0,   0,   0,   0,\n",
              "          0,   0],\n",
              "       [  0,   0,   0,   0,   0,   0,   0,   0,  80, 156, 107, 253, 253,\n",
              "        205,  11,   0,  43, 154,   0,   0,   0,   0,   0,   0,   0,   0,\n",
              "          0,   0],\n",
              "       [  0,   0,   0,   0,   0,   0,   0,   0,   0,  14,   1, 154, 253,\n",
              "         90,   0,   0,   0,   0,   0,   0,   0,   0,   0,   0,   0,   0,\n",
              "          0,   0],\n",
              "       [  0,   0,   0,   0,   0,   0,   0,   0,   0,   0,   0, 139, 253,\n",
              "        190,   2,   0,   0,   0,   0,   0,   0,   0,   0,   0,   0,   0,\n",
              "          0,   0],\n",
              "       [  0,   0,   0,   0,   0,   0,   0,   0,   0,   0,   0,  11, 190,\n",
              "        253,  70,   0,   0,   0,   0,   0,   0,   0,   0,   0,   0,   0,\n",
              "          0,   0],\n",
              "       [  0,   0,   0,   0,   0,   0,   0,   0,   0,   0,   0,   0,  35,\n",
              "        241, 225, 160, 108,   1,   0,   0,   0,   0,   0,   0,   0,   0,\n",
              "          0,   0],\n",
              "       [  0,   0,   0,   0,   0,   0,   0,   0,   0,   0,   0,   0,   0,\n",
              "         81, 240, 253, 253, 119,  25,   0,   0,   0,   0,   0,   0,   0,\n",
              "          0,   0],\n",
              "       [  0,   0,   0,   0,   0,   0,   0,   0,   0,   0,   0,   0,   0,\n",
              "          0,  45, 186, 253, 253, 150,  27,   0,   0,   0,   0,   0,   0,\n",
              "          0,   0],\n",
              "       [  0,   0,   0,   0,   0,   0,   0,   0,   0,   0,   0,   0,   0,\n",
              "          0,   0,  16,  93, 252, 253, 187,   0,   0,   0,   0,   0,   0,\n",
              "          0,   0],\n",
              "       [  0,   0,   0,   0,   0,   0,   0,   0,   0,   0,   0,   0,   0,\n",
              "          0,   0,   0,   0, 249, 253, 249,  64,   0,   0,   0,   0,   0,\n",
              "          0,   0],\n",
              "       [  0,   0,   0,   0,   0,   0,   0,   0,   0,   0,   0,   0,   0,\n",
              "          0,  46, 130, 183, 253, 253, 207,   2,   0,   0,   0,   0,   0,\n",
              "          0,   0],\n",
              "       [  0,   0,   0,   0,   0,   0,   0,   0,   0,   0,   0,   0,  39,\n",
              "        148, 229, 253, 253, 253, 250, 182,   0,   0,   0,   0,   0,   0,\n",
              "          0,   0],\n",
              "       [  0,   0,   0,   0,   0,   0,   0,   0,   0,   0,  24, 114, 221,\n",
              "        253, 253, 253, 253, 201,  78,   0,   0,   0,   0,   0,   0,   0,\n",
              "          0,   0],\n",
              "       [  0,   0,   0,   0,   0,   0,   0,   0,  23,  66, 213, 253, 253,\n",
              "        253, 253, 198,  81,   2,   0,   0,   0,   0,   0,   0,   0,   0,\n",
              "          0,   0],\n",
              "       [  0,   0,   0,   0,   0,   0,  18, 171, 219, 253, 253, 253, 253,\n",
              "        195,  80,   9,   0,   0,   0,   0,   0,   0,   0,   0,   0,   0,\n",
              "          0,   0],\n",
              "       [  0,   0,   0,   0,  55, 172, 226, 253, 253, 253, 253, 244, 133,\n",
              "         11,   0,   0,   0,   0,   0,   0,   0,   0,   0,   0,   0,   0,\n",
              "          0,   0],\n",
              "       [  0,   0,   0,   0, 136, 253, 253, 253, 212, 135, 132,  16,   0,\n",
              "          0,   0,   0,   0,   0,   0,   0,   0,   0,   0,   0,   0,   0,\n",
              "          0,   0],\n",
              "       [  0,   0,   0,   0,   0,   0,   0,   0,   0,   0,   0,   0,   0,\n",
              "          0,   0,   0,   0,   0,   0,   0,   0,   0,   0,   0,   0,   0,\n",
              "          0,   0],\n",
              "       [  0,   0,   0,   0,   0,   0,   0,   0,   0,   0,   0,   0,   0,\n",
              "          0,   0,   0,   0,   0,   0,   0,   0,   0,   0,   0,   0,   0,\n",
              "          0,   0],\n",
              "       [  0,   0,   0,   0,   0,   0,   0,   0,   0,   0,   0,   0,   0,\n",
              "          0,   0,   0,   0,   0,   0,   0,   0,   0,   0,   0,   0,   0,\n",
              "          0,   0]], dtype=uint8)"
            ]
          },
          "metadata": {
            "tags": []
          },
          "execution_count": 58
        }
      ]
    },
    {
      "cell_type": "code",
      "metadata": {
        "colab": {
          "base_uri": "https://localhost:8080/",
          "height": 292
        },
        "id": "-IjnXZxp9Y_A",
        "outputId": "4563b646-43c1-434d-dcd6-9dcd75f7324a"
      },
      "source": [
        "# Visualizing our input data \n",
        "plt.matshow(X_train[0]) "
      ],
      "execution_count": null,
      "outputs": [
        {
          "output_type": "execute_result",
          "data": {
            "text/plain": [
              "<matplotlib.image.AxesImage at 0x7f25b555e490>"
            ]
          },
          "metadata": {
            "tags": []
          },
          "execution_count": 59
        },
        {
          "output_type": "display_data",
          "data": {
            "image/png": "[encoded data removed]",
            "text/plain": [
              "<Figure size 288x288 with 1 Axes>"
            ]
          },
          "metadata": {
            "tags": [],
            "needs_background": "light"
          }
        }
      ]
    },
    {
      "cell_type": "code",
      "metadata": {
        "colab": {
          "base_uri": "https://localhost:8080/"
        },
        "id": "N2hwCeQP9Y_B",
        "outputId": "1c1946f3-3f9e-4812-c4bf-8fb4e721318f"
      },
      "source": [
        "y_train[0]"
      ],
      "execution_count": null,
      "outputs": [
        {
          "output_type": "execute_result",
          "data": {
            "text/plain": [
              "5"
            ]
          },
          "metadata": {
            "tags": []
          },
          "execution_count": 60
        }
      ]
    },
    {
      "cell_type": "code",
      "metadata": {
        "id": "IplncMSH9Y_C"
      },
      "source": [
        "# Data Scaling\n",
        "X_train = X_train / 255\n",
        "X_test = X_test / 255"
      ],
      "execution_count": null,
      "outputs": []
    },
    {
      "cell_type": "code",
      "metadata": {
        "colab": {
          "base_uri": "https://localhost:8080/"
        },
        "id": "ud4igfLy9Y_C",
        "outputId": "fe0dd53b-5faf-4ca3-a917-49366b07e108"
      },
      "source": [
        "X_train[0]"
      ],
      "execution_count": null,
      "outputs": [
        {
          "output_type": "execute_result",
          "data": {
            "text/plain": [
              "array([[0.        , 0.        , 0.        , 0.        , 0.        ,\n",
              "        0.        , 0.        , 0.        , 0.        , 0.        ,\n",
              "        0.        , 0.        , 0.        , 0.        , 0.        ,\n",
              "        0.        , 0.        , 0.        , 0.        , 0.        ,\n",
              "        0.        , 0.        , 0.        , 0.        , 0.        ,\n",
              "        0.        , 0.        , 0.        ],\n",
              "       [0.        , 0.        , 0.        , 0.        , 0.        ,\n",
              "        0.        , 0.        , 0.        , 0.        , 0.        ,\n",
              "        0.        , 0.        , 0.        , 0.        , 0.        ,\n",
              "        0.        , 0.        , 0.        , 0.        , 0.        ,\n",
              "        0.        , 0.        , 0.        , 0.        , 0.        ,\n",
              "        0.        , 0.        , 0.        ],\n",
              "       [0.        , 0.        , 0.        , 0.        , 0.        ,\n",
              "        0.        , 0.        , 0.        , 0.        , 0.        ,\n",
              "        0.        , 0.        , 0.        , 0.        , 0.        ,\n",
              "        0.        , 0.        , 0.        , 0.        , 0.        ,\n",
              "        0.        , 0.        , 0.        , 0.        , 0.        ,\n",
              "        0.        , 0.        , 0.        ],\n",
              "       [0.        , 0.        , 0.        , 0.        , 0.        ,\n",
              "        0.        , 0.        , 0.        , 0.        , 0.        ,\n",
              "        0.        , 0.        , 0.        , 0.        , 0.        ,\n",
              "        0.        , 0.        , 0.        , 0.        , 0.        ,\n",
              "        0.        , 0.        , 0.        , 0.        , 0.        ,\n",
              "        0.        , 0.        , 0.        ],\n",
              "       [0.        , 0.        , 0.        , 0.        , 0.        ,\n",
              "        0.        , 0.        , 0.        , 0.        , 0.        ,\n",
              "        0.        , 0.        , 0.        , 0.        , 0.        ,\n",
              "        0.        , 0.        , 0.        , 0.        , 0.        ,\n",
              "        0.        , 0.        , 0.        , 0.        , 0.        ,\n",
              "        0.        , 0.        , 0.        ],\n",
              "       [0.        , 0.        , 0.        , 0.        , 0.        ,\n",
              "        0.        , 0.        , 0.        , 0.        , 0.        ,\n",
              "        0.        , 0.        , 0.01176471, 0.07058824, 0.07058824,\n",
              "        0.07058824, 0.49411765, 0.53333333, 0.68627451, 0.10196078,\n",
              "        0.65098039, 1.        , 0.96862745, 0.49803922, 0.        ,\n",
              "        0.        , 0.        , 0.        ],\n",
              "       [0.        , 0.        , 0.        , 0.        , 0.        ,\n",
              "        0.        , 0.        , 0.        , 0.11764706, 0.14117647,\n",
              "        0.36862745, 0.60392157, 0.66666667, 0.99215686, 0.99215686,\n",
              "        0.99215686, 0.99215686, 0.99215686, 0.88235294, 0.6745098 ,\n",
              "        0.99215686, 0.94901961, 0.76470588, 0.25098039, 0.        ,\n",
              "        0.        , 0.        , 0.        ],\n",
              "       [0.        , 0.        , 0.        , 0.        , 0.        ,\n",
              "        0.        , 0.        , 0.19215686, 0.93333333, 0.99215686,\n",
              "        0.99215686, 0.99215686, 0.99215686, 0.99215686, 0.99215686,\n",
              "        0.99215686, 0.99215686, 0.98431373, 0.36470588, 0.32156863,\n",
              "        0.32156863, 0.21960784, 0.15294118, 0.        , 0.        ,\n",
              "        0.        , 0.        , 0.        ],\n",
              "       [0.        , 0.        , 0.        , 0.        , 0.        ,\n",
              "        0.        , 0.        , 0.07058824, 0.85882353, 0.99215686,\n",
              "        0.99215686, 0.99215686, 0.99215686, 0.99215686, 0.77647059,\n",
              "        0.71372549, 0.96862745, 0.94509804, 0.        , 0.        ,\n",
              "        0.        , 0.        , 0.        , 0.        , 0.        ,\n",
              "        0.        , 0.        , 0.        ],\n",
              "       [0.        , 0.        , 0.        , 0.        , 0.        ,\n",
              "        0.        , 0.        , 0.        , 0.31372549, 0.61176471,\n",
              "        0.41960784, 0.99215686, 0.99215686, 0.80392157, 0.04313725,\n",
              "        0.        , 0.16862745, 0.60392157, 0.        , 0.        ,\n",
              "        0.        , 0.        , 0.        , 0.        , 0.        ,\n",
              "        0.        , 0.        , 0.        ],\n",
              "       [0.        , 0.        , 0.        , 0.        , 0.        ,\n",
              "        0.        , 0.        , 0.        , 0.        , 0.05490196,\n",
              "        0.00392157, 0.60392157, 0.99215686, 0.35294118, 0.        ,\n",
              "        0.        , 0.        , 0.        , 0.        , 0.        ,\n",
              "        0.        , 0.        , 0.        , 0.        , 0.        ,\n",
              "        0.        , 0.        , 0.        ],\n",
              "       [0.        , 0.        , 0.        , 0.        , 0.        ,\n",
              "        0.        , 0.        , 0.        , 0.        , 0.        ,\n",
              "        0.        , 0.54509804, 0.99215686, 0.74509804, 0.00784314,\n",
              "        0.        , 0.        , 0.        , 0.        , 0.        ,\n",
              "        0.        , 0.        , 0.        , 0.        , 0.        ,\n",
              "        0.        , 0.        , 0.        ],\n",
              "       [0.        , 0.        , 0.        , 0.        , 0.        ,\n",
              "        0.        , 0.        , 0.        , 0.        , 0.        ,\n",
              "        0.        , 0.04313725, 0.74509804, 0.99215686, 0.2745098 ,\n",
              "        0.        , 0.        , 0.        , 0.        , 0.        ,\n",
              "        0.        , 0.        , 0.        , 0.        , 0.        ,\n",
              "        0.        , 0.        , 0.        ],\n",
              "       [0.        , 0.        , 0.        , 0.        , 0.        ,\n",
              "        0.        , 0.        , 0.        , 0.        , 0.        ,\n",
              "        0.        , 0.        , 0.1372549 , 0.94509804, 0.88235294,\n",
              "        0.62745098, 0.42352941, 0.00392157, 0.        , 0.        ,\n",
              "        0.        , 0.        , 0.        , 0.        , 0.        ,\n",
              "        0.        , 0.        , 0.        ],\n",
              "       [0.        , 0.        , 0.        , 0.        , 0.        ,\n",
              "        0.        , 0.        , 0.        , 0.        , 0.        ,\n",
              "        0.        , 0.        , 0.        , 0.31764706, 0.94117647,\n",
              "        0.99215686, 0.99215686, 0.46666667, 0.09803922, 0.        ,\n",
              "        0.        , 0.        , 0.        , 0.        , 0.        ,\n",
              "        0.        , 0.        , 0.        ],\n",
              "       [0.        , 0.        , 0.        , 0.        , 0.        ,\n",
              "        0.        , 0.        , 0.        , 0.        , 0.        ,\n",
              "        0.        , 0.        , 0.        , 0.        , 0.17647059,\n",
              "        0.72941176, 0.99215686, 0.99215686, 0.58823529, 0.10588235,\n",
              "        0.        , 0.        , 0.        , 0.        , 0.        ,\n",
              "        0.        , 0.        , 0.        ],\n",
              "       [0.        , 0.        , 0.        , 0.        , 0.        ,\n",
              "        0.        , 0.        , 0.        , 0.        , 0.        ,\n",
              "        0.        , 0.        , 0.        , 0.        , 0.        ,\n",
              "        0.0627451 , 0.36470588, 0.98823529, 0.99215686, 0.73333333,\n",
              "        0.        , 0.        , 0.        , 0.        , 0.        ,\n",
              "        0.        , 0.        , 0.        ],\n",
              "       [0.        , 0.        , 0.        , 0.        , 0.        ,\n",
              "        0.        , 0.        , 0.        , 0.        , 0.        ,\n",
              "        0.        , 0.        , 0.        , 0.        , 0.        ,\n",
              "        0.        , 0.        , 0.97647059, 0.99215686, 0.97647059,\n",
              "        0.25098039, 0.        , 0.        , 0.        , 0.        ,\n",
              "        0.        , 0.        , 0.        ],\n",
              "       [0.        , 0.        , 0.        , 0.        , 0.        ,\n",
              "        0.        , 0.        , 0.        , 0.        , 0.        ,\n",
              "        0.        , 0.        , 0.        , 0.        , 0.18039216,\n",
              "        0.50980392, 0.71764706, 0.99215686, 0.99215686, 0.81176471,\n",
              "        0.00784314, 0.        , 0.        , 0.        , 0.        ,\n",
              "        0.        , 0.        , 0.        ],\n",
              "       [0.        , 0.        , 0.        , 0.        , 0.        ,\n",
              "        0.        , 0.        , 0.        , 0.        , 0.        ,\n",
              "        0.        , 0.        , 0.15294118, 0.58039216, 0.89803922,\n",
              "        0.99215686, 0.99215686, 0.99215686, 0.98039216, 0.71372549,\n",
              "        0.        , 0.        , 0.        , 0.        , 0.        ,\n",
              "        0.        , 0.        , 0.        ],\n",
              "       [0.        , 0.        , 0.        , 0.        , 0.        ,\n",
              "        0.        , 0.        , 0.        , 0.        , 0.        ,\n",
              "        0.09411765, 0.44705882, 0.86666667, 0.99215686, 0.99215686,\n",
              "        0.99215686, 0.99215686, 0.78823529, 0.30588235, 0.        ,\n",
              "        0.        , 0.        , 0.        , 0.        , 0.        ,\n",
              "        0.        , 0.        , 0.        ],\n",
              "       [0.        , 0.        , 0.        , 0.        , 0.        ,\n",
              "        0.        , 0.        , 0.        , 0.09019608, 0.25882353,\n",
              "        0.83529412, 0.99215686, 0.99215686, 0.99215686, 0.99215686,\n",
              "        0.77647059, 0.31764706, 0.00784314, 0.        , 0.        ,\n",
              "        0.        , 0.        , 0.        , 0.        , 0.        ,\n",
              "        0.        , 0.        , 0.        ],\n",
              "       [0.        , 0.        , 0.        , 0.        , 0.        ,\n",
              "        0.        , 0.07058824, 0.67058824, 0.85882353, 0.99215686,\n",
              "        0.99215686, 0.99215686, 0.99215686, 0.76470588, 0.31372549,\n",
              "        0.03529412, 0.        , 0.        , 0.        , 0.        ,\n",
              "        0.        , 0.        , 0.        , 0.        , 0.        ,\n",
              "        0.        , 0.        , 0.        ],\n",
              "       [0.        , 0.        , 0.        , 0.        , 0.21568627,\n",
              "        0.6745098 , 0.88627451, 0.99215686, 0.99215686, 0.99215686,\n",
              "        0.99215686, 0.95686275, 0.52156863, 0.04313725, 0.        ,\n",
              "        0.        , 0.        , 0.        , 0.        , 0.        ,\n",
              "        0.        , 0.        , 0.        , 0.        , 0.        ,\n",
              "        0.        , 0.        , 0.        ],\n",
              "       [0.        , 0.        , 0.        , 0.        , 0.53333333,\n",
              "        0.99215686, 0.99215686, 0.99215686, 0.83137255, 0.52941176,\n",
              "        0.51764706, 0.0627451 , 0.        , 0.        , 0.        ,\n",
              "        0.        , 0.        , 0.        , 0.        , 0.        ,\n",
              "        0.        , 0.        , 0.        , 0.        , 0.        ,\n",
              "        0.        , 0.        , 0.        ],\n",
              "       [0.        , 0.        , 0.        , 0.        , 0.        ,\n",
              "        0.        , 0.        , 0.        , 0.        , 0.        ,\n",
              "        0.        , 0.        , 0.        , 0.        , 0.        ,\n",
              "        0.        , 0.        , 0.        , 0.        , 0.        ,\n",
              "        0.        , 0.        , 0.        , 0.        , 0.        ,\n",
              "        0.        , 0.        , 0.        ],\n",
              "       [0.        , 0.        , 0.        , 0.        , 0.        ,\n",
              "        0.        , 0.        , 0.        , 0.        , 0.        ,\n",
              "        0.        , 0.        , 0.        , 0.        , 0.        ,\n",
              "        0.        , 0.        , 0.        , 0.        , 0.        ,\n",
              "        0.        , 0.        , 0.        , 0.        , 0.        ,\n",
              "        0.        , 0.        , 0.        ],\n",
              "       [0.        , 0.        , 0.        , 0.        , 0.        ,\n",
              "        0.        , 0.        , 0.        , 0.        , 0.        ,\n",
              "        0.        , 0.        , 0.        , 0.        , 0.        ,\n",
              "        0.        , 0.        , 0.        , 0.        , 0.        ,\n",
              "        0.        , 0.        , 0.        , 0.        , 0.        ,\n",
              "        0.        , 0.        , 0.        ]])"
            ]
          },
          "metadata": {
            "tags": []
          },
          "execution_count": 62
        }
      ]
    },
    {
      "cell_type": "code",
      "metadata": {
        "id": "XtpwAZZI9Y_D"
      },
      "source": [
        "# Flatten the 28*28 grid data into a 1-dimensional data\n",
        "\n",
        "X_train_flattened = X_train.reshape(len(X_train), 28*28)\n",
        "X_test_flattened = X_test.reshape(len(X_test), 28*28)"
      ],
      "execution_count": null,
      "outputs": []
    },
    {
      "cell_type": "code",
      "metadata": {
        "colab": {
          "base_uri": "https://localhost:8080/"
        },
        "id": "C9K05oGP9Y_D",
        "outputId": "328435d6-9610-497a-b1ae-832cd5e53824"
      },
      "source": [
        "X_train_flattened.shape"
      ],
      "execution_count": null,
      "outputs": [
        {
          "output_type": "execute_result",
          "data": {
            "text/plain": [
              "(60000, 784)"
            ]
          },
          "metadata": {
            "tags": []
          },
          "execution_count": 64
        }
      ]
    },
    {
      "cell_type": "code",
      "metadata": {
        "colab": {
          "base_uri": "https://localhost:8080/"
        },
        "id": "xAIvj2ik9Y_E",
        "outputId": "915dc972-43c7-4064-bbb2-77afe310a99a"
      },
      "source": [
        "X_train_flattened[0]"
      ],
      "execution_count": null,
      "outputs": [
        {
          "output_type": "execute_result",
          "data": {
            "text/plain": [
              "array([0.        , 0.        , 0.        , 0.        , 0.        ,\n",
              "       0.        , 0.        , 0.        , 0.        , 0.        ,\n",
              "       0.        , 0.        , 0.        , 0.        , 0.        ,\n",
              "       0.        , 0.        , 0.        , 0.        , 0.        ,\n",
              "       0.        , 0.        , 0.        , 0.        , 0.        ,\n",
              "       0.        , 0.        , 0.        , 0.        , 0.        ,\n",
              "       0.        , 0.        , 0.        , 0.        , 0.        ,\n",
              "       0.        , 0.        , 0.        , 0.        , 0.        ,\n",
              "       0.        , 0.        , 0.        , 0.        , 0.        ,\n",
              "       0.        , 0.        , 0.        , 0.        , 0.        ,\n",
              "       0.        , 0.        , 0.        , 0.        , 0.        ,\n",
              "       0.        , 0.        , 0.        , 0.        , 0.        ,\n",
              "       0.        , 0.        , 0.        , 0.        , 0.        ,\n",
              "       0.        , 0.        , 0.        , 0.        , 0.        ,\n",
              "       0.        , 0.        , 0.        , 0.        , 0.        ,\n",
              "       0.        , 0.        , 0.        , 0.        , 0.        ,\n",
              "       0.        , 0.        , 0.        , 0.        , 0.        ,\n",
              "       0.        , 0.        , 0.        , 0.        , 0.        ,\n",
              "       0.        , 0.        , 0.        , 0.        , 0.        ,\n",
              "       0.        , 0.        , 0.        , 0.        , 0.        ,\n",
              "       0.        , 0.        , 0.        , 0.        , 0.        ,\n",
              "       0.        , 0.        , 0.        , 0.        , 0.        ,\n",
              "       0.        , 0.        , 0.        , 0.        , 0.        ,\n",
              "       0.        , 0.        , 0.        , 0.        , 0.        ,\n",
              "       0.        , 0.        , 0.        , 0.        , 0.        ,\n",
              "       0.        , 0.        , 0.        , 0.        , 0.        ,\n",
              "       0.        , 0.        , 0.        , 0.        , 0.        ,\n",
              "       0.        , 0.        , 0.        , 0.        , 0.        ,\n",
              "       0.        , 0.        , 0.        , 0.        , 0.        ,\n",
              "       0.        , 0.        , 0.        , 0.        , 0.        ,\n",
              "       0.        , 0.        , 0.01176471, 0.07058824, 0.07058824,\n",
              "       0.07058824, 0.49411765, 0.53333333, 0.68627451, 0.10196078,\n",
              "       0.65098039, 1.        , 0.96862745, 0.49803922, 0.        ,\n",
              "       0.        , 0.        , 0.        , 0.        , 0.        ,\n",
              "       0.        , 0.        , 0.        , 0.        , 0.        ,\n",
              "       0.        , 0.11764706, 0.14117647, 0.36862745, 0.60392157,\n",
              "       0.66666667, 0.99215686, 0.99215686, 0.99215686, 0.99215686,\n",
              "       0.99215686, 0.88235294, 0.6745098 , 0.99215686, 0.94901961,\n",
              "       0.76470588, 0.25098039, 0.        , 0.        , 0.        ,\n",
              "       0.        , 0.        , 0.        , 0.        , 0.        ,\n",
              "       0.        , 0.        , 0.        , 0.19215686, 0.93333333,\n",
              "       0.99215686, 0.99215686, 0.99215686, 0.99215686, 0.99215686,\n",
              "       0.99215686, 0.99215686, 0.99215686, 0.98431373, 0.36470588,\n",
              "       0.32156863, 0.32156863, 0.21960784, 0.15294118, 0.        ,\n",
              "       0.        , 0.        , 0.        , 0.        , 0.        ,\n",
              "       0.        , 0.        , 0.        , 0.        , 0.        ,\n",
              "       0.        , 0.07058824, 0.85882353, 0.99215686, 0.99215686,\n",
              "       0.99215686, 0.99215686, 0.99215686, 0.77647059, 0.71372549,\n",
              "       0.96862745, 0.94509804, 0.        , 0.        , 0.        ,\n",
              "       0.        , 0.        , 0.        , 0.        , 0.        ,\n",
              "       0.        , 0.        , 0.        , 0.        , 0.        ,\n",
              "       0.        , 0.        , 0.        , 0.        , 0.        ,\n",
              "       0.31372549, 0.61176471, 0.41960784, 0.99215686, 0.99215686,\n",
              "       0.80392157, 0.04313725, 0.        , 0.16862745, 0.60392157,\n",
              "       0.        , 0.        , 0.        , 0.        , 0.        ,\n",
              "       0.        , 0.        , 0.        , 0.        , 0.        ,\n",
              "       0.        , 0.        , 0.        , 0.        , 0.        ,\n",
              "       0.        , 0.        , 0.        , 0.        , 0.05490196,\n",
              "       0.00392157, 0.60392157, 0.99215686, 0.35294118, 0.        ,\n",
              "       0.        , 0.        , 0.        , 0.        , 0.        ,\n",
              "       0.        , 0.        , 0.        , 0.        , 0.        ,\n",
              "       0.        , 0.        , 0.        , 0.        , 0.        ,\n",
              "       0.        , 0.        , 0.        , 0.        , 0.        ,\n",
              "       0.        , 0.        , 0.        , 0.        , 0.54509804,\n",
              "       0.99215686, 0.74509804, 0.00784314, 0.        , 0.        ,\n",
              "       0.        , 0.        , 0.        , 0.        , 0.        ,\n",
              "       0.        , 0.        , 0.        , 0.        , 0.        ,\n",
              "       0.        , 0.        , 0.        , 0.        , 0.        ,\n",
              "       0.        , 0.        , 0.        , 0.        , 0.        ,\n",
              "       0.        , 0.        , 0.04313725, 0.74509804, 0.99215686,\n",
              "       0.2745098 , 0.        , 0.        , 0.        , 0.        ,\n",
              "       0.        , 0.        , 0.        , 0.        , 0.        ,\n",
              "       0.        , 0.        , 0.        , 0.        , 0.        ,\n",
              "       0.        , 0.        , 0.        , 0.        , 0.        ,\n",
              "       0.        , 0.        , 0.        , 0.        , 0.        ,\n",
              "       0.        , 0.1372549 , 0.94509804, 0.88235294, 0.62745098,\n",
              "       0.42352941, 0.00392157, 0.        , 0.        , 0.        ,\n",
              "       0.        , 0.        , 0.        , 0.        , 0.        ,\n",
              "       0.        , 0.        , 0.        , 0.        , 0.        ,\n",
              "       0.        , 0.        , 0.        , 0.        , 0.        ,\n",
              "       0.        , 0.        , 0.        , 0.        , 0.        ,\n",
              "       0.31764706, 0.94117647, 0.99215686, 0.99215686, 0.46666667,\n",
              "       0.09803922, 0.        , 0.        , 0.        , 0.        ,\n",
              "       0.        , 0.        , 0.        , 0.        , 0.        ,\n",
              "       0.        , 0.        , 0.        , 0.        , 0.        ,\n",
              "       0.        , 0.        , 0.        , 0.        , 0.        ,\n",
              "       0.        , 0.        , 0.        , 0.        , 0.17647059,\n",
              "       0.72941176, 0.99215686, 0.99215686, 0.58823529, 0.10588235,\n",
              "       0.        , 0.        , 0.        , 0.        , 0.        ,\n",
              "       0.        , 0.        , 0.        , 0.        , 0.        ,\n",
              "       0.        , 0.        , 0.        , 0.        , 0.        ,\n",
              "       0.        , 0.        , 0.        , 0.        , 0.        ,\n",
              "       0.        , 0.        , 0.        , 0.0627451 , 0.36470588,\n",
              "       0.98823529, 0.99215686, 0.73333333, 0.        , 0.        ,\n",
              "       0.        , 0.        , 0.        , 0.        , 0.        ,\n",
              "       0.        , 0.        , 0.        , 0.        , 0.        ,\n",
              "       0.        , 0.        , 0.        , 0.        , 0.        ,\n",
              "       0.        , 0.        , 0.        , 0.        , 0.        ,\n",
              "       0.        , 0.        , 0.        , 0.97647059, 0.99215686,\n",
              "       0.97647059, 0.25098039, 0.        , 0.        , 0.        ,\n",
              "       0.        , 0.        , 0.        , 0.        , 0.        ,\n",
              "       0.        , 0.        , 0.        , 0.        , 0.        ,\n",
              "       0.        , 0.        , 0.        , 0.        , 0.        ,\n",
              "       0.        , 0.        , 0.        , 0.18039216, 0.50980392,\n",
              "       0.71764706, 0.99215686, 0.99215686, 0.81176471, 0.00784314,\n",
              "       0.        , 0.        , 0.        , 0.        , 0.        ,\n",
              "       0.        , 0.        , 0.        , 0.        , 0.        ,\n",
              "       0.        , 0.        , 0.        , 0.        , 0.        ,\n",
              "       0.        , 0.        , 0.        , 0.        , 0.15294118,\n",
              "       0.58039216, 0.89803922, 0.99215686, 0.99215686, 0.99215686,\n",
              "       0.98039216, 0.71372549, 0.        , 0.        , 0.        ,\n",
              "       0.        , 0.        , 0.        , 0.        , 0.        ,\n",
              "       0.        , 0.        , 0.        , 0.        , 0.        ,\n",
              "       0.        , 0.        , 0.        , 0.        , 0.        ,\n",
              "       0.09411765, 0.44705882, 0.86666667, 0.99215686, 0.99215686,\n",
              "       0.99215686, 0.99215686, 0.78823529, 0.30588235, 0.        ,\n",
              "       0.        , 0.        , 0.        , 0.        , 0.        ,\n",
              "       0.        , 0.        , 0.        , 0.        , 0.        ,\n",
              "       0.        , 0.        , 0.        , 0.        , 0.        ,\n",
              "       0.        , 0.09019608, 0.25882353, 0.83529412, 0.99215686,\n",
              "       0.99215686, 0.99215686, 0.99215686, 0.77647059, 0.31764706,\n",
              "       0.00784314, 0.        , 0.        , 0.        , 0.        ,\n",
              "       0.        , 0.        , 0.        , 0.        , 0.        ,\n",
              "       0.        , 0.        , 0.        , 0.        , 0.        ,\n",
              "       0.        , 0.        , 0.07058824, 0.67058824, 0.85882353,\n",
              "       0.99215686, 0.99215686, 0.99215686, 0.99215686, 0.76470588,\n",
              "       0.31372549, 0.03529412, 0.        , 0.        , 0.        ,\n",
              "       0.        , 0.        , 0.        , 0.        , 0.        ,\n",
              "       0.        , 0.        , 0.        , 0.        , 0.        ,\n",
              "       0.        , 0.        , 0.        , 0.21568627, 0.6745098 ,\n",
              "       0.88627451, 0.99215686, 0.99215686, 0.99215686, 0.99215686,\n",
              "       0.95686275, 0.52156863, 0.04313725, 0.        , 0.        ,\n",
              "       0.        , 0.        , 0.        , 0.        , 0.        ,\n",
              "       0.        , 0.        , 0.        , 0.        , 0.        ,\n",
              "       0.        , 0.        , 0.        , 0.        , 0.        ,\n",
              "       0.        , 0.53333333, 0.99215686, 0.99215686, 0.99215686,\n",
              "       0.83137255, 0.52941176, 0.51764706, 0.0627451 , 0.        ,\n",
              "       0.        , 0.        , 0.        , 0.        , 0.        ,\n",
              "       0.        , 0.        , 0.        , 0.        , 0.        ,\n",
              "       0.        , 0.        , 0.        , 0.        , 0.        ,\n",
              "       0.        , 0.        , 0.        , 0.        , 0.        ,\n",
              "       0.        , 0.        , 0.        , 0.        , 0.        ,\n",
              "       0.        , 0.        , 0.        , 0.        , 0.        ,\n",
              "       0.        , 0.        , 0.        , 0.        , 0.        ,\n",
              "       0.        , 0.        , 0.        , 0.        , 0.        ,\n",
              "       0.        , 0.        , 0.        , 0.        , 0.        ,\n",
              "       0.        , 0.        , 0.        , 0.        , 0.        ,\n",
              "       0.        , 0.        , 0.        , 0.        , 0.        ,\n",
              "       0.        , 0.        , 0.        , 0.        , 0.        ,\n",
              "       0.        , 0.        , 0.        , 0.        , 0.        ,\n",
              "       0.        , 0.        , 0.        , 0.        , 0.        ,\n",
              "       0.        , 0.        , 0.        , 0.        , 0.        ,\n",
              "       0.        , 0.        , 0.        , 0.        , 0.        ,\n",
              "       0.        , 0.        , 0.        , 0.        , 0.        ,\n",
              "       0.        , 0.        , 0.        , 0.        , 0.        ,\n",
              "       0.        , 0.        , 0.        , 0.        , 0.        ,\n",
              "       0.        , 0.        , 0.        , 0.        ])"
            ]
          },
          "metadata": {
            "tags": []
          },
          "execution_count": 65
        }
      ]
    },
    {
      "cell_type": "markdown",
      "metadata": {
        "id": "iQ4U4h_d9Y_F"
      },
      "source": [
        "<h3 style='color:purple'>A simple neural network </h3> It comprises of 784 (28*28) neurons in the input layer and 10 (0-9) neuron in the output layer"
      ]
    },
    {
      "cell_type": "code",
      "metadata": {
        "colab": {
          "base_uri": "https://localhost:8080/"
        },
        "id": "r-zxChQe9Y_G",
        "outputId": "21befd2c-b142-4775-a272-6ec0bc33def0"
      },
      "source": [
        "model = keras.Sequential([\n",
        "    keras.layers.Dense(10, input_shape=(784,), activation='sigmoid')\n",
        "])\n",
        "\n",
        "model.compile(optimizer='adam',\n",
        "              loss='sparse_categorical_crossentropy',\n",
        "              metrics=['accuracy'])\n",
        "\n",
        "model.fit(X_train_flattened, y_train, epochs=5)"
      ],
      "execution_count": null,
      "outputs": [
        {
          "output_type": "stream",
          "text": [
            "Epoch 1/5\n",
            "1875/1875 [==============================] - 3s 1ms/step - loss: 0.4664 - accuracy: 0.8784\n",
            "Epoch 2/5\n",
            "1875/1875 [==============================] - 2s 1ms/step - loss: 0.3034 - accuracy: 0.9153\n",
            "Epoch 3/5\n",
            "1875/1875 [==============================] - 2s 1ms/step - loss: 0.2829 - accuracy: 0.9211\n",
            "Epoch 4/5\n",
            "1875/1875 [==============================] - 2s 1ms/step - loss: 0.2727 - accuracy: 0.9238\n",
            "Epoch 5/5\n",
            "1875/1875 [==============================] - 2s 1ms/step - loss: 0.2664 - accuracy: 0.9255\n"
          ],
          "name": "stdout"
        },
        {
          "output_type": "execute_result",
          "data": {
            "text/plain": [
              "<tensorflow.python.keras.callbacks.History at 0x7f25b53d8f90>"
            ]
          },
          "metadata": {
            "tags": []
          },
          "execution_count": 66
        }
      ]
    },
    {
      "cell_type": "code",
      "metadata": {
        "scrolled": true,
        "colab": {
          "base_uri": "https://localhost:8080/"
        },
        "id": "vUkdNRYs9Y_G",
        "outputId": "201f5d73-2332-4615-ea8e-b7e304847488"
      },
      "source": [
        "model.evaluate(X_test_flattened, y_test)"
      ],
      "execution_count": null,
      "outputs": [
        {
          "output_type": "stream",
          "text": [
            "313/313 [==============================] - 0s 1ms/step - loss: 0.2729 - accuracy: 0.9229\n"
          ],
          "name": "stdout"
        },
        {
          "output_type": "execute_result",
          "data": {
            "text/plain": [
              "[0.2729044556617737, 0.9229000210762024]"
            ]
          },
          "metadata": {
            "tags": []
          },
          "execution_count": 67
        }
      ]
    },
    {
      "cell_type": "code",
      "metadata": {
        "colab": {
          "base_uri": "https://localhost:8080/"
        },
        "id": "6ZbqRYZ89Y_H",
        "outputId": "6f40c3c5-aac4-424e-fc52-031ff4a809b7"
      },
      "source": [
        "y_predicted = model.predict(X_test_flattened)\n",
        "y_predicted[0]"
      ],
      "execution_count": null,
      "outputs": [
        {
          "output_type": "execute_result",
          "data": {
            "text/plain": [
              "array([2.9135108e-02, 3.4652666e-07, 6.1756968e-02, 9.7040540e-01,\n",
              "       1.6750395e-03, 1.5693024e-01, 1.1980833e-06, 9.9987316e-01,\n",
              "       1.0836333e-01, 7.1999025e-01], dtype=float32)"
            ]
          },
          "metadata": {
            "tags": []
          },
          "execution_count": 68
        }
      ]
    },
    {
      "cell_type": "markdown",
      "metadata": {
        "id": "GyuhSO7K-5lr"
      },
      "source": [
        "Lets check our test data and the corresponding prediction"
      ]
    },
    {
      "cell_type": "code",
      "metadata": {
        "scrolled": true,
        "colab": {
          "base_uri": "https://localhost:8080/",
          "height": 292
        },
        "id": "UOhoz__o9Y_H",
        "outputId": "6beba30b-b3cc-41c2-d321-d608ad341817"
      },
      "source": [
        "plt.matshow(X_test[0])"
      ],
      "execution_count": null,
      "outputs": [
        {
          "output_type": "execute_result",
          "data": {
            "text/plain": [
              "<matplotlib.image.AxesImage at 0x7f25b2c95490>"
            ]
          },
          "metadata": {
            "tags": []
          },
          "execution_count": 69
        },
        {
          "output_type": "display_data",
          "data": {
            "image/png": "[encoded data removed]",
            "text/plain": [
              "<Figure size 288x288 with 1 Axes>"
            ]
          },
          "metadata": {
            "tags": [],
            "needs_background": "light"
          }
        }
      ]
    },
    {
      "cell_type": "code",
      "metadata": {
        "colab": {
          "base_uri": "https://localhost:8080/"
        },
        "id": "V_yq1F3X_H9r",
        "outputId": "4a87da86-98c2-4d81-bc73-eac0e6f9e81f"
      },
      "source": [
        "y_predicted[0] # This gives the value obatined from each neuron of the output layer"
      ],
      "execution_count": null,
      "outputs": [
        {
          "output_type": "execute_result",
          "data": {
            "text/plain": [
              "array([2.9135108e-02, 3.4652666e-07, 6.1756968e-02, 9.7040540e-01,\n",
              "       1.6750395e-03, 1.5693024e-01, 1.1980833e-06, 9.9987316e-01,\n",
              "       1.0836333e-01, 7.1999025e-01], dtype=float32)"
            ]
          },
          "metadata": {
            "tags": []
          },
          "execution_count": 70
        }
      ]
    },
    {
      "cell_type": "markdown",
      "metadata": {
        "id": "MYga0SnR9Y_I"
      },
      "source": [
        "**np.argmax finds a maximum element  from an array and returns the index of it**"
      ]
    },
    {
      "cell_type": "code",
      "metadata": {
        "colab": {
          "base_uri": "https://localhost:8080/"
        },
        "id": "4wVI5k1C9Y_I",
        "outputId": "dbdd3a46-5c27-4d73-a672-c066d8425c40"
      },
      "source": [
        "np.argmax(y_predicted[0]) # This gives the index of the output layer where the maximum value occurs"
      ],
      "execution_count": null,
      "outputs": [
        {
          "output_type": "execute_result",
          "data": {
            "text/plain": [
              "7"
            ]
          },
          "metadata": {
            "tags": []
          },
          "execution_count": 64
        }
      ]
    },
    {
      "cell_type": "code",
      "metadata": {
        "id": "VK6t_Tje9Y_I"
      },
      "source": [
        "y_predicted_labels = [np.argmax(i) for i in y_predicted]"
      ],
      "execution_count": null,
      "outputs": []
    },
    {
      "cell_type": "code",
      "metadata": {
        "colab": {
          "base_uri": "https://localhost:8080/"
        },
        "id": "EGIXxWze9Y_I",
        "outputId": "538b619a-c9af-4048-e493-8184601843a8"
      },
      "source": [
        "y_predicted_labels[:5]"
      ],
      "execution_count": null,
      "outputs": [
        {
          "output_type": "execute_result",
          "data": {
            "text/plain": [
              "[7, 2, 1, 0, 4]"
            ]
          },
          "metadata": {
            "tags": []
          },
          "execution_count": 66
        }
      ]
    },
    {
      "cell_type": "markdown",
      "metadata": {
        "id": "JLhjMnP-_p6T"
      },
      "source": [
        "We will visualize our results in the form of a confusion matrix"
      ]
    },
    {
      "cell_type": "code",
      "metadata": {
        "colab": {
          "base_uri": "https://localhost:8080/"
        },
        "id": "p8QfZfrY9Y_I",
        "outputId": "5d1c8e82-933d-4688-9c42-2d4c8b08f57c"
      },
      "source": [
        "cm = tf.math.confusion_matrix(labels=y_test,predictions=y_predicted_labels)\n",
        "cm"
      ],
      "execution_count": null,
      "outputs": [
        {
          "output_type": "execute_result",
          "data": {
            "text/plain": [
              "<tf.Tensor: shape=(10, 10), dtype=int32, numpy=\n",
              "array([[ 960,    0,    2,    1,    0,    4,    8,    3,    2,    0],\n",
              "       [   0, 1115,    3,    2,    0,    1,    4,    2,    8,    0],\n",
              "       [   6,   10,  916,   19,    7,    3,   13,   11,   43,    4],\n",
              "       [   1,    0,   18,  928,    0,   19,    2,   12,   22,    8],\n",
              "       [   1,    1,    2,    2,  915,    0,   12,    4,   10,   35],\n",
              "       [   9,    3,    2,   41,   11,  752,   18,   10,   38,    8],\n",
              "       [  10,    3,    6,    1,    7,    7,  918,    2,    4,    0],\n",
              "       [   1,    6,   21,    7,    5,    0,    0,  960,    2,   26],\n",
              "       [   6,   11,    6,   22,    9,   19,    9,   12,  874,    6],\n",
              "       [  11,    7,    1,   10,   27,    4,    0,   28,    8,  913]],\n",
              "      dtype=int32)>"
            ]
          },
          "metadata": {
            "tags": []
          },
          "execution_count": 67
        }
      ]
    },
    {
      "cell_type": "code",
      "metadata": {
        "colab": {
          "base_uri": "https://localhost:8080/",
          "height": 459
        },
        "id": "e_7supO99Y_J",
        "outputId": "50f15f6b-a0ca-41e2-e1b4-213c791f6cd9"
      },
      "source": [
        "import seaborn as sn\n",
        "plt.figure(figsize = (10,7))\n",
        "sn.heatmap(cm, annot=True, fmt='d')\n",
        "plt.xlabel('Predicted')\n",
        "plt.ylabel('Truth')"
      ],
      "execution_count": null,
      "outputs": [
        {
          "output_type": "execute_result",
          "data": {
            "text/plain": [
              "Text(69.0, 0.5, 'Truth')"
            ]
          },
          "metadata": {
            "tags": []
          },
          "execution_count": 68
        },
        {
          "output_type": "display_data",
          "data": {
            "image/png": "[encoded data removed]",
            "text/plain": [
              "<Figure size 720x504 with 2 Axes>"
            ]
          },
          "metadata": {
            "tags": [],
            "needs_background": "light"
          }
        }
      ]
    },
    {
      "cell_type": "markdown",
      "metadata": {
        "id": "xQKRrX4O9Y_J"
      },
      "source": [
        "<h3 style='color:purple'>Using hidden layer having 100 neurons</h3>"
      ]
    },
    {
      "cell_type": "code",
      "metadata": {
        "scrolled": true,
        "colab": {
          "base_uri": "https://localhost:8080/"
        },
        "id": "fRdtxFGe9Y_J",
        "outputId": "e5717863-3bef-48ff-cd4f-3f2132a011d0"
      },
      "source": [
        "model = keras.Sequential([\n",
        "    keras.layers.Dense(100, input_shape=(784,), activation='relu'),\n",
        "    keras.layers.Dense(10, activation='sigmoid')\n",
        "])\n",
        "\n",
        "model.compile(optimizer='adam',\n",
        "              loss='sparse_categorical_crossentropy',\n",
        "              metrics=['accuracy'])\n",
        "\n",
        "model.fit(X_train_flattened, y_train, epochs=5)"
      ],
      "execution_count": null,
      "outputs": [
        {
          "output_type": "stream",
          "text": [
            "Epoch 1/5\n",
            "1875/1875 [==============================] - 5s 2ms/step - loss: 0.2708 - accuracy: 0.9229\n",
            "Epoch 2/5\n",
            "1875/1875 [==============================] - 4s 2ms/step - loss: 0.1221 - accuracy: 0.9641\n",
            "Epoch 3/5\n",
            "1875/1875 [==============================] - 4s 2ms/step - loss: 0.0868 - accuracy: 0.9736\n",
            "Epoch 4/5\n",
            "1875/1875 [==============================] - 4s 2ms/step - loss: 0.0646 - accuracy: 0.9802\n",
            "Epoch 5/5\n",
            "1875/1875 [==============================] - 4s 2ms/step - loss: 0.0516 - accuracy: 0.9843\n"
          ],
          "name": "stdout"
        },
        {
          "output_type": "execute_result",
          "data": {
            "text/plain": [
              "<tensorflow.python.keras.callbacks.History at 0x7f294b22ce90>"
            ]
          },
          "metadata": {
            "tags": []
          },
          "execution_count": 69
        }
      ]
    },
    {
      "cell_type": "code",
      "metadata": {
        "scrolled": true,
        "colab": {
          "base_uri": "https://localhost:8080/"
        },
        "id": "aPDATe0z9Y_K",
        "outputId": "8024fa03-b568-43a3-b1ba-c93600f73d63"
      },
      "source": [
        "model.evaluate(X_test_flattened,y_test)"
      ],
      "execution_count": null,
      "outputs": [
        {
          "output_type": "stream",
          "text": [
            "313/313 [==============================] - 1s 1ms/step - loss: 0.0785 - accuracy: 0.9753\n"
          ],
          "name": "stdout"
        },
        {
          "output_type": "execute_result",
          "data": {
            "text/plain": [
              "[0.07848526537418365, 0.9753000140190125]"
            ]
          },
          "metadata": {
            "tags": []
          },
          "execution_count": 70
        }
      ]
    },
    {
      "cell_type": "markdown",
      "metadata": {
        "id": "1_0pi7veAilw"
      },
      "source": [
        "Thus by adding a hidden layer the accuracy of the neural network has increased from 92.51% to 97.53%"
      ]
    },
    {
      "cell_type": "code",
      "metadata": {
        "colab": {
          "base_uri": "https://localhost:8080/",
          "height": 459
        },
        "id": "t0QN51v89Y_K",
        "outputId": "4c1fd973-652f-4e6c-fe00-2da483a3a639"
      },
      "source": [
        "y_predicted = model.predict(X_test_flattened)\n",
        "y_predicted_labels = [np.argmax(i) for i in y_predicted]\n",
        "cm = tf.math.confusion_matrix(labels=y_test,predictions=y_predicted_labels)\n",
        "\n",
        "plt.figure(figsize = (10,7))\n",
        "sn.heatmap(cm, annot=True, fmt='d')\n",
        "plt.xlabel('Predicted')\n",
        "plt.ylabel('Truth')"
      ],
      "execution_count": null,
      "outputs": [
        {
          "output_type": "execute_result",
          "data": {
            "text/plain": [
              "Text(69.0, 0.5, 'Truth')"
            ]
          },
          "metadata": {
            "tags": []
          },
          "execution_count": 71
        },
        {
          "output_type": "display_data",
          "data": {
            "image/png": "[encoded data removed]",
            "text/plain": [
              "<Figure size 720x504 with 2 Axes>"
            ]
          },
          "metadata": {
            "tags": [],
            "needs_background": "light"
          }
        }
      ]
    },
    {
      "cell_type": "markdown",
      "metadata": {
        "id": "6LnKNjFi9Y_K"
      },
      "source": [
        "<h3 style='color:purple'>Using Flatten layer so that we don't have to call .reshape on input dataset</h3>"
      ]
    },
    {
      "cell_type": "code",
      "metadata": {
        "scrolled": true,
        "colab": {
          "base_uri": "https://localhost:8080/"
        },
        "id": "ubJejhgt9Y_L",
        "outputId": "d696b58a-d844-46a1-c992-19e98d103e97"
      },
      "source": [
        "model = keras.Sequential([\n",
        "    keras.layers.Flatten(input_shape=(28, 28)),\n",
        "    keras.layers.Dense(100, activation='relu'),\n",
        "    keras.layers.Dense(10, activation='sigmoid')\n",
        "])\n",
        "\n",
        "model.compile(optimizer='adam',\n",
        "              loss='sparse_categorical_crossentropy',\n",
        "              metrics=['accuracy'])\n",
        "\n",
        "model.fit(X_train, y_train, epochs=5)"
      ],
      "execution_count": null,
      "outputs": [
        {
          "output_type": "stream",
          "text": [
            "Epoch 1/5\n",
            "1875/1875 [==============================] - 4s 2ms/step - loss: 0.2688 - accuracy: 0.9242\n",
            "Epoch 2/5\n",
            "1875/1875 [==============================] - 4s 2ms/step - loss: 0.1249 - accuracy: 0.9628\n",
            "Epoch 3/5\n",
            "1875/1875 [==============================] - 4s 2ms/step - loss: 0.0871 - accuracy: 0.9743\n",
            "Epoch 4/5\n",
            "1875/1875 [==============================] - 4s 2ms/step - loss: 0.0665 - accuracy: 0.9795\n",
            "Epoch 5/5\n",
            "1875/1875 [==============================] - 4s 2ms/step - loss: 0.0517 - accuracy: 0.9839\n"
          ],
          "name": "stdout"
        },
        {
          "output_type": "execute_result",
          "data": {
            "text/plain": [
              "<tensorflow.python.keras.callbacks.History at 0x7f293787ed90>"
            ]
          },
          "metadata": {
            "tags": []
          },
          "execution_count": 72
        }
      ]
    },
    {
      "cell_type": "code",
      "metadata": {
        "colab": {
          "base_uri": "https://localhost:8080/"
        },
        "id": "kfT-RKdp9Y_L",
        "outputId": "d0ceb475-2a52-4276-d26d-13f05aed90a6"
      },
      "source": [
        "model.evaluate(X_test,y_test)"
      ],
      "execution_count": null,
      "outputs": [
        {
          "output_type": "stream",
          "text": [
            "313/313 [==============================] - 0s 1ms/step - loss: 0.0794 - accuracy: 0.9775\n"
          ],
          "name": "stdout"
        },
        {
          "output_type": "execute_result",
          "data": {
            "text/plain": [
              "[0.07937731593847275, 0.9775000214576721]"
            ]
          },
          "metadata": {
            "tags": []
          },
          "execution_count": 73
        }
      ]
    },
    {
      "cell_type": "code",
      "metadata": {
        "colab": {
          "base_uri": "https://localhost:8080/",
          "height": 459
        },
        "id": "bmHUsZhyBc7w",
        "outputId": "372404b2-064f-4f6e-a060-5b3a49b913a1"
      },
      "source": [
        "y_predicted = model.predict(X_test)\n",
        "y_predicted_labels = [np.argmax(i) for i in y_predicted]\n",
        "cm = tf.math.confusion_matrix(labels=y_test,predictions=y_predicted_labels)\n",
        "\n",
        "plt.figure(figsize = (10,7))\n",
        "sn.heatmap(cm, annot=True, fmt='d')\n",
        "plt.xlabel('Predicted')\n",
        "plt.ylabel('Truth')"
      ],
      "execution_count": null,
      "outputs": [
        {
          "output_type": "execute_result",
          "data": {
            "text/plain": [
              "Text(69.0, 0.5, 'Truth')"
            ]
          },
          "metadata": {
            "tags": []
          },
          "execution_count": 74
        },
        {
          "output_type": "display_data",
          "data": {
            "image/png": "[encoded data removed]",
            "text/plain": [
              "<Figure size 720x504 with 2 Axes>"
            ]
          },
          "metadata": {
            "tags": [],
            "needs_background": "light"
          }
        }
      ]
    },
    {
      "cell_type": "markdown",
      "metadata": {
        "id": "6rx5nbsM3iLy"
      },
      "source": [
        "<h2 style='color:purple' align='center'>Build a neural network in Keras for image classification problem</h2>"
      ]
    },
    {
      "cell_type": "markdown",
      "metadata": {
        "id": "_rNwzUPm_JcI"
      },
      "source": [
        "**We will use keras fashion MNIST dataset. This consist of 60000 28X28 pixel images and 10000 test images, these images are classified in one of the 10 categories**\n",
        "\n",
        "0. T-shirt/top\n",
        "1. Trouser\n",
        "2. Pullover\n",
        "3. Dress\n",
        "4. Coat\n",
        "5. Sandal\n",
        "6. Shirt\n",
        "7. Sneaker\n",
        "8. Bag\n",
        "9. Ankle boot\n",
        "\n",
        "\n"
      ]
    },
    {
      "cell_type": "code",
      "metadata": {
        "id": "c2JezuA0_Cbh"
      },
      "source": [
        "fm = tf.keras.datasets.fashion_mnist\n",
        "(trainX, trainy), (testX, testy) = fm.load_data()"
      ],
      "execution_count": null,
      "outputs": []
    },
    {
      "cell_type": "code",
      "metadata": {
        "colab": {
          "base_uri": "https://localhost:8080/"
        },
        "id": "xacV4_ex3is6",
        "outputId": "e7ea2947-c6ac-4885-cd1e-d87d9e39e38e"
      },
      "source": [
        "# summarize loaded dataset\n",
        "print('Train: X=%s, y=%s' % (trainX.shape, trainy.shape))\n",
        "print('Test: X=%s, y=%s' % (testX.shape, testy.shape))"
      ],
      "execution_count": null,
      "outputs": [
        {
          "output_type": "stream",
          "text": [
            "Train: X=(60000, 28, 28), y=(60000,)\n",
            "Test: X=(10000, 28, 28), y=(10000,)\n"
          ],
          "name": "stdout"
        }
      ]
    },
    {
      "cell_type": "code",
      "metadata": {
        "colab": {
          "base_uri": "https://localhost:8080/"
        },
        "id": "GtVaG71K3kLi",
        "outputId": "3730f888-3624-4a66-db94-fc87a9984032"
      },
      "source": [
        "trainX[0]"
      ],
      "execution_count": null,
      "outputs": [
        {
          "output_type": "execute_result",
          "data": {
            "text/plain": [
              "array([[  0,   0,   0,   0,   0,   0,   0,   0,   0,   0,   0,   0,   0,\n",
              "          0,   0,   0,   0,   0,   0,   0,   0,   0,   0,   0,   0,   0,\n",
              "          0,   0],\n",
              "       [  0,   0,   0,   0,   0,   0,   0,   0,   0,   0,   0,   0,   0,\n",
              "          0,   0,   0,   0,   0,   0,   0,   0,   0,   0,   0,   0,   0,\n",
              "          0,   0],\n",
              "       [  0,   0,   0,   0,   0,   0,   0,   0,   0,   0,   0,   0,   0,\n",
              "          0,   0,   0,   0,   0,   0,   0,   0,   0,   0,   0,   0,   0,\n",
              "          0,   0],\n",
              "       [  0,   0,   0,   0,   0,   0,   0,   0,   0,   0,   0,   0,   1,\n",
              "          0,   0,  13,  73,   0,   0,   1,   4,   0,   0,   0,   0,   1,\n",
              "          1,   0],\n",
              "       [  0,   0,   0,   0,   0,   0,   0,   0,   0,   0,   0,   0,   3,\n",
              "          0,  36, 136, 127,  62,  54,   0,   0,   0,   1,   3,   4,   0,\n",
              "          0,   3],\n",
              "       [  0,   0,   0,   0,   0,   0,   0,   0,   0,   0,   0,   0,   6,\n",
              "          0, 102, 204, 176, 134, 144, 123,  23,   0,   0,   0,   0,  12,\n",
              "         10,   0],\n",
              "       [  0,   0,   0,   0,   0,   0,   0,   0,   0,   0,   0,   0,   0,\n",
              "          0, 155, 236, 207, 178, 107, 156, 161, 109,  64,  23,  77, 130,\n",
              "         72,  15],\n",
              "       [  0,   0,   0,   0,   0,   0,   0,   0,   0,   0,   0,   1,   0,\n",
              "         69, 207, 223, 218, 216, 216, 163, 127, 121, 122, 146, 141,  88,\n",
              "        172,  66],\n",
              "       [  0,   0,   0,   0,   0,   0,   0,   0,   0,   1,   1,   1,   0,\n",
              "        200, 232, 232, 233, 229, 223, 223, 215, 213, 164, 127, 123, 196,\n",
              "        229,   0],\n",
              "       [  0,   0,   0,   0,   0,   0,   0,   0,   0,   0,   0,   0,   0,\n",
              "        183, 225, 216, 223, 228, 235, 227, 224, 222, 224, 221, 223, 245,\n",
              "        173,   0],\n",
              "       [  0,   0,   0,   0,   0,   0,   0,   0,   0,   0,   0,   0,   0,\n",
              "        193, 228, 218, 213, 198, 180, 212, 210, 211, 213, 223, 220, 243,\n",
              "        202,   0],\n",
              "       [  0,   0,   0,   0,   0,   0,   0,   0,   0,   1,   3,   0,  12,\n",
              "        219, 220, 212, 218, 192, 169, 227, 208, 218, 224, 212, 226, 197,\n",
              "        209,  52],\n",
              "       [  0,   0,   0,   0,   0,   0,   0,   0,   0,   0,   6,   0,  99,\n",
              "        244, 222, 220, 218, 203, 198, 221, 215, 213, 222, 220, 245, 119,\n",
              "        167,  56],\n",
              "       [  0,   0,   0,   0,   0,   0,   0,   0,   0,   4,   0,   0,  55,\n",
              "        236, 228, 230, 228, 240, 232, 213, 218, 223, 234, 217, 217, 209,\n",
              "         92,   0],\n",
              "       [  0,   0,   1,   4,   6,   7,   2,   0,   0,   0,   0,   0, 237,\n",
              "        226, 217, 223, 222, 219, 222, 221, 216, 223, 229, 215, 218, 255,\n",
              "         77,   0],\n",
              "       [  0,   3,   0,   0,   0,   0,   0,   0,   0,  62, 145, 204, 228,\n",
              "        207, 213, 221, 218, 208, 211, 218, 224, 223, 219, 215, 224, 244,\n",
              "        159,   0],\n",
              "       [  0,   0,   0,   0,  18,  44,  82, 107, 189, 228, 220, 222, 217,\n",
              "        226, 200, 205, 211, 230, 224, 234, 176, 188, 250, 248, 233, 238,\n",
              "        215,   0],\n",
              "       [  0,  57, 187, 208, 224, 221, 224, 208, 204, 214, 208, 209, 200,\n",
              "        159, 245, 193, 206, 223, 255, 255, 221, 234, 221, 211, 220, 232,\n",
              "        246,   0],\n",
              "       [  3, 202, 228, 224, 221, 211, 211, 214, 205, 205, 205, 220, 240,\n",
              "         80, 150, 255, 229, 221, 188, 154, 191, 210, 204, 209, 222, 228,\n",
              "        225,   0],\n",
              "       [ 98, 233, 198, 210, 222, 229, 229, 234, 249, 220, 194, 215, 217,\n",
              "        241,  65,  73, 106, 117, 168, 219, 221, 215, 217, 223, 223, 224,\n",
              "        229,  29],\n",
              "       [ 75, 204, 212, 204, 193, 205, 211, 225, 216, 185, 197, 206, 198,\n",
              "        213, 240, 195, 227, 245, 239, 223, 218, 212, 209, 222, 220, 221,\n",
              "        230,  67],\n",
              "       [ 48, 203, 183, 194, 213, 197, 185, 190, 194, 192, 202, 214, 219,\n",
              "        221, 220, 236, 225, 216, 199, 206, 186, 181, 177, 172, 181, 205,\n",
              "        206, 115],\n",
              "       [  0, 122, 219, 193, 179, 171, 183, 196, 204, 210, 213, 207, 211,\n",
              "        210, 200, 196, 194, 191, 195, 191, 198, 192, 176, 156, 167, 177,\n",
              "        210,  92],\n",
              "       [  0,   0,  74, 189, 212, 191, 175, 172, 175, 181, 185, 188, 189,\n",
              "        188, 193, 198, 204, 209, 210, 210, 211, 188, 188, 194, 192, 216,\n",
              "        170,   0],\n",
              "       [  2,   0,   0,   0,  66, 200, 222, 237, 239, 242, 246, 243, 244,\n",
              "        221, 220, 193, 191, 179, 182, 182, 181, 176, 166, 168,  99,  58,\n",
              "          0,   0],\n",
              "       [  0,   0,   0,   0,   0,   0,   0,  40,  61,  44,  72,  41,  35,\n",
              "          0,   0,   0,   0,   0,   0,   0,   0,   0,   0,   0,   0,   0,\n",
              "          0,   0],\n",
              "       [  0,   0,   0,   0,   0,   0,   0,   0,   0,   0,   0,   0,   0,\n",
              "          0,   0,   0,   0,   0,   0,   0,   0,   0,   0,   0,   0,   0,\n",
              "          0,   0],\n",
              "       [  0,   0,   0,   0,   0,   0,   0,   0,   0,   0,   0,   0,   0,\n",
              "          0,   0,   0,   0,   0,   0,   0,   0,   0,   0,   0,   0,   0,\n",
              "          0,   0]], dtype=uint8)"
            ]
          },
          "metadata": {
            "tags": []
          },
          "execution_count": 77
        }
      ]
    },
    {
      "cell_type": "code",
      "metadata": {
        "colab": {
          "base_uri": "https://localhost:8080/"
        },
        "id": "Jl8EmTzn3kIS",
        "outputId": "051355c5-4896-4b5a-881a-159467a84a71"
      },
      "source": [
        "trainy[0]"
      ],
      "execution_count": null,
      "outputs": [
        {
          "output_type": "execute_result",
          "data": {
            "text/plain": [
              "9"
            ]
          },
          "metadata": {
            "tags": []
          },
          "execution_count": 78
        }
      ]
    },
    {
      "cell_type": "code",
      "metadata": {
        "id": "FAk9STYBPb7b"
      },
      "source": [
        "from matplotlib import pyplot"
      ],
      "execution_count": null,
      "outputs": []
    },
    {
      "cell_type": "code",
      "metadata": {
        "colab": {
          "base_uri": "https://localhost:8080/",
          "height": 268
        },
        "id": "jt7_K-sh3kFH",
        "outputId": "b2ec8d6d-1ceb-4f45-9094-a277e96b6372"
      },
      "source": [
        "# plot first few images\n",
        "for i in range(9):\n",
        "\t# define subplot\n",
        "\tpyplot.subplot(330 + 1 + i)\n",
        "\t# plot raw pixel data\n",
        "\tpyplot.imshow(trainX[i], cmap=pyplot.get_cmap('gray'))\n",
        "# show the figure\n",
        "pyplot.show()"
      ],
      "execution_count": null,
      "outputs": [
        {
          "output_type": "display_data",
          "data": {
            "image/png": "[encoded data removed]",
            "text/plain": [
              "<Figure size 432x288 with 9 Axes>"
            ]
          },
          "metadata": {
            "tags": [],
            "needs_background": "light"
          }
        }
      ]
    },
    {
      "cell_type": "markdown",
      "metadata": {
        "id": "Nr6AHV_TAG9Z"
      },
      "source": [
        "<h3 style='color:purple'>Now build the Sequential Model and add layers into it</h3>"
      ]
    },
    {
      "cell_type": "code",
      "metadata": {
        "id": "O-Pzpciq3j7M"
      },
      "source": [
        " from keras.models import Sequential\n",
        " from keras.layers import Flatten, Dense, Activation\n",
        "\n",
        "model = Sequential()\n",
        "model.add(Flatten(input_shape=[28, 28]))\n",
        "model.add(Dense(100, activation=\"relu\"))\n",
        "model.add(Dense(10, activation=\"softmax\"))"
      ],
      "execution_count": null,
      "outputs": []
    },
    {
      "cell_type": "code",
      "metadata": {
        "colab": {
          "base_uri": "https://localhost:8080/"
        },
        "id": "BZsANsBZ3j4t",
        "outputId": "9872b2ad-88ab-473e-f382-26ce76c91ec9"
      },
      "source": [
        "model.summary()"
      ],
      "execution_count": null,
      "outputs": [
        {
          "output_type": "stream",
          "text": [
            "Model: \"sequential\"\n",
            "_________________________________________________________________\n",
            "Layer (type)                 Output Shape              Param #   \n",
            "=================================================================\n",
            "flatten (Flatten)            (None, 784)               0         \n",
            "_________________________________________________________________\n",
            "dense (Dense)                (None, 100)               78500     \n",
            "_________________________________________________________________\n",
            "dense_1 (Dense)              (None, 10)                1010      \n",
            "=================================================================\n",
            "Total params: 79,510\n",
            "Trainable params: 79,510\n",
            "Non-trainable params: 0\n",
            "_________________________________________________________________\n"
          ],
          "name": "stdout"
        }
      ]
    },
    {
      "cell_type": "code",
      "metadata": {
        "id": "kcqLWv0U3j23"
      },
      "source": [
        "model.compile(loss=\"sparse_categorical_crossentropy\", \n",
        "              optimizer=\"adam\",\n",
        "              metrics=[\"accuracy\"])"
      ],
      "execution_count": null,
      "outputs": []
    },
    {
      "cell_type": "code",
      "metadata": {
        "colab": {
          "base_uri": "https://localhost:8080/"
        },
        "id": "3E5-maPf3jvQ",
        "outputId": "3759f8ec-c941-42ee-8f8c-f0d4892023dd"
      },
      "source": [
        "model.fit(trainX, trainy, epochs = 10)"
      ],
      "execution_count": null,
      "outputs": [
        {
          "output_type": "stream",
          "text": [
            "Epoch 1/10\n",
            "1875/1875 [==============================] - 18s 2ms/step - loss: 8.3581 - accuracy: 0.6603\n",
            "Epoch 2/10\n",
            "1875/1875 [==============================] - 4s 2ms/step - loss: 0.7492 - accuracy: 0.7479\n",
            "Epoch 3/10\n",
            "1875/1875 [==============================] - 4s 2ms/step - loss: 0.6453 - accuracy: 0.7660\n",
            "Epoch 4/10\n",
            "1875/1875 [==============================] - 4s 2ms/step - loss: 0.6187 - accuracy: 0.7823\n",
            "Epoch 5/10\n",
            "1875/1875 [==============================] - 4s 2ms/step - loss: 0.6128 - accuracy: 0.7858\n",
            "Epoch 6/10\n",
            "1875/1875 [==============================] - 4s 2ms/step - loss: 0.5865 - accuracy: 0.7924\n",
            "Epoch 7/10\n",
            "1875/1875 [==============================] - 4s 2ms/step - loss: 0.5388 - accuracy: 0.8152\n",
            "Epoch 8/10\n",
            "1875/1875 [==============================] - 4s 2ms/step - loss: 0.5417 - accuracy: 0.8172\n",
            "Epoch 9/10\n",
            "1875/1875 [==============================] - 4s 2ms/step - loss: 0.5203 - accuracy: 0.8244\n",
            "Epoch 10/10\n",
            "1875/1875 [==============================] - 4s 2ms/step - loss: 0.5266 - accuracy: 0.8237\n"
          ],
          "name": "stdout"
        },
        {
          "output_type": "execute_result",
          "data": {
            "text/plain": [
              "<keras.callbacks.History at 0x7f29357566d0>"
            ]
          },
          "metadata": {
            "tags": []
          },
          "execution_count": 85
        }
      ]
    },
    {
      "cell_type": "code",
      "metadata": {
        "colab": {
          "base_uri": "https://localhost:8080/"
        },
        "id": "-0gRpx4w3jsX",
        "outputId": "9117e965-bb09-4d82-82a2-8a1af8e6f7e9"
      },
      "source": [
        "model.evaluate(testX, testy)"
      ],
      "execution_count": null,
      "outputs": [
        {
          "output_type": "stream",
          "text": [
            "313/313 [==============================] - 1s 1ms/step - loss: 0.5724 - accuracy: 0.8132\n"
          ],
          "name": "stdout"
        },
        {
          "output_type": "execute_result",
          "data": {
            "text/plain": [
              "[0.5723907947540283, 0.8131999969482422]"
            ]
          },
          "metadata": {
            "tags": []
          },
          "execution_count": 86
        }
      ]
    },
    {
      "cell_type": "markdown",
      "metadata": {
        "id": "TDIkAEChBG_l"
      },
      "source": [
        "**Above shows accuracy score of 81.31%. The first parameter is loss**"
      ]
    },
    {
      "cell_type": "code",
      "metadata": {
        "colab": {
          "base_uri": "https://localhost:8080/",
          "height": 292
        },
        "id": "tCZ0iSLK3jpZ",
        "outputId": "49cfeabf-67dd-42d5-d1b3-530b42b1aeea"
      },
      "source": [
        "plt.matshow(testX[0])"
      ],
      "execution_count": null,
      "outputs": [
        {
          "output_type": "execute_result",
          "data": {
            "text/plain": [
              "<matplotlib.image.AxesImage at 0x7f29353a45d0>"
            ]
          },
          "metadata": {
            "tags": []
          },
          "execution_count": 87
        },
        {
          "output_type": "display_data",
          "data": {
            "image/png": "[encoded data removed]",
            "text/plain": [
              "<Figure size 288x288 with 1 Axes>"
            ]
          },
          "metadata": {
            "tags": [],
            "needs_background": "light"
          }
        }
      ]
    },
    {
      "cell_type": "code",
      "metadata": {
        "id": "SuGNcRT13jnZ"
      },
      "source": [
        "yp = model.predict(testX)"
      ],
      "execution_count": null,
      "outputs": []
    },
    {
      "cell_type": "code",
      "metadata": {
        "id": "kjFNuJ7iCBBz"
      },
      "source": [
        "yp_labels = [np.argmax(i) for i in yp]"
      ],
      "execution_count": null,
      "outputs": []
    },
    {
      "cell_type": "code",
      "metadata": {
        "colab": {
          "base_uri": "https://localhost:8080/"
        },
        "id": "kU6h4R-b3jjR",
        "outputId": "17c0ff2e-34b6-4296-ff0c-6c70b1f6f85f"
      },
      "source": [
        "np.argmax(yp[0])"
      ],
      "execution_count": null,
      "outputs": [
        {
          "output_type": "execute_result",
          "data": {
            "text/plain": [
              "9"
            ]
          },
          "metadata": {
            "tags": []
          },
          "execution_count": 90
        }
      ]
    },
    {
      "cell_type": "code",
      "metadata": {
        "id": "NBRkd7KJ3jf9"
      },
      "source": [
        "class_labels = [\"T-shirt/top\",\"Trouser\",\"Pullover\",\"Dress\",\"Coat\",\"Sandal\",\"Shirt\",\"Sneaker\",\"Bag\",\"Ankle boot\"]"
      ],
      "execution_count": null,
      "outputs": []
    },
    {
      "cell_type": "code",
      "metadata": {
        "colab": {
          "base_uri": "https://localhost:8080/",
          "height": 35
        },
        "id": "9ld3b2qF3jdd",
        "outputId": "ed40ea8b-86fc-4109-cfb0-03880e889561"
      },
      "source": [
        "class_labels[np.argmax(yp[0])]"
      ],
      "execution_count": null,
      "outputs": [
        {
          "output_type": "execute_result",
          "data": {
            "application/vnd.google.colaboratory.intrinsic+json": {
              "type": "string"
            },
            "text/plain": [
              "'Ankle boot'"
            ]
          },
          "metadata": {
            "tags": []
          },
          "execution_count": 92
        }
      ]
    },
    {
      "cell_type": "code",
      "metadata": {
        "colab": {
          "base_uri": "https://localhost:8080/",
          "height": 459
        },
        "id": "Wejbrl6i3ja5",
        "outputId": "a37bc2e6-4213-431f-a99a-49201efe4a67"
      },
      "source": [
        "cm = tf.math.confusion_matrix(labels=testy,predictions=yp_labels)\n",
        "\n",
        "plt.figure(figsize = (10,7))\n",
        "sn.heatmap(cm, annot=True, fmt='d')\n",
        "plt.xlabel('Predicted')\n",
        "plt.ylabel('Truth')"
      ],
      "execution_count": null,
      "outputs": [
        {
          "output_type": "execute_result",
          "data": {
            "text/plain": [
              "Text(69.0, 0.5, 'Truth')"
            ]
          },
          "metadata": {
            "tags": []
          },
          "execution_count": 93
        },
        {
          "output_type": "display_data",
          "data": {
            "image/png": "[encoded data removed]",
            "text/plain": [
              "<Figure size 720x504 with 2 Axes>"
            ]
          },
          "metadata": {
            "tags": [],
            "needs_background": "light"
          }
        }
      ]
    },
    {
      "cell_type": "markdown",
      "metadata": {
        "id": "EkmWdVcWFwVK"
      },
      "source": [
        "Visualizing the Neural Netwrok Model"
      ]
    },
    {
      "cell_type": "code",
      "metadata": {
        "colab": {
          "base_uri": "https://localhost:8080/",
          "height": 422
        },
        "id": "glb3dX6uFMMa",
        "outputId": "235e91e6-bfbd-41a9-9403-41501bf4ebb3"
      },
      "source": [
        "from keras.utils.vis_utils import plot_model\n",
        "plot_model(model, to_file='model_plot.png', show_shapes=True, show_layer_names=True)"
      ],
      "execution_count": null,
      "outputs": [
        {
          "output_type": "execute_result",
          "data": {
            "image/png": "[encoded data removed]",
            "text/plain": [
              "<IPython.core.display.Image object>"
            ]
          },
          "metadata": {
            "tags": []
          },
          "execution_count": 94
        }
      ]
    }
  ]
}