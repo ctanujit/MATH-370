{
  "cells": [
    {
      "cell_type": "markdown",
      "id": "a0fa450b-13b2-4c32-9dd1-ae60a44e8225",
      "metadata": {
        "id": "a0fa450b-13b2-4c32-9dd1-ae60a44e8225"
      },
      "source": [
        "**MATH 370: Machine Learning** "
      ]
    },
    {
      "cell_type": "markdown",
      "id": "46d2da68-18e9-4c45-9158-2cdeb29a6981",
      "metadata": {
        "tags": [],
        "id": "46d2da68-18e9-4c45-9158-2cdeb29a6981"
      },
      "source": [
        "# L05 - Data Preprocessing and Machine Learning with Scikit-Learn"
      ]
    },
    {
      "cell_type": "markdown",
      "id": "f73773f2-50b1-4362-bc32-950abd134842",
      "metadata": {
        "id": "f73773f2-50b1-4362-bc32-950abd134842"
      },
      "source": [
        "# 5.1 Reading a Dataset from a Tabular Text File"
      ]
    },
    {
      "cell_type": "markdown",
      "id": "f6573b7c-84a8-41b5-874b-ad167d8d8a91",
      "metadata": {
        "id": "f6573b7c-84a8-41b5-874b-ad167d8d8a91"
      },
      "source": [
        "## Overview"
      ]
    },
    {
      "cell_type": "markdown",
      "id": "fc3c6665-3697-4e70-bc8e-664da84e36bd",
      "metadata": {
        "id": "fc3c6665-3697-4e70-bc8e-664da84e36bd"
      },
      "source": [
        "In this lecture, we are closing the \"Computational Foundation\" section by introducing yet another Python library, pandas, which is extremely handy for data (pre)processing. The focus of this lecture is on the [Scikit-learn](http://scikit-learn.org) machine learning library, which is widely considered as the most mature and most well-designed general machine learning library."
      ]
    },
    {
      "cell_type": "markdown",
      "id": "58c02f5c-d0df-4427-ab59-9755b5d3f569",
      "metadata": {
        "id": "58c02f5c-d0df-4427-ab59-9755b5d3f569"
      },
      "source": [
        "## Pandas -- A Python Library for Working with Data Frames"
      ]
    },
    {
      "cell_type": "markdown",
      "id": "266c5db8-fcce-4886-9294-19c9176395ca",
      "metadata": {
        "id": "266c5db8-fcce-4886-9294-19c9176395ca"
      },
      "source": [
        "- Pandas is probably the most popular and convenient data wrangling library for Python (official website: https://pandas.pydata.org) \n",
        "- Pandas stands for PANel-DAta-S.\n",
        "- Relativ similar to data frames in R.\n",
        "- How is it different from NumPy arrays? \n",
        "    - Allows for heterogenous data (columns can have different data types)\n",
        "    - Adds some more convenient functions on top that are handy for data processing"
      ]
    },
    {
      "cell_type": "markdown",
      "id": "b12f3f67-f528-4ef9-9113-1125d83a5545",
      "metadata": {
        "id": "b12f3f67-f528-4ef9-9113-1125d83a5545"
      },
      "source": [
        "### Loading Tabular Datasets from Text Files"
      ]
    },
    {
      "cell_type": "markdown",
      "id": "ab8814b0-6cf1-4a74-9f05-8feb02eed31f",
      "metadata": {
        "id": "ab8814b0-6cf1-4a74-9f05-8feb02eed31f"
      },
      "source": [
        "- Here, we are working with structured data, data which is organized similar to a \"design matrix\" (see lecture 1) -- that is, examples as rows and features as columns (in contrast: unstructured data such as text or images, etc.).\n",
        "- CSV stands for \"comma separated values\" (also common: TSV, tab seperated values).\n",
        "- The `head` command is a Linux/Unix command that shows the first 10 rows by default; the `!` denotes that Jupyter/the IPython kernel should execute it as a shell command (`!`-commands may not work if you are on Windows, but it is not really important)."
      ]
    },
    {
      "cell_type": "code",
      "execution_count": 2,
      "id": "301dfef8-3fd5-4d32-9ac2-51428910cd62",
      "metadata": {
        "colab": {
          "base_uri": "https://localhost:8080/"
        },
        "id": "301dfef8-3fd5-4d32-9ac2-51428910cd62",
        "outputId": "491876e2-3b2d-47b6-c0b3-929f7a0fe46e"
      },
      "outputs": [
        {
          "output_type": "stream",
          "name": "stdout",
          "text": [
            "Id,SepalLength[cm],SepalWidth[cm],PetalLength[cm],PetalWidth[cm],Species\n",
            "1,5.1,3.5,1.4,0.2,Iris-setosa\n",
            "2,4.9,3.0,1.4,0.2,Iris-setosa\n",
            "3,4.7,3.2,1.3,0.2,Iris-setosa\n",
            "4,4.6,3.1,1.5,0.2,Iris-setosa\n",
            "5,5.0,3.6,1.4,0.2,Iris-setosa\n",
            "6,5.4,3.9,1.7,0.4,Iris-setosa\n",
            "7,4.6,3.4,1.4,0.3,Iris-setosa\n",
            "8,5.0,3.4,1.5,0.2,Iris-setosa\n",
            "9,4.4,2.9,1.4,0.2,Iris-setosa\n"
          ]
        }
      ],
      "source": [
        "!head iris.csv"
      ]
    },
    {
      "cell_type": "markdown",
      "id": "7b2c22eb-010f-4768-88e0-262d855c3e4d",
      "metadata": {
        "id": "7b2c22eb-010f-4768-88e0-262d855c3e4d"
      },
      "source": [
        "- We use the `read_csv` command to load the CSV file into a pandas data frame object f of the class `DataFrame`.\n",
        "- Data frames also have a `head` command; here it shows the first 5 rows."
      ]
    },
    {
      "cell_type": "code",
      "execution_count": 1,
      "id": "36000139-3942-4f60-b171-d232e52f66d3",
      "metadata": {
        "colab": {
          "base_uri": "https://localhost:8080/",
          "height": 206
        },
        "id": "36000139-3942-4f60-b171-d232e52f66d3",
        "outputId": "139969b0-7685-4c88-a8d7-03c966c87cb9"
      },
      "outputs": [
        {
          "output_type": "execute_result",
          "data": {
            "text/plain": [
              "   Id  SepalLength[cm]  SepalWidth[cm]  PetalLength[cm]  PetalWidth[cm]  \\\n",
              "0   1              5.1             3.5              1.4             0.2   \n",
              "1   2              4.9             3.0              1.4             0.2   \n",
              "2   3              4.7             3.2              1.3             0.2   \n",
              "3   4              4.6             3.1              1.5             0.2   \n",
              "4   5              5.0             3.6              1.4             0.2   \n",
              "\n",
              "       Species  \n",
              "0  Iris-setosa  \n",
              "1  Iris-setosa  \n",
              "2  Iris-setosa  \n",
              "3  Iris-setosa  \n",
              "4  Iris-setosa  "
            ],
            "text/html": [
              "\n",
              "  <div id=\"df-e0484613-933e-4cec-bc79-02ccfde41aaf\">\n",
              "    <div class=\"colab-df-container\">\n",
              "      <div>\n",
              "<style scoped>\n",
              "    .dataframe tbody tr th:only-of-type {\n",
              "        vertical-align: middle;\n",
              "    }\n",
              "\n",
              "    .dataframe tbody tr th {\n",
              "        vertical-align: top;\n",
              "    }\n",
              "\n",
              "    .dataframe thead th {\n",
              "        text-align: right;\n",
              "    }\n",
              "</style>\n",
              "<table border=\"1\" class=\"dataframe\">\n",
              "  <thead>\n",
              "    <tr style=\"text-align: right;\">\n",
              "      <th></th>\n",
              "      <th>Id</th>\n",
              "      <th>SepalLength[cm]</th>\n",
              "      <th>SepalWidth[cm]</th>\n",
              "      <th>PetalLength[cm]</th>\n",
              "      <th>PetalWidth[cm]</th>\n",
              "      <th>Species</th>\n",
              "    </tr>\n",
              "  </thead>\n",
              "  <tbody>\n",
              "    <tr>\n",
              "      <th>0</th>\n",
              "      <td>1</td>\n",
              "      <td>5.1</td>\n",
              "      <td>3.5</td>\n",
              "      <td>1.4</td>\n",
              "      <td>0.2</td>\n",
              "      <td>Iris-setosa</td>\n",
              "    </tr>\n",
              "    <tr>\n",
              "      <th>1</th>\n",
              "      <td>2</td>\n",
              "      <td>4.9</td>\n",
              "      <td>3.0</td>\n",
              "      <td>1.4</td>\n",
              "      <td>0.2</td>\n",
              "      <td>Iris-setosa</td>\n",
              "    </tr>\n",
              "    <tr>\n",
              "      <th>2</th>\n",
              "      <td>3</td>\n",
              "      <td>4.7</td>\n",
              "      <td>3.2</td>\n",
              "      <td>1.3</td>\n",
              "      <td>0.2</td>\n",
              "      <td>Iris-setosa</td>\n",
              "    </tr>\n",
              "    <tr>\n",
              "      <th>3</th>\n",
              "      <td>4</td>\n",
              "      <td>4.6</td>\n",
              "      <td>3.1</td>\n",
              "      <td>1.5</td>\n",
              "      <td>0.2</td>\n",
              "      <td>Iris-setosa</td>\n",
              "    </tr>\n",
              "    <tr>\n",
              "      <th>4</th>\n",
              "      <td>5</td>\n",
              "      <td>5.0</td>\n",
              "      <td>3.6</td>\n",
              "      <td>1.4</td>\n",
              "      <td>0.2</td>\n",
              "      <td>Iris-setosa</td>\n",
              "    </tr>\n",
              "  </tbody>\n",
              "</table>\n",
              "</div>\n",
              "      <button class=\"colab-df-convert\" onclick=\"convertToInteractive('df-e0484613-933e-4cec-bc79-02ccfde41aaf')\"\n",
              "              title=\"Convert this dataframe to an interactive table.\"\n",
              "              style=\"display:none;\">\n",
              "        \n",
              "  <svg xmlns=\"http://www.w3.org/2000/svg\" height=\"24px\"viewBox=\"0 0 24 24\"\n",
              "       width=\"24px\">\n",
              "    <path d=\"M0 0h24v24H0V0z\" fill=\"none\"/>\n",
              "    <path d=\"M18.56 5.44l.94 2.06.94-2.06 2.06-.94-2.06-.94-.94-2.06-.94 2.06-2.06.94zm-11 1L8.5 8.5l.94-2.06 2.06-.94-2.06-.94L8.5 2.5l-.94 2.06-2.06.94zm10 10l.94 2.06.94-2.06 2.06-.94-2.06-.94-.94-2.06-.94 2.06-2.06.94z\"/><path d=\"M17.41 7.96l-1.37-1.37c-.4-.4-.92-.59-1.43-.59-.52 0-1.04.2-1.43.59L10.3 9.45l-7.72 7.72c-.78.78-.78 2.05 0 2.83L4 21.41c.39.39.9.59 1.41.59.51 0 1.02-.2 1.41-.59l7.78-7.78 2.81-2.81c.8-.78.8-2.07 0-2.86zM5.41 20L4 18.59l7.72-7.72 1.47 1.35L5.41 20z\"/>\n",
              "  </svg>\n",
              "      </button>\n",
              "      \n",
              "  <style>\n",
              "    .colab-df-container {\n",
              "      display:flex;\n",
              "      flex-wrap:wrap;\n",
              "      gap: 12px;\n",
              "    }\n",
              "\n",
              "    .colab-df-convert {\n",
              "      background-color: #E8F0FE;\n",
              "      border: none;\n",
              "      border-radius: 50%;\n",
              "      cursor: pointer;\n",
              "      display: none;\n",
              "      fill: #1967D2;\n",
              "      height: 32px;\n",
              "      padding: 0 0 0 0;\n",
              "      width: 32px;\n",
              "    }\n",
              "\n",
              "    .colab-df-convert:hover {\n",
              "      background-color: #E2EBFA;\n",
              "      box-shadow: 0px 1px 2px rgba(60, 64, 67, 0.3), 0px 1px 3px 1px rgba(60, 64, 67, 0.15);\n",
              "      fill: #174EA6;\n",
              "    }\n",
              "\n",
              "    [theme=dark] .colab-df-convert {\n",
              "      background-color: #3B4455;\n",
              "      fill: #D2E3FC;\n",
              "    }\n",
              "\n",
              "    [theme=dark] .colab-df-convert:hover {\n",
              "      background-color: #434B5C;\n",
              "      box-shadow: 0px 1px 3px 1px rgba(0, 0, 0, 0.15);\n",
              "      filter: drop-shadow(0px 1px 2px rgba(0, 0, 0, 0.3));\n",
              "      fill: #FFFFFF;\n",
              "    }\n",
              "  </style>\n",
              "\n",
              "      <script>\n",
              "        const buttonEl =\n",
              "          document.querySelector('#df-e0484613-933e-4cec-bc79-02ccfde41aaf button.colab-df-convert');\n",
              "        buttonEl.style.display =\n",
              "          google.colab.kernel.accessAllowed ? 'block' : 'none';\n",
              "\n",
              "        async function convertToInteractive(key) {\n",
              "          const element = document.querySelector('#df-e0484613-933e-4cec-bc79-02ccfde41aaf');\n",
              "          const dataTable =\n",
              "            await google.colab.kernel.invokeFunction('convertToInteractive',\n",
              "                                                     [key], {});\n",
              "          if (!dataTable) return;\n",
              "\n",
              "          const docLinkHtml = 'Like what you see? Visit the ' +\n",
              "            '<a target=\"_blank\" href=https://colab.research.google.com/notebooks/data_table.ipynb>data table notebook</a>'\n",
              "            + ' to learn more about interactive tables.';\n",
              "          element.innerHTML = '';\n",
              "          dataTable['output_type'] = 'display_data';\n",
              "          await google.colab.output.renderOutput(dataTable, element);\n",
              "          const docLink = document.createElement('div');\n",
              "          docLink.innerHTML = docLinkHtml;\n",
              "          element.appendChild(docLink);\n",
              "        }\n",
              "      </script>\n",
              "    </div>\n",
              "  </div>\n",
              "  "
            ]
          },
          "metadata": {},
          "execution_count": 1
        }
      ],
      "source": [
        "import pandas as pd\n",
        "\n",
        "\n",
        "df = pd.read_csv('iris.csv')\n",
        "df.head()"
      ]
    },
    {
      "cell_type": "code",
      "execution_count": 3,
      "id": "842e84a7-b62c-45a5-84b9-c0df11aae6e3",
      "metadata": {
        "colab": {
          "base_uri": "https://localhost:8080/"
        },
        "id": "842e84a7-b62c-45a5-84b9-c0df11aae6e3",
        "outputId": "c869c239-b2bc-4872-96b9-7d879efd4759"
      },
      "outputs": [
        {
          "output_type": "execute_result",
          "data": {
            "text/plain": [
              "pandas.core.frame.DataFrame"
            ]
          },
          "metadata": {},
          "execution_count": 3
        }
      ],
      "source": [
        "type(df)"
      ]
    },
    {
      "cell_type": "markdown",
      "id": "7b281c57-dcbd-4ffe-a1a4-d8e7228db90b",
      "metadata": {
        "id": "7b281c57-dcbd-4ffe-a1a4-d8e7228db90b"
      },
      "source": [
        "- It is always good to double check the dimensions and see if they are what we expect. \n",
        "- The `DataFrame` `shape` attribute works the same way as the NumPy array `shape` attribute (Lecture 04)."
      ]
    },
    {
      "cell_type": "code",
      "execution_count": 4,
      "id": "a6440e8c-315b-416d-b36b-63b32842a68d",
      "metadata": {
        "colab": {
          "base_uri": "https://localhost:8080/"
        },
        "id": "a6440e8c-315b-416d-b36b-63b32842a68d",
        "outputId": "5bf4ed87-7894-4b91-8006-4e641ecd23d5"
      },
      "outputs": [
        {
          "output_type": "execute_result",
          "data": {
            "text/plain": [
              "(150, 6)"
            ]
          },
          "metadata": {},
          "execution_count": 4
        }
      ],
      "source": [
        "df.shape"
      ]
    },
    {
      "cell_type": "markdown",
      "metadata": {
        "id": "QAItJC3QBPRA"
      },
      "source": [
        "# 5.2 Basic Data Handling"
      ],
      "id": "QAItJC3QBPRA"
    },
    {
      "cell_type": "markdown",
      "metadata": {
        "tags": [],
        "id": "c09a7cff-dca5-4176-acdd-3a2f008b0428"
      },
      "source": [
        "## Basic Data Handling"
      ],
      "id": "c09a7cff-dca5-4176-acdd-3a2f008b0428"
    },
    {
      "cell_type": "markdown",
      "metadata": {
        "id": "acc3886e-4ee5-41aa-9852-7bb95344477f"
      },
      "source": [
        "- The `apply` method offers a convenient way to manipulate pandas `DataFrame` entries along the column axis.\n",
        "- We can use a regular Python or lambda function as input to the apply method.\n",
        "- In this context, assume that our goal is to transform class labels from a string representation (e.g., \"Iris-Setosa\") to an integer representation (e.g., 0), which is a historical convention and a recommendation for compatibility with various machine learning tools."
      ],
      "id": "acc3886e-4ee5-41aa-9852-7bb95344477f"
    },
    {
      "cell_type": "code",
      "execution_count": 5,
      "metadata": {
        "id": "13f2f98a-8998-4ed3-8dc6-4b9fa7d51bb6",
        "outputId": "068363a2-c07a-4223-805d-9bee7ab584d8",
        "colab": {
          "base_uri": "https://localhost:8080/",
          "height": 206
        }
      },
      "outputs": [
        {
          "output_type": "execute_result",
          "data": {
            "text/plain": [
              "   Id  SepalLength[cm]  SepalWidth[cm]  PetalLength[cm]  PetalWidth[cm]  \\\n",
              "0   1              5.1             3.5              1.4             0.2   \n",
              "1   2              4.9             3.0              1.4             0.2   \n",
              "2   3              4.7             3.2              1.3             0.2   \n",
              "3   4              4.6             3.1              1.5             0.2   \n",
              "4   5              5.0             3.6              1.4             0.2   \n",
              "\n",
              "  Species  \n",
              "0       0  \n",
              "1       0  \n",
              "2       0  \n",
              "3       0  \n",
              "4       0  "
            ],
            "text/html": [
              "\n",
              "  <div id=\"df-eccdc9f2-cad8-4e8f-bbbb-e03f0b42b305\">\n",
              "    <div class=\"colab-df-container\">\n",
              "      <div>\n",
              "<style scoped>\n",
              "    .dataframe tbody tr th:only-of-type {\n",
              "        vertical-align: middle;\n",
              "    }\n",
              "\n",
              "    .dataframe tbody tr th {\n",
              "        vertical-align: top;\n",
              "    }\n",
              "\n",
              "    .dataframe thead th {\n",
              "        text-align: right;\n",
              "    }\n",
              "</style>\n",
              "<table border=\"1\" class=\"dataframe\">\n",
              "  <thead>\n",
              "    <tr style=\"text-align: right;\">\n",
              "      <th></th>\n",
              "      <th>Id</th>\n",
              "      <th>SepalLength[cm]</th>\n",
              "      <th>SepalWidth[cm]</th>\n",
              "      <th>PetalLength[cm]</th>\n",
              "      <th>PetalWidth[cm]</th>\n",
              "      <th>Species</th>\n",
              "    </tr>\n",
              "  </thead>\n",
              "  <tbody>\n",
              "    <tr>\n",
              "      <th>0</th>\n",
              "      <td>1</td>\n",
              "      <td>5.1</td>\n",
              "      <td>3.5</td>\n",
              "      <td>1.4</td>\n",
              "      <td>0.2</td>\n",
              "      <td>0</td>\n",
              "    </tr>\n",
              "    <tr>\n",
              "      <th>1</th>\n",
              "      <td>2</td>\n",
              "      <td>4.9</td>\n",
              "      <td>3.0</td>\n",
              "      <td>1.4</td>\n",
              "      <td>0.2</td>\n",
              "      <td>0</td>\n",
              "    </tr>\n",
              "    <tr>\n",
              "      <th>2</th>\n",
              "      <td>3</td>\n",
              "      <td>4.7</td>\n",
              "      <td>3.2</td>\n",
              "      <td>1.3</td>\n",
              "      <td>0.2</td>\n",
              "      <td>0</td>\n",
              "    </tr>\n",
              "    <tr>\n",
              "      <th>3</th>\n",
              "      <td>4</td>\n",
              "      <td>4.6</td>\n",
              "      <td>3.1</td>\n",
              "      <td>1.5</td>\n",
              "      <td>0.2</td>\n",
              "      <td>0</td>\n",
              "    </tr>\n",
              "    <tr>\n",
              "      <th>4</th>\n",
              "      <td>5</td>\n",
              "      <td>5.0</td>\n",
              "      <td>3.6</td>\n",
              "      <td>1.4</td>\n",
              "      <td>0.2</td>\n",
              "      <td>0</td>\n",
              "    </tr>\n",
              "  </tbody>\n",
              "</table>\n",
              "</div>\n",
              "      <button class=\"colab-df-convert\" onclick=\"convertToInteractive('df-eccdc9f2-cad8-4e8f-bbbb-e03f0b42b305')\"\n",
              "              title=\"Convert this dataframe to an interactive table.\"\n",
              "              style=\"display:none;\">\n",
              "        \n",
              "  <svg xmlns=\"http://www.w3.org/2000/svg\" height=\"24px\"viewBox=\"0 0 24 24\"\n",
              "       width=\"24px\">\n",
              "    <path d=\"M0 0h24v24H0V0z\" fill=\"none\"/>\n",
              "    <path d=\"M18.56 5.44l.94 2.06.94-2.06 2.06-.94-2.06-.94-.94-2.06-.94 2.06-2.06.94zm-11 1L8.5 8.5l.94-2.06 2.06-.94-2.06-.94L8.5 2.5l-.94 2.06-2.06.94zm10 10l.94 2.06.94-2.06 2.06-.94-2.06-.94-.94-2.06-.94 2.06-2.06.94z\"/><path d=\"M17.41 7.96l-1.37-1.37c-.4-.4-.92-.59-1.43-.59-.52 0-1.04.2-1.43.59L10.3 9.45l-7.72 7.72c-.78.78-.78 2.05 0 2.83L4 21.41c.39.39.9.59 1.41.59.51 0 1.02-.2 1.41-.59l7.78-7.78 2.81-2.81c.8-.78.8-2.07 0-2.86zM5.41 20L4 18.59l7.72-7.72 1.47 1.35L5.41 20z\"/>\n",
              "  </svg>\n",
              "      </button>\n",
              "      \n",
              "  <style>\n",
              "    .colab-df-container {\n",
              "      display:flex;\n",
              "      flex-wrap:wrap;\n",
              "      gap: 12px;\n",
              "    }\n",
              "\n",
              "    .colab-df-convert {\n",
              "      background-color: #E8F0FE;\n",
              "      border: none;\n",
              "      border-radius: 50%;\n",
              "      cursor: pointer;\n",
              "      display: none;\n",
              "      fill: #1967D2;\n",
              "      height: 32px;\n",
              "      padding: 0 0 0 0;\n",
              "      width: 32px;\n",
              "    }\n",
              "\n",
              "    .colab-df-convert:hover {\n",
              "      background-color: #E2EBFA;\n",
              "      box-shadow: 0px 1px 2px rgba(60, 64, 67, 0.3), 0px 1px 3px 1px rgba(60, 64, 67, 0.15);\n",
              "      fill: #174EA6;\n",
              "    }\n",
              "\n",
              "    [theme=dark] .colab-df-convert {\n",
              "      background-color: #3B4455;\n",
              "      fill: #D2E3FC;\n",
              "    }\n",
              "\n",
              "    [theme=dark] .colab-df-convert:hover {\n",
              "      background-color: #434B5C;\n",
              "      box-shadow: 0px 1px 3px 1px rgba(0, 0, 0, 0.15);\n",
              "      filter: drop-shadow(0px 1px 2px rgba(0, 0, 0, 0.3));\n",
              "      fill: #FFFFFF;\n",
              "    }\n",
              "  </style>\n",
              "\n",
              "      <script>\n",
              "        const buttonEl =\n",
              "          document.querySelector('#df-eccdc9f2-cad8-4e8f-bbbb-e03f0b42b305 button.colab-df-convert');\n",
              "        buttonEl.style.display =\n",
              "          google.colab.kernel.accessAllowed ? 'block' : 'none';\n",
              "\n",
              "        async function convertToInteractive(key) {\n",
              "          const element = document.querySelector('#df-eccdc9f2-cad8-4e8f-bbbb-e03f0b42b305');\n",
              "          const dataTable =\n",
              "            await google.colab.kernel.invokeFunction('convertToInteractive',\n",
              "                                                     [key], {});\n",
              "          if (!dataTable) return;\n",
              "\n",
              "          const docLinkHtml = 'Like what you see? Visit the ' +\n",
              "            '<a target=\"_blank\" href=https://colab.research.google.com/notebooks/data_table.ipynb>data table notebook</a>'\n",
              "            + ' to learn more about interactive tables.';\n",
              "          element.innerHTML = '';\n",
              "          dataTable['output_type'] = 'display_data';\n",
              "          await google.colab.output.renderOutput(dataTable, element);\n",
              "          const docLink = document.createElement('div');\n",
              "          docLink.innerHTML = docLinkHtml;\n",
              "          element.appendChild(docLink);\n",
              "        }\n",
              "      </script>\n",
              "    </div>\n",
              "  </div>\n",
              "  "
            ]
          },
          "metadata": {},
          "execution_count": 5
        }
      ],
      "source": [
        "df['Species'] = df['Species'].apply(lambda x: 0 if x=='Iris-setosa' else x)\n",
        "df.head()"
      ],
      "id": "13f2f98a-8998-4ed3-8dc6-4b9fa7d51bb6"
    },
    {
      "cell_type": "markdown",
      "metadata": {
        "id": "990fdefe-0c27-405b-bb57-59fb0cc6a4f4"
      },
      "source": [
        "#### Digression: Lambda Functions"
      ],
      "id": "990fdefe-0c27-405b-bb57-59fb0cc6a4f4"
    },
    {
      "cell_type": "markdown",
      "metadata": {
        "id": "a1a50bbd-e47d-4db3-a218-d665af91a109"
      },
      "source": [
        "- If you are not familiar with \"lambda functions,\" they are basically the same as \"regular function but can be written more compactly as a one-liner."
      ],
      "id": "a1a50bbd-e47d-4db3-a218-d665af91a109"
    },
    {
      "cell_type": "code",
      "execution_count": 6,
      "metadata": {
        "id": "29b2a347-33ee-4f54-bb34-4fd20f31467f",
        "outputId": "bf6da781-fde9-4d0c-fd53-cf2452fa2093",
        "colab": {
          "base_uri": "https://localhost:8080/",
          "height": 36
        }
      },
      "outputs": [
        {
          "output_type": "execute_result",
          "data": {
            "text/plain": [
              "'Hello World 123'"
            ],
            "application/vnd.google.colaboratory.intrinsic+json": {
              "type": "string"
            }
          },
          "metadata": {},
          "execution_count": 6
        }
      ],
      "source": [
        "def some_func(x):\n",
        "    return 'Hello World ' + str(x)\n",
        "\n",
        "some_func(123)"
      ],
      "id": "29b2a347-33ee-4f54-bb34-4fd20f31467f"
    },
    {
      "cell_type": "code",
      "execution_count": 7,
      "metadata": {
        "id": "e7b9c0bd-ffcf-481f-823b-c7bba009cc6a",
        "outputId": "8fffb813-268f-4124-f907-f489e518dc7d",
        "colab": {
          "base_uri": "https://localhost:8080/",
          "height": 36
        }
      },
      "outputs": [
        {
          "output_type": "execute_result",
          "data": {
            "text/plain": [
              "'Hello World 123'"
            ],
            "application/vnd.google.colaboratory.intrinsic+json": {
              "type": "string"
            }
          },
          "metadata": {},
          "execution_count": 7
        }
      ],
      "source": [
        "f = lambda x: 'Hello World ' + str(x)\n",
        "f(123)"
      ],
      "id": "e7b9c0bd-ffcf-481f-823b-c7bba009cc6a"
    },
    {
      "cell_type": "markdown",
      "metadata": {
        "id": "56c345b6-adaf-4ced-98a7-4a397a58d6ea"
      },
      "source": [
        "#### .map vs. .apply"
      ],
      "id": "56c345b6-adaf-4ced-98a7-4a397a58d6ea"
    },
    {
      "cell_type": "markdown",
      "metadata": {
        "id": "7c666fdb-5598-42a8-832f-50ba77c9c1a4"
      },
      "source": [
        "- If we want to map column values from one value to another, it is often more convenient to use the `map` method instead of apply.\n",
        "- We achieve the following with the `apply` method, we would have to call `apply` three times."
      ],
      "id": "7c666fdb-5598-42a8-832f-50ba77c9c1a4"
    },
    {
      "cell_type": "code",
      "execution_count": 9,
      "metadata": {
        "id": "04a3a9aa-eb18-4531-9a43-76e9a8483ae0",
        "outputId": "032cd14f-594a-4fe1-bcc3-9bf4a1089557",
        "colab": {
          "base_uri": "https://localhost:8080/",
          "height": 206
        }
      },
      "outputs": [
        {
          "output_type": "execute_result",
          "data": {
            "text/plain": [
              "   Id  SepalLength[cm]  SepalWidth[cm]  PetalLength[cm]  PetalWidth[cm]  \\\n",
              "0   1              5.1             3.5              1.4             0.2   \n",
              "1   2              4.9             3.0              1.4             0.2   \n",
              "2   3              4.7             3.2              1.3             0.2   \n",
              "3   4              4.6             3.1              1.5             0.2   \n",
              "4   5              5.0             3.6              1.4             0.2   \n",
              "\n",
              "   Species  \n",
              "0        0  \n",
              "1        0  \n",
              "2        0  \n",
              "3        0  \n",
              "4        0  "
            ],
            "text/html": [
              "\n",
              "  <div id=\"df-2e4d392d-71b8-4ba0-8448-27a6f529da79\">\n",
              "    <div class=\"colab-df-container\">\n",
              "      <div>\n",
              "<style scoped>\n",
              "    .dataframe tbody tr th:only-of-type {\n",
              "        vertical-align: middle;\n",
              "    }\n",
              "\n",
              "    .dataframe tbody tr th {\n",
              "        vertical-align: top;\n",
              "    }\n",
              "\n",
              "    .dataframe thead th {\n",
              "        text-align: right;\n",
              "    }\n",
              "</style>\n",
              "<table border=\"1\" class=\"dataframe\">\n",
              "  <thead>\n",
              "    <tr style=\"text-align: right;\">\n",
              "      <th></th>\n",
              "      <th>Id</th>\n",
              "      <th>SepalLength[cm]</th>\n",
              "      <th>SepalWidth[cm]</th>\n",
              "      <th>PetalLength[cm]</th>\n",
              "      <th>PetalWidth[cm]</th>\n",
              "      <th>Species</th>\n",
              "    </tr>\n",
              "  </thead>\n",
              "  <tbody>\n",
              "    <tr>\n",
              "      <th>0</th>\n",
              "      <td>1</td>\n",
              "      <td>5.1</td>\n",
              "      <td>3.5</td>\n",
              "      <td>1.4</td>\n",
              "      <td>0.2</td>\n",
              "      <td>0</td>\n",
              "    </tr>\n",
              "    <tr>\n",
              "      <th>1</th>\n",
              "      <td>2</td>\n",
              "      <td>4.9</td>\n",
              "      <td>3.0</td>\n",
              "      <td>1.4</td>\n",
              "      <td>0.2</td>\n",
              "      <td>0</td>\n",
              "    </tr>\n",
              "    <tr>\n",
              "      <th>2</th>\n",
              "      <td>3</td>\n",
              "      <td>4.7</td>\n",
              "      <td>3.2</td>\n",
              "      <td>1.3</td>\n",
              "      <td>0.2</td>\n",
              "      <td>0</td>\n",
              "    </tr>\n",
              "    <tr>\n",
              "      <th>3</th>\n",
              "      <td>4</td>\n",
              "      <td>4.6</td>\n",
              "      <td>3.1</td>\n",
              "      <td>1.5</td>\n",
              "      <td>0.2</td>\n",
              "      <td>0</td>\n",
              "    </tr>\n",
              "    <tr>\n",
              "      <th>4</th>\n",
              "      <td>5</td>\n",
              "      <td>5.0</td>\n",
              "      <td>3.6</td>\n",
              "      <td>1.4</td>\n",
              "      <td>0.2</td>\n",
              "      <td>0</td>\n",
              "    </tr>\n",
              "  </tbody>\n",
              "</table>\n",
              "</div>\n",
              "      <button class=\"colab-df-convert\" onclick=\"convertToInteractive('df-2e4d392d-71b8-4ba0-8448-27a6f529da79')\"\n",
              "              title=\"Convert this dataframe to an interactive table.\"\n",
              "              style=\"display:none;\">\n",
              "        \n",
              "  <svg xmlns=\"http://www.w3.org/2000/svg\" height=\"24px\"viewBox=\"0 0 24 24\"\n",
              "       width=\"24px\">\n",
              "    <path d=\"M0 0h24v24H0V0z\" fill=\"none\"/>\n",
              "    <path d=\"M18.56 5.44l.94 2.06.94-2.06 2.06-.94-2.06-.94-.94-2.06-.94 2.06-2.06.94zm-11 1L8.5 8.5l.94-2.06 2.06-.94-2.06-.94L8.5 2.5l-.94 2.06-2.06.94zm10 10l.94 2.06.94-2.06 2.06-.94-2.06-.94-.94-2.06-.94 2.06-2.06.94z\"/><path d=\"M17.41 7.96l-1.37-1.37c-.4-.4-.92-.59-1.43-.59-.52 0-1.04.2-1.43.59L10.3 9.45l-7.72 7.72c-.78.78-.78 2.05 0 2.83L4 21.41c.39.39.9.59 1.41.59.51 0 1.02-.2 1.41-.59l7.78-7.78 2.81-2.81c.8-.78.8-2.07 0-2.86zM5.41 20L4 18.59l7.72-7.72 1.47 1.35L5.41 20z\"/>\n",
              "  </svg>\n",
              "      </button>\n",
              "      \n",
              "  <style>\n",
              "    .colab-df-container {\n",
              "      display:flex;\n",
              "      flex-wrap:wrap;\n",
              "      gap: 12px;\n",
              "    }\n",
              "\n",
              "    .colab-df-convert {\n",
              "      background-color: #E8F0FE;\n",
              "      border: none;\n",
              "      border-radius: 50%;\n",
              "      cursor: pointer;\n",
              "      display: none;\n",
              "      fill: #1967D2;\n",
              "      height: 32px;\n",
              "      padding: 0 0 0 0;\n",
              "      width: 32px;\n",
              "    }\n",
              "\n",
              "    .colab-df-convert:hover {\n",
              "      background-color: #E2EBFA;\n",
              "      box-shadow: 0px 1px 2px rgba(60, 64, 67, 0.3), 0px 1px 3px 1px rgba(60, 64, 67, 0.15);\n",
              "      fill: #174EA6;\n",
              "    }\n",
              "\n",
              "    [theme=dark] .colab-df-convert {\n",
              "      background-color: #3B4455;\n",
              "      fill: #D2E3FC;\n",
              "    }\n",
              "\n",
              "    [theme=dark] .colab-df-convert:hover {\n",
              "      background-color: #434B5C;\n",
              "      box-shadow: 0px 1px 3px 1px rgba(0, 0, 0, 0.15);\n",
              "      filter: drop-shadow(0px 1px 2px rgba(0, 0, 0, 0.3));\n",
              "      fill: #FFFFFF;\n",
              "    }\n",
              "  </style>\n",
              "\n",
              "      <script>\n",
              "        const buttonEl =\n",
              "          document.querySelector('#df-2e4d392d-71b8-4ba0-8448-27a6f529da79 button.colab-df-convert');\n",
              "        buttonEl.style.display =\n",
              "          google.colab.kernel.accessAllowed ? 'block' : 'none';\n",
              "\n",
              "        async function convertToInteractive(key) {\n",
              "          const element = document.querySelector('#df-2e4d392d-71b8-4ba0-8448-27a6f529da79');\n",
              "          const dataTable =\n",
              "            await google.colab.kernel.invokeFunction('convertToInteractive',\n",
              "                                                     [key], {});\n",
              "          if (!dataTable) return;\n",
              "\n",
              "          const docLinkHtml = 'Like what you see? Visit the ' +\n",
              "            '<a target=\"_blank\" href=https://colab.research.google.com/notebooks/data_table.ipynb>data table notebook</a>'\n",
              "            + ' to learn more about interactive tables.';\n",
              "          element.innerHTML = '';\n",
              "          dataTable['output_type'] = 'display_data';\n",
              "          await google.colab.output.renderOutput(dataTable, element);\n",
              "          const docLink = document.createElement('div');\n",
              "          docLink.innerHTML = docLinkHtml;\n",
              "          element.appendChild(docLink);\n",
              "        }\n",
              "      </script>\n",
              "    </div>\n",
              "  </div>\n",
              "  "
            ]
          },
          "metadata": {},
          "execution_count": 9
        }
      ],
      "source": [
        "d = {'Iris-setosa': 0,\n",
        "     'Iris-versicolor': 1,\n",
        "     'Iris-virginica': 2}\n",
        "\n",
        "df = pd.read_csv('iris.csv')\n",
        "df['Species'] = df['Species'].map(d)\n",
        "df.head()"
      ],
      "id": "04a3a9aa-eb18-4531-9a43-76e9a8483ae0"
    },
    {
      "cell_type": "markdown",
      "metadata": {
        "id": "2929b854-5e87-4a57-88a3-0f130d22155f"
      },
      "source": [
        "- The `tail` method is similar to `head` but shows the last five rows by default; we use it to double check that the last class label  (Iris-Virginica) was also successfully transformed"
      ],
      "id": "2929b854-5e87-4a57-88a3-0f130d22155f"
    },
    {
      "cell_type": "code",
      "execution_count": 10,
      "metadata": {
        "id": "2fe5dcc0-89ef-46a1-9d09-3d2a5b3c4cf7",
        "outputId": "8ef84785-fdcd-406b-d090-ea075740e776",
        "colab": {
          "base_uri": "https://localhost:8080/",
          "height": 206
        }
      },
      "outputs": [
        {
          "output_type": "execute_result",
          "data": {
            "text/plain": [
              "      Id  SepalLength[cm]  SepalWidth[cm]  PetalLength[cm]  PetalWidth[cm]  \\\n",
              "145  146              6.7             3.0              5.2             2.3   \n",
              "146  147              6.3             2.5              5.0             1.9   \n",
              "147  148              6.5             3.0              5.2             2.0   \n",
              "148  149              6.2             3.4              5.4             2.3   \n",
              "149  150              5.9             3.0              5.1             1.8   \n",
              "\n",
              "     Species  \n",
              "145        2  \n",
              "146        2  \n",
              "147        2  \n",
              "148        2  \n",
              "149        2  "
            ],
            "text/html": [
              "\n",
              "  <div id=\"df-665f29e2-0f4f-4798-88f6-f5d76a0a59e9\">\n",
              "    <div class=\"colab-df-container\">\n",
              "      <div>\n",
              "<style scoped>\n",
              "    .dataframe tbody tr th:only-of-type {\n",
              "        vertical-align: middle;\n",
              "    }\n",
              "\n",
              "    .dataframe tbody tr th {\n",
              "        vertical-align: top;\n",
              "    }\n",
              "\n",
              "    .dataframe thead th {\n",
              "        text-align: right;\n",
              "    }\n",
              "</style>\n",
              "<table border=\"1\" class=\"dataframe\">\n",
              "  <thead>\n",
              "    <tr style=\"text-align: right;\">\n",
              "      <th></th>\n",
              "      <th>Id</th>\n",
              "      <th>SepalLength[cm]</th>\n",
              "      <th>SepalWidth[cm]</th>\n",
              "      <th>PetalLength[cm]</th>\n",
              "      <th>PetalWidth[cm]</th>\n",
              "      <th>Species</th>\n",
              "    </tr>\n",
              "  </thead>\n",
              "  <tbody>\n",
              "    <tr>\n",
              "      <th>145</th>\n",
              "      <td>146</td>\n",
              "      <td>6.7</td>\n",
              "      <td>3.0</td>\n",
              "      <td>5.2</td>\n",
              "      <td>2.3</td>\n",
              "      <td>2</td>\n",
              "    </tr>\n",
              "    <tr>\n",
              "      <th>146</th>\n",
              "      <td>147</td>\n",
              "      <td>6.3</td>\n",
              "      <td>2.5</td>\n",
              "      <td>5.0</td>\n",
              "      <td>1.9</td>\n",
              "      <td>2</td>\n",
              "    </tr>\n",
              "    <tr>\n",
              "      <th>147</th>\n",
              "      <td>148</td>\n",
              "      <td>6.5</td>\n",
              "      <td>3.0</td>\n",
              "      <td>5.2</td>\n",
              "      <td>2.0</td>\n",
              "      <td>2</td>\n",
              "    </tr>\n",
              "    <tr>\n",
              "      <th>148</th>\n",
              "      <td>149</td>\n",
              "      <td>6.2</td>\n",
              "      <td>3.4</td>\n",
              "      <td>5.4</td>\n",
              "      <td>2.3</td>\n",
              "      <td>2</td>\n",
              "    </tr>\n",
              "    <tr>\n",
              "      <th>149</th>\n",
              "      <td>150</td>\n",
              "      <td>5.9</td>\n",
              "      <td>3.0</td>\n",
              "      <td>5.1</td>\n",
              "      <td>1.8</td>\n",
              "      <td>2</td>\n",
              "    </tr>\n",
              "  </tbody>\n",
              "</table>\n",
              "</div>\n",
              "      <button class=\"colab-df-convert\" onclick=\"convertToInteractive('df-665f29e2-0f4f-4798-88f6-f5d76a0a59e9')\"\n",
              "              title=\"Convert this dataframe to an interactive table.\"\n",
              "              style=\"display:none;\">\n",
              "        \n",
              "  <svg xmlns=\"http://www.w3.org/2000/svg\" height=\"24px\"viewBox=\"0 0 24 24\"\n",
              "       width=\"24px\">\n",
              "    <path d=\"M0 0h24v24H0V0z\" fill=\"none\"/>\n",
              "    <path d=\"M18.56 5.44l.94 2.06.94-2.06 2.06-.94-2.06-.94-.94-2.06-.94 2.06-2.06.94zm-11 1L8.5 8.5l.94-2.06 2.06-.94-2.06-.94L8.5 2.5l-.94 2.06-2.06.94zm10 10l.94 2.06.94-2.06 2.06-.94-2.06-.94-.94-2.06-.94 2.06-2.06.94z\"/><path d=\"M17.41 7.96l-1.37-1.37c-.4-.4-.92-.59-1.43-.59-.52 0-1.04.2-1.43.59L10.3 9.45l-7.72 7.72c-.78.78-.78 2.05 0 2.83L4 21.41c.39.39.9.59 1.41.59.51 0 1.02-.2 1.41-.59l7.78-7.78 2.81-2.81c.8-.78.8-2.07 0-2.86zM5.41 20L4 18.59l7.72-7.72 1.47 1.35L5.41 20z\"/>\n",
              "  </svg>\n",
              "      </button>\n",
              "      \n",
              "  <style>\n",
              "    .colab-df-container {\n",
              "      display:flex;\n",
              "      flex-wrap:wrap;\n",
              "      gap: 12px;\n",
              "    }\n",
              "\n",
              "    .colab-df-convert {\n",
              "      background-color: #E8F0FE;\n",
              "      border: none;\n",
              "      border-radius: 50%;\n",
              "      cursor: pointer;\n",
              "      display: none;\n",
              "      fill: #1967D2;\n",
              "      height: 32px;\n",
              "      padding: 0 0 0 0;\n",
              "      width: 32px;\n",
              "    }\n",
              "\n",
              "    .colab-df-convert:hover {\n",
              "      background-color: #E2EBFA;\n",
              "      box-shadow: 0px 1px 2px rgba(60, 64, 67, 0.3), 0px 1px 3px 1px rgba(60, 64, 67, 0.15);\n",
              "      fill: #174EA6;\n",
              "    }\n",
              "\n",
              "    [theme=dark] .colab-df-convert {\n",
              "      background-color: #3B4455;\n",
              "      fill: #D2E3FC;\n",
              "    }\n",
              "\n",
              "    [theme=dark] .colab-df-convert:hover {\n",
              "      background-color: #434B5C;\n",
              "      box-shadow: 0px 1px 3px 1px rgba(0, 0, 0, 0.15);\n",
              "      filter: drop-shadow(0px 1px 2px rgba(0, 0, 0, 0.3));\n",
              "      fill: #FFFFFF;\n",
              "    }\n",
              "  </style>\n",
              "\n",
              "      <script>\n",
              "        const buttonEl =\n",
              "          document.querySelector('#df-665f29e2-0f4f-4798-88f6-f5d76a0a59e9 button.colab-df-convert');\n",
              "        buttonEl.style.display =\n",
              "          google.colab.kernel.accessAllowed ? 'block' : 'none';\n",
              "\n",
              "        async function convertToInteractive(key) {\n",
              "          const element = document.querySelector('#df-665f29e2-0f4f-4798-88f6-f5d76a0a59e9');\n",
              "          const dataTable =\n",
              "            await google.colab.kernel.invokeFunction('convertToInteractive',\n",
              "                                                     [key], {});\n",
              "          if (!dataTable) return;\n",
              "\n",
              "          const docLinkHtml = 'Like what you see? Visit the ' +\n",
              "            '<a target=\"_blank\" href=https://colab.research.google.com/notebooks/data_table.ipynb>data table notebook</a>'\n",
              "            + ' to learn more about interactive tables.';\n",
              "          element.innerHTML = '';\n",
              "          dataTable['output_type'] = 'display_data';\n",
              "          await google.colab.output.renderOutput(dataTable, element);\n",
              "          const docLink = document.createElement('div');\n",
              "          docLink.innerHTML = docLinkHtml;\n",
              "          element.appendChild(docLink);\n",
              "        }\n",
              "      </script>\n",
              "    </div>\n",
              "  </div>\n",
              "  "
            ]
          },
          "metadata": {},
          "execution_count": 10
        }
      ],
      "source": [
        "df.tail()"
      ],
      "id": "2fe5dcc0-89ef-46a1-9d09-3d2a5b3c4cf7"
    },
    {
      "cell_type": "markdown",
      "metadata": {
        "id": "940989ff-4965-47df-9d7f-41fb0c87802c"
      },
      "source": [
        "- It's actually not a bad idea to check if all row entries of the `Species` column got transformed correctly."
      ],
      "id": "940989ff-4965-47df-9d7f-41fb0c87802c"
    },
    {
      "cell_type": "code",
      "execution_count": 11,
      "metadata": {
        "id": "5412e8e3-d0d6-41e4-8c12-bed25b141a0c",
        "outputId": "86f5d1f2-6cab-48a1-c46e-b5f8e466ba33",
        "colab": {
          "base_uri": "https://localhost:8080/"
        }
      },
      "outputs": [
        {
          "output_type": "execute_result",
          "data": {
            "text/plain": [
              "array([0, 1, 2])"
            ]
          },
          "metadata": {},
          "execution_count": 11
        }
      ],
      "source": [
        "import numpy as np\n",
        "\n",
        "\n",
        "np.unique(df['Species'])"
      ],
      "id": "5412e8e3-d0d6-41e4-8c12-bed25b141a0c"
    },
    {
      "cell_type": "markdown",
      "metadata": {
        "id": "9f2175ba-2b6b-49bf-b27a-8568715ec32a"
      },
      "source": [
        "#### NumPy Arrays"
      ],
      "id": "9f2175ba-2b6b-49bf-b27a-8568715ec32a"
    },
    {
      "cell_type": "markdown",
      "metadata": {
        "id": "30725cc4-b1df-49a6-aecc-51419e3662dd"
      },
      "source": [
        "- Pandas' data frames are built on top of NumPy arrays.\n",
        "- While many machine learning-related tools also support pandas `DataFrame` objects as inputs now, by convention, we usually use NumPy arrays most tasks.\n",
        "- We can access the NumPy array that is underlying a `DataFrame` via the `values` attribute."
      ],
      "id": "30725cc4-b1df-49a6-aecc-51419e3662dd"
    },
    {
      "cell_type": "code",
      "execution_count": 12,
      "metadata": {
        "id": "2ae0de84-568e-4242-80bd-3824f21c189a",
        "outputId": "4e5aaa8d-6a62-4a71-c2cc-79ea202dd0ad",
        "colab": {
          "base_uri": "https://localhost:8080/"
        }
      },
      "outputs": [
        {
          "output_type": "execute_result",
          "data": {
            "text/plain": [
              "array([0, 0, 0, 0, 0, 0, 0, 0, 0, 0, 0, 0, 0, 0, 0, 0, 0, 0, 0, 0, 0, 0,\n",
              "       0, 0, 0, 0, 0, 0, 0, 0, 0, 0, 0, 0, 0, 0, 0, 0, 0, 0, 0, 0, 0, 0,\n",
              "       0, 0, 0, 0, 0, 0, 1, 1, 1, 1, 1, 1, 1, 1, 1, 1, 1, 1, 1, 1, 1, 1,\n",
              "       1, 1, 1, 1, 1, 1, 1, 1, 1, 1, 1, 1, 1, 1, 1, 1, 1, 1, 1, 1, 1, 1,\n",
              "       1, 1, 1, 1, 1, 1, 1, 1, 1, 1, 1, 1, 2, 2, 2, 2, 2, 2, 2, 2, 2, 2,\n",
              "       2, 2, 2, 2, 2, 2, 2, 2, 2, 2, 2, 2, 2, 2, 2, 2, 2, 2, 2, 2, 2, 2,\n",
              "       2, 2, 2, 2, 2, 2, 2, 2, 2, 2, 2, 2, 2, 2, 2, 2, 2, 2])"
            ]
          },
          "metadata": {},
          "execution_count": 12
        }
      ],
      "source": [
        "y = df['Species'].values\n",
        "y"
      ],
      "id": "2ae0de84-568e-4242-80bd-3824f21c189a"
    },
    {
      "cell_type": "markdown",
      "metadata": {
        "id": "c5624579-1ebc-417c-a0b2-9c78015dff1e"
      },
      "source": [
        "- There are many different ways to access columns and rows in a pandas `DataFrame`, which we won't discuss here; a good reference documentation can be found at https://pandas.pydata.org/pandas-docs/stable/indexing.html\n",
        "- The `iloc` attribute allows for integer-based indexing and slicing, which is similar to how we use indexing on NumPy arrays (Lecture 04).\n",
        "The following expression will select column 1, 2, 3, and 4 (sepal length, sepal width, petal length, petal width) from the `DataFrame` and then assign the underlying NumPy array to `X`."
      ],
      "id": "c5624579-1ebc-417c-a0b2-9c78015dff1e"
    },
    {
      "cell_type": "code",
      "execution_count": 13,
      "metadata": {
        "id": "98a29271-0f00-4a38-a21c-ba77e413607e"
      },
      "outputs": [],
      "source": [
        "X = df.iloc[:, 1:5].values"
      ],
      "id": "98a29271-0f00-4a38-a21c-ba77e413607e"
    },
    {
      "cell_type": "markdown",
      "metadata": {
        "id": "d67e029f-03f0-4546-bdec-ff584206c948"
      },
      "source": [
        "- Just as a quick check, we show the first 5 rows in the NumPy array:"
      ],
      "id": "d67e029f-03f0-4546-bdec-ff584206c948"
    },
    {
      "cell_type": "code",
      "execution_count": 14,
      "metadata": {
        "id": "8c075089-3dbf-48e0-a5c6-acc150904741",
        "outputId": "30f3c7a7-73e7-4dfa-caaf-bf28d6865dab",
        "colab": {
          "base_uri": "https://localhost:8080/"
        }
      },
      "outputs": [
        {
          "output_type": "execute_result",
          "data": {
            "text/plain": [
              "array([[5.1, 3.5, 1.4, 0.2],\n",
              "       [4.9, 3. , 1.4, 0.2],\n",
              "       [4.7, 3.2, 1.3, 0.2],\n",
              "       [4.6, 3.1, 1.5, 0.2],\n",
              "       [5. , 3.6, 1.4, 0.2]])"
            ]
          },
          "metadata": {},
          "execution_count": 14
        }
      ],
      "source": [
        "X[:5]"
      ],
      "id": "8c075089-3dbf-48e0-a5c6-acc150904741"
    },
    {
      "cell_type": "markdown",
      "metadata": {
        "id": "19e2b923-5085-4238-8149-cf7c0aa76aa5"
      },
      "source": [
        "### Exploratory Data Analysis"
      ],
      "id": "19e2b923-5085-4238-8149-cf7c0aa76aa5"
    },
    {
      "cell_type": "markdown",
      "metadata": {
        "id": "1df6e712-0275-4f6f-939a-8bea86807231"
      },
      "source": [
        "- Occasionally, we will use the MLxtend library (http://rasbt.github.io/mlxtend/) -- MLxtend stands for \"machine learning extensions\" and contains some convenience functions for machine learning and data science tasks.\n",
        "- In particular, we will use the `scatterplotmatrix` function to display a scatter plot matrix of the dataset, which is useful to get a quick overview of the dataset (to inspect the relationship between features, look for outliers, etc.).\n"
      ],
      "id": "1df6e712-0275-4f6f-939a-8bea86807231"
    },
    {
      "cell_type": "code",
      "execution_count": 15,
      "metadata": {
        "id": "f51d380d-2c87-40ae-9884-e19f827c07c5",
        "outputId": "cea3763c-50c6-483f-9f7d-3b010b03977f",
        "colab": {
          "base_uri": "https://localhost:8080/",
          "height": 585
        }
      },
      "outputs": [
        {
          "output_type": "display_data",
          "data": {
            "text/plain": [
              "<Figure size 720x576 with 16 Axes>"
            ],
            "image/png": "[encoded data removed]"
          },
          "metadata": {
            "needs_background": "light"
          }
        }
      ],
      "source": [
        "%matplotlib inline\n",
        "import matplotlib.pyplot as plt\n",
        "from mlxtend.data import iris_data\n",
        "from mlxtend.plotting import scatterplotmatrix\n",
        "\n",
        "\n",
        "names = df.columns[1:5]\n",
        "\n",
        "fig, axes = scatterplotmatrix(X[y==0], figsize=(10, 8), alpha=0.5)\n",
        "fig, axes = scatterplotmatrix(X[y==1], fig_axes=(fig, axes), alpha=0.5)\n",
        "fig, axes = scatterplotmatrix(X[y==2], fig_axes=(fig, axes), alpha=0.5, names=names)\n",
        "\n",
        "plt.tight_layout()\n",
        "plt.legend(labels=['Setosa', 'Versicolor', 'Virginica'])\n",
        "plt.savefig('eda.pdf')\n",
        "plt.show()"
      ],
      "id": "f51d380d-2c87-40ae-9884-e19f827c07c5"
    },
    {
      "cell_type": "markdown",
      "metadata": {
        "id": "bc20c593-66b4-4ad8-a6f4-6dffea345622"
      },
      "source": [
        "## Splitting a Dataset into Train, Validation, and Test Subsets"
      ],
      "id": "bc20c593-66b4-4ad8-a6f4-6dffea345622"
    },
    {
      "cell_type": "markdown",
      "metadata": {
        "id": "1032bafd-37a1-4a7a-9c20-d2196fbc943a"
      },
      "source": [
        "- The following code cells in this section illustrate the process of splitting a dataset into several subsets.\n",
        "- One important step, prior to splitting a dataset, is shuffling it, otherwise, we may end up with unrepresentative class distributions if the dataset was sorted prior to splitting."
      ],
      "id": "1032bafd-37a1-4a7a-9c20-d2196fbc943a"
    },
    {
      "cell_type": "code",
      "execution_count": 16,
      "metadata": {
        "id": "e682c5a8-f447-426f-bbda-e086cb8c622e",
        "outputId": "1bbc4d23-e6ae-4a85-af82-226b45dc7865",
        "colab": {
          "base_uri": "https://localhost:8080/"
        }
      },
      "outputs": [
        {
          "output_type": "execute_result",
          "data": {
            "text/plain": [
              "array([ 72, 112, 132,  88,  37, 138,  87,  42,   8,  90, 141,  33,  59,\n",
              "       116, 135, 104,  36,  13,  63,  45,  28, 133,  24, 127,  46,  20,\n",
              "        31, 121, 117,   4, 130, 119,  29,   0,  62,  93, 131,   5,  16,\n",
              "        82,  60,  35, 143, 145, 142, 114, 136,  53,  19,  38, 110,  23,\n",
              "         9,  86,  91,  89,  79, 101,  65, 115,  41, 124,  95,  21,  11,\n",
              "       103,  74, 122, 118,  44,  51,  81, 149,  12, 129,  56,  50,  25,\n",
              "       128, 146,  43,   1,  71,  54, 100,  14,   6,  80,  26,  70, 139,\n",
              "        30, 108,  15,  18,  77,  22,  10,  58, 107,  75,  64,  69,   3,\n",
              "        40,  76, 134,  34,  27,  94,  85,  97, 102,  52,  92,  99, 105,\n",
              "         7,  48,  61, 120, 137, 125, 147,  39,  84,   2,  67,  55,  49,\n",
              "        68, 140,  78, 144, 111,  32,  73,  47, 148, 113,  96,  57, 123,\n",
              "       106,  83,  17,  98,  66, 126, 109])"
            ]
          },
          "metadata": {},
          "execution_count": 16
        }
      ],
      "source": [
        "import numpy as np\n",
        "\n",
        "\n",
        "indices = np.arange(X.shape[0])\n",
        "rng = np.random.RandomState(123)\n",
        "permuted_indices = rng.permutation(indices)\n",
        "permuted_indices"
      ],
      "id": "e682c5a8-f447-426f-bbda-e086cb8c622e"
    },
    {
      "cell_type": "code",
      "execution_count": 17,
      "metadata": {
        "id": "3774701b-5463-4de8-b9b8-75b79e8da995",
        "outputId": "b683fdd0-aebb-4d09-d981-d69330e323d6",
        "colab": {
          "base_uri": "https://localhost:8080/"
        }
      },
      "outputs": [
        {
          "output_type": "stream",
          "name": "stdout",
          "text": [
            "97 22 31\n"
          ]
        }
      ],
      "source": [
        "train_size, valid_size = int(0.65*X.shape[0]), int(0.15*X.shape[0])\n",
        "test_size = X.shape[0] - (train_size + valid_size)\n",
        "print(train_size, valid_size, test_size)"
      ],
      "id": "3774701b-5463-4de8-b9b8-75b79e8da995"
    },
    {
      "cell_type": "code",
      "execution_count": 18,
      "metadata": {
        "id": "8a11843e-54d1-42b9-9b2b-9323c3ddedf6"
      },
      "outputs": [],
      "source": [
        "train_ind = permuted_indices[:train_size]\n",
        "valid_ind = permuted_indices[train_size:(train_size + valid_size)]\n",
        "test_ind = permuted_indices[(train_size + valid_size):]"
      ],
      "id": "8a11843e-54d1-42b9-9b2b-9323c3ddedf6"
    },
    {
      "cell_type": "code",
      "execution_count": 19,
      "metadata": {
        "id": "b161469d-5f86-4277-9565-c7624944b0d0",
        "outputId": "9829c834-77ac-4b22-94d5-e253ae77f6b1",
        "colab": {
          "base_uri": "https://localhost:8080/"
        }
      },
      "outputs": [
        {
          "output_type": "execute_result",
          "data": {
            "text/plain": [
              "(97, 4)"
            ]
          },
          "metadata": {},
          "execution_count": 19
        }
      ],
      "source": [
        "X_train, y_train = X[train_ind], y[train_ind]\n",
        "X_valid, y_valid = X[valid_ind], y[valid_ind]\n",
        "X_test, y_test = X[test_ind], y[test_ind]\n",
        "\n",
        "X_train.shape"
      ],
      "id": "b161469d-5f86-4277-9565-c7624944b0d0"
    },
    {
      "cell_type": "markdown",
      "metadata": {
        "tags": [],
        "id": "e0bcfab8-7e2a-4745-9157-0c5c9262e3fe"
      },
      "source": [
        "## The Scikit-Learn Estimator API"
      ],
      "id": "e0bcfab8-7e2a-4745-9157-0c5c9262e3fe"
    },
    {
      "cell_type": "markdown",
      "metadata": {
        "id": "c739b8ca-8553-4ddf-8888-c7e4cdfec5a1"
      },
      "source": [
        "- Below is an overview of the scikit-learn estimator API, which is used for implementing classification and regression models/algorithms.\n",
        "- We have seen the methods in the context of the *k*NN implementation earlier; however, one interesting, additional method we have not covered yet is `score`.\n",
        "- The `score` method simply runs `predict` on the features (`X`) internally and then computes the performance by comparing the predicted targets to the true targets `y`.\n",
        "- In the case of classification models, the `score` method computes the classification accuracy (in the range [0, 1]) -- i.e., the proportion of correctly predicted labels.\n",
        "In the case of regression models, the `score` method computes the coefficient of determination ($R^2$)."
      ],
      "id": "c739b8ca-8553-4ddf-8888-c7e4cdfec5a1"
    },
    {
      "cell_type": "markdown",
      "metadata": {
        "id": "56e78f81-09b2-449d-9eb3-13c77164dc7d"
      },
      "source": [
        "```python\n",
        "class SupervisedEstimator(...):\n",
        "    \n",
        "    def __init__(self, hyperparam_1, ...):\n",
        "        self.hyperparm_1\n",
        "        ...\n",
        "    \n",
        "    def fit(self, X, y):\n",
        "        ...\n",
        "        self.fit_attribute_\n",
        "        return self\n",
        "    \n",
        "    def predict(self, X):\n",
        "        ...\n",
        "        return y_pred\n",
        "    \n",
        "    def score(self, X, y):\n",
        "        ...\n",
        "        return score\n",
        "    \n",
        "    def _private_method(self):\n",
        "        ...\n",
        "    ...\n",
        "    \n",
        "```"
      ],
      "id": "56e78f81-09b2-449d-9eb3-13c77164dc7d"
    },
    {
      "cell_type": "markdown",
      "metadata": {
        "tags": [],
        "id": "d60abc6b-9f90-42ff-9735-c17a3980114c"
      },
      "source": [
        "# 5.3 Preparing Training Data & Transformer API"
      ],
      "id": "d60abc6b-9f90-42ff-9735-c17a3980114c"
    },
    {
      "cell_type": "markdown",
      "metadata": {
        "tags": [],
        "id": "12615d97-3d78-41e0-9848-abcf778cb9ca"
      },
      "source": [
        "## Stratification"
      ],
      "id": "12615d97-3d78-41e0-9848-abcf778cb9ca"
    },
    {
      "cell_type": "markdown",
      "metadata": {
        "id": "253fcbc1-f51c-4565-a8ce-fe4cf56dff3f"
      },
      "source": [
        "- Previously, we wrote our own code to shuffle and split a dataset into training, validation, and test subsets, which had one considerable downside.\n",
        "- If we are working with small datasets and split it randomly into subsets, it will affect the class distribution in the samples -- this is problematic since machine learning algorithms/models assume that training, validation, and test samples have been drawn from the same distributions to produce reliable models and estimates of the generalization performance."
      ],
      "id": "253fcbc1-f51c-4565-a8ce-fe4cf56dff3f"
    },
    {
      "cell_type": "markdown",
      "metadata": {
        "id": "a1b32aa8-2f55-4905-b987-9819573ec708"
      },
      "source": [
        "- The method of ensuring that the class label proportions are the same in each subset after splitting, we use an approach that is usually referred to as \"stratification.\"\n",
        "- Stratification is supported in scikit-learn's `train_test_split` method if we pass the class label array to the `stratify` parameter as shown below."
      ],
      "id": "a1b32aa8-2f55-4905-b987-9819573ec708"
    },
    {
      "cell_type": "code",
      "execution_count": 21,
      "metadata": {
        "id": "9befc634-38e6-4f37-9d02-b63b3abc7fe2",
        "outputId": "4c67fd01-9bc1-455e-dbe7-e76a90f1ff22",
        "colab": {
          "base_uri": "https://localhost:8080/"
        }
      },
      "outputs": [
        {
          "output_type": "execute_result",
          "data": {
            "text/plain": [
              "array([40, 40, 40])"
            ]
          },
          "metadata": {},
          "execution_count": 21
        }
      ],
      "source": [
        "from sklearn.model_selection import train_test_split\n",
        "\n",
        "\n",
        "X_temp, X_test, y_temp, y_test = train_test_split(X, y, test_size=0.2, \n",
        "                         shuffle=True, random_state=123, stratify=y)\n",
        "np.bincount(y_temp)"
      ],
      "id": "9befc634-38e6-4f37-9d02-b63b3abc7fe2"
    },
    {
      "cell_type": "code",
      "execution_count": 22,
      "metadata": {
        "id": "0d6435e3-d45e-4ad6-87e0-5fa07e561925",
        "outputId": "c2b7255e-6425-42c2-c687-2957064796bd",
        "colab": {
          "base_uri": "https://localhost:8080/"
        }
      },
      "outputs": [
        {
          "output_type": "stream",
          "name": "stdout",
          "text": [
            "Train size (96, 4) class proportions [32 32 32]\n",
            "Valid size (24, 4) class proportions [8 8 8]\n",
            "Test size (30, 4) class proportions [10 10 10]\n"
          ]
        }
      ],
      "source": [
        "X_train, X_valid, y_train, y_valid = train_test_split(X_temp, y_temp, test_size=0.2,\n",
        "                         shuffle=True, random_state=123, stratify=y_temp)\n",
        "\n",
        "print('Train size', X_train.shape, 'class proportions', np.bincount(y_train))\n",
        "print('Valid size', X_valid.shape, 'class proportions', np.bincount(y_valid))\n",
        "print('Test size', X_test.shape, 'class proportions', np.bincount(y_test))"
      ],
      "id": "0d6435e3-d45e-4ad6-87e0-5fa07e561925"
    },
    {
      "cell_type": "markdown",
      "metadata": {
        "id": "fb802fc5-0987-445a-9434-01e386a9e9ef"
      },
      "source": [
        "## Data Scaling"
      ],
      "id": "fb802fc5-0987-445a-9434-01e386a9e9ef"
    },
    {
      "cell_type": "markdown",
      "metadata": {
        "id": "abd6f804-1833-4968-9404-1e9dac661deb"
      },
      "source": [
        "- In the case of the Iris dataset, all dimensions were measured in centimeters, hence \"scaling\" features would not be necessary in the context of *k*NN -- unless we want to weight features differently.\n",
        "- Whether or not to scale features depends on the problem at hand and requires your judgement.\n",
        "- However, there are several algorithms (especially gradient-descent, etc., which we will cover later in this course), which work much better (are more robust, numerically stable, and converge faster) if the data is centered and has a smaller range.\n",
        "- There are many different ways for scaling features; here, we only cover two of the most common \"normalization\" schemes: min-max scaling and z-score standardization."
      ],
      "id": "abd6f804-1833-4968-9404-1e9dac661deb"
    },
    {
      "cell_type": "markdown",
      "metadata": {
        "id": "47ee0c04-7eb6-4df1-bb27-3cdf3d98d130"
      },
      "source": [
        "### Normalization -- Min-max scaling"
      ],
      "id": "47ee0c04-7eb6-4df1-bb27-3cdf3d98d130"
    },
    {
      "cell_type": "markdown",
      "metadata": {
        "id": "9ed1ea4c-f55f-4b60-b56c-45c7cef20c81"
      },
      "source": [
        "- Min-max scaling squashes the features into a [0, 1] range, which can be achieved via the following equation for a single input $i$:"
      ],
      "id": "9ed1ea4c-f55f-4b60-b56c-45c7cef20c81"
    },
    {
      "cell_type": "markdown",
      "metadata": {
        "id": "e34816ff-67af-448b-bfdb-3df7761aa025"
      },
      "source": [
        "$$x^{[i]}_{\\text{norm}} = \\frac{x^{[i]} - x_{\\text{min}} }{ x_{\\text{max}} - x_{\\text{min}} }$$"
      ],
      "id": "e34816ff-67af-448b-bfdb-3df7761aa025"
    },
    {
      "cell_type": "markdown",
      "metadata": {
        "id": "b3a8dacb-91bc-41aa-91be-5c0d3bb5908b"
      },
      "source": [
        "- Below is an example of how we can implement and apply min-max scaling on 6 data instances given a 1D input vector (1 feature) via NumPy."
      ],
      "id": "b3a8dacb-91bc-41aa-91be-5c0d3bb5908b"
    },
    {
      "cell_type": "code",
      "execution_count": 23,
      "metadata": {
        "id": "85e6f35d-7ee6-46ae-a4f4-ab4f7392db8e",
        "outputId": "23ff02b5-2faf-4e98-84b0-391f5926948b",
        "colab": {
          "base_uri": "https://localhost:8080/"
        }
      },
      "outputs": [
        {
          "output_type": "execute_result",
          "data": {
            "text/plain": [
              "array([0., 1., 2., 3., 4., 5.])"
            ]
          },
          "metadata": {},
          "execution_count": 23
        }
      ],
      "source": [
        "x = np.arange(6).astype(float)\n",
        "x"
      ],
      "id": "85e6f35d-7ee6-46ae-a4f4-ab4f7392db8e"
    },
    {
      "cell_type": "code",
      "execution_count": 24,
      "metadata": {
        "id": "e3a4e1cd-b3c7-46b2-b986-3233abc8332e",
        "outputId": "227803d8-1959-4891-b7e3-eff76358b46d",
        "colab": {
          "base_uri": "https://localhost:8080/"
        }
      },
      "outputs": [
        {
          "output_type": "execute_result",
          "data": {
            "text/plain": [
              "array([0. , 0.2, 0.4, 0.6, 0.8, 1. ])"
            ]
          },
          "metadata": {},
          "execution_count": 24
        }
      ],
      "source": [
        "x_norm = (x - x.min()) / (x.max() - x.min())\n",
        "x_norm"
      ],
      "id": "e3a4e1cd-b3c7-46b2-b986-3233abc8332e"
    },
    {
      "cell_type": "markdown",
      "metadata": {
        "id": "7e07d354-61b6-4e30-9047-56ad10079fe7"
      },
      "source": [
        "### Standardization"
      ],
      "id": "7e07d354-61b6-4e30-9047-56ad10079fe7"
    },
    {
      "cell_type": "markdown",
      "metadata": {
        "id": "36e27461-ab06-47f9-ba10-1cbc955416a3"
      },
      "source": [
        "- Z-score standardization is a useful standardization scheme if we are working with certain optimization methods (e.g., gradient descent, later in this course). \n",
        "- After standardizing a feature, it will have the properties of a standard normal distribution, that is, unit variance and zero mean ($N(\\mu=0, \\sigma^2=1)$); however, this does not transform a feature from not following a normal distribution to a normal distributed one.\n",
        "- The formula for standardizing a feature is shown below, for a single data point $x^{[i]}$."
      ],
      "id": "36e27461-ab06-47f9-ba10-1cbc955416a3"
    },
    {
      "cell_type": "markdown",
      "metadata": {
        "id": "1d0bf6d4-5a93-472e-aab3-193624bba53e"
      },
      "source": [
        "$$x^{[i]}_{\\text{std}} = \\frac{x^{[i]} - \\mu_x }{ \\sigma_{x} }$$"
      ],
      "id": "1d0bf6d4-5a93-472e-aab3-193624bba53e"
    },
    {
      "cell_type": "code",
      "execution_count": 25,
      "metadata": {
        "id": "ad8b1811-13e6-4598-9474-400813d167f5",
        "outputId": "657fcb4e-81b6-4050-c660-f8ff0f5f441e",
        "colab": {
          "base_uri": "https://localhost:8080/"
        }
      },
      "outputs": [
        {
          "output_type": "execute_result",
          "data": {
            "text/plain": [
              "array([0., 1., 2., 3., 4., 5.])"
            ]
          },
          "metadata": {},
          "execution_count": 25
        }
      ],
      "source": [
        "x = np.arange(6).astype(float)\n",
        "x"
      ],
      "id": "ad8b1811-13e6-4598-9474-400813d167f5"
    },
    {
      "cell_type": "code",
      "execution_count": 26,
      "metadata": {
        "id": "e9b1c305-d9d9-4486-bebc-f0375012e140",
        "outputId": "86159dfe-8f21-4fe7-97d2-451d81dc4d88",
        "colab": {
          "base_uri": "https://localhost:8080/"
        }
      },
      "outputs": [
        {
          "output_type": "execute_result",
          "data": {
            "text/plain": [
              "array([-1.46385011, -0.87831007, -0.29277002,  0.29277002,  0.87831007,\n",
              "        1.46385011])"
            ]
          },
          "metadata": {},
          "execution_count": 26
        }
      ],
      "source": [
        "x_std = (x - x.mean()) / x.std()\n",
        "x_std"
      ],
      "id": "e9b1c305-d9d9-4486-bebc-f0375012e140"
    },
    {
      "cell_type": "markdown",
      "metadata": {
        "id": "decb952c-1207-44e0-8761-8a4ae6864e71"
      },
      "source": [
        "- Conveniently, NumPy and Pandas both implement a `std` method, which computes the standard devation.\n",
        "- Note the different results shown below."
      ],
      "id": "decb952c-1207-44e0-8761-8a4ae6864e71"
    },
    {
      "cell_type": "code",
      "execution_count": 27,
      "metadata": {
        "id": "f8e22e21-b019-4208-ba48-abf4d156e721",
        "outputId": "ee35df21-d9e3-4f6d-c7f8-dce78cc524eb",
        "colab": {
          "base_uri": "https://localhost:8080/"
        }
      },
      "outputs": [
        {
          "output_type": "execute_result",
          "data": {
            "text/plain": [
              "1.1690451944500122"
            ]
          },
          "metadata": {},
          "execution_count": 27
        }
      ],
      "source": [
        "df = pd.DataFrame([1, 2, 1, 2, 3, 4])\n",
        "df[0].std()"
      ],
      "id": "f8e22e21-b019-4208-ba48-abf4d156e721"
    },
    {
      "cell_type": "code",
      "execution_count": 28,
      "metadata": {
        "id": "1978f966-425b-4f6f-b98d-29c7c50f319c",
        "outputId": "1cf9559b-b4a7-4fd1-800d-5a00a77b3987",
        "colab": {
          "base_uri": "https://localhost:8080/"
        }
      },
      "outputs": [
        {
          "output_type": "execute_result",
          "data": {
            "text/plain": [
              "1.0671873729054748"
            ]
          },
          "metadata": {},
          "execution_count": 28
        }
      ],
      "source": [
        "df[0].values.std()"
      ],
      "id": "1978f966-425b-4f6f-b98d-29c7c50f319c"
    },
    {
      "cell_type": "markdown",
      "metadata": {
        "id": "e2deec16-b7c2-426a-b1bb-f9e86af4c387"
      },
      "source": [
        "- The results differ because Pandas computes the \"sample\" standard deviation ($s_x$), whereas NumPy computes the \"population\" standard deviation ($\\sigma_x$)."
      ],
      "id": "e2deec16-b7c2-426a-b1bb-f9e86af4c387"
    },
    {
      "cell_type": "markdown",
      "metadata": {
        "id": "0e4d20fd-1b67-41b3-8acd-c27374a08e50"
      },
      "source": [
        "$$s_x = \\sqrt{ \\frac{1}{n-1} \\sum^{n}_{i=1} (x^{[i]} - \\bar{x})^2 }$$\n",
        "\n",
        "$$\\sigma_x = \\sqrt{ \\frac{1}{n} \\sum^{n}_{i=1} (x^{[i]} - \\mu_x)^2 }$$"
      ],
      "id": "0e4d20fd-1b67-41b3-8acd-c27374a08e50"
    },
    {
      "cell_type": "markdown",
      "metadata": {
        "id": "bd3de74c-df18-4af2-a95c-2e59218cf371"
      },
      "source": [
        "- In the context of machine learning, since we are typically working with large datasets, we typically don't care about Bessel's correction (subtracting one degree of freedom in the denominator).\n",
        "- Further, the goal here is not to model a particular distribution or estimate distribution parameters accurately; however, if you like, you can remove the extra degree of freedom via NumPy's `ddof` parameters -- it's not necessary in practice though."
      ],
      "id": "bd3de74c-df18-4af2-a95c-2e59218cf371"
    },
    {
      "cell_type": "code",
      "execution_count": 29,
      "metadata": {
        "id": "b0573d6c-8dd5-435d-8e85-22dba6004eed",
        "outputId": "31521ca0-90c9-4a29-ef09-9fbac8e28ca1",
        "colab": {
          "base_uri": "https://localhost:8080/"
        }
      },
      "outputs": [
        {
          "output_type": "execute_result",
          "data": {
            "text/plain": [
              "1.1690451944500122"
            ]
          },
          "metadata": {},
          "execution_count": 29
        }
      ],
      "source": [
        "df[0].values.std(ddof=1)"
      ],
      "id": "b0573d6c-8dd5-435d-8e85-22dba6004eed"
    },
    {
      "cell_type": "markdown",
      "metadata": {
        "id": "14735171-2a76-45f5-81fa-0b8752823d75"
      },
      "source": [
        "- A concept that is very important though is how we use the estimated normalization parameters (e.g., mean and standard deviation in z-score standardization).\n",
        "- In particular, it is important that we re-use the parameters estimated from the training set to transfrom validation and test sets -- re-estimating the parameters is a common \"beginner-mistake\" which is why we discuss it in more detail."
      ],
      "id": "14735171-2a76-45f5-81fa-0b8752823d75"
    },
    {
      "cell_type": "code",
      "execution_count": 30,
      "metadata": {
        "id": "30f5cf68-2481-497b-878b-839287747b1c"
      },
      "outputs": [],
      "source": [
        "mu, sigma = X_train.mean(axis=0), X_train.std(axis=0)\n",
        "\n",
        "X_train_std = (X_train - mu) / sigma\n",
        "X_valid_std = (X_valid - mu) / sigma\n",
        "X_test_std = (X_test - mu) / sigma"
      ],
      "id": "30f5cf68-2481-497b-878b-839287747b1c"
    },
    {
      "cell_type": "markdown",
      "metadata": {
        "id": "53b94eb5-fc4b-4fd5-9a0c-0236d5e94153"
      },
      "source": [
        "- Again, if we standardize the training dataset, we need to keep the parameters (mean and standard deviation for each feature). Then, we’d use these parameters to transform our test data and any future data later on\n",
        "- Let’s assume we have a simple training set consisting of 3 samples with 1 feature column (let’s call the feature column “length in cm”):\n",
        "\n",
        "- example1: 10 cm -> class 2\n",
        "- example2: 20 cm -> class 2\n",
        "- example3: 30 cm -> class 1\n",
        "\n",
        "Given the data above, we estimate the following parameters from this training set:\n",
        "\n",
        "- mean: 20\n",
        "- standard deviation: 8.2\n",
        "\n",
        "If we use these parameters to standardize the same dataset, we get the following z-score values:\n",
        "\n",
        "- example1: -1.21 -> class 2\n",
        "- example2: 0 -> class 2\n",
        "- example3: 1.21 -> class 1\n",
        "\n",
        "Now, let’s say our model has learned the following hypotheses: It classifies samples with a standardized length value < 0.6 as class 2 (and class 1 otherwise). So far so good. Now, let’s imagine we have 3 new unlabeled data points that you want to classify.\n",
        "\n",
        "- example4: 5 cm -> class ?\n",
        "- example5: 6 cm -> class ?\n",
        "- example6: 7 cm -> class ?\n",
        "\n",
        "If we look at the non-standardized \"length in cm\" values in the training datast, it is intuitive to say that all of these examples (5, 6, and 7) are likely belonging to class 2  because they are smaller than anything in the training set. However, if we standardize these by re-computing the standard deviation and and mean from the new data, we will get similar values as before (i.e., properties of a standard normal distribtion) in the training set and our classifier would (probably incorrectly) assign the “class 2” label to the samples 4 and 5.\n",
        "\n",
        "- example5: -1.21 -> class 2\n",
        "- example6: 0 -> class 2\n",
        "- example7: 1.21 -> class 1\n",
        "\n",
        "However, if we use the parameters from the \"training set standardization,\" we will get the following standardized values\n",
        "\n",
        "- example5: -18.37\n",
        "- example6: -17.15\n",
        "- example7: -15.92\n",
        "\n",
        "Note that these values are more negative than the value of example1 in the original training set, which makes much more sense now!"
      ],
      "id": "53b94eb5-fc4b-4fd5-9a0c-0236d5e94153"
    },
    {
      "cell_type": "markdown",
      "metadata": {
        "id": "9d8d43be-3fc6-4ced-b70c-3d6cf459a48a"
      },
      "source": [
        "### Scikit-Learn Transformer API"
      ],
      "id": "9d8d43be-3fc6-4ced-b70c-3d6cf459a48a"
    },
    {
      "cell_type": "markdown",
      "metadata": {
        "id": "cd00d184-e3f0-4bff-b604-c46dc48b08ca"
      },
      "source": [
        "- The transformer API in scikit-learn is very similar to the estimator API; the main difference is that transformers are typically \"unsupervised,\" meaning, they don't make use of class labels or target values."
      ],
      "id": "cd00d184-e3f0-4bff-b604-c46dc48b08ca"
    },
    {
      "cell_type": "markdown",
      "metadata": {
        "id": "c6d3b586-d175-4855-b84d-ec2626bd907d"
      },
      "source": [
        "- Typical examples of transformers in scikit-learn are the `MinMaxScaler` and the `StandardScaler`, which can be used to perform min-max scaling and z-score standardization as discussed earlier."
      ],
      "id": "c6d3b586-d175-4855-b84d-ec2626bd907d"
    },
    {
      "cell_type": "code",
      "execution_count": 31,
      "metadata": {
        "id": "c15e9356-8052-4284-be1d-f6b581274a58"
      },
      "outputs": [],
      "source": [
        "from sklearn.preprocessing import MinMaxScaler\n",
        "from sklearn.preprocessing import StandardScaler\n",
        "\n",
        "\n",
        "scaler = StandardScaler()\n",
        "scaler.fit(X_train)\n",
        "X_train_std = scaler.transform(X_train)\n",
        "X_valid_std = scaler.transform(X_valid)\n",
        "X_test_std = scaler.transform(X_test)"
      ],
      "id": "c15e9356-8052-4284-be1d-f6b581274a58"
    },
    {
      "cell_type": "markdown",
      "metadata": {
        "id": "945843f3-ff1a-4635-80ae-6f55e8dd66c2"
      },
      "source": [
        "## Categorical Data"
      ],
      "id": "945843f3-ff1a-4635-80ae-6f55e8dd66c2"
    },
    {
      "cell_type": "markdown",
      "metadata": {
        "id": "69b9bbd5-ff93-46f9-a227-39454382bae1"
      },
      "source": [
        "- When we preprocess a dataset as input to a machine learning algorithm, we have to be careful how we treat categorical variables.\n",
        "- There are two broad categories of categorical variables: nominal (no order implied) and ordinal (order implied)."
      ],
      "id": "69b9bbd5-ff93-46f9-a227-39454382bae1"
    },
    {
      "cell_type": "code",
      "execution_count": 32,
      "metadata": {
        "id": "e1fa9b71-5891-494a-809f-e9fc0d9ea511",
        "outputId": "6cf366d0-6a8f-4670-d3e9-0c409f0b7777",
        "colab": {
          "base_uri": "https://localhost:8080/",
          "height": 143
        }
      },
      "outputs": [
        {
          "output_type": "execute_result",
          "data": {
            "text/plain": [
              "   color size  price classlabel\n",
              "0  green    M   10.1     class1\n",
              "1    red    L   13.5     class2\n",
              "2   blue  XXL   15.3     class1"
            ],
            "text/html": [
              "\n",
              "  <div id=\"df-fab00317-d5aa-4025-954a-d7038b119752\">\n",
              "    <div class=\"colab-df-container\">\n",
              "      <div>\n",
              "<style scoped>\n",
              "    .dataframe tbody tr th:only-of-type {\n",
              "        vertical-align: middle;\n",
              "    }\n",
              "\n",
              "    .dataframe tbody tr th {\n",
              "        vertical-align: top;\n",
              "    }\n",
              "\n",
              "    .dataframe thead th {\n",
              "        text-align: right;\n",
              "    }\n",
              "</style>\n",
              "<table border=\"1\" class=\"dataframe\">\n",
              "  <thead>\n",
              "    <tr style=\"text-align: right;\">\n",
              "      <th></th>\n",
              "      <th>color</th>\n",
              "      <th>size</th>\n",
              "      <th>price</th>\n",
              "      <th>classlabel</th>\n",
              "    </tr>\n",
              "  </thead>\n",
              "  <tbody>\n",
              "    <tr>\n",
              "      <th>0</th>\n",
              "      <td>green</td>\n",
              "      <td>M</td>\n",
              "      <td>10.1</td>\n",
              "      <td>class1</td>\n",
              "    </tr>\n",
              "    <tr>\n",
              "      <th>1</th>\n",
              "      <td>red</td>\n",
              "      <td>L</td>\n",
              "      <td>13.5</td>\n",
              "      <td>class2</td>\n",
              "    </tr>\n",
              "    <tr>\n",
              "      <th>2</th>\n",
              "      <td>blue</td>\n",
              "      <td>XXL</td>\n",
              "      <td>15.3</td>\n",
              "      <td>class1</td>\n",
              "    </tr>\n",
              "  </tbody>\n",
              "</table>\n",
              "</div>\n",
              "      <button class=\"colab-df-convert\" onclick=\"convertToInteractive('df-fab00317-d5aa-4025-954a-d7038b119752')\"\n",
              "              title=\"Convert this dataframe to an interactive table.\"\n",
              "              style=\"display:none;\">\n",
              "        \n",
              "  <svg xmlns=\"http://www.w3.org/2000/svg\" height=\"24px\"viewBox=\"0 0 24 24\"\n",
              "       width=\"24px\">\n",
              "    <path d=\"M0 0h24v24H0V0z\" fill=\"none\"/>\n",
              "    <path d=\"M18.56 5.44l.94 2.06.94-2.06 2.06-.94-2.06-.94-.94-2.06-.94 2.06-2.06.94zm-11 1L8.5 8.5l.94-2.06 2.06-.94-2.06-.94L8.5 2.5l-.94 2.06-2.06.94zm10 10l.94 2.06.94-2.06 2.06-.94-2.06-.94-.94-2.06-.94 2.06-2.06.94z\"/><path d=\"M17.41 7.96l-1.37-1.37c-.4-.4-.92-.59-1.43-.59-.52 0-1.04.2-1.43.59L10.3 9.45l-7.72 7.72c-.78.78-.78 2.05 0 2.83L4 21.41c.39.39.9.59 1.41.59.51 0 1.02-.2 1.41-.59l7.78-7.78 2.81-2.81c.8-.78.8-2.07 0-2.86zM5.41 20L4 18.59l7.72-7.72 1.47 1.35L5.41 20z\"/>\n",
              "  </svg>\n",
              "      </button>\n",
              "      \n",
              "  <style>\n",
              "    .colab-df-container {\n",
              "      display:flex;\n",
              "      flex-wrap:wrap;\n",
              "      gap: 12px;\n",
              "    }\n",
              "\n",
              "    .colab-df-convert {\n",
              "      background-color: #E8F0FE;\n",
              "      border: none;\n",
              "      border-radius: 50%;\n",
              "      cursor: pointer;\n",
              "      display: none;\n",
              "      fill: #1967D2;\n",
              "      height: 32px;\n",
              "      padding: 0 0 0 0;\n",
              "      width: 32px;\n",
              "    }\n",
              "\n",
              "    .colab-df-convert:hover {\n",
              "      background-color: #E2EBFA;\n",
              "      box-shadow: 0px 1px 2px rgba(60, 64, 67, 0.3), 0px 1px 3px 1px rgba(60, 64, 67, 0.15);\n",
              "      fill: #174EA6;\n",
              "    }\n",
              "\n",
              "    [theme=dark] .colab-df-convert {\n",
              "      background-color: #3B4455;\n",
              "      fill: #D2E3FC;\n",
              "    }\n",
              "\n",
              "    [theme=dark] .colab-df-convert:hover {\n",
              "      background-color: #434B5C;\n",
              "      box-shadow: 0px 1px 3px 1px rgba(0, 0, 0, 0.15);\n",
              "      filter: drop-shadow(0px 1px 2px rgba(0, 0, 0, 0.3));\n",
              "      fill: #FFFFFF;\n",
              "    }\n",
              "  </style>\n",
              "\n",
              "      <script>\n",
              "        const buttonEl =\n",
              "          document.querySelector('#df-fab00317-d5aa-4025-954a-d7038b119752 button.colab-df-convert');\n",
              "        buttonEl.style.display =\n",
              "          google.colab.kernel.accessAllowed ? 'block' : 'none';\n",
              "\n",
              "        async function convertToInteractive(key) {\n",
              "          const element = document.querySelector('#df-fab00317-d5aa-4025-954a-d7038b119752');\n",
              "          const dataTable =\n",
              "            await google.colab.kernel.invokeFunction('convertToInteractive',\n",
              "                                                     [key], {});\n",
              "          if (!dataTable) return;\n",
              "\n",
              "          const docLinkHtml = 'Like what you see? Visit the ' +\n",
              "            '<a target=\"_blank\" href=https://colab.research.google.com/notebooks/data_table.ipynb>data table notebook</a>'\n",
              "            + ' to learn more about interactive tables.';\n",
              "          element.innerHTML = '';\n",
              "          dataTable['output_type'] = 'display_data';\n",
              "          await google.colab.output.renderOutput(dataTable, element);\n",
              "          const docLink = document.createElement('div');\n",
              "          docLink.innerHTML = docLinkHtml;\n",
              "          element.appendChild(docLink);\n",
              "        }\n",
              "      </script>\n",
              "    </div>\n",
              "  </div>\n",
              "  "
            ]
          },
          "metadata": {},
          "execution_count": 32
        }
      ],
      "source": [
        "df = pd.read_csv('categoricaldata.csv')\n",
        "df"
      ],
      "id": "e1fa9b71-5891-494a-809f-e9fc0d9ea511"
    },
    {
      "cell_type": "markdown",
      "metadata": {
        "id": "03df0f6b-5808-4f0e-97cf-7f8bd909ae12"
      },
      "source": [
        "- In the example above, 'size' would be an example of an ordinal variable; i.e., if the letters refer to T-shirt sizes, it would make sense to come up with an ordering like M < L < XXL.\n",
        "- Hence, we can assign increasing values to a ordinal values; however, the range and difference between categories depends on our domain knowledge and judgement.\n",
        "- To convert ordinal variables into a proper representation for numerical computations via machine learning algorithms, we can use the now familiar `map` method in Pandas, as shown below."
      ],
      "id": "03df0f6b-5808-4f0e-97cf-7f8bd909ae12"
    },
    {
      "cell_type": "code",
      "execution_count": 33,
      "metadata": {
        "id": "fd23b8bd-55e9-4c20-8c73-2b162b5199ce",
        "outputId": "db7d8af5-df24-4e9d-a3e2-7ac4b9087a26",
        "colab": {
          "base_uri": "https://localhost:8080/",
          "height": 143
        }
      },
      "outputs": [
        {
          "output_type": "execute_result",
          "data": {
            "text/plain": [
              "   color  size  price classlabel\n",
              "0  green     2   10.1     class1\n",
              "1    red     3   13.5     class2\n",
              "2   blue     5   15.3     class1"
            ],
            "text/html": [
              "\n",
              "  <div id=\"df-2914de39-c658-476b-9d2f-d294980ac664\">\n",
              "    <div class=\"colab-df-container\">\n",
              "      <div>\n",
              "<style scoped>\n",
              "    .dataframe tbody tr th:only-of-type {\n",
              "        vertical-align: middle;\n",
              "    }\n",
              "\n",
              "    .dataframe tbody tr th {\n",
              "        vertical-align: top;\n",
              "    }\n",
              "\n",
              "    .dataframe thead th {\n",
              "        text-align: right;\n",
              "    }\n",
              "</style>\n",
              "<table border=\"1\" class=\"dataframe\">\n",
              "  <thead>\n",
              "    <tr style=\"text-align: right;\">\n",
              "      <th></th>\n",
              "      <th>color</th>\n",
              "      <th>size</th>\n",
              "      <th>price</th>\n",
              "      <th>classlabel</th>\n",
              "    </tr>\n",
              "  </thead>\n",
              "  <tbody>\n",
              "    <tr>\n",
              "      <th>0</th>\n",
              "      <td>green</td>\n",
              "      <td>2</td>\n",
              "      <td>10.1</td>\n",
              "      <td>class1</td>\n",
              "    </tr>\n",
              "    <tr>\n",
              "      <th>1</th>\n",
              "      <td>red</td>\n",
              "      <td>3</td>\n",
              "      <td>13.5</td>\n",
              "      <td>class2</td>\n",
              "    </tr>\n",
              "    <tr>\n",
              "      <th>2</th>\n",
              "      <td>blue</td>\n",
              "      <td>5</td>\n",
              "      <td>15.3</td>\n",
              "      <td>class1</td>\n",
              "    </tr>\n",
              "  </tbody>\n",
              "</table>\n",
              "</div>\n",
              "      <button class=\"colab-df-convert\" onclick=\"convertToInteractive('df-2914de39-c658-476b-9d2f-d294980ac664')\"\n",
              "              title=\"Convert this dataframe to an interactive table.\"\n",
              "              style=\"display:none;\">\n",
              "        \n",
              "  <svg xmlns=\"http://www.w3.org/2000/svg\" height=\"24px\"viewBox=\"0 0 24 24\"\n",
              "       width=\"24px\">\n",
              "    <path d=\"M0 0h24v24H0V0z\" fill=\"none\"/>\n",
              "    <path d=\"M18.56 5.44l.94 2.06.94-2.06 2.06-.94-2.06-.94-.94-2.06-.94 2.06-2.06.94zm-11 1L8.5 8.5l.94-2.06 2.06-.94-2.06-.94L8.5 2.5l-.94 2.06-2.06.94zm10 10l.94 2.06.94-2.06 2.06-.94-2.06-.94-.94-2.06-.94 2.06-2.06.94z\"/><path d=\"M17.41 7.96l-1.37-1.37c-.4-.4-.92-.59-1.43-.59-.52 0-1.04.2-1.43.59L10.3 9.45l-7.72 7.72c-.78.78-.78 2.05 0 2.83L4 21.41c.39.39.9.59 1.41.59.51 0 1.02-.2 1.41-.59l7.78-7.78 2.81-2.81c.8-.78.8-2.07 0-2.86zM5.41 20L4 18.59l7.72-7.72 1.47 1.35L5.41 20z\"/>\n",
              "  </svg>\n",
              "      </button>\n",
              "      \n",
              "  <style>\n",
              "    .colab-df-container {\n",
              "      display:flex;\n",
              "      flex-wrap:wrap;\n",
              "      gap: 12px;\n",
              "    }\n",
              "\n",
              "    .colab-df-convert {\n",
              "      background-color: #E8F0FE;\n",
              "      border: none;\n",
              "      border-radius: 50%;\n",
              "      cursor: pointer;\n",
              "      display: none;\n",
              "      fill: #1967D2;\n",
              "      height: 32px;\n",
              "      padding: 0 0 0 0;\n",
              "      width: 32px;\n",
              "    }\n",
              "\n",
              "    .colab-df-convert:hover {\n",
              "      background-color: #E2EBFA;\n",
              "      box-shadow: 0px 1px 2px rgba(60, 64, 67, 0.3), 0px 1px 3px 1px rgba(60, 64, 67, 0.15);\n",
              "      fill: #174EA6;\n",
              "    }\n",
              "\n",
              "    [theme=dark] .colab-df-convert {\n",
              "      background-color: #3B4455;\n",
              "      fill: #D2E3FC;\n",
              "    }\n",
              "\n",
              "    [theme=dark] .colab-df-convert:hover {\n",
              "      background-color: #434B5C;\n",
              "      box-shadow: 0px 1px 3px 1px rgba(0, 0, 0, 0.15);\n",
              "      filter: drop-shadow(0px 1px 2px rgba(0, 0, 0, 0.3));\n",
              "      fill: #FFFFFF;\n",
              "    }\n",
              "  </style>\n",
              "\n",
              "      <script>\n",
              "        const buttonEl =\n",
              "          document.querySelector('#df-2914de39-c658-476b-9d2f-d294980ac664 button.colab-df-convert');\n",
              "        buttonEl.style.display =\n",
              "          google.colab.kernel.accessAllowed ? 'block' : 'none';\n",
              "\n",
              "        async function convertToInteractive(key) {\n",
              "          const element = document.querySelector('#df-2914de39-c658-476b-9d2f-d294980ac664');\n",
              "          const dataTable =\n",
              "            await google.colab.kernel.invokeFunction('convertToInteractive',\n",
              "                                                     [key], {});\n",
              "          if (!dataTable) return;\n",
              "\n",
              "          const docLinkHtml = 'Like what you see? Visit the ' +\n",
              "            '<a target=\"_blank\" href=https://colab.research.google.com/notebooks/data_table.ipynb>data table notebook</a>'\n",
              "            + ' to learn more about interactive tables.';\n",
              "          element.innerHTML = '';\n",
              "          dataTable['output_type'] = 'display_data';\n",
              "          await google.colab.output.renderOutput(dataTable, element);\n",
              "          const docLink = document.createElement('div');\n",
              "          docLink.innerHTML = docLinkHtml;\n",
              "          element.appendChild(docLink);\n",
              "        }\n",
              "      </script>\n",
              "    </div>\n",
              "  </div>\n",
              "  "
            ]
          },
          "metadata": {},
          "execution_count": 33
        }
      ],
      "source": [
        "mapping_dict = {'M': 2,\n",
        "                'L': 3,\n",
        "                'XXL': 5}\n",
        "\n",
        "df['size'] = df['size'].map(mapping_dict)\n",
        "df"
      ],
      "id": "fd23b8bd-55e9-4c20-8c73-2b162b5199ce"
    },
    {
      "cell_type": "markdown",
      "metadata": {
        "id": "46552e3f-952e-4efb-b369-d773529250e9"
      },
      "source": [
        "- Here, we can use the `LabelEncoder` from scikit-learn to convert class labels to integers as an alternative to using the `map` method"
      ],
      "id": "46552e3f-952e-4efb-b369-d773529250e9"
    },
    {
      "cell_type": "code",
      "execution_count": 34,
      "metadata": {
        "id": "c6ce438b-769e-4cbb-bd7d-1e4768c1136b",
        "outputId": "9ef27ddc-2e9e-43e9-8659-7613d3356024",
        "colab": {
          "base_uri": "https://localhost:8080/",
          "height": 143
        }
      },
      "outputs": [
        {
          "output_type": "execute_result",
          "data": {
            "text/plain": [
              "   color  size  price  classlabel\n",
              "0  green     2   10.1           0\n",
              "1    red     3   13.5           1\n",
              "2   blue     5   15.3           0"
            ],
            "text/html": [
              "\n",
              "  <div id=\"df-cbc3fcd9-804c-41c0-9c27-5742a1c585fe\">\n",
              "    <div class=\"colab-df-container\">\n",
              "      <div>\n",
              "<style scoped>\n",
              "    .dataframe tbody tr th:only-of-type {\n",
              "        vertical-align: middle;\n",
              "    }\n",
              "\n",
              "    .dataframe tbody tr th {\n",
              "        vertical-align: top;\n",
              "    }\n",
              "\n",
              "    .dataframe thead th {\n",
              "        text-align: right;\n",
              "    }\n",
              "</style>\n",
              "<table border=\"1\" class=\"dataframe\">\n",
              "  <thead>\n",
              "    <tr style=\"text-align: right;\">\n",
              "      <th></th>\n",
              "      <th>color</th>\n",
              "      <th>size</th>\n",
              "      <th>price</th>\n",
              "      <th>classlabel</th>\n",
              "    </tr>\n",
              "  </thead>\n",
              "  <tbody>\n",
              "    <tr>\n",
              "      <th>0</th>\n",
              "      <td>green</td>\n",
              "      <td>2</td>\n",
              "      <td>10.1</td>\n",
              "      <td>0</td>\n",
              "    </tr>\n",
              "    <tr>\n",
              "      <th>1</th>\n",
              "      <td>red</td>\n",
              "      <td>3</td>\n",
              "      <td>13.5</td>\n",
              "      <td>1</td>\n",
              "    </tr>\n",
              "    <tr>\n",
              "      <th>2</th>\n",
              "      <td>blue</td>\n",
              "      <td>5</td>\n",
              "      <td>15.3</td>\n",
              "      <td>0</td>\n",
              "    </tr>\n",
              "  </tbody>\n",
              "</table>\n",
              "</div>\n",
              "      <button class=\"colab-df-convert\" onclick=\"convertToInteractive('df-cbc3fcd9-804c-41c0-9c27-5742a1c585fe')\"\n",
              "              title=\"Convert this dataframe to an interactive table.\"\n",
              "              style=\"display:none;\">\n",
              "        \n",
              "  <svg xmlns=\"http://www.w3.org/2000/svg\" height=\"24px\"viewBox=\"0 0 24 24\"\n",
              "       width=\"24px\">\n",
              "    <path d=\"M0 0h24v24H0V0z\" fill=\"none\"/>\n",
              "    <path d=\"M18.56 5.44l.94 2.06.94-2.06 2.06-.94-2.06-.94-.94-2.06-.94 2.06-2.06.94zm-11 1L8.5 8.5l.94-2.06 2.06-.94-2.06-.94L8.5 2.5l-.94 2.06-2.06.94zm10 10l.94 2.06.94-2.06 2.06-.94-2.06-.94-.94-2.06-.94 2.06-2.06.94z\"/><path d=\"M17.41 7.96l-1.37-1.37c-.4-.4-.92-.59-1.43-.59-.52 0-1.04.2-1.43.59L10.3 9.45l-7.72 7.72c-.78.78-.78 2.05 0 2.83L4 21.41c.39.39.9.59 1.41.59.51 0 1.02-.2 1.41-.59l7.78-7.78 2.81-2.81c.8-.78.8-2.07 0-2.86zM5.41 20L4 18.59l7.72-7.72 1.47 1.35L5.41 20z\"/>\n",
              "  </svg>\n",
              "      </button>\n",
              "      \n",
              "  <style>\n",
              "    .colab-df-container {\n",
              "      display:flex;\n",
              "      flex-wrap:wrap;\n",
              "      gap: 12px;\n",
              "    }\n",
              "\n",
              "    .colab-df-convert {\n",
              "      background-color: #E8F0FE;\n",
              "      border: none;\n",
              "      border-radius: 50%;\n",
              "      cursor: pointer;\n",
              "      display: none;\n",
              "      fill: #1967D2;\n",
              "      height: 32px;\n",
              "      padding: 0 0 0 0;\n",
              "      width: 32px;\n",
              "    }\n",
              "\n",
              "    .colab-df-convert:hover {\n",
              "      background-color: #E2EBFA;\n",
              "      box-shadow: 0px 1px 2px rgba(60, 64, 67, 0.3), 0px 1px 3px 1px rgba(60, 64, 67, 0.15);\n",
              "      fill: #174EA6;\n",
              "    }\n",
              "\n",
              "    [theme=dark] .colab-df-convert {\n",
              "      background-color: #3B4455;\n",
              "      fill: #D2E3FC;\n",
              "    }\n",
              "\n",
              "    [theme=dark] .colab-df-convert:hover {\n",
              "      background-color: #434B5C;\n",
              "      box-shadow: 0px 1px 3px 1px rgba(0, 0, 0, 0.15);\n",
              "      filter: drop-shadow(0px 1px 2px rgba(0, 0, 0, 0.3));\n",
              "      fill: #FFFFFF;\n",
              "    }\n",
              "  </style>\n",
              "\n",
              "      <script>\n",
              "        const buttonEl =\n",
              "          document.querySelector('#df-cbc3fcd9-804c-41c0-9c27-5742a1c585fe button.colab-df-convert');\n",
              "        buttonEl.style.display =\n",
              "          google.colab.kernel.accessAllowed ? 'block' : 'none';\n",
              "\n",
              "        async function convertToInteractive(key) {\n",
              "          const element = document.querySelector('#df-cbc3fcd9-804c-41c0-9c27-5742a1c585fe');\n",
              "          const dataTable =\n",
              "            await google.colab.kernel.invokeFunction('convertToInteractive',\n",
              "                                                     [key], {});\n",
              "          if (!dataTable) return;\n",
              "\n",
              "          const docLinkHtml = 'Like what you see? Visit the ' +\n",
              "            '<a target=\"_blank\" href=https://colab.research.google.com/notebooks/data_table.ipynb>data table notebook</a>'\n",
              "            + ' to learn more about interactive tables.';\n",
              "          element.innerHTML = '';\n",
              "          dataTable['output_type'] = 'display_data';\n",
              "          await google.colab.output.renderOutput(dataTable, element);\n",
              "          const docLink = document.createElement('div');\n",
              "          docLink.innerHTML = docLinkHtml;\n",
              "          element.appendChild(docLink);\n",
              "        }\n",
              "      </script>\n",
              "    </div>\n",
              "  </div>\n",
              "  "
            ]
          },
          "metadata": {},
          "execution_count": 34
        }
      ],
      "source": [
        "from sklearn.preprocessing import LabelEncoder\n",
        "\n",
        "\n",
        "le = LabelEncoder()\n",
        "df['classlabel'] = le.fit_transform(df['classlabel'])\n",
        "df"
      ],
      "id": "c6ce438b-769e-4cbb-bd7d-1e4768c1136b"
    },
    {
      "cell_type": "markdown",
      "metadata": {
        "id": "ab67a1f8-ac3c-49db-abe6-52e68c16d011"
      },
      "source": [
        "- Representing nominal variables properly is a bit more tricky.\n",
        "- Since machine learning algorithms usually assume an order if a variable takes on integer values, we need to apply a \"trick\" here such that the algorithm would not make this assumption.\n",
        "- this \"trick\" is also called \"one-hot\" encoding -- we binarize a nominal variable, as shown below for the color variable (again, we do this because some ordering like orange < red < blue would not make sense in many applications)."
      ],
      "id": "ab67a1f8-ac3c-49db-abe6-52e68c16d011"
    },
    {
      "cell_type": "code",
      "execution_count": 35,
      "metadata": {
        "id": "1c6d9726-ee0d-45da-96f3-b7a152696af7",
        "outputId": "d34c3d1a-47d2-4410-8445-f917ae08673e",
        "colab": {
          "base_uri": "https://localhost:8080/",
          "height": 143
        }
      },
      "outputs": [
        {
          "output_type": "execute_result",
          "data": {
            "text/plain": [
              "   size  price  classlabel  color_blue  color_green  color_red\n",
              "0     2   10.1           0           0            1          0\n",
              "1     3   13.5           1           0            0          1\n",
              "2     5   15.3           0           1            0          0"
            ],
            "text/html": [
              "\n",
              "  <div id=\"df-08f4ba02-7e49-40ac-84d3-daa9486eaf65\">\n",
              "    <div class=\"colab-df-container\">\n",
              "      <div>\n",
              "<style scoped>\n",
              "    .dataframe tbody tr th:only-of-type {\n",
              "        vertical-align: middle;\n",
              "    }\n",
              "\n",
              "    .dataframe tbody tr th {\n",
              "        vertical-align: top;\n",
              "    }\n",
              "\n",
              "    .dataframe thead th {\n",
              "        text-align: right;\n",
              "    }\n",
              "</style>\n",
              "<table border=\"1\" class=\"dataframe\">\n",
              "  <thead>\n",
              "    <tr style=\"text-align: right;\">\n",
              "      <th></th>\n",
              "      <th>size</th>\n",
              "      <th>price</th>\n",
              "      <th>classlabel</th>\n",
              "      <th>color_blue</th>\n",
              "      <th>color_green</th>\n",
              "      <th>color_red</th>\n",
              "    </tr>\n",
              "  </thead>\n",
              "  <tbody>\n",
              "    <tr>\n",
              "      <th>0</th>\n",
              "      <td>2</td>\n",
              "      <td>10.1</td>\n",
              "      <td>0</td>\n",
              "      <td>0</td>\n",
              "      <td>1</td>\n",
              "      <td>0</td>\n",
              "    </tr>\n",
              "    <tr>\n",
              "      <th>1</th>\n",
              "      <td>3</td>\n",
              "      <td>13.5</td>\n",
              "      <td>1</td>\n",
              "      <td>0</td>\n",
              "      <td>0</td>\n",
              "      <td>1</td>\n",
              "    </tr>\n",
              "    <tr>\n",
              "      <th>2</th>\n",
              "      <td>5</td>\n",
              "      <td>15.3</td>\n",
              "      <td>0</td>\n",
              "      <td>1</td>\n",
              "      <td>0</td>\n",
              "      <td>0</td>\n",
              "    </tr>\n",
              "  </tbody>\n",
              "</table>\n",
              "</div>\n",
              "      <button class=\"colab-df-convert\" onclick=\"convertToInteractive('df-08f4ba02-7e49-40ac-84d3-daa9486eaf65')\"\n",
              "              title=\"Convert this dataframe to an interactive table.\"\n",
              "              style=\"display:none;\">\n",
              "        \n",
              "  <svg xmlns=\"http://www.w3.org/2000/svg\" height=\"24px\"viewBox=\"0 0 24 24\"\n",
              "       width=\"24px\">\n",
              "    <path d=\"M0 0h24v24H0V0z\" fill=\"none\"/>\n",
              "    <path d=\"M18.56 5.44l.94 2.06.94-2.06 2.06-.94-2.06-.94-.94-2.06-.94 2.06-2.06.94zm-11 1L8.5 8.5l.94-2.06 2.06-.94-2.06-.94L8.5 2.5l-.94 2.06-2.06.94zm10 10l.94 2.06.94-2.06 2.06-.94-2.06-.94-.94-2.06-.94 2.06-2.06.94z\"/><path d=\"M17.41 7.96l-1.37-1.37c-.4-.4-.92-.59-1.43-.59-.52 0-1.04.2-1.43.59L10.3 9.45l-7.72 7.72c-.78.78-.78 2.05 0 2.83L4 21.41c.39.39.9.59 1.41.59.51 0 1.02-.2 1.41-.59l7.78-7.78 2.81-2.81c.8-.78.8-2.07 0-2.86zM5.41 20L4 18.59l7.72-7.72 1.47 1.35L5.41 20z\"/>\n",
              "  </svg>\n",
              "      </button>\n",
              "      \n",
              "  <style>\n",
              "    .colab-df-container {\n",
              "      display:flex;\n",
              "      flex-wrap:wrap;\n",
              "      gap: 12px;\n",
              "    }\n",
              "\n",
              "    .colab-df-convert {\n",
              "      background-color: #E8F0FE;\n",
              "      border: none;\n",
              "      border-radius: 50%;\n",
              "      cursor: pointer;\n",
              "      display: none;\n",
              "      fill: #1967D2;\n",
              "      height: 32px;\n",
              "      padding: 0 0 0 0;\n",
              "      width: 32px;\n",
              "    }\n",
              "\n",
              "    .colab-df-convert:hover {\n",
              "      background-color: #E2EBFA;\n",
              "      box-shadow: 0px 1px 2px rgba(60, 64, 67, 0.3), 0px 1px 3px 1px rgba(60, 64, 67, 0.15);\n",
              "      fill: #174EA6;\n",
              "    }\n",
              "\n",
              "    [theme=dark] .colab-df-convert {\n",
              "      background-color: #3B4455;\n",
              "      fill: #D2E3FC;\n",
              "    }\n",
              "\n",
              "    [theme=dark] .colab-df-convert:hover {\n",
              "      background-color: #434B5C;\n",
              "      box-shadow: 0px 1px 3px 1px rgba(0, 0, 0, 0.15);\n",
              "      filter: drop-shadow(0px 1px 2px rgba(0, 0, 0, 0.3));\n",
              "      fill: #FFFFFF;\n",
              "    }\n",
              "  </style>\n",
              "\n",
              "      <script>\n",
              "        const buttonEl =\n",
              "          document.querySelector('#df-08f4ba02-7e49-40ac-84d3-daa9486eaf65 button.colab-df-convert');\n",
              "        buttonEl.style.display =\n",
              "          google.colab.kernel.accessAllowed ? 'block' : 'none';\n",
              "\n",
              "        async function convertToInteractive(key) {\n",
              "          const element = document.querySelector('#df-08f4ba02-7e49-40ac-84d3-daa9486eaf65');\n",
              "          const dataTable =\n",
              "            await google.colab.kernel.invokeFunction('convertToInteractive',\n",
              "                                                     [key], {});\n",
              "          if (!dataTable) return;\n",
              "\n",
              "          const docLinkHtml = 'Like what you see? Visit the ' +\n",
              "            '<a target=\"_blank\" href=https://colab.research.google.com/notebooks/data_table.ipynb>data table notebook</a>'\n",
              "            + ' to learn more about interactive tables.';\n",
              "          element.innerHTML = '';\n",
              "          dataTable['output_type'] = 'display_data';\n",
              "          await google.colab.output.renderOutput(dataTable, element);\n",
              "          const docLink = document.createElement('div');\n",
              "          docLink.innerHTML = docLinkHtml;\n",
              "          element.appendChild(docLink);\n",
              "        }\n",
              "      </script>\n",
              "    </div>\n",
              "  </div>\n",
              "  "
            ]
          },
          "metadata": {},
          "execution_count": 35
        }
      ],
      "source": [
        "pd.get_dummies(df)"
      ],
      "id": "1c6d9726-ee0d-45da-96f3-b7a152696af7"
    },
    {
      "cell_type": "markdown",
      "metadata": {
        "id": "1ffc4dad-2233-4abd-83df-a24ca922e1a9"
      },
      "source": [
        "- Note that executing the code above produced 3 new variables for \"color,\" each of which takes on binary values.\n",
        "- However, there is some redundancy now (e.g., if we know the values for `color_green` and `color_red`, we automatically know the value for `color_blue`).\n",
        "- While collinearity may cause problems (i.e., the matrix inverse doesn't exist in e.g., the context of the closed-form of linear regression), again, in machine learning we typically would not care about it too much, because most algorithms can deal with collinearity (e.g., adding constraints like regularization penalties to regression models, which we learn via gradient-based optimization).\n",
        "- However, removing collinearity if possible is never a bad idea, and we can do this conveniently by dropping e.g., one of the columns of the one-hot encoded variable."
      ],
      "id": "1ffc4dad-2233-4abd-83df-a24ca922e1a9"
    },
    {
      "cell_type": "code",
      "execution_count": 36,
      "metadata": {
        "id": "9d122823-9317-4e38-ab4c-ac1397755e68",
        "outputId": "20e8cf37-fe7d-4c95-9445-8c017b9829c0",
        "colab": {
          "base_uri": "https://localhost:8080/",
          "height": 143
        }
      },
      "outputs": [
        {
          "output_type": "execute_result",
          "data": {
            "text/plain": [
              "   size  price  classlabel  color_green  color_red\n",
              "0     2   10.1           0            1          0\n",
              "1     3   13.5           1            0          1\n",
              "2     5   15.3           0            0          0"
            ],
            "text/html": [
              "\n",
              "  <div id=\"df-1d287643-f529-450a-86e4-043f4a645000\">\n",
              "    <div class=\"colab-df-container\">\n",
              "      <div>\n",
              "<style scoped>\n",
              "    .dataframe tbody tr th:only-of-type {\n",
              "        vertical-align: middle;\n",
              "    }\n",
              "\n",
              "    .dataframe tbody tr th {\n",
              "        vertical-align: top;\n",
              "    }\n",
              "\n",
              "    .dataframe thead th {\n",
              "        text-align: right;\n",
              "    }\n",
              "</style>\n",
              "<table border=\"1\" class=\"dataframe\">\n",
              "  <thead>\n",
              "    <tr style=\"text-align: right;\">\n",
              "      <th></th>\n",
              "      <th>size</th>\n",
              "      <th>price</th>\n",
              "      <th>classlabel</th>\n",
              "      <th>color_green</th>\n",
              "      <th>color_red</th>\n",
              "    </tr>\n",
              "  </thead>\n",
              "  <tbody>\n",
              "    <tr>\n",
              "      <th>0</th>\n",
              "      <td>2</td>\n",
              "      <td>10.1</td>\n",
              "      <td>0</td>\n",
              "      <td>1</td>\n",
              "      <td>0</td>\n",
              "    </tr>\n",
              "    <tr>\n",
              "      <th>1</th>\n",
              "      <td>3</td>\n",
              "      <td>13.5</td>\n",
              "      <td>1</td>\n",
              "      <td>0</td>\n",
              "      <td>1</td>\n",
              "    </tr>\n",
              "    <tr>\n",
              "      <th>2</th>\n",
              "      <td>5</td>\n",
              "      <td>15.3</td>\n",
              "      <td>0</td>\n",
              "      <td>0</td>\n",
              "      <td>0</td>\n",
              "    </tr>\n",
              "  </tbody>\n",
              "</table>\n",
              "</div>\n",
              "      <button class=\"colab-df-convert\" onclick=\"convertToInteractive('df-1d287643-f529-450a-86e4-043f4a645000')\"\n",
              "              title=\"Convert this dataframe to an interactive table.\"\n",
              "              style=\"display:none;\">\n",
              "        \n",
              "  <svg xmlns=\"http://www.w3.org/2000/svg\" height=\"24px\"viewBox=\"0 0 24 24\"\n",
              "       width=\"24px\">\n",
              "    <path d=\"M0 0h24v24H0V0z\" fill=\"none\"/>\n",
              "    <path d=\"M18.56 5.44l.94 2.06.94-2.06 2.06-.94-2.06-.94-.94-2.06-.94 2.06-2.06.94zm-11 1L8.5 8.5l.94-2.06 2.06-.94-2.06-.94L8.5 2.5l-.94 2.06-2.06.94zm10 10l.94 2.06.94-2.06 2.06-.94-2.06-.94-.94-2.06-.94 2.06-2.06.94z\"/><path d=\"M17.41 7.96l-1.37-1.37c-.4-.4-.92-.59-1.43-.59-.52 0-1.04.2-1.43.59L10.3 9.45l-7.72 7.72c-.78.78-.78 2.05 0 2.83L4 21.41c.39.39.9.59 1.41.59.51 0 1.02-.2 1.41-.59l7.78-7.78 2.81-2.81c.8-.78.8-2.07 0-2.86zM5.41 20L4 18.59l7.72-7.72 1.47 1.35L5.41 20z\"/>\n",
              "  </svg>\n",
              "      </button>\n",
              "      \n",
              "  <style>\n",
              "    .colab-df-container {\n",
              "      display:flex;\n",
              "      flex-wrap:wrap;\n",
              "      gap: 12px;\n",
              "    }\n",
              "\n",
              "    .colab-df-convert {\n",
              "      background-color: #E8F0FE;\n",
              "      border: none;\n",
              "      border-radius: 50%;\n",
              "      cursor: pointer;\n",
              "      display: none;\n",
              "      fill: #1967D2;\n",
              "      height: 32px;\n",
              "      padding: 0 0 0 0;\n",
              "      width: 32px;\n",
              "    }\n",
              "\n",
              "    .colab-df-convert:hover {\n",
              "      background-color: #E2EBFA;\n",
              "      box-shadow: 0px 1px 2px rgba(60, 64, 67, 0.3), 0px 1px 3px 1px rgba(60, 64, 67, 0.15);\n",
              "      fill: #174EA6;\n",
              "    }\n",
              "\n",
              "    [theme=dark] .colab-df-convert {\n",
              "      background-color: #3B4455;\n",
              "      fill: #D2E3FC;\n",
              "    }\n",
              "\n",
              "    [theme=dark] .colab-df-convert:hover {\n",
              "      background-color: #434B5C;\n",
              "      box-shadow: 0px 1px 3px 1px rgba(0, 0, 0, 0.15);\n",
              "      filter: drop-shadow(0px 1px 2px rgba(0, 0, 0, 0.3));\n",
              "      fill: #FFFFFF;\n",
              "    }\n",
              "  </style>\n",
              "\n",
              "      <script>\n",
              "        const buttonEl =\n",
              "          document.querySelector('#df-1d287643-f529-450a-86e4-043f4a645000 button.colab-df-convert');\n",
              "        buttonEl.style.display =\n",
              "          google.colab.kernel.accessAllowed ? 'block' : 'none';\n",
              "\n",
              "        async function convertToInteractive(key) {\n",
              "          const element = document.querySelector('#df-1d287643-f529-450a-86e4-043f4a645000');\n",
              "          const dataTable =\n",
              "            await google.colab.kernel.invokeFunction('convertToInteractive',\n",
              "                                                     [key], {});\n",
              "          if (!dataTable) return;\n",
              "\n",
              "          const docLinkHtml = 'Like what you see? Visit the ' +\n",
              "            '<a target=\"_blank\" href=https://colab.research.google.com/notebooks/data_table.ipynb>data table notebook</a>'\n",
              "            + ' to learn more about interactive tables.';\n",
              "          element.innerHTML = '';\n",
              "          dataTable['output_type'] = 'display_data';\n",
              "          await google.colab.output.renderOutput(dataTable, element);\n",
              "          const docLink = document.createElement('div');\n",
              "          docLink.innerHTML = docLinkHtml;\n",
              "          element.appendChild(docLink);\n",
              "        }\n",
              "      </script>\n",
              "    </div>\n",
              "  </div>\n",
              "  "
            ]
          },
          "metadata": {},
          "execution_count": 36
        }
      ],
      "source": [
        "pd.get_dummies(df, drop_first=True)"
      ],
      "id": "9d122823-9317-4e38-ab4c-ac1397755e68"
    },
    {
      "cell_type": "markdown",
      "metadata": {
        "id": "9aee4644-bef6-410f-bb19-15c63ac615b7"
      },
      "source": [
        "Additional categorical encoding schemes are available via the scikit-learn compatible category_encoders library: https://contrib.scikit-learn.org/category_encoders/"
      ],
      "id": "9aee4644-bef6-410f-bb19-15c63ac615b7"
    },
    {
      "cell_type": "markdown",
      "metadata": {
        "id": "13e04bf5-3c82-477b-828c-7c1f4f198b80"
      },
      "source": [
        "## Missing Data"
      ],
      "id": "13e04bf5-3c82-477b-828c-7c1f4f198b80"
    },
    {
      "cell_type": "markdown",
      "metadata": {
        "id": "c64e0eff-0303-48c1-bc75-c8bc3be0f79b"
      },
      "source": [
        "- There are many different ways for dealing with missing data.\n",
        "- The simplest approaches are removing entire columns or rows.\n",
        "- Another simple approach is to impute missing values via the feature means, medians, mode, etc.\n",
        "- There is no rule or best practice, and the choice of the approprite missing data imputation method depends on your judgement and domain knowledge.\n",
        "- Below are some examples for dealing with missing data."
      ],
      "id": "c64e0eff-0303-48c1-bc75-c8bc3be0f79b"
    },
    {
      "cell_type": "code",
      "execution_count": 37,
      "metadata": {
        "id": "8ae1eddb-9ac4-44d3-80d2-24d2ec8ec095",
        "outputId": "06c47833-ffd7-4f19-c42e-fff69f574ba8",
        "colab": {
          "base_uri": "https://localhost:8080/",
          "height": 143
        }
      },
      "outputs": [
        {
          "output_type": "execute_result",
          "data": {
            "text/plain": [
              "      A     B     C    D\n",
              "0   1.0   2.0   3.0  4.0\n",
              "1   5.0   6.0   NaN  8.0\n",
              "2  10.0  11.0  12.0  NaN"
            ],
            "text/html": [
              "\n",
              "  <div id=\"df-5ddae261-85f8-4ce3-9836-b989c645f99b\">\n",
              "    <div class=\"colab-df-container\">\n",
              "      <div>\n",
              "<style scoped>\n",
              "    .dataframe tbody tr th:only-of-type {\n",
              "        vertical-align: middle;\n",
              "    }\n",
              "\n",
              "    .dataframe tbody tr th {\n",
              "        vertical-align: top;\n",
              "    }\n",
              "\n",
              "    .dataframe thead th {\n",
              "        text-align: right;\n",
              "    }\n",
              "</style>\n",
              "<table border=\"1\" class=\"dataframe\">\n",
              "  <thead>\n",
              "    <tr style=\"text-align: right;\">\n",
              "      <th></th>\n",
              "      <th>A</th>\n",
              "      <th>B</th>\n",
              "      <th>C</th>\n",
              "      <th>D</th>\n",
              "    </tr>\n",
              "  </thead>\n",
              "  <tbody>\n",
              "    <tr>\n",
              "      <th>0</th>\n",
              "      <td>1.0</td>\n",
              "      <td>2.0</td>\n",
              "      <td>3.0</td>\n",
              "      <td>4.0</td>\n",
              "    </tr>\n",
              "    <tr>\n",
              "      <th>1</th>\n",
              "      <td>5.0</td>\n",
              "      <td>6.0</td>\n",
              "      <td>NaN</td>\n",
              "      <td>8.0</td>\n",
              "    </tr>\n",
              "    <tr>\n",
              "      <th>2</th>\n",
              "      <td>10.0</td>\n",
              "      <td>11.0</td>\n",
              "      <td>12.0</td>\n",
              "      <td>NaN</td>\n",
              "    </tr>\n",
              "  </tbody>\n",
              "</table>\n",
              "</div>\n",
              "      <button class=\"colab-df-convert\" onclick=\"convertToInteractive('df-5ddae261-85f8-4ce3-9836-b989c645f99b')\"\n",
              "              title=\"Convert this dataframe to an interactive table.\"\n",
              "              style=\"display:none;\">\n",
              "        \n",
              "  <svg xmlns=\"http://www.w3.org/2000/svg\" height=\"24px\"viewBox=\"0 0 24 24\"\n",
              "       width=\"24px\">\n",
              "    <path d=\"M0 0h24v24H0V0z\" fill=\"none\"/>\n",
              "    <path d=\"M18.56 5.44l.94 2.06.94-2.06 2.06-.94-2.06-.94-.94-2.06-.94 2.06-2.06.94zm-11 1L8.5 8.5l.94-2.06 2.06-.94-2.06-.94L8.5 2.5l-.94 2.06-2.06.94zm10 10l.94 2.06.94-2.06 2.06-.94-2.06-.94-.94-2.06-.94 2.06-2.06.94z\"/><path d=\"M17.41 7.96l-1.37-1.37c-.4-.4-.92-.59-1.43-.59-.52 0-1.04.2-1.43.59L10.3 9.45l-7.72 7.72c-.78.78-.78 2.05 0 2.83L4 21.41c.39.39.9.59 1.41.59.51 0 1.02-.2 1.41-.59l7.78-7.78 2.81-2.81c.8-.78.8-2.07 0-2.86zM5.41 20L4 18.59l7.72-7.72 1.47 1.35L5.41 20z\"/>\n",
              "  </svg>\n",
              "      </button>\n",
              "      \n",
              "  <style>\n",
              "    .colab-df-container {\n",
              "      display:flex;\n",
              "      flex-wrap:wrap;\n",
              "      gap: 12px;\n",
              "    }\n",
              "\n",
              "    .colab-df-convert {\n",
              "      background-color: #E8F0FE;\n",
              "      border: none;\n",
              "      border-radius: 50%;\n",
              "      cursor: pointer;\n",
              "      display: none;\n",
              "      fill: #1967D2;\n",
              "      height: 32px;\n",
              "      padding: 0 0 0 0;\n",
              "      width: 32px;\n",
              "    }\n",
              "\n",
              "    .colab-df-convert:hover {\n",
              "      background-color: #E2EBFA;\n",
              "      box-shadow: 0px 1px 2px rgba(60, 64, 67, 0.3), 0px 1px 3px 1px rgba(60, 64, 67, 0.15);\n",
              "      fill: #174EA6;\n",
              "    }\n",
              "\n",
              "    [theme=dark] .colab-df-convert {\n",
              "      background-color: #3B4455;\n",
              "      fill: #D2E3FC;\n",
              "    }\n",
              "\n",
              "    [theme=dark] .colab-df-convert:hover {\n",
              "      background-color: #434B5C;\n",
              "      box-shadow: 0px 1px 3px 1px rgba(0, 0, 0, 0.15);\n",
              "      filter: drop-shadow(0px 1px 2px rgba(0, 0, 0, 0.3));\n",
              "      fill: #FFFFFF;\n",
              "    }\n",
              "  </style>\n",
              "\n",
              "      <script>\n",
              "        const buttonEl =\n",
              "          document.querySelector('#df-5ddae261-85f8-4ce3-9836-b989c645f99b button.colab-df-convert');\n",
              "        buttonEl.style.display =\n",
              "          google.colab.kernel.accessAllowed ? 'block' : 'none';\n",
              "\n",
              "        async function convertToInteractive(key) {\n",
              "          const element = document.querySelector('#df-5ddae261-85f8-4ce3-9836-b989c645f99b');\n",
              "          const dataTable =\n",
              "            await google.colab.kernel.invokeFunction('convertToInteractive',\n",
              "                                                     [key], {});\n",
              "          if (!dataTable) return;\n",
              "\n",
              "          const docLinkHtml = 'Like what you see? Visit the ' +\n",
              "            '<a target=\"_blank\" href=https://colab.research.google.com/notebooks/data_table.ipynb>data table notebook</a>'\n",
              "            + ' to learn more about interactive tables.';\n",
              "          element.innerHTML = '';\n",
              "          dataTable['output_type'] = 'display_data';\n",
              "          await google.colab.output.renderOutput(dataTable, element);\n",
              "          const docLink = document.createElement('div');\n",
              "          docLink.innerHTML = docLinkHtml;\n",
              "          element.appendChild(docLink);\n",
              "        }\n",
              "      </script>\n",
              "    </div>\n",
              "  </div>\n",
              "  "
            ]
          },
          "metadata": {},
          "execution_count": 37
        }
      ],
      "source": [
        "df = pd.read_csv('missingdata.csv')\n",
        "df"
      ],
      "id": "8ae1eddb-9ac4-44d3-80d2-24d2ec8ec095"
    },
    {
      "cell_type": "code",
      "execution_count": 38,
      "metadata": {
        "id": "c1c560ae-b3ce-4583-9da3-6a3394db34c1",
        "outputId": "eb5d444a-0652-4b8d-abf8-5975db28caf1",
        "colab": {
          "base_uri": "https://localhost:8080/"
        }
      },
      "outputs": [
        {
          "output_type": "execute_result",
          "data": {
            "text/plain": [
              "A    0\n",
              "B    0\n",
              "C    1\n",
              "D    1\n",
              "dtype: int64"
            ]
          },
          "metadata": {},
          "execution_count": 38
        }
      ],
      "source": [
        "# missing values per column:\n",
        "\n",
        "df.isnull().sum()"
      ],
      "id": "c1c560ae-b3ce-4583-9da3-6a3394db34c1"
    },
    {
      "cell_type": "code",
      "execution_count": 39,
      "metadata": {
        "id": "59adf575-22fc-489a-aa62-5a37b18eb869",
        "outputId": "b9f971ac-9cf4-42b6-e29b-d214f7eb0428",
        "colab": {
          "base_uri": "https://localhost:8080/",
          "height": 81
        }
      },
      "outputs": [
        {
          "output_type": "execute_result",
          "data": {
            "text/plain": [
              "     A    B    C    D\n",
              "0  1.0  2.0  3.0  4.0"
            ],
            "text/html": [
              "\n",
              "  <div id=\"df-2196925c-5b8f-4917-9853-002a6305ec34\">\n",
              "    <div class=\"colab-df-container\">\n",
              "      <div>\n",
              "<style scoped>\n",
              "    .dataframe tbody tr th:only-of-type {\n",
              "        vertical-align: middle;\n",
              "    }\n",
              "\n",
              "    .dataframe tbody tr th {\n",
              "        vertical-align: top;\n",
              "    }\n",
              "\n",
              "    .dataframe thead th {\n",
              "        text-align: right;\n",
              "    }\n",
              "</style>\n",
              "<table border=\"1\" class=\"dataframe\">\n",
              "  <thead>\n",
              "    <tr style=\"text-align: right;\">\n",
              "      <th></th>\n",
              "      <th>A</th>\n",
              "      <th>B</th>\n",
              "      <th>C</th>\n",
              "      <th>D</th>\n",
              "    </tr>\n",
              "  </thead>\n",
              "  <tbody>\n",
              "    <tr>\n",
              "      <th>0</th>\n",
              "      <td>1.0</td>\n",
              "      <td>2.0</td>\n",
              "      <td>3.0</td>\n",
              "      <td>4.0</td>\n",
              "    </tr>\n",
              "  </tbody>\n",
              "</table>\n",
              "</div>\n",
              "      <button class=\"colab-df-convert\" onclick=\"convertToInteractive('df-2196925c-5b8f-4917-9853-002a6305ec34')\"\n",
              "              title=\"Convert this dataframe to an interactive table.\"\n",
              "              style=\"display:none;\">\n",
              "        \n",
              "  <svg xmlns=\"http://www.w3.org/2000/svg\" height=\"24px\"viewBox=\"0 0 24 24\"\n",
              "       width=\"24px\">\n",
              "    <path d=\"M0 0h24v24H0V0z\" fill=\"none\"/>\n",
              "    <path d=\"M18.56 5.44l.94 2.06.94-2.06 2.06-.94-2.06-.94-.94-2.06-.94 2.06-2.06.94zm-11 1L8.5 8.5l.94-2.06 2.06-.94-2.06-.94L8.5 2.5l-.94 2.06-2.06.94zm10 10l.94 2.06.94-2.06 2.06-.94-2.06-.94-.94-2.06-.94 2.06-2.06.94z\"/><path d=\"M17.41 7.96l-1.37-1.37c-.4-.4-.92-.59-1.43-.59-.52 0-1.04.2-1.43.59L10.3 9.45l-7.72 7.72c-.78.78-.78 2.05 0 2.83L4 21.41c.39.39.9.59 1.41.59.51 0 1.02-.2 1.41-.59l7.78-7.78 2.81-2.81c.8-.78.8-2.07 0-2.86zM5.41 20L4 18.59l7.72-7.72 1.47 1.35L5.41 20z\"/>\n",
              "  </svg>\n",
              "      </button>\n",
              "      \n",
              "  <style>\n",
              "    .colab-df-container {\n",
              "      display:flex;\n",
              "      flex-wrap:wrap;\n",
              "      gap: 12px;\n",
              "    }\n",
              "\n",
              "    .colab-df-convert {\n",
              "      background-color: #E8F0FE;\n",
              "      border: none;\n",
              "      border-radius: 50%;\n",
              "      cursor: pointer;\n",
              "      display: none;\n",
              "      fill: #1967D2;\n",
              "      height: 32px;\n",
              "      padding: 0 0 0 0;\n",
              "      width: 32px;\n",
              "    }\n",
              "\n",
              "    .colab-df-convert:hover {\n",
              "      background-color: #E2EBFA;\n",
              "      box-shadow: 0px 1px 2px rgba(60, 64, 67, 0.3), 0px 1px 3px 1px rgba(60, 64, 67, 0.15);\n",
              "      fill: #174EA6;\n",
              "    }\n",
              "\n",
              "    [theme=dark] .colab-df-convert {\n",
              "      background-color: #3B4455;\n",
              "      fill: #D2E3FC;\n",
              "    }\n",
              "\n",
              "    [theme=dark] .colab-df-convert:hover {\n",
              "      background-color: #434B5C;\n",
              "      box-shadow: 0px 1px 3px 1px rgba(0, 0, 0, 0.15);\n",
              "      filter: drop-shadow(0px 1px 2px rgba(0, 0, 0, 0.3));\n",
              "      fill: #FFFFFF;\n",
              "    }\n",
              "  </style>\n",
              "\n",
              "      <script>\n",
              "        const buttonEl =\n",
              "          document.querySelector('#df-2196925c-5b8f-4917-9853-002a6305ec34 button.colab-df-convert');\n",
              "        buttonEl.style.display =\n",
              "          google.colab.kernel.accessAllowed ? 'block' : 'none';\n",
              "\n",
              "        async function convertToInteractive(key) {\n",
              "          const element = document.querySelector('#df-2196925c-5b8f-4917-9853-002a6305ec34');\n",
              "          const dataTable =\n",
              "            await google.colab.kernel.invokeFunction('convertToInteractive',\n",
              "                                                     [key], {});\n",
              "          if (!dataTable) return;\n",
              "\n",
              "          const docLinkHtml = 'Like what you see? Visit the ' +\n",
              "            '<a target=\"_blank\" href=https://colab.research.google.com/notebooks/data_table.ipynb>data table notebook</a>'\n",
              "            + ' to learn more about interactive tables.';\n",
              "          element.innerHTML = '';\n",
              "          dataTable['output_type'] = 'display_data';\n",
              "          await google.colab.output.renderOutput(dataTable, element);\n",
              "          const docLink = document.createElement('div');\n",
              "          docLink.innerHTML = docLinkHtml;\n",
              "          element.appendChild(docLink);\n",
              "        }\n",
              "      </script>\n",
              "    </div>\n",
              "  </div>\n",
              "  "
            ]
          },
          "metadata": {},
          "execution_count": 39
        }
      ],
      "source": [
        "# drop rows with missing values:\n",
        "\n",
        "df.dropna(axis=0)"
      ],
      "id": "59adf575-22fc-489a-aa62-5a37b18eb869"
    },
    {
      "cell_type": "code",
      "execution_count": 40,
      "metadata": {
        "id": "bd84c7c1-5118-4533-895f-547e7a054594",
        "outputId": "a4d6f0bd-b7ad-4693-d61d-7ca3d5308e50",
        "colab": {
          "base_uri": "https://localhost:8080/",
          "height": 143
        }
      },
      "outputs": [
        {
          "output_type": "execute_result",
          "data": {
            "text/plain": [
              "      A     B\n",
              "0   1.0   2.0\n",
              "1   5.0   6.0\n",
              "2  10.0  11.0"
            ],
            "text/html": [
              "\n",
              "  <div id=\"df-eec0bdd6-40a0-4ade-8f27-f9256d299b88\">\n",
              "    <div class=\"colab-df-container\">\n",
              "      <div>\n",
              "<style scoped>\n",
              "    .dataframe tbody tr th:only-of-type {\n",
              "        vertical-align: middle;\n",
              "    }\n",
              "\n",
              "    .dataframe tbody tr th {\n",
              "        vertical-align: top;\n",
              "    }\n",
              "\n",
              "    .dataframe thead th {\n",
              "        text-align: right;\n",
              "    }\n",
              "</style>\n",
              "<table border=\"1\" class=\"dataframe\">\n",
              "  <thead>\n",
              "    <tr style=\"text-align: right;\">\n",
              "      <th></th>\n",
              "      <th>A</th>\n",
              "      <th>B</th>\n",
              "    </tr>\n",
              "  </thead>\n",
              "  <tbody>\n",
              "    <tr>\n",
              "      <th>0</th>\n",
              "      <td>1.0</td>\n",
              "      <td>2.0</td>\n",
              "    </tr>\n",
              "    <tr>\n",
              "      <th>1</th>\n",
              "      <td>5.0</td>\n",
              "      <td>6.0</td>\n",
              "    </tr>\n",
              "    <tr>\n",
              "      <th>2</th>\n",
              "      <td>10.0</td>\n",
              "      <td>11.0</td>\n",
              "    </tr>\n",
              "  </tbody>\n",
              "</table>\n",
              "</div>\n",
              "      <button class=\"colab-df-convert\" onclick=\"convertToInteractive('df-eec0bdd6-40a0-4ade-8f27-f9256d299b88')\"\n",
              "              title=\"Convert this dataframe to an interactive table.\"\n",
              "              style=\"display:none;\">\n",
              "        \n",
              "  <svg xmlns=\"http://www.w3.org/2000/svg\" height=\"24px\"viewBox=\"0 0 24 24\"\n",
              "       width=\"24px\">\n",
              "    <path d=\"M0 0h24v24H0V0z\" fill=\"none\"/>\n",
              "    <path d=\"M18.56 5.44l.94 2.06.94-2.06 2.06-.94-2.06-.94-.94-2.06-.94 2.06-2.06.94zm-11 1L8.5 8.5l.94-2.06 2.06-.94-2.06-.94L8.5 2.5l-.94 2.06-2.06.94zm10 10l.94 2.06.94-2.06 2.06-.94-2.06-.94-.94-2.06-.94 2.06-2.06.94z\"/><path d=\"M17.41 7.96l-1.37-1.37c-.4-.4-.92-.59-1.43-.59-.52 0-1.04.2-1.43.59L10.3 9.45l-7.72 7.72c-.78.78-.78 2.05 0 2.83L4 21.41c.39.39.9.59 1.41.59.51 0 1.02-.2 1.41-.59l7.78-7.78 2.81-2.81c.8-.78.8-2.07 0-2.86zM5.41 20L4 18.59l7.72-7.72 1.47 1.35L5.41 20z\"/>\n",
              "  </svg>\n",
              "      </button>\n",
              "      \n",
              "  <style>\n",
              "    .colab-df-container {\n",
              "      display:flex;\n",
              "      flex-wrap:wrap;\n",
              "      gap: 12px;\n",
              "    }\n",
              "\n",
              "    .colab-df-convert {\n",
              "      background-color: #E8F0FE;\n",
              "      border: none;\n",
              "      border-radius: 50%;\n",
              "      cursor: pointer;\n",
              "      display: none;\n",
              "      fill: #1967D2;\n",
              "      height: 32px;\n",
              "      padding: 0 0 0 0;\n",
              "      width: 32px;\n",
              "    }\n",
              "\n",
              "    .colab-df-convert:hover {\n",
              "      background-color: #E2EBFA;\n",
              "      box-shadow: 0px 1px 2px rgba(60, 64, 67, 0.3), 0px 1px 3px 1px rgba(60, 64, 67, 0.15);\n",
              "      fill: #174EA6;\n",
              "    }\n",
              "\n",
              "    [theme=dark] .colab-df-convert {\n",
              "      background-color: #3B4455;\n",
              "      fill: #D2E3FC;\n",
              "    }\n",
              "\n",
              "    [theme=dark] .colab-df-convert:hover {\n",
              "      background-color: #434B5C;\n",
              "      box-shadow: 0px 1px 3px 1px rgba(0, 0, 0, 0.15);\n",
              "      filter: drop-shadow(0px 1px 2px rgba(0, 0, 0, 0.3));\n",
              "      fill: #FFFFFF;\n",
              "    }\n",
              "  </style>\n",
              "\n",
              "      <script>\n",
              "        const buttonEl =\n",
              "          document.querySelector('#df-eec0bdd6-40a0-4ade-8f27-f9256d299b88 button.colab-df-convert');\n",
              "        buttonEl.style.display =\n",
              "          google.colab.kernel.accessAllowed ? 'block' : 'none';\n",
              "\n",
              "        async function convertToInteractive(key) {\n",
              "          const element = document.querySelector('#df-eec0bdd6-40a0-4ade-8f27-f9256d299b88');\n",
              "          const dataTable =\n",
              "            await google.colab.kernel.invokeFunction('convertToInteractive',\n",
              "                                                     [key], {});\n",
              "          if (!dataTable) return;\n",
              "\n",
              "          const docLinkHtml = 'Like what you see? Visit the ' +\n",
              "            '<a target=\"_blank\" href=https://colab.research.google.com/notebooks/data_table.ipynb>data table notebook</a>'\n",
              "            + ' to learn more about interactive tables.';\n",
              "          element.innerHTML = '';\n",
              "          dataTable['output_type'] = 'display_data';\n",
              "          await google.colab.output.renderOutput(dataTable, element);\n",
              "          const docLink = document.createElement('div');\n",
              "          docLink.innerHTML = docLinkHtml;\n",
              "          element.appendChild(docLink);\n",
              "        }\n",
              "      </script>\n",
              "    </div>\n",
              "  </div>\n",
              "  "
            ]
          },
          "metadata": {},
          "execution_count": 40
        }
      ],
      "source": [
        "# drop columns with missing values:\n",
        "\n",
        "df.dropna(axis=1)"
      ],
      "id": "bd84c7c1-5118-4533-895f-547e7a054594"
    },
    {
      "cell_type": "code",
      "execution_count": 41,
      "metadata": {
        "id": "742169ca-cae4-4a9b-a149-5041497e661f",
        "outputId": "f194b81e-6bbe-418e-eced-16ba4ba33749",
        "colab": {
          "base_uri": "https://localhost:8080/",
          "height": 143
        }
      },
      "outputs": [
        {
          "output_type": "execute_result",
          "data": {
            "text/plain": [
              "      A     B     C    D\n",
              "0   1.0   2.0   3.0  4.0\n",
              "1   5.0   6.0   NaN  8.0\n",
              "2  10.0  11.0  12.0  NaN"
            ],
            "text/html": [
              "\n",
              "  <div id=\"df-9f508d53-4ec5-4086-9bb5-ccbf99f23e4d\">\n",
              "    <div class=\"colab-df-container\">\n",
              "      <div>\n",
              "<style scoped>\n",
              "    .dataframe tbody tr th:only-of-type {\n",
              "        vertical-align: middle;\n",
              "    }\n",
              "\n",
              "    .dataframe tbody tr th {\n",
              "        vertical-align: top;\n",
              "    }\n",
              "\n",
              "    .dataframe thead th {\n",
              "        text-align: right;\n",
              "    }\n",
              "</style>\n",
              "<table border=\"1\" class=\"dataframe\">\n",
              "  <thead>\n",
              "    <tr style=\"text-align: right;\">\n",
              "      <th></th>\n",
              "      <th>A</th>\n",
              "      <th>B</th>\n",
              "      <th>C</th>\n",
              "      <th>D</th>\n",
              "    </tr>\n",
              "  </thead>\n",
              "  <tbody>\n",
              "    <tr>\n",
              "      <th>0</th>\n",
              "      <td>1.0</td>\n",
              "      <td>2.0</td>\n",
              "      <td>3.0</td>\n",
              "      <td>4.0</td>\n",
              "    </tr>\n",
              "    <tr>\n",
              "      <th>1</th>\n",
              "      <td>5.0</td>\n",
              "      <td>6.0</td>\n",
              "      <td>NaN</td>\n",
              "      <td>8.0</td>\n",
              "    </tr>\n",
              "    <tr>\n",
              "      <th>2</th>\n",
              "      <td>10.0</td>\n",
              "      <td>11.0</td>\n",
              "      <td>12.0</td>\n",
              "      <td>NaN</td>\n",
              "    </tr>\n",
              "  </tbody>\n",
              "</table>\n",
              "</div>\n",
              "      <button class=\"colab-df-convert\" onclick=\"convertToInteractive('df-9f508d53-4ec5-4086-9bb5-ccbf99f23e4d')\"\n",
              "              title=\"Convert this dataframe to an interactive table.\"\n",
              "              style=\"display:none;\">\n",
              "        \n",
              "  <svg xmlns=\"http://www.w3.org/2000/svg\" height=\"24px\"viewBox=\"0 0 24 24\"\n",
              "       width=\"24px\">\n",
              "    <path d=\"M0 0h24v24H0V0z\" fill=\"none\"/>\n",
              "    <path d=\"M18.56 5.44l.94 2.06.94-2.06 2.06-.94-2.06-.94-.94-2.06-.94 2.06-2.06.94zm-11 1L8.5 8.5l.94-2.06 2.06-.94-2.06-.94L8.5 2.5l-.94 2.06-2.06.94zm10 10l.94 2.06.94-2.06 2.06-.94-2.06-.94-.94-2.06-.94 2.06-2.06.94z\"/><path d=\"M17.41 7.96l-1.37-1.37c-.4-.4-.92-.59-1.43-.59-.52 0-1.04.2-1.43.59L10.3 9.45l-7.72 7.72c-.78.78-.78 2.05 0 2.83L4 21.41c.39.39.9.59 1.41.59.51 0 1.02-.2 1.41-.59l7.78-7.78 2.81-2.81c.8-.78.8-2.07 0-2.86zM5.41 20L4 18.59l7.72-7.72 1.47 1.35L5.41 20z\"/>\n",
              "  </svg>\n",
              "      </button>\n",
              "      \n",
              "  <style>\n",
              "    .colab-df-container {\n",
              "      display:flex;\n",
              "      flex-wrap:wrap;\n",
              "      gap: 12px;\n",
              "    }\n",
              "\n",
              "    .colab-df-convert {\n",
              "      background-color: #E8F0FE;\n",
              "      border: none;\n",
              "      border-radius: 50%;\n",
              "      cursor: pointer;\n",
              "      display: none;\n",
              "      fill: #1967D2;\n",
              "      height: 32px;\n",
              "      padding: 0 0 0 0;\n",
              "      width: 32px;\n",
              "    }\n",
              "\n",
              "    .colab-df-convert:hover {\n",
              "      background-color: #E2EBFA;\n",
              "      box-shadow: 0px 1px 2px rgba(60, 64, 67, 0.3), 0px 1px 3px 1px rgba(60, 64, 67, 0.15);\n",
              "      fill: #174EA6;\n",
              "    }\n",
              "\n",
              "    [theme=dark] .colab-df-convert {\n",
              "      background-color: #3B4455;\n",
              "      fill: #D2E3FC;\n",
              "    }\n",
              "\n",
              "    [theme=dark] .colab-df-convert:hover {\n",
              "      background-color: #434B5C;\n",
              "      box-shadow: 0px 1px 3px 1px rgba(0, 0, 0, 0.15);\n",
              "      filter: drop-shadow(0px 1px 2px rgba(0, 0, 0, 0.3));\n",
              "      fill: #FFFFFF;\n",
              "    }\n",
              "  </style>\n",
              "\n",
              "      <script>\n",
              "        const buttonEl =\n",
              "          document.querySelector('#df-9f508d53-4ec5-4086-9bb5-ccbf99f23e4d button.colab-df-convert');\n",
              "        buttonEl.style.display =\n",
              "          google.colab.kernel.accessAllowed ? 'block' : 'none';\n",
              "\n",
              "        async function convertToInteractive(key) {\n",
              "          const element = document.querySelector('#df-9f508d53-4ec5-4086-9bb5-ccbf99f23e4d');\n",
              "          const dataTable =\n",
              "            await google.colab.kernel.invokeFunction('convertToInteractive',\n",
              "                                                     [key], {});\n",
              "          if (!dataTable) return;\n",
              "\n",
              "          const docLinkHtml = 'Like what you see? Visit the ' +\n",
              "            '<a target=\"_blank\" href=https://colab.research.google.com/notebooks/data_table.ipynb>data table notebook</a>'\n",
              "            + ' to learn more about interactive tables.';\n",
              "          element.innerHTML = '';\n",
              "          dataTable['output_type'] = 'display_data';\n",
              "          await google.colab.output.renderOutput(dataTable, element);\n",
              "          const docLink = document.createElement('div');\n",
              "          docLink.innerHTML = docLinkHtml;\n",
              "          element.appendChild(docLink);\n",
              "        }\n",
              "      </script>\n",
              "    </div>\n",
              "  </div>\n",
              "  "
            ]
          },
          "metadata": {},
          "execution_count": 41
        }
      ],
      "source": [
        "df"
      ],
      "id": "742169ca-cae4-4a9b-a149-5041497e661f"
    },
    {
      "cell_type": "code",
      "execution_count": 42,
      "metadata": {
        "id": "7102ea49-919d-468c-9532-4a2825ac78fc",
        "outputId": "88924b8e-8b2c-494a-98b8-b1b24b35149b",
        "colab": {
          "base_uri": "https://localhost:8080/"
        }
      },
      "outputs": [
        {
          "output_type": "execute_result",
          "data": {
            "text/plain": [
              "array([[ 1. ,  2. ,  3. ,  4. ],\n",
              "       [ 5. ,  6. ,  7.5,  8. ],\n",
              "       [10. , 11. , 12. ,  6. ]])"
            ]
          },
          "metadata": {},
          "execution_count": 42
        }
      ],
      "source": [
        "from sklearn.impute import SimpleImputer\n",
        "\n",
        "\n",
        "imputer = SimpleImputer(missing_values=np.nan, strategy='mean')\n",
        "X = df.values\n",
        "X = imputer.fit_transform(df.values)\n",
        "X"
      ],
      "id": "7102ea49-919d-468c-9532-4a2825ac78fc"
    },
    {
      "cell_type": "markdown",
      "metadata": {
        "id": "1c439a7b-e8c5-402c-af01-3c92c1fb0bd5"
      },
      "source": [
        "- Check https://scikit-learn.org/stable/modules/impute.html for additional imputation techniques, including the KNNImputer based on a k-Nearest Neighbor approach to impute missing features by nearest neighbors"
      ],
      "id": "1c439a7b-e8c5-402c-af01-3c92c1fb0bd5"
    },
    {
      "cell_type": "markdown",
      "metadata": {
        "tags": [],
        "id": "iEK91PuCH2cT"
      },
      "source": [
        "# 5.4 Scikit-Learn Pipelines"
      ],
      "id": "iEK91PuCH2cT"
    },
    {
      "cell_type": "code",
      "execution_count": 44,
      "metadata": {
        "id": "202cc3ae-b00b-40db-b936-c151fdaf66ae",
        "outputId": "b1d7778d-8ae4-4041-c3c9-a67057c16940",
        "colab": {
          "base_uri": "https://localhost:8080/"
        }
      },
      "outputs": [
        {
          "output_type": "stream",
          "name": "stdout",
          "text": [
            "Train size (96, 4) class proportions [32 32 32]\n",
            "Valid size (24, 4) class proportions [8 8 8]\n",
            "Test size (30, 4) class proportions [10 10 10]\n"
          ]
        }
      ],
      "source": [
        "# Repeating iris data codes\n",
        "\n",
        "import pandas as pd\n",
        "import numpy as np\n",
        "from sklearn.model_selection import train_test_split\n",
        "\n",
        "\n",
        "\n",
        "df = pd.read_csv('iris.csv')\n",
        "\n",
        "d = {'Iris-setosa': 0,\n",
        "     'Iris-versicolor': 1,\n",
        "     'Iris-virginica': 2}\n",
        "df['Species'] = df['Species'].map(d)\n",
        "\n",
        "X = df.iloc[:, 1:5].values\n",
        "y = df['Species'].values\n",
        "\n",
        "\n",
        "X_temp, X_test, y_temp, y_test = train_test_split(X, y, test_size=0.2, \n",
        "                         shuffle=True, random_state=123, stratify=y)\n",
        "\n",
        "X_train, X_valid, y_train, y_valid = train_test_split(X_temp, y_temp, test_size=0.2,\n",
        "                         shuffle=True, random_state=123, stratify=y_temp)\n",
        "\n",
        "print('Train size', X_train.shape, 'class proportions', np.bincount(y_train))\n",
        "print('Valid size', X_valid.shape, 'class proportions', np.bincount(y_valid))\n",
        "print('Test size', X_test.shape, 'class proportions', np.bincount(y_test))"
      ],
      "id": "202cc3ae-b00b-40db-b936-c151fdaf66ae"
    },
    {
      "cell_type": "markdown",
      "metadata": {
        "id": "b142243f-fd24-45d9-bde2-a35b1573f0ca"
      },
      "source": [
        "## Feature Transformation, Extraction, and Selection"
      ],
      "id": "b142243f-fd24-45d9-bde2-a35b1573f0ca"
    },
    {
      "cell_type": "markdown",
      "metadata": {
        "id": "5e62b8a6-1740-413c-a2fc-e570481c42a8"
      },
      "source": [
        "We have already covered very simple cases of feature transformation, i.e., normalization, that is, min-max scaling and standardization. There are many other cases, but an extensive coverage of feature preprocessing is beyond the scope of a machine learning class. However, we will will look at some popular feature selection (sequential feature selection) and feature extraction (e.g., principal component analysis) techniques later in this course."
      ],
      "id": "5e62b8a6-1740-413c-a2fc-e570481c42a8"
    },
    {
      "cell_type": "markdown",
      "metadata": {
        "id": "397cb733-fb3a-4e1a-9434-466350964dc6"
      },
      "source": [
        "## Scikit-Learn Pipelines"
      ],
      "id": "397cb733-fb3a-4e1a-9434-466350964dc6"
    },
    {
      "cell_type": "markdown",
      "metadata": {
        "id": "74d28a31-fa6a-4d51-b90c-90d4fb2f57c1"
      },
      "source": [
        "- Scikit-learn pipelines are an extremely convenient and powerful concept -- one of the things that sets scikit-learn apart from other machine learning libraries.\n",
        "- Pipelines basically let us define a series of perprocessing steps together with fitting an estimator.\n",
        "- Pipelines will automatically take care of pitfalls like estimating feature scaling parameters from the training set and applying those to scale new data (which we discussed earlier in the context of z-score standardization).\n",
        "- Below is an visualization of how pipelines work."
      ],
      "id": "74d28a31-fa6a-4d51-b90c-90d4fb2f57c1"
    },
    {
      "cell_type": "markdown",
      "metadata": {
        "id": "ee462d38-9bc2-44a8-88a1-ec1ef4c5e57e"
      },
      "source": [
        "- Below is an example pipeline that combines the feature scaling step with the *k*NN classifier."
      ],
      "id": "ee462d38-9bc2-44a8-88a1-ec1ef4c5e57e"
    },
    {
      "cell_type": "code",
      "execution_count": 45,
      "metadata": {
        "id": "e39c1c30-f0d9-4e8c-a1d9-a18192871221"
      },
      "outputs": [],
      "source": [
        "from sklearn.pipeline import make_pipeline\n",
        "from sklearn.preprocessing import StandardScaler\n",
        "from sklearn.neighbors import KNeighborsClassifier\n",
        "\n",
        "\n",
        "pipe = make_pipeline(StandardScaler(),\n",
        "                     KNeighborsClassifier(n_neighbors=3))"
      ],
      "id": "e39c1c30-f0d9-4e8c-a1d9-a18192871221"
    },
    {
      "cell_type": "code",
      "execution_count": 46,
      "metadata": {
        "id": "b45f5165-69ab-4815-8679-f07912c464e9",
        "outputId": "7cef9d71-741f-4cd6-e6da-b074119ed4dd",
        "colab": {
          "base_uri": "https://localhost:8080/"
        }
      },
      "outputs": [
        {
          "output_type": "execute_result",
          "data": {
            "text/plain": [
              "Pipeline(steps=[('standardscaler', StandardScaler()),\n",
              "                ('kneighborsclassifier', KNeighborsClassifier(n_neighbors=3))])"
            ]
          },
          "metadata": {},
          "execution_count": 46
        }
      ],
      "source": [
        "pipe"
      ],
      "id": "b45f5165-69ab-4815-8679-f07912c464e9"
    },
    {
      "cell_type": "code",
      "execution_count": 47,
      "metadata": {
        "id": "0a59fb47-9c46-47b7-8ef4-ad933c83c402",
        "outputId": "926dd75b-863e-4567-acd2-71a6dad3e74e",
        "colab": {
          "base_uri": "https://localhost:8080/"
        }
      },
      "outputs": [
        {
          "output_type": "execute_result",
          "data": {
            "text/plain": [
              "array([1, 0, 2, 2, 0, 0, 2, 1, 2, 0, 0, 2, 2, 1, 2, 1, 0, 0, 0, 0, 0, 2,\n",
              "       2, 1, 2, 2, 1, 1, 1, 1])"
            ]
          },
          "metadata": {},
          "execution_count": 47
        }
      ],
      "source": [
        "pipe.fit(X_train, y_train)\n",
        "pipe.predict(X_test)"
      ],
      "id": "0a59fb47-9c46-47b7-8ef4-ad933c83c402"
    },
    {
      "cell_type": "markdown",
      "metadata": {
        "id": "a6acd616-cc74-43ea-a734-bb55bdc0fc67"
      },
      "source": [
        "- As you can see above, the Pipeline itself follows the scikit-learn estimator API."
      ],
      "id": "a6acd616-cc74-43ea-a734-bb55bdc0fc67"
    },
    {
      "cell_type": "markdown",
      "metadata": {
        "id": "e4b1cff6-f682-46e0-b78a-e72b162030f7"
      },
      "source": [
        "(Also see the [FunctionTransformer](http://scikit-learn.org/stable/modules/generated/sklearn.preprocessing.FunctionTransformer.html) in scikit-learn, which allows creating a transformer class from an arbitrary callable or function.)"
      ],
      "id": "e4b1cff6-f682-46e0-b78a-e72b162030f7"
    },
    {
      "cell_type": "markdown",
      "metadata": {
        "id": "9bb6b3ca-39f1-467e-9712-dca99fab5429"
      },
      "source": [
        "## Intro Model Selection -- Pipelines and Grid Search"
      ],
      "id": "9bb6b3ca-39f1-467e-9712-dca99fab5429"
    },
    {
      "cell_type": "markdown",
      "metadata": {
        "id": "8a579d86-b8fa-4ad1-b2e8-cb887eb335ba"
      },
      "source": [
        "- In machine learning practice, we often need to experiment with an machine learning algorithm's hyperparameters to find a good setting.\n",
        "- The process of tuning hyperparameters and comparing and selecting the resulting models is also called \"model selection\" (in contrast to \"algorithm selection\").\n",
        "- We will cover topics such as \"model selection\" and \"algorithm selection\" in more detail later in this course.\n",
        "- For now, we are introducing the simplest way of performing model selection: using the \"holdout method.\"\n",
        "- In the holdout method, we split a dataset into 3 subsets: a training, a validation, and a test datatset.\n",
        "- To avoid biasing the estimate of the generalization performance, we only want to use the test dataset once, which is why we use the validation dataset for hyperparameter tuning (model selection).\n",
        "- Here, the validation dataset serves as an estimate of the generalization performance, too, but it becomes more biased than the final estimate on the test data because of its repeated re-use during model selection (think of \"multiple hypothesis testing\").\n"
      ],
      "id": "8a579d86-b8fa-4ad1-b2e8-cb887eb335ba"
    },
    {
      "cell_type": "code",
      "execution_count": 48,
      "metadata": {
        "id": "77a5a25e-5d95-4387-ad00-46601aa2e8ff",
        "outputId": "ad5ac4fa-0405-419d-d6b9-45bd4a4bed7e",
        "colab": {
          "base_uri": "https://localhost:8080/"
        }
      },
      "outputs": [
        {
          "output_type": "execute_result",
          "data": {
            "text/plain": [
              "GridSearchCV(cv=<mlxtend.evaluate.holdout.PredefinedHoldoutSplit object at 0x7f43eb8b94f0>,\n",
              "             estimator=Pipeline(steps=[('standardscaler', StandardScaler()),\n",
              "                                       ('kneighborsclassifier',\n",
              "                                        KNeighborsClassifier())]),\n",
              "             param_grid={'kneighborsclassifier__n_neighbors': [1, 3, 5],\n",
              "                         'kneighborsclassifier__p': [1, 2]})"
            ]
          },
          "metadata": {},
          "execution_count": 48
        }
      ],
      "source": [
        "from sklearn.model_selection import GridSearchCV\n",
        "from mlxtend.evaluate import PredefinedHoldoutSplit\n",
        "from sklearn.pipeline import make_pipeline\n",
        "\n",
        "\n",
        "train_ind, valid_ind = train_test_split(np.arange(X_train.shape[0]),\n",
        "                                        test_size=0.2, shuffle=True,\n",
        "                                        random_state=0, stratify=y_train)\n",
        "\n",
        "pipe = make_pipeline(StandardScaler(),\n",
        "                     KNeighborsClassifier())\n",
        "\n",
        "params = {'kneighborsclassifier__n_neighbors': [1, 3, 5],\n",
        "          'kneighborsclassifier__p': [1, 2]}\n",
        "\n",
        "split = PredefinedHoldoutSplit(valid_indices=valid_ind)\n",
        "\n",
        "grid = GridSearchCV(pipe,\n",
        "                    param_grid=params,\n",
        "                    cv=split)\n",
        "\n",
        "grid.fit(X_train, y_train)"
      ],
      "id": "77a5a25e-5d95-4387-ad00-46601aa2e8ff"
    },
    {
      "cell_type": "code",
      "execution_count": 49,
      "metadata": {
        "id": "c527f342-2ccc-4849-946f-416906692d21",
        "outputId": "91e545c7-4be1-42de-ad00-52b887f65698",
        "colab": {
          "base_uri": "https://localhost:8080/"
        }
      },
      "outputs": [
        {
          "output_type": "execute_result",
          "data": {
            "text/plain": [
              "{'mean_fit_time': array([0.00103474, 0.00077438, 0.00092888, 0.00074029, 0.00073791,\n",
              "        0.0007205 ]),\n",
              " 'std_fit_time': array([0., 0., 0., 0., 0., 0.]),\n",
              " 'mean_score_time': array([0.00128174, 0.00103855, 0.00121498, 0.00100875, 0.00100565,\n",
              "        0.00100255]),\n",
              " 'std_score_time': array([0., 0., 0., 0., 0., 0.]),\n",
              " 'param_kneighborsclassifier__n_neighbors': masked_array(data=[1, 1, 3, 3, 5, 5],\n",
              "              mask=[False, False, False, False, False, False],\n",
              "        fill_value='?',\n",
              "             dtype=object),\n",
              " 'param_kneighborsclassifier__p': masked_array(data=[1, 2, 1, 2, 1, 2],\n",
              "              mask=[False, False, False, False, False, False],\n",
              "        fill_value='?',\n",
              "             dtype=object),\n",
              " 'params': [{'kneighborsclassifier__n_neighbors': 1,\n",
              "   'kneighborsclassifier__p': 1},\n",
              "  {'kneighborsclassifier__n_neighbors': 1, 'kneighborsclassifier__p': 2},\n",
              "  {'kneighborsclassifier__n_neighbors': 3, 'kneighborsclassifier__p': 1},\n",
              "  {'kneighborsclassifier__n_neighbors': 3, 'kneighborsclassifier__p': 2},\n",
              "  {'kneighborsclassifier__n_neighbors': 5, 'kneighborsclassifier__p': 1},\n",
              "  {'kneighborsclassifier__n_neighbors': 5, 'kneighborsclassifier__p': 2}],\n",
              " 'split0_test_score': array([0.95, 0.95, 1.  , 1.  , 0.95, 0.95]),\n",
              " 'mean_test_score': array([0.95, 0.95, 1.  , 1.  , 0.95, 0.95]),\n",
              " 'std_test_score': array([0., 0., 0., 0., 0., 0.]),\n",
              " 'rank_test_score': array([3, 3, 1, 1, 3, 3], dtype=int32)}"
            ]
          },
          "metadata": {},
          "execution_count": 49
        }
      ],
      "source": [
        "grid.cv_results_"
      ],
      "id": "c527f342-2ccc-4849-946f-416906692d21"
    },
    {
      "cell_type": "code",
      "execution_count": 50,
      "metadata": {
        "id": "c124ced7-2fd0-4d6d-97e1-a6772dd45c46",
        "outputId": "56fc82a6-a6ff-4443-b68e-6661e373e2dd",
        "colab": {
          "base_uri": "https://localhost:8080/"
        }
      },
      "outputs": [
        {
          "output_type": "stream",
          "name": "stdout",
          "text": [
            "{'kneighborsclassifier__n_neighbors': 1, 'kneighborsclassifier__p': 1} 0.95\n",
            "{'kneighborsclassifier__n_neighbors': 1, 'kneighborsclassifier__p': 2} 0.95\n",
            "{'kneighborsclassifier__n_neighbors': 3, 'kneighborsclassifier__p': 1} 1.0\n",
            "{'kneighborsclassifier__n_neighbors': 3, 'kneighborsclassifier__p': 2} 1.0\n",
            "{'kneighborsclassifier__n_neighbors': 5, 'kneighborsclassifier__p': 1} 0.95\n",
            "{'kneighborsclassifier__n_neighbors': 5, 'kneighborsclassifier__p': 2} 0.95\n"
          ]
        }
      ],
      "source": [
        "for i,j in zip(grid.cv_results_['params'], grid.cv_results_['mean_test_score']):\n",
        "    print(i, j)"
      ],
      "id": "c124ced7-2fd0-4d6d-97e1-a6772dd45c46"
    },
    {
      "cell_type": "code",
      "execution_count": 51,
      "metadata": {
        "id": "2465a996-4008-417e-8a55-a0c2af663f69",
        "outputId": "1fb25e5b-5ae9-4a53-baf0-0d3b4a5495d7",
        "colab": {
          "base_uri": "https://localhost:8080/"
        }
      },
      "outputs": [
        {
          "output_type": "stream",
          "name": "stdout",
          "text": [
            "1.0\n",
            "{'kneighborsclassifier__n_neighbors': 3, 'kneighborsclassifier__p': 1}\n"
          ]
        }
      ],
      "source": [
        "print(grid.best_score_)\n",
        "print(grid.best_params_)"
      ],
      "id": "2465a996-4008-417e-8a55-a0c2af663f69"
    },
    {
      "cell_type": "code",
      "execution_count": 52,
      "metadata": {
        "id": "0411dd28-f289-4799-9296-7dc23a805063",
        "outputId": "cc74e06a-c43e-4d3d-9133-f9a4da306153",
        "colab": {
          "base_uri": "https://localhost:8080/"
        }
      },
      "outputs": [
        {
          "output_type": "stream",
          "name": "stdout",
          "text": [
            "Test accuracy: 93.33%\n"
          ]
        }
      ],
      "source": [
        "clf = grid.best_estimator_\n",
        "#clf.fit(X_train, y_train)\n",
        "print('Test accuracy: %.2f%%' % (clf.score(X_test, y_test)*100))"
      ],
      "id": "0411dd28-f289-4799-9296-7dc23a805063"
    },
    {
      "cell_type": "markdown",
      "metadata": {
        "tags": [],
        "id": "52e2aac8"
      },
      "source": [
        "# 5.5 Heterogeneous Datasets"
      ],
      "id": "52e2aac8"
    },
    {
      "cell_type": "code",
      "execution_count": 53,
      "metadata": {
        "id": "e303e954"
      },
      "outputs": [],
      "source": [
        "import pandas as pd\n",
        "from sklearn.preprocessing import StandardScaler\n",
        "from sklearn.preprocessing import OneHotEncoder\n",
        "from sklearn.neighbors import KNeighborsClassifier\n",
        "from sklearn.decomposition import PCA\n",
        "from sklearn.pipeline import Pipeline\n",
        "from sklearn.compose import ColumnTransformer\n",
        "from sklearn.model_selection import train_test_split"
      ],
      "id": "e303e954"
    },
    {
      "cell_type": "markdown",
      "metadata": {
        "id": "38616735"
      },
      "source": [
        "- Suppose you have a dataset that has both numerical and categorical features as follows: "
      ],
      "id": "38616735"
    },
    {
      "cell_type": "code",
      "execution_count": 54,
      "metadata": {
        "id": "60e49330",
        "outputId": "270f1192-cd99-4f82-baa2-4f8426515175",
        "colab": {
          "base_uri": "https://localhost:8080/",
          "height": 237
        }
      },
      "outputs": [
        {
          "output_type": "execute_result",
          "data": {
            "text/plain": [
              "    SepalLength[cm]  SepalWidth[cm]  PetalLength[cm]  PetalWidth[cm]  \\\n",
              "Id                                                                     \n",
              "1               5.1             3.5              1.4             0.2   \n",
              "2               4.9             3.0              1.4             0.2   \n",
              "3               4.7             3.2              1.3             0.2   \n",
              "4               4.6             3.1              1.5             0.2   \n",
              "5               5.0             3.6              1.4             0.2   \n",
              "\n",
              "   Color_IMadeThisUp      Species  \n",
              "Id                                 \n",
              "1                red  Iris-setosa  \n",
              "2                red  Iris-setosa  \n",
              "3                red  Iris-setosa  \n",
              "4                red  Iris-setosa  \n",
              "5                red  Iris-setosa  "
            ],
            "text/html": [
              "\n",
              "  <div id=\"df-d407b7b3-6ed4-4552-a92d-f27b30d04059\">\n",
              "    <div class=\"colab-df-container\">\n",
              "      <div>\n",
              "<style scoped>\n",
              "    .dataframe tbody tr th:only-of-type {\n",
              "        vertical-align: middle;\n",
              "    }\n",
              "\n",
              "    .dataframe tbody tr th {\n",
              "        vertical-align: top;\n",
              "    }\n",
              "\n",
              "    .dataframe thead th {\n",
              "        text-align: right;\n",
              "    }\n",
              "</style>\n",
              "<table border=\"1\" class=\"dataframe\">\n",
              "  <thead>\n",
              "    <tr style=\"text-align: right;\">\n",
              "      <th></th>\n",
              "      <th>SepalLength[cm]</th>\n",
              "      <th>SepalWidth[cm]</th>\n",
              "      <th>PetalLength[cm]</th>\n",
              "      <th>PetalWidth[cm]</th>\n",
              "      <th>Color_IMadeThisUp</th>\n",
              "      <th>Species</th>\n",
              "    </tr>\n",
              "    <tr>\n",
              "      <th>Id</th>\n",
              "      <th></th>\n",
              "      <th></th>\n",
              "      <th></th>\n",
              "      <th></th>\n",
              "      <th></th>\n",
              "      <th></th>\n",
              "    </tr>\n",
              "  </thead>\n",
              "  <tbody>\n",
              "    <tr>\n",
              "      <th>1</th>\n",
              "      <td>5.1</td>\n",
              "      <td>3.5</td>\n",
              "      <td>1.4</td>\n",
              "      <td>0.2</td>\n",
              "      <td>red</td>\n",
              "      <td>Iris-setosa</td>\n",
              "    </tr>\n",
              "    <tr>\n",
              "      <th>2</th>\n",
              "      <td>4.9</td>\n",
              "      <td>3.0</td>\n",
              "      <td>1.4</td>\n",
              "      <td>0.2</td>\n",
              "      <td>red</td>\n",
              "      <td>Iris-setosa</td>\n",
              "    </tr>\n",
              "    <tr>\n",
              "      <th>3</th>\n",
              "      <td>4.7</td>\n",
              "      <td>3.2</td>\n",
              "      <td>1.3</td>\n",
              "      <td>0.2</td>\n",
              "      <td>red</td>\n",
              "      <td>Iris-setosa</td>\n",
              "    </tr>\n",
              "    <tr>\n",
              "      <th>4</th>\n",
              "      <td>4.6</td>\n",
              "      <td>3.1</td>\n",
              "      <td>1.5</td>\n",
              "      <td>0.2</td>\n",
              "      <td>red</td>\n",
              "      <td>Iris-setosa</td>\n",
              "    </tr>\n",
              "    <tr>\n",
              "      <th>5</th>\n",
              "      <td>5.0</td>\n",
              "      <td>3.6</td>\n",
              "      <td>1.4</td>\n",
              "      <td>0.2</td>\n",
              "      <td>red</td>\n",
              "      <td>Iris-setosa</td>\n",
              "    </tr>\n",
              "  </tbody>\n",
              "</table>\n",
              "</div>\n",
              "      <button class=\"colab-df-convert\" onclick=\"convertToInteractive('df-d407b7b3-6ed4-4552-a92d-f27b30d04059')\"\n",
              "              title=\"Convert this dataframe to an interactive table.\"\n",
              "              style=\"display:none;\">\n",
              "        \n",
              "  <svg xmlns=\"http://www.w3.org/2000/svg\" height=\"24px\"viewBox=\"0 0 24 24\"\n",
              "       width=\"24px\">\n",
              "    <path d=\"M0 0h24v24H0V0z\" fill=\"none\"/>\n",
              "    <path d=\"M18.56 5.44l.94 2.06.94-2.06 2.06-.94-2.06-.94-.94-2.06-.94 2.06-2.06.94zm-11 1L8.5 8.5l.94-2.06 2.06-.94-2.06-.94L8.5 2.5l-.94 2.06-2.06.94zm10 10l.94 2.06.94-2.06 2.06-.94-2.06-.94-.94-2.06-.94 2.06-2.06.94z\"/><path d=\"M17.41 7.96l-1.37-1.37c-.4-.4-.92-.59-1.43-.59-.52 0-1.04.2-1.43.59L10.3 9.45l-7.72 7.72c-.78.78-.78 2.05 0 2.83L4 21.41c.39.39.9.59 1.41.59.51 0 1.02-.2 1.41-.59l7.78-7.78 2.81-2.81c.8-.78.8-2.07 0-2.86zM5.41 20L4 18.59l7.72-7.72 1.47 1.35L5.41 20z\"/>\n",
              "  </svg>\n",
              "      </button>\n",
              "      \n",
              "  <style>\n",
              "    .colab-df-container {\n",
              "      display:flex;\n",
              "      flex-wrap:wrap;\n",
              "      gap: 12px;\n",
              "    }\n",
              "\n",
              "    .colab-df-convert {\n",
              "      background-color: #E8F0FE;\n",
              "      border: none;\n",
              "      border-radius: 50%;\n",
              "      cursor: pointer;\n",
              "      display: none;\n",
              "      fill: #1967D2;\n",
              "      height: 32px;\n",
              "      padding: 0 0 0 0;\n",
              "      width: 32px;\n",
              "    }\n",
              "\n",
              "    .colab-df-convert:hover {\n",
              "      background-color: #E2EBFA;\n",
              "      box-shadow: 0px 1px 2px rgba(60, 64, 67, 0.3), 0px 1px 3px 1px rgba(60, 64, 67, 0.15);\n",
              "      fill: #174EA6;\n",
              "    }\n",
              "\n",
              "    [theme=dark] .colab-df-convert {\n",
              "      background-color: #3B4455;\n",
              "      fill: #D2E3FC;\n",
              "    }\n",
              "\n",
              "    [theme=dark] .colab-df-convert:hover {\n",
              "      background-color: #434B5C;\n",
              "      box-shadow: 0px 1px 3px 1px rgba(0, 0, 0, 0.15);\n",
              "      filter: drop-shadow(0px 1px 2px rgba(0, 0, 0, 0.3));\n",
              "      fill: #FFFFFF;\n",
              "    }\n",
              "  </style>\n",
              "\n",
              "      <script>\n",
              "        const buttonEl =\n",
              "          document.querySelector('#df-d407b7b3-6ed4-4552-a92d-f27b30d04059 button.colab-df-convert');\n",
              "        buttonEl.style.display =\n",
              "          google.colab.kernel.accessAllowed ? 'block' : 'none';\n",
              "\n",
              "        async function convertToInteractive(key) {\n",
              "          const element = document.querySelector('#df-d407b7b3-6ed4-4552-a92d-f27b30d04059');\n",
              "          const dataTable =\n",
              "            await google.colab.kernel.invokeFunction('convertToInteractive',\n",
              "                                                     [key], {});\n",
              "          if (!dataTable) return;\n",
              "\n",
              "          const docLinkHtml = 'Like what you see? Visit the ' +\n",
              "            '<a target=\"_blank\" href=https://colab.research.google.com/notebooks/data_table.ipynb>data table notebook</a>'\n",
              "            + ' to learn more about interactive tables.';\n",
              "          element.innerHTML = '';\n",
              "          dataTable['output_type'] = 'display_data';\n",
              "          await google.colab.output.renderOutput(dataTable, element);\n",
              "          const docLink = document.createElement('div');\n",
              "          docLink.innerHTML = docLinkHtml;\n",
              "          element.appendChild(docLink);\n",
              "        }\n",
              "      </script>\n",
              "    </div>\n",
              "  </div>\n",
              "  "
            ]
          },
          "metadata": {},
          "execution_count": 54
        }
      ],
      "source": [
        "df = pd.read_csv('iris_mod.csv', index_col='Id')\n",
        "df.head()"
      ],
      "id": "60e49330"
    },
    {
      "cell_type": "markdown",
      "metadata": {
        "id": "71d61060"
      },
      "source": [
        "- As usual, we first tranform the class labels into an integer format:"
      ],
      "id": "71d61060"
    },
    {
      "cell_type": "code",
      "execution_count": 55,
      "metadata": {
        "id": "33591e9e"
      },
      "outputs": [],
      "source": [
        "X = df.drop('Species', axis=1)\n",
        "y = df['Species']\n",
        "\n",
        "label_dict = {'Iris-setosa': 0,\n",
        "              'Iris-versicolor': 1,\n",
        "              'Iris-virginica': 2}\n",
        "\n",
        "y = y.map(label_dict)"
      ],
      "id": "33591e9e"
    },
    {
      "cell_type": "markdown",
      "metadata": {
        "id": "e65d56c2"
      },
      "source": [
        "- Next, we are going to set up a `Pipeline` that performs certain preprocessing steps only on the numerical features:"
      ],
      "id": "e65d56c2"
    },
    {
      "cell_type": "code",
      "execution_count": 56,
      "metadata": {
        "id": "5d306fc4"
      },
      "outputs": [],
      "source": [
        "numeric_features = ['SepalLength[cm]', 'SepalWidth[cm]', 'PetalLength[cm]', 'PetalWidth[cm]']\n",
        "\n",
        "numeric_transformer = Pipeline(steps=[\n",
        "    ('scaler', StandardScaler()),\n",
        "    ('feature_extraction', PCA(n_components=2))])"
      ],
      "id": "5d306fc4"
    },
    {
      "cell_type": "markdown",
      "metadata": {
        "id": "8a9acf24"
      },
      "source": [
        "- Above, we weren't interested in performing these preprocessing steps on the categorical feature(s); instead, we apply **different** preprocessing steps to the categorical variable like so:"
      ],
      "id": "8a9acf24"
    },
    {
      "cell_type": "code",
      "execution_count": 57,
      "metadata": {
        "id": "8834cbee"
      },
      "outputs": [],
      "source": [
        "categorical_features = ['Color_IMadeThisUp']\n",
        "categorical_transformer = Pipeline(steps=[\n",
        "    ('onehot', OneHotEncoder(drop='first'))])"
      ],
      "id": "8834cbee"
    },
    {
      "cell_type": "markdown",
      "metadata": {
        "id": "d7313c74"
      },
      "source": [
        "- Scikit-learn's `ColumnTransformer` now allows us to merge these 2 seperate preprocessing pipelines, which operate on different feature sets in our dataset:"
      ],
      "id": "d7313c74"
    },
    {
      "cell_type": "code",
      "execution_count": 58,
      "metadata": {
        "id": "cb0420d8"
      },
      "outputs": [],
      "source": [
        "preprocessor = ColumnTransformer(\n",
        "    transformers=[\n",
        "        ('num', numeric_transformer, numeric_features),\n",
        "        ('cat', categorical_transformer, categorical_features)])"
      ],
      "id": "cb0420d8"
    },
    {
      "cell_type": "markdown",
      "metadata": {
        "id": "e6d43e93"
      },
      "source": [
        "- As a result, we get a 4 dimensional feature array (design matrix) if we apply this preprocessor. What are these 4 columns?"
      ],
      "id": "e6d43e93"
    },
    {
      "cell_type": "code",
      "execution_count": 59,
      "metadata": {
        "id": "6ad9ba2f",
        "outputId": "13736ae5-2b3b-4b31-d8d0-2e9a8b63f188",
        "colab": {
          "base_uri": "https://localhost:8080/"
        }
      },
      "outputs": [
        {
          "output_type": "execute_result",
          "data": {
            "text/plain": [
              "(150, 4)"
            ]
          },
          "metadata": {},
          "execution_count": 59
        }
      ],
      "source": [
        "temp = preprocessor.fit_transform(X)\n",
        "temp.shape"
      ],
      "id": "6ad9ba2f"
    },
    {
      "cell_type": "code",
      "execution_count": 60,
      "metadata": {
        "id": "c14cbcfa",
        "outputId": "e29b45f0-bdf1-49c6-c704-baccece5eed6",
        "colab": {
          "base_uri": "https://localhost:8080/"
        }
      },
      "outputs": [
        {
          "output_type": "execute_result",
          "data": {
            "text/plain": [
              "array([[-2.26454173,  0.5057039 ,  1.        ,  0.        ],\n",
              "       [-2.0864255 , -0.65540473,  1.        ,  0.        ],\n",
              "       [-2.36795045, -0.31847731,  1.        ,  0.        ],\n",
              "       [-2.30419716, -0.57536771,  1.        ,  0.        ],\n",
              "       [-2.38877749,  0.6747674 ,  1.        ,  0.        ]])"
            ]
          },
          "metadata": {},
          "execution_count": 60
        }
      ],
      "source": [
        "temp[:5]"
      ],
      "id": "c14cbcfa"
    },
    {
      "cell_type": "markdown",
      "metadata": {
        "id": "c48e9fda"
      },
      "source": [
        "- The preprocessor can now also be conveniently be used in a Scikit-learn pipeline as shown below:"
      ],
      "id": "c48e9fda"
    },
    {
      "cell_type": "code",
      "execution_count": 61,
      "metadata": {
        "id": "139ddc0a"
      },
      "outputs": [],
      "source": [
        "X_train, X_test, y_train, y_test = train_test_split(X, y, \n",
        "                                                    test_size=0.2,\n",
        "                                                    random_state=0)"
      ],
      "id": "139ddc0a"
    },
    {
      "cell_type": "code",
      "execution_count": 62,
      "metadata": {
        "id": "f24ee04a",
        "outputId": "a0c0300c-8035-487f-d36c-903c295cade8",
        "colab": {
          "base_uri": "https://localhost:8080/"
        }
      },
      "outputs": [
        {
          "output_type": "stream",
          "name": "stdout",
          "text": [
            "Test accuracy: 100.0%\n"
          ]
        }
      ],
      "source": [
        "clf_pipe = Pipeline(steps=[('preprocessor', preprocessor),\n",
        "                           ('classifier', KNeighborsClassifier(p=3))])\n",
        "\n",
        "\n",
        "clf_pipe.fit(X_train, y_train)\n",
        "print(f'Test accuracy: {clf_pipe.score(X_test, y_test)*100}%')"
      ],
      "id": "f24ee04a"
    },
    {
      "cell_type": "markdown",
      "metadata": {
        "id": "45fa00fc-3185-4ca6-a370-0af58c65b83c"
      },
      "source": [
        "## Displaying Pipelines"
      ],
      "id": "45fa00fc-3185-4ca6-a370-0af58c65b83c"
    },
    {
      "cell_type": "markdown",
      "metadata": {
        "id": "94a6be01-bb29-4d50-84d1-1e12ffc07ce0"
      },
      "source": [
        "More info here: https://scikit-learn.org/dev/auto_examples/miscellaneous/plot_pipeline_display.html#sphx-glr-auto-examples-miscellaneous-plot-pipeline-display-py"
      ],
      "id": "94a6be01-bb29-4d50-84d1-1e12ffc07ce0"
    },
    {
      "cell_type": "code",
      "execution_count": 63,
      "metadata": {
        "id": "19f4e3f5-00ef-4e1e-9fa4-6c4e84c2681b",
        "outputId": "40af68d9-e296-41b9-efbd-308aab88ef73",
        "colab": {
          "base_uri": "https://localhost:8080/"
        }
      },
      "outputs": [
        {
          "output_type": "execute_result",
          "data": {
            "text/plain": [
              "Pipeline(steps=[('preprocessor',\n",
              "                 ColumnTransformer(transformers=[('num',\n",
              "                                                  Pipeline(steps=[('scaler',\n",
              "                                                                   StandardScaler()),\n",
              "                                                                  ('feature_extraction',\n",
              "                                                                   PCA(n_components=2))]),\n",
              "                                                  ['SepalLength[cm]',\n",
              "                                                   'SepalWidth[cm]',\n",
              "                                                   'PetalLength[cm]',\n",
              "                                                   'PetalWidth[cm]']),\n",
              "                                                 ('cat',\n",
              "                                                  Pipeline(steps=[('onehot',\n",
              "                                                                   OneHotEncoder(drop='first'))]),\n",
              "                                                  ['Color_IMadeThisUp'])])),\n",
              "                ('classifier', KNeighborsClassifier(p=3))])"
            ]
          },
          "metadata": {},
          "execution_count": 63
        }
      ],
      "source": [
        "clf_pipe"
      ],
      "id": "19f4e3f5-00ef-4e1e-9fa4-6c4e84c2681b"
    },
    {
      "cell_type": "code",
      "execution_count": 64,
      "metadata": {
        "id": "d4f2055d-a249-4556-a303-83793572a86c",
        "outputId": "aa8b5a63-5c2d-4121-9787-6c4c813ad435",
        "colab": {
          "base_uri": "https://localhost:8080/",
          "height": 227
        }
      },
      "outputs": [
        {
          "output_type": "execute_result",
          "data": {
            "text/plain": [
              "Pipeline(steps=[('preprocessor',\n",
              "                 ColumnTransformer(transformers=[('num',\n",
              "                                                  Pipeline(steps=[('scaler',\n",
              "                                                                   StandardScaler()),\n",
              "                                                                  ('feature_extraction',\n",
              "                                                                   PCA(n_components=2))]),\n",
              "                                                  ['SepalLength[cm]',\n",
              "                                                   'SepalWidth[cm]',\n",
              "                                                   'PetalLength[cm]',\n",
              "                                                   'PetalWidth[cm]']),\n",
              "                                                 ('cat',\n",
              "                                                  Pipeline(steps=[('onehot',\n",
              "                                                                   OneHotEncoder(drop='first'))]),\n",
              "                                                  ['Color_IMadeThisUp'])])),\n",
              "                ('classifier', KNeighborsClassifier(p=3))])"
            ],
            "text/html": [
              "<style>#sk-9bae0e17-d118-4861-831b-fdcfc9cf7621 {color: black;background-color: white;}#sk-9bae0e17-d118-4861-831b-fdcfc9cf7621 pre{padding: 0;}#sk-9bae0e17-d118-4861-831b-fdcfc9cf7621 div.sk-toggleable {background-color: white;}#sk-9bae0e17-d118-4861-831b-fdcfc9cf7621 label.sk-toggleable__label {cursor: pointer;display: block;width: 100%;margin-bottom: 0;padding: 0.3em;box-sizing: border-box;text-align: center;}#sk-9bae0e17-d118-4861-831b-fdcfc9cf7621 label.sk-toggleable__label-arrow:before {content: \"▸\";float: left;margin-right: 0.25em;color: #696969;}#sk-9bae0e17-d118-4861-831b-fdcfc9cf7621 label.sk-toggleable__label-arrow:hover:before {color: black;}#sk-9bae0e17-d118-4861-831b-fdcfc9cf7621 div.sk-estimator:hover label.sk-toggleable__label-arrow:before {color: black;}#sk-9bae0e17-d118-4861-831b-fdcfc9cf7621 div.sk-toggleable__content {max-height: 0;max-width: 0;overflow: hidden;text-align: left;background-color: #f0f8ff;}#sk-9bae0e17-d118-4861-831b-fdcfc9cf7621 div.sk-toggleable__content pre {margin: 0.2em;color: black;border-radius: 0.25em;background-color: #f0f8ff;}#sk-9bae0e17-d118-4861-831b-fdcfc9cf7621 input.sk-toggleable__control:checked~div.sk-toggleable__content {max-height: 200px;max-width: 100%;overflow: auto;}#sk-9bae0e17-d118-4861-831b-fdcfc9cf7621 input.sk-toggleable__control:checked~label.sk-toggleable__label-arrow:before {content: \"▾\";}#sk-9bae0e17-d118-4861-831b-fdcfc9cf7621 div.sk-estimator input.sk-toggleable__control:checked~label.sk-toggleable__label {background-color: #d4ebff;}#sk-9bae0e17-d118-4861-831b-fdcfc9cf7621 div.sk-label input.sk-toggleable__control:checked~label.sk-toggleable__label {background-color: #d4ebff;}#sk-9bae0e17-d118-4861-831b-fdcfc9cf7621 input.sk-hidden--visually {border: 0;clip: rect(1px 1px 1px 1px);clip: rect(1px, 1px, 1px, 1px);height: 1px;margin: -1px;overflow: hidden;padding: 0;position: absolute;width: 1px;}#sk-9bae0e17-d118-4861-831b-fdcfc9cf7621 div.sk-estimator {font-family: monospace;background-color: #f0f8ff;border: 1px dotted black;border-radius: 0.25em;box-sizing: border-box;margin-bottom: 0.5em;}#sk-9bae0e17-d118-4861-831b-fdcfc9cf7621 div.sk-estimator:hover {background-color: #d4ebff;}#sk-9bae0e17-d118-4861-831b-fdcfc9cf7621 div.sk-parallel-item::after {content: \"\";width: 100%;border-bottom: 1px solid gray;flex-grow: 1;}#sk-9bae0e17-d118-4861-831b-fdcfc9cf7621 div.sk-label:hover label.sk-toggleable__label {background-color: #d4ebff;}#sk-9bae0e17-d118-4861-831b-fdcfc9cf7621 div.sk-serial::before {content: \"\";position: absolute;border-left: 1px solid gray;box-sizing: border-box;top: 2em;bottom: 0;left: 50%;}#sk-9bae0e17-d118-4861-831b-fdcfc9cf7621 div.sk-serial {display: flex;flex-direction: column;align-items: center;background-color: white;padding-right: 0.2em;padding-left: 0.2em;}#sk-9bae0e17-d118-4861-831b-fdcfc9cf7621 div.sk-item {z-index: 1;}#sk-9bae0e17-d118-4861-831b-fdcfc9cf7621 div.sk-parallel {display: flex;align-items: stretch;justify-content: center;background-color: white;}#sk-9bae0e17-d118-4861-831b-fdcfc9cf7621 div.sk-parallel::before {content: \"\";position: absolute;border-left: 1px solid gray;box-sizing: border-box;top: 2em;bottom: 0;left: 50%;}#sk-9bae0e17-d118-4861-831b-fdcfc9cf7621 div.sk-parallel-item {display: flex;flex-direction: column;position: relative;background-color: white;}#sk-9bae0e17-d118-4861-831b-fdcfc9cf7621 div.sk-parallel-item:first-child::after {align-self: flex-end;width: 50%;}#sk-9bae0e17-d118-4861-831b-fdcfc9cf7621 div.sk-parallel-item:last-child::after {align-self: flex-start;width: 50%;}#sk-9bae0e17-d118-4861-831b-fdcfc9cf7621 div.sk-parallel-item:only-child::after {width: 0;}#sk-9bae0e17-d118-4861-831b-fdcfc9cf7621 div.sk-dashed-wrapped {border: 1px dashed gray;margin: 0 0.4em 0.5em 0.4em;box-sizing: border-box;padding-bottom: 0.4em;background-color: white;position: relative;}#sk-9bae0e17-d118-4861-831b-fdcfc9cf7621 div.sk-label label {font-family: monospace;font-weight: bold;background-color: white;display: inline-block;line-height: 1.2em;}#sk-9bae0e17-d118-4861-831b-fdcfc9cf7621 div.sk-label-container {position: relative;z-index: 2;text-align: center;}#sk-9bae0e17-d118-4861-831b-fdcfc9cf7621 div.sk-container {/* jupyter's `normalize.less` sets `[hidden] { display: none; }` but bootstrap.min.css set `[hidden] { display: none !important; }` so we also need the `!important` here to be able to override the default hidden behavior on the sphinx rendered scikit-learn.org. See: https://github.com/scikit-learn/scikit-learn/issues/21755 */display: inline-block !important;position: relative;}#sk-9bae0e17-d118-4861-831b-fdcfc9cf7621 div.sk-text-repr-fallback {display: none;}</style><div id=\"sk-9bae0e17-d118-4861-831b-fdcfc9cf7621\" class=\"sk-top-container\"><div class=\"sk-text-repr-fallback\"><pre>Pipeline(steps=[(&#x27;preprocessor&#x27;,\n",
              "                 ColumnTransformer(transformers=[(&#x27;num&#x27;,\n",
              "                                                  Pipeline(steps=[(&#x27;scaler&#x27;,\n",
              "                                                                   StandardScaler()),\n",
              "                                                                  (&#x27;feature_extraction&#x27;,\n",
              "                                                                   PCA(n_components=2))]),\n",
              "                                                  [&#x27;SepalLength[cm]&#x27;,\n",
              "                                                   &#x27;SepalWidth[cm]&#x27;,\n",
              "                                                   &#x27;PetalLength[cm]&#x27;,\n",
              "                                                   &#x27;PetalWidth[cm]&#x27;]),\n",
              "                                                 (&#x27;cat&#x27;,\n",
              "                                                  Pipeline(steps=[(&#x27;onehot&#x27;,\n",
              "                                                                   OneHotEncoder(drop=&#x27;first&#x27;))]),\n",
              "                                                  [&#x27;Color_IMadeThisUp&#x27;])])),\n",
              "                (&#x27;classifier&#x27;, KNeighborsClassifier(p=3))])</pre><b>Please rerun this cell to show the HTML repr or trust the notebook.</b></div><div class=\"sk-container\" hidden><div class=\"sk-item sk-dashed-wrapped\"><div class=\"sk-label-container\"><div class=\"sk-label sk-toggleable\"><input class=\"sk-toggleable__control sk-hidden--visually\" id=\"57d700ad-3107-4140-90fa-4fe131dc4453\" type=\"checkbox\" ><label for=\"57d700ad-3107-4140-90fa-4fe131dc4453\" class=\"sk-toggleable__label sk-toggleable__label-arrow\">Pipeline</label><div class=\"sk-toggleable__content\"><pre>Pipeline(steps=[(&#x27;preprocessor&#x27;,\n",
              "                 ColumnTransformer(transformers=[(&#x27;num&#x27;,\n",
              "                                                  Pipeline(steps=[(&#x27;scaler&#x27;,\n",
              "                                                                   StandardScaler()),\n",
              "                                                                  (&#x27;feature_extraction&#x27;,\n",
              "                                                                   PCA(n_components=2))]),\n",
              "                                                  [&#x27;SepalLength[cm]&#x27;,\n",
              "                                                   &#x27;SepalWidth[cm]&#x27;,\n",
              "                                                   &#x27;PetalLength[cm]&#x27;,\n",
              "                                                   &#x27;PetalWidth[cm]&#x27;]),\n",
              "                                                 (&#x27;cat&#x27;,\n",
              "                                                  Pipeline(steps=[(&#x27;onehot&#x27;,\n",
              "                                                                   OneHotEncoder(drop=&#x27;first&#x27;))]),\n",
              "                                                  [&#x27;Color_IMadeThisUp&#x27;])])),\n",
              "                (&#x27;classifier&#x27;, KNeighborsClassifier(p=3))])</pre></div></div></div><div class=\"sk-serial\"><div class=\"sk-item sk-dashed-wrapped\"><div class=\"sk-label-container\"><div class=\"sk-label sk-toggleable\"><input class=\"sk-toggleable__control sk-hidden--visually\" id=\"493182ed-82be-41eb-9f6c-fd990f728a6c\" type=\"checkbox\" ><label for=\"493182ed-82be-41eb-9f6c-fd990f728a6c\" class=\"sk-toggleable__label sk-toggleable__label-arrow\">preprocessor: ColumnTransformer</label><div class=\"sk-toggleable__content\"><pre>ColumnTransformer(transformers=[(&#x27;num&#x27;,\n",
              "                                 Pipeline(steps=[(&#x27;scaler&#x27;, StandardScaler()),\n",
              "                                                 (&#x27;feature_extraction&#x27;,\n",
              "                                                  PCA(n_components=2))]),\n",
              "                                 [&#x27;SepalLength[cm]&#x27;, &#x27;SepalWidth[cm]&#x27;,\n",
              "                                  &#x27;PetalLength[cm]&#x27;, &#x27;PetalWidth[cm]&#x27;]),\n",
              "                                (&#x27;cat&#x27;,\n",
              "                                 Pipeline(steps=[(&#x27;onehot&#x27;,\n",
              "                                                  OneHotEncoder(drop=&#x27;first&#x27;))]),\n",
              "                                 [&#x27;Color_IMadeThisUp&#x27;])])</pre></div></div></div><div class=\"sk-parallel\"><div class=\"sk-parallel-item\"><div class=\"sk-item\"><div class=\"sk-label-container\"><div class=\"sk-label sk-toggleable\"><input class=\"sk-toggleable__control sk-hidden--visually\" id=\"c3ec872b-fc59-493d-a261-82e490f7e512\" type=\"checkbox\" ><label for=\"c3ec872b-fc59-493d-a261-82e490f7e512\" class=\"sk-toggleable__label sk-toggleable__label-arrow\">num</label><div class=\"sk-toggleable__content\"><pre>[&#x27;SepalLength[cm]&#x27;, &#x27;SepalWidth[cm]&#x27;, &#x27;PetalLength[cm]&#x27;, &#x27;PetalWidth[cm]&#x27;]</pre></div></div></div><div class=\"sk-serial\"><div class=\"sk-item\"><div class=\"sk-serial\"><div class=\"sk-item\"><div class=\"sk-estimator sk-toggleable\"><input class=\"sk-toggleable__control sk-hidden--visually\" id=\"e2da691f-643f-47a2-9513-8ce022b78990\" type=\"checkbox\" ><label for=\"e2da691f-643f-47a2-9513-8ce022b78990\" class=\"sk-toggleable__label sk-toggleable__label-arrow\">StandardScaler</label><div class=\"sk-toggleable__content\"><pre>StandardScaler()</pre></div></div></div><div class=\"sk-item\"><div class=\"sk-estimator sk-toggleable\"><input class=\"sk-toggleable__control sk-hidden--visually\" id=\"b92b057a-2057-4aa7-8bb7-357f08148e0d\" type=\"checkbox\" ><label for=\"b92b057a-2057-4aa7-8bb7-357f08148e0d\" class=\"sk-toggleable__label sk-toggleable__label-arrow\">PCA</label><div class=\"sk-toggleable__content\"><pre>PCA(n_components=2)</pre></div></div></div></div></div></div></div></div><div class=\"sk-parallel-item\"><div class=\"sk-item\"><div class=\"sk-label-container\"><div class=\"sk-label sk-toggleable\"><input class=\"sk-toggleable__control sk-hidden--visually\" id=\"c5c324d9-1272-4f49-a1a4-3713fc4daa09\" type=\"checkbox\" ><label for=\"c5c324d9-1272-4f49-a1a4-3713fc4daa09\" class=\"sk-toggleable__label sk-toggleable__label-arrow\">cat</label><div class=\"sk-toggleable__content\"><pre>[&#x27;Color_IMadeThisUp&#x27;]</pre></div></div></div><div class=\"sk-serial\"><div class=\"sk-item\"><div class=\"sk-serial\"><div class=\"sk-item\"><div class=\"sk-estimator sk-toggleable\"><input class=\"sk-toggleable__control sk-hidden--visually\" id=\"24e2b68d-8bb2-4b99-b798-0f9e81c1444a\" type=\"checkbox\" ><label for=\"24e2b68d-8bb2-4b99-b798-0f9e81c1444a\" class=\"sk-toggleable__label sk-toggleable__label-arrow\">OneHotEncoder</label><div class=\"sk-toggleable__content\"><pre>OneHotEncoder(drop=&#x27;first&#x27;)</pre></div></div></div></div></div></div></div></div></div></div><div class=\"sk-item\"><div class=\"sk-estimator sk-toggleable\"><input class=\"sk-toggleable__control sk-hidden--visually\" id=\"1bdef26e-1255-424f-8279-cb5d03505bde\" type=\"checkbox\" ><label for=\"1bdef26e-1255-424f-8279-cb5d03505bde\" class=\"sk-toggleable__label sk-toggleable__label-arrow\">KNeighborsClassifier</label><div class=\"sk-toggleable__content\"><pre>KNeighborsClassifier(p=3)</pre></div></div></div></div></div></div></div>"
            ]
          },
          "metadata": {},
          "execution_count": 64
        }
      ],
      "source": [
        "from sklearn import set_config\n",
        "\n",
        "\n",
        "set_config(display=\"diagram\")\n",
        "clf_pipe"
      ],
      "id": "d4f2055d-a249-4556-a303-83793572a86c"
    }
  ],
  "metadata": {
    "kernelspec": {
      "display_name": "Python 3.9.2 64-bit ('base': conda)",
      "language": "python",
      "name": "python392jvsc74a57bd0249cfc85c6a0073df6bca89c83e3180d730f84f7e1f446fbe710b75104ecfa4f"
    },
    "language_info": {
      "codemirror_mode": {
        "name": "ipython",
        "version": 3
      },
      "file_extension": ".py",
      "mimetype": "text/x-python",
      "name": "python",
      "nbconvert_exporter": "python",
      "pygments_lexer": "ipython3",
      "version": "3.9.6"
    },
    "colab": {
      "provenance": []
    }
  },
  "nbformat": 4,
  "nbformat_minor": 5
}